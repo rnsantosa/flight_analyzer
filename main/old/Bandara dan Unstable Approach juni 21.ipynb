{
 "cells": [
  {
   "cell_type": "code",
   "execution_count": 1,
   "metadata": {},
   "outputs": [],
   "source": [
    "import pandas as pd\n",
    "import math\n",
    "import matplotlib.pyplot as plt\n",
    "import numpy as np\n",
    "import os\n",
    "from sklearn.neighbors import KNeighborsClassifier\n",
    "import itertools  \n",
    "\n",
    "pd.options.mode.chained_assignment = None  # default='warn'"
   ]
  },
  {
   "cell_type": "markdown",
   "metadata": {},
   "source": [
    "## Data Preparation"
   ]
  },
  {
   "cell_type": "code",
   "execution_count": null,
   "metadata": {},
   "outputs": [],
   "source": [
    "csv_path = \"D:\\TA\\CSV\\tail_686_1\"\n",
    "csv_list = []\n",
    "\n",
    "for root, dirs, files in os.walk(csv_path):\n",
    "    for file in files:\n",
    "        csv_list.append(os.path.join(root, file))"
   ]
  },
  {
   "cell_type": "code",
   "execution_count": null,
   "metadata": {
    "scrolled": true
   },
   "outputs": [],
   "source": [
    "# List semua df nya\n",
    "csv_list"
   ]
  },
  {
   "cell_type": "markdown",
   "metadata": {},
   "source": [
    "## Data Loading & Preprocessing"
   ]
  },
  {
   "cell_type": "markdown",
   "metadata": {},
   "source": [
    "### 1. FDM Data"
   ]
  },
  {
   "cell_type": "code",
   "execution_count": null,
   "metadata": {},
   "outputs": [],
   "source": [
    "# For FDM Data\n",
    "def preprocess_fdm(df):\n",
    "    df_temp = df.dropna()\n",
    "    df_temp = df_temp.reset_index(drop=True)\n",
    "    return df_temp"
   ]
  },
  {
   "cell_type": "code",
   "execution_count": null,
   "metadata": {},
   "outputs": [],
   "source": [
    "# Read all FDM data\n",
    "all_fdm = []\n",
    "for fdm_csv in csv_list:\n",
    "    df_fdm = pd.read_csv(fdm_csv)\n",
    "    df_fdm = preprocess_fdm(df_fdm)\n",
    "    all_fdm.append(df_fdm)"
   ]
  },
  {
   "cell_type": "code",
   "execution_count": null,
   "metadata": {},
   "outputs": [],
   "source": [
    "df_fdm.plot(kind='line', y='flap_te_pos')\n",
    "plt.show()"
   ]
  },
  {
   "cell_type": "markdown",
   "metadata": {},
   "source": [
    "### 2. Airport & Runways Data"
   ]
  },
  {
   "cell_type": "code",
   "execution_count": null,
   "metadata": {},
   "outputs": [],
   "source": [
    "# Read airports & runways\n",
    "path_airports = \"airports (radians).xlsx\"\n",
    "path_runways = \"runways (radians).xlsx\"\n",
    "\n",
    "df_airports = pd.read_excel(path_airports, index_col=0)  \n",
    "df_runways = pd.read_excel(path_runways, index_col=0)"
   ]
  },
  {
   "cell_type": "code",
   "execution_count": null,
   "metadata": {},
   "outputs": [],
   "source": [
    "# Drop null value\n",
    "df_airports = df_airports.dropna(subset=[\"iata_code\",\"latitude_rad\",\"longitude_rad\"])\n",
    "df_runways = df_runways.dropna(subset=[\"iata_code\",\"le_latitude_rad\",\"le_longitude_rad\",\"he_latitude_rad\",\"he_longitude_rad\"]) \n",
    "\n",
    "# Reset Index\n",
    "df_airports = df_airports.reset_index(drop=True)\n",
    "df_runways = df_runways.reset_index(drop=True)"
   ]
  },
  {
   "cell_type": "markdown",
   "metadata": {},
   "source": [
    "### 3. Data Preview"
   ]
  },
  {
   "cell_type": "code",
   "execution_count": null,
   "metadata": {},
   "outputs": [],
   "source": [
    "display(all_fdm[0].head())\n",
    "display(df_airports.head())\n",
    "display(df_runways.head())"
   ]
  },
  {
   "cell_type": "markdown",
   "metadata": {},
   "source": [
    "### Get `wow` Info\n",
    "Condition\n",
    "- Arrival: `wow = 0`, before the first `wow = 1`\n",
    "- Departure: `wow = 0`, after the last `wow = 1`"
   ]
  },
  {
   "cell_type": "code",
   "execution_count": null,
   "metadata": {
    "scrolled": true
   },
   "outputs": [],
   "source": [
    "def getWowInfo(fdm):\n",
    "    takeoff_idx = fdm[fdm['wow'] == 1].index[0]\n",
    "    departure = fdm[fdm['wow'] == 0][:takeoff_idx]\n",
    "    arrival = fdm[fdm['wow'] == 0][takeoff_idx:]\n",
    "    return (departure, arrival)"
   ]
  },
  {
   "cell_type": "markdown",
   "metadata": {},
   "source": [
    "### Find Airport from FDM"
   ]
  },
  {
   "cell_type": "code",
   "execution_count": null,
   "metadata": {},
   "outputs": [],
   "source": [
    "def find_airport(df_fdm, airports):\n",
    "    departure, arrival = getWowInfo(df_fdm)\n",
    "    \n",
    "    # Train Airport Data using KNN\n",
    "    X_train = pd.DataFrame(airports, columns=['latitude_rad','longitude_rad'])\n",
    "    y_train = pd.DataFrame(airports, columns=['iata_code'])\n",
    "    knn = KNeighborsClassifier(n_neighbors=1, weights='uniform', algorithm='auto', metric='euclidean')\n",
    "    knn.fit(X_train, y_train.values.ravel())\n",
    "    \n",
    "    # Predict Airports for Departure and Arrival\n",
    "    # Departure (return first result only)\n",
    "    X_departure = departure[['lat_rad', 'lon_rad']]\n",
    "    y_departure = knn.predict(X_departure)\n",
    "    dep_airport = y_departure[0]\n",
    "\n",
    "    # Arrival (return first result only)\n",
    "    X_arrival = arrival[['lat_rad', 'lon_rad']]\n",
    "    y_arrival = knn.predict(X_arrival)\n",
    "    arr_airport = y_arrival[0]\n",
    "    \n",
    "    return dep_airport, arr_airport"
   ]
  },
  {
   "cell_type": "markdown",
   "metadata": {},
   "source": [
    "### Find Runway from FDM"
   ]
  },
  {
   "cell_type": "code",
   "execution_count": null,
   "metadata": {},
   "outputs": [],
   "source": [
    "all_fdm[0]['psi_rad']"
   ]
  },
  {
   "cell_type": "code",
   "execution_count": null,
   "metadata": {},
   "outputs": [],
   "source": [
    "df_runways.loc[df_runways['iata_code'] == 'DTW']"
   ]
  },
  {
   "cell_type": "code",
   "execution_count": null,
   "metadata": {},
   "outputs": [],
   "source": [
    "def find_runway(df_fdm, runways):\n",
    "    departure, arrival = getWowInfo(df_fdm)\n",
    "    \n",
    "    # Train Runway Data using KNN\n",
    "    X_train_runway = pd.DataFrame(runways, columns=['le_latitude_rad','le_longitude_rad'])\n",
    "    y_train_runway = pd.DataFrame(runways, columns=['he_ident', 'le_ident', 'iata_code'])\n",
    "    knn_runway = KNeighborsClassifier(n_neighbors=1, weights='uniform', algorithm='auto', metric='euclidean')\n",
    "    knn_runway.fit(X_train_runway, y_train_runway)\n",
    "    \n",
    "    # Predict runway\n",
    "    X_departure = departure[['lat_rad', 'lon_rad']]\n",
    "    X_arrival = arrival[['lat_rad', 'lon_rad']]\n",
    "    \n",
    "    arr_runway = knn_runway.predict(X_arrival)[0]\n",
    "    dep_runway = knn_runway.predict(X_departure)[0]\n",
    "    \n",
    "    return dep_runway, arr_runway"
   ]
  },
  {
   "cell_type": "markdown",
   "metadata": {},
   "source": [
    "### Create Dataframe"
   ]
  },
  {
   "cell_type": "code",
   "execution_count": 46,
   "metadata": {
    "scrolled": true
   },
   "outputs": [
    {
     "name": "stdout",
     "output_type": "stream",
     "text": [
      "['csv/DTW_21R_03L_BTV_33_15_686200104131828.csv', 'DTW', 'BTV', '21R', '03L', 'DTW', '33', '15', 'BTV']\n",
      "['csv/DTW_27R_09L_AZO_23_05_686200104140630.csv', 'DTW', 'AZO', '27R', '09L', 'DTW', '23', '05', 'AZO']\n",
      "['csv/AZO_27_09_DTW_27R_09L_686200104140758.csv', 'AZO', 'DTW', '27', '09', 'AZO', '27R', '09L', 'DTW']\n",
      "['csv/DTW_27R_09L_LEX_22_04_686200104120802.csv', 'DTW', 'LEX', '27R', '09L', 'DTW', '22', '04', 'LEX']\n",
      "['csv/TVC_28_10_DTW_22R_04L_686200104131618.csv', 'TVC', 'DTW', '28', '10', 'TVC', '22R', '04L', 'DTW']\n",
      "['csv/BTV_19_01_DTW_21R_03L_686200104140345.csv', 'BTV', 'DTW', '19', '01', 'BTV', '21R', '03L', 'DTW']\n"
     ]
    },
    {
     "data": {
      "text/html": [
       "<div>\n",
       "<style scoped>\n",
       "    .dataframe tbody tr th:only-of-type {\n",
       "        vertical-align: middle;\n",
       "    }\n",
       "\n",
       "    .dataframe tbody tr th {\n",
       "        vertical-align: top;\n",
       "    }\n",
       "\n",
       "    .dataframe thead th {\n",
       "        text-align: right;\n",
       "    }\n",
       "</style>\n",
       "<table border=\"1\" class=\"dataframe\">\n",
       "  <thead>\n",
       "    <tr style=\"text-align: right;\">\n",
       "      <th></th>\n",
       "      <th>filepath</th>\n",
       "      <th>dep</th>\n",
       "      <th>arr</th>\n",
       "      <th>dep_he_ident</th>\n",
       "      <th>dep_le_ident</th>\n",
       "      <th>dep_iata</th>\n",
       "      <th>arr_he_ident</th>\n",
       "      <th>arr_le_ident</th>\n",
       "      <th>arr_iata</th>\n",
       "    </tr>\n",
       "  </thead>\n",
       "  <tbody>\n",
       "    <tr>\n",
       "      <td>0</td>\n",
       "      <td>csv/DTW_21R_03L_BTV_33_15_686200104131828.csv</td>\n",
       "      <td>DTW</td>\n",
       "      <td>BTV</td>\n",
       "      <td>21R</td>\n",
       "      <td>03L</td>\n",
       "      <td>DTW</td>\n",
       "      <td>33</td>\n",
       "      <td>15</td>\n",
       "      <td>BTV</td>\n",
       "    </tr>\n",
       "    <tr>\n",
       "      <td>1</td>\n",
       "      <td>csv/DTW_27R_09L_AZO_23_05_686200104140630.csv</td>\n",
       "      <td>DTW</td>\n",
       "      <td>AZO</td>\n",
       "      <td>27R</td>\n",
       "      <td>09L</td>\n",
       "      <td>DTW</td>\n",
       "      <td>23</td>\n",
       "      <td>05</td>\n",
       "      <td>AZO</td>\n",
       "    </tr>\n",
       "    <tr>\n",
       "      <td>2</td>\n",
       "      <td>csv/AZO_27_09_DTW_27R_09L_686200104140758.csv</td>\n",
       "      <td>AZO</td>\n",
       "      <td>DTW</td>\n",
       "      <td>27</td>\n",
       "      <td>09</td>\n",
       "      <td>AZO</td>\n",
       "      <td>27R</td>\n",
       "      <td>09L</td>\n",
       "      <td>DTW</td>\n",
       "    </tr>\n",
       "    <tr>\n",
       "      <td>3</td>\n",
       "      <td>csv/DTW_27R_09L_LEX_22_04_686200104120802.csv</td>\n",
       "      <td>DTW</td>\n",
       "      <td>LEX</td>\n",
       "      <td>27R</td>\n",
       "      <td>09L</td>\n",
       "      <td>DTW</td>\n",
       "      <td>22</td>\n",
       "      <td>04</td>\n",
       "      <td>LEX</td>\n",
       "    </tr>\n",
       "    <tr>\n",
       "      <td>4</td>\n",
       "      <td>csv/TVC_28_10_DTW_22R_04L_686200104131618.csv</td>\n",
       "      <td>TVC</td>\n",
       "      <td>DTW</td>\n",
       "      <td>28</td>\n",
       "      <td>10</td>\n",
       "      <td>TVC</td>\n",
       "      <td>22R</td>\n",
       "      <td>04L</td>\n",
       "      <td>DTW</td>\n",
       "    </tr>\n",
       "    <tr>\n",
       "      <td>5</td>\n",
       "      <td>csv/BTV_19_01_DTW_21R_03L_686200104140345.csv</td>\n",
       "      <td>BTV</td>\n",
       "      <td>DTW</td>\n",
       "      <td>19</td>\n",
       "      <td>01</td>\n",
       "      <td>BTV</td>\n",
       "      <td>21R</td>\n",
       "      <td>03L</td>\n",
       "      <td>DTW</td>\n",
       "    </tr>\n",
       "  </tbody>\n",
       "</table>\n",
       "</div>"
      ],
      "text/plain": [
       "                                        filepath  dep  arr dep_he_ident  \\\n",
       "0  csv/DTW_21R_03L_BTV_33_15_686200104131828.csv  DTW  BTV          21R   \n",
       "1  csv/DTW_27R_09L_AZO_23_05_686200104140630.csv  DTW  AZO          27R   \n",
       "2  csv/AZO_27_09_DTW_27R_09L_686200104140758.csv  AZO  DTW           27   \n",
       "3  csv/DTW_27R_09L_LEX_22_04_686200104120802.csv  DTW  LEX          27R   \n",
       "4  csv/TVC_28_10_DTW_22R_04L_686200104131618.csv  TVC  DTW           28   \n",
       "5  csv/BTV_19_01_DTW_21R_03L_686200104140345.csv  BTV  DTW           19   \n",
       "\n",
       "  dep_le_ident dep_iata arr_he_ident arr_le_ident arr_iata  \n",
       "0          03L      DTW           33           15      BTV  \n",
       "1          09L      DTW           23           05      AZO  \n",
       "2           09      AZO          27R          09L      DTW  \n",
       "3          09L      DTW           22           04      LEX  \n",
       "4           10      TVC          22R          04L      DTW  \n",
       "5           01      BTV          21R          03L      DTW  "
      ]
     },
     "metadata": {},
     "output_type": "display_data"
    }
   ],
   "source": [
    "all_fdm_info = []\n",
    "for fdm_csv, df_fdm in zip(csv_list, all_fdm):\n",
    "    dep, arr = find_airport(df_fdm, df_airports)\n",
    "    dep_run, arr_run = find_runway(df_fdm, df_runways)\n",
    "    row = [fdm_csv, dep, arr]\n",
    "    row.extend(dep_run)\n",
    "    row.extend(arr_run)    \n",
    "    print(row)\n",
    "    all_fdm_info.append(row)\n",
    "    \n",
    "col_names = ['filepath', 'dep', 'arr', 'dep_he_ident', 'dep_le_ident', 'dep_iata', 'arr_he_ident', 'arr_le_ident', 'arr_iata']\n",
    "df_fdm_info = pd.DataFrame(all_fdm_info, columns = col_names)\n",
    "df_fdm_info.to_csv('fdm_info.csv')\n",
    "display(df_fdm_info)"
   ]
  },
  {
   "cell_type": "code",
   "execution_count": 45,
   "metadata": {
    "scrolled": true
   },
   "outputs": [
    {
     "data": {
      "text/html": [
       "<div>\n",
       "<style scoped>\n",
       "    .dataframe tbody tr th:only-of-type {\n",
       "        vertical-align: middle;\n",
       "    }\n",
       "\n",
       "    .dataframe tbody tr th {\n",
       "        vertical-align: top;\n",
       "    }\n",
       "\n",
       "    .dataframe thead th {\n",
       "        text-align: right;\n",
       "    }\n",
       "</style>\n",
       "<table border=\"1\" class=\"dataframe\">\n",
       "  <thead>\n",
       "    <tr style=\"text-align: right;\">\n",
       "      <th></th>\n",
       "      <th>filepath</th>\n",
       "      <th>dep</th>\n",
       "      <th>arr</th>\n",
       "      <th>dep_he_ident</th>\n",
       "      <th>dep_le_ident</th>\n",
       "      <th>dep_iata</th>\n",
       "      <th>arr_he_ident</th>\n",
       "      <th>arr_le_ident</th>\n",
       "      <th>arr_iata</th>\n",
       "      <th>new_name</th>\n",
       "      <th>unstable_approach</th>\n",
       "    </tr>\n",
       "  </thead>\n",
       "  <tbody>\n",
       "    <tr>\n",
       "      <td>0</td>\n",
       "      <td>csv/DTW_21R_03L_BTV_33_15_686200104131828.csv</td>\n",
       "      <td>DTW</td>\n",
       "      <td>BTV</td>\n",
       "      <td>21R</td>\n",
       "      <td>03L</td>\n",
       "      <td>DTW</td>\n",
       "      <td>33</td>\n",
       "      <td>15</td>\n",
       "      <td>BTV</td>\n",
       "      <td>csv/DTW_21R_03L_BTV_33_15_DTW_21R_03L_BTV_33_1...</td>\n",
       "      <td>unstable</td>\n",
       "    </tr>\n",
       "    <tr>\n",
       "      <td>1</td>\n",
       "      <td>csv/DTW_27R_09L_AZO_23_05_686200104140630.csv</td>\n",
       "      <td>DTW</td>\n",
       "      <td>AZO</td>\n",
       "      <td>27R</td>\n",
       "      <td>09L</td>\n",
       "      <td>DTW</td>\n",
       "      <td>23</td>\n",
       "      <td>05</td>\n",
       "      <td>AZO</td>\n",
       "      <td>csv/DTW_27R_09L_AZO_23_05_DTW_27R_09L_AZO_23_0...</td>\n",
       "      <td>unstable</td>\n",
       "    </tr>\n",
       "    <tr>\n",
       "      <td>2</td>\n",
       "      <td>csv/AZO_27_09_DTW_27R_09L_686200104140758.csv</td>\n",
       "      <td>AZO</td>\n",
       "      <td>DTW</td>\n",
       "      <td>27</td>\n",
       "      <td>09</td>\n",
       "      <td>AZO</td>\n",
       "      <td>27R</td>\n",
       "      <td>09L</td>\n",
       "      <td>DTW</td>\n",
       "      <td>csv/AZO_27_09_DTW_27R_09L_AZO_27_09_DTW_27R_09...</td>\n",
       "      <td>unstable</td>\n",
       "    </tr>\n",
       "    <tr>\n",
       "      <td>3</td>\n",
       "      <td>csv/DTW_27R_09L_LEX_22_04_686200104120802.csv</td>\n",
       "      <td>DTW</td>\n",
       "      <td>LEX</td>\n",
       "      <td>27R</td>\n",
       "      <td>09L</td>\n",
       "      <td>DTW</td>\n",
       "      <td>22</td>\n",
       "      <td>04</td>\n",
       "      <td>LEX</td>\n",
       "      <td>csv/DTW_27R_09L_LEX_22_04_DTW_27R_09L_LEX_22_0...</td>\n",
       "      <td>unstable</td>\n",
       "    </tr>\n",
       "    <tr>\n",
       "      <td>4</td>\n",
       "      <td>csv/TVC_28_10_DTW_22R_04L_686200104131618.csv</td>\n",
       "      <td>TVC</td>\n",
       "      <td>DTW</td>\n",
       "      <td>28</td>\n",
       "      <td>10</td>\n",
       "      <td>TVC</td>\n",
       "      <td>22R</td>\n",
       "      <td>04L</td>\n",
       "      <td>DTW</td>\n",
       "      <td>csv/TVC_28_10_DTW_22R_04L_TVC_28_10_DTW_22R_04...</td>\n",
       "      <td>unstable</td>\n",
       "    </tr>\n",
       "    <tr>\n",
       "      <td>5</td>\n",
       "      <td>csv/BTV_19_01_DTW_21R_03L_686200104140345.csv</td>\n",
       "      <td>BTV</td>\n",
       "      <td>DTW</td>\n",
       "      <td>19</td>\n",
       "      <td>01</td>\n",
       "      <td>BTV</td>\n",
       "      <td>21R</td>\n",
       "      <td>03L</td>\n",
       "      <td>DTW</td>\n",
       "      <td>csv/BTV_19_01_DTW_21R_03L_BTV_19_01_DTW_21R_03...</td>\n",
       "      <td>unstable</td>\n",
       "    </tr>\n",
       "  </tbody>\n",
       "</table>\n",
       "</div>"
      ],
      "text/plain": [
       "                                        filepath  dep  arr dep_he_ident  \\\n",
       "0  csv/DTW_21R_03L_BTV_33_15_686200104131828.csv  DTW  BTV          21R   \n",
       "1  csv/DTW_27R_09L_AZO_23_05_686200104140630.csv  DTW  AZO          27R   \n",
       "2  csv/AZO_27_09_DTW_27R_09L_686200104140758.csv  AZO  DTW           27   \n",
       "3  csv/DTW_27R_09L_LEX_22_04_686200104120802.csv  DTW  LEX          27R   \n",
       "4  csv/TVC_28_10_DTW_22R_04L_686200104131618.csv  TVC  DTW           28   \n",
       "5  csv/BTV_19_01_DTW_21R_03L_686200104140345.csv  BTV  DTW           19   \n",
       "\n",
       "  dep_le_ident dep_iata arr_he_ident arr_le_ident arr_iata  \\\n",
       "0          03L      DTW           33           15      BTV   \n",
       "1          09L      DTW           23           05      AZO   \n",
       "2           09      AZO          27R          09L      DTW   \n",
       "3          09L      DTW           22           04      LEX   \n",
       "4           10      TVC          22R          04L      DTW   \n",
       "5           01      BTV          21R          03L      DTW   \n",
       "\n",
       "                                            new_name unstable_approach  \n",
       "0  csv/DTW_21R_03L_BTV_33_15_DTW_21R_03L_BTV_33_1...          unstable  \n",
       "1  csv/DTW_27R_09L_AZO_23_05_DTW_27R_09L_AZO_23_0...          unstable  \n",
       "2  csv/AZO_27_09_DTW_27R_09L_AZO_27_09_DTW_27R_09...          unstable  \n",
       "3  csv/DTW_27R_09L_LEX_22_04_DTW_27R_09L_LEX_22_0...          unstable  \n",
       "4  csv/TVC_28_10_DTW_22R_04L_TVC_28_10_DTW_22R_04...          unstable  \n",
       "5  csv/BTV_19_01_DTW_21R_03L_BTV_19_01_DTW_21R_03...          unstable  "
      ]
     },
     "execution_count": 45,
     "metadata": {},
     "output_type": "execute_result"
    }
   ],
   "source": [
    "df_fdm_info['new_name'] = df_fdm_info.apply(lambda row: os.path.split(row.filepath)[0] + '/' + row.dep_iata + '_' + row.dep_he_ident + '_' + row.dep_le_ident + '_' + row.arr_iata + '_' + row.arr_he_ident + '_' + row.arr_le_ident + '_' + os.path.split(row.filepath)[1], axis=1)\n",
    "df_fdm_info"
   ]
  },
  {
   "cell_type": "markdown",
   "metadata": {},
   "source": [
    "### Renaming file (Kalau udah rename gak perlu di run lagi)"
   ]
  },
  {
   "cell_type": "code",
   "execution_count": 33,
   "metadata": {},
   "outputs": [
    {
     "name": "stdout",
     "output_type": "stream",
     "text": [
      "csv/DTW_21R_03L_BTV_33_15_686200104131828.csv -> csv/DTW_21R_03L_BTV_33_15_DTW_21R_03L_BTV_33_15_686200104131828.csv\n",
      "csv/DTW_27R_09L_AZO_23_05_686200104140630.csv -> csv/DTW_27R_09L_AZO_23_05_DTW_27R_09L_AZO_23_05_686200104140630.csv\n",
      "csv/AZO_27_09_DTW_27R_09L_686200104140758.csv -> csv/AZO_27_09_DTW_27R_09L_AZO_27_09_DTW_27R_09L_686200104140758.csv\n",
      "csv/DTW_27R_09L_LEX_22_04_686200104120802.csv -> csv/DTW_27R_09L_LEX_22_04_DTW_27R_09L_LEX_22_04_686200104120802.csv\n",
      "csv/TVC_28_10_DTW_22R_04L_686200104131618.csv -> csv/TVC_28_10_DTW_22R_04L_TVC_28_10_DTW_22R_04L_686200104131618.csv\n",
      "csv/BTV_19_01_DTW_21R_03L_686200104140345.csv -> csv/BTV_19_01_DTW_21R_03L_BTV_19_01_DTW_21R_03L_686200104140345.csv\n"
     ]
    }
   ],
   "source": [
    "for index, row in df_fdm_info.iterrows():\n",
    "    old = row['filepath']\n",
    "    new = row['new_name']\n",
    "#     os.rename(old, new)\n",
    "    print(row['filepath'], '->', row['new_name'])"
   ]
  },
  {
   "cell_type": "markdown",
   "metadata": {},
   "source": [
    "## Detect Unstable Approach"
   ]
  },
  {
   "cell_type": "code",
   "execution_count": 40,
   "metadata": {},
   "outputs": [],
   "source": [
    "def get_cruising_df(df_fdm):\n",
    "    idx_max = np.where(df_fdm['hbaro_m'].eq(max(df_fdm['hbaro_m'])), df_fdm.index, 0).max()+1\n",
    "    df_fdm_max = df_fdm.loc[idx_max:]\n",
    "    df_fdm_max = df_fdm_max[df_fdm_max['hbaro_m'] <= 3000]\n",
    "    df_fdm_max = df_fdm_max[df_fdm_max['hbaro_m'] >= 1000]\n",
    "    return df_fdm_max\n",
    "\n",
    "def unstable_approach(df_fdm):\n",
    "    #Read excel and convert to dictionary\n",
    "    path_param = \"Table Parameter.xlsx\"\n",
    "    df_params = pd.read_excel(path_param, index_col=0)\n",
    "    params = df_params[['Param','Kondisi']].to_dict()\n",
    "\n",
    "    #Slice df_fdm to 3000-1000\n",
    "    df_fdm = get_cruising_df(df_fdm)\n",
    "    \n",
    "    #Create unstable approach function using string and exec\n",
    "    param_list = df_params.values.tolist()\n",
    "    \n",
    "    # Start string execution\n",
    "    complete_cond = '\"unstable\" if ('\n",
    "    for param in param_list[:-1]:\n",
    "        cond_str = '(df_fdm.' + param[0] + param[1] + str(param[2]) + ').any or \\n'\n",
    "        complete_cond = complete_cond + cond_str\n",
    "\n",
    "    cond_str_lst = '(df_fdm.' + param_list[-1][0] + param_list[-1][1] + str(param_list[-1][2]) + ').any)'\n",
    "\n",
    "    # For displaying condition\n",
    "    complete_cond = complete_cond + cond_str_lst\n",
    "    \n",
    "    # For executing with action\n",
    "    final_cond = complete_cond + 'else \"stable\"'\n",
    "    \n",
    "    # Show plot\n",
    "    print(my_exec(final_cond))\n",
    "    df_fdm.plot(kind='line', y='hbaro_m')\n",
    "\n",
    "    return(my_exec(final_cond))\n",
    "\n",
    "def my_exec(code):\n",
    "    exec('global i; i = %s' % code)\n",
    "    global i\n",
    "    return i"
   ]
  },
  {
   "cell_type": "code",
   "execution_count": 41,
   "metadata": {},
   "outputs": [
    {
     "name": "stdout",
     "output_type": "stream",
     "text": [
      "unstable\n",
      "unstable\n",
      "unstable\n",
      "unstable\n",
      "unstable\n",
      "unstable\n"
     ]
    },
    {
     "data": {
      "image/png": "[encoded data removed]",
      "text/plain": [
       "<Figure size 432x288 with 1 Axes>"
      ]
     },
     "metadata": {
      "needs_background": "light"
     },
     "output_type": "display_data"
    },
    {
     "data": {
      "image/png": "[encoded data removed]",
      "text/plain": [
       "<Figure size 432x288 with 1 Axes>"
      ]
     },
     "metadata": {
      "needs_background": "light"
     },
     "output_type": "display_data"
    },
    {
     "data": {
      "image/png": "[encoded data removed]",
      "text/plain": [
       "<Figure size 432x288 with 1 Axes>"
      ]
     },
     "metadata": {
      "needs_background": "light"
     },
     "output_type": "display_data"
    },
    {
     "data": {
      "image/png": "[encoded data removed]",
      "text/plain": [
       "<Figure size 432x288 with 1 Axes>"
      ]
     },
     "metadata": {
      "needs_background": "light"
     },
     "output_type": "display_data"
    },
    {
     "data": {
      "image/png": "[encoded data removed]",
      "text/plain": [
       "<Figure size 432x288 with 1 Axes>"
      ]
     },
     "metadata": {
      "needs_background": "light"
     },
     "output_type": "display_data"
    },
    {
     "data": {
      "image/png": "[encoded data removed]",
      "text/plain": [
       "<Figure size 432x288 with 1 Axes>"
      ]
     },
     "metadata": {
      "needs_background": "light"
     },
     "output_type": "display_data"
    }
   ],
   "source": [
    "# Compute unstable\n",
    "result_unstable = []\n",
    "for df_fdm in all_fdm:\n",
    "    result_unstable.append(unstable_approach(df_fdm))"
   ]
  },
  {
   "cell_type": "code",
   "execution_count": 42,
   "metadata": {},
   "outputs": [
    {
     "data": {
      "text/html": [
       "<div>\n",
       "<style scoped>\n",
       "    .dataframe tbody tr th:only-of-type {\n",
       "        vertical-align: middle;\n",
       "    }\n",
       "\n",
       "    .dataframe tbody tr th {\n",
       "        vertical-align: top;\n",
       "    }\n",
       "\n",
       "    .dataframe thead th {\n",
       "        text-align: right;\n",
       "    }\n",
       "</style>\n",
       "<table border=\"1\" class=\"dataframe\">\n",
       "  <thead>\n",
       "    <tr style=\"text-align: right;\">\n",
       "      <th></th>\n",
       "      <th>filepath</th>\n",
       "      <th>dep</th>\n",
       "      <th>arr</th>\n",
       "      <th>dep_he_ident</th>\n",
       "      <th>dep_le_ident</th>\n",
       "      <th>dep_iata</th>\n",
       "      <th>arr_he_ident</th>\n",
       "      <th>arr_le_ident</th>\n",
       "      <th>arr_iata</th>\n",
       "      <th>new_name</th>\n",
       "      <th>unstable_approach</th>\n",
       "    </tr>\n",
       "  </thead>\n",
       "  <tbody>\n",
       "    <tr>\n",
       "      <td>0</td>\n",
       "      <td>csv/DTW_21R_03L_BTV_33_15_686200104131828.csv</td>\n",
       "      <td>DTW</td>\n",
       "      <td>BTV</td>\n",
       "      <td>21R</td>\n",
       "      <td>03L</td>\n",
       "      <td>DTW</td>\n",
       "      <td>33</td>\n",
       "      <td>15</td>\n",
       "      <td>BTV</td>\n",
       "      <td>csv/DTW_21R_03L_BTV_33_15_DTW_21R_03L_BTV_33_1...</td>\n",
       "      <td>unstable</td>\n",
       "    </tr>\n",
       "    <tr>\n",
       "      <td>1</td>\n",
       "      <td>csv/DTW_27R_09L_AZO_23_05_686200104140630.csv</td>\n",
       "      <td>DTW</td>\n",
       "      <td>AZO</td>\n",
       "      <td>27R</td>\n",
       "      <td>09L</td>\n",
       "      <td>DTW</td>\n",
       "      <td>23</td>\n",
       "      <td>05</td>\n",
       "      <td>AZO</td>\n",
       "      <td>csv/DTW_27R_09L_AZO_23_05_DTW_27R_09L_AZO_23_0...</td>\n",
       "      <td>unstable</td>\n",
       "    </tr>\n",
       "    <tr>\n",
       "      <td>2</td>\n",
       "      <td>csv/AZO_27_09_DTW_27R_09L_686200104140758.csv</td>\n",
       "      <td>AZO</td>\n",
       "      <td>DTW</td>\n",
       "      <td>27</td>\n",
       "      <td>09</td>\n",
       "      <td>AZO</td>\n",
       "      <td>27R</td>\n",
       "      <td>09L</td>\n",
       "      <td>DTW</td>\n",
       "      <td>csv/AZO_27_09_DTW_27R_09L_AZO_27_09_DTW_27R_09...</td>\n",
       "      <td>unstable</td>\n",
       "    </tr>\n",
       "    <tr>\n",
       "      <td>3</td>\n",
       "      <td>csv/DTW_27R_09L_LEX_22_04_686200104120802.csv</td>\n",
       "      <td>DTW</td>\n",
       "      <td>LEX</td>\n",
       "      <td>27R</td>\n",
       "      <td>09L</td>\n",
       "      <td>DTW</td>\n",
       "      <td>22</td>\n",
       "      <td>04</td>\n",
       "      <td>LEX</td>\n",
       "      <td>csv/DTW_27R_09L_LEX_22_04_DTW_27R_09L_LEX_22_0...</td>\n",
       "      <td>unstable</td>\n",
       "    </tr>\n",
       "    <tr>\n",
       "      <td>4</td>\n",
       "      <td>csv/TVC_28_10_DTW_22R_04L_686200104131618.csv</td>\n",
       "      <td>TVC</td>\n",
       "      <td>DTW</td>\n",
       "      <td>28</td>\n",
       "      <td>10</td>\n",
       "      <td>TVC</td>\n",
       "      <td>22R</td>\n",
       "      <td>04L</td>\n",
       "      <td>DTW</td>\n",
       "      <td>csv/TVC_28_10_DTW_22R_04L_TVC_28_10_DTW_22R_04...</td>\n",
       "      <td>unstable</td>\n",
       "    </tr>\n",
       "    <tr>\n",
       "      <td>5</td>\n",
       "      <td>csv/BTV_19_01_DTW_21R_03L_686200104140345.csv</td>\n",
       "      <td>BTV</td>\n",
       "      <td>DTW</td>\n",
       "      <td>19</td>\n",
       "      <td>01</td>\n",
       "      <td>BTV</td>\n",
       "      <td>21R</td>\n",
       "      <td>03L</td>\n",
       "      <td>DTW</td>\n",
       "      <td>csv/BTV_19_01_DTW_21R_03L_BTV_19_01_DTW_21R_03...</td>\n",
       "      <td>unstable</td>\n",
       "    </tr>\n",
       "  </tbody>\n",
       "</table>\n",
       "</div>"
      ],
      "text/plain": [
       "                                        filepath  dep  arr dep_he_ident  \\\n",
       "0  csv/DTW_21R_03L_BTV_33_15_686200104131828.csv  DTW  BTV          21R   \n",
       "1  csv/DTW_27R_09L_AZO_23_05_686200104140630.csv  DTW  AZO          27R   \n",
       "2  csv/AZO_27_09_DTW_27R_09L_686200104140758.csv  AZO  DTW           27   \n",
       "3  csv/DTW_27R_09L_LEX_22_04_686200104120802.csv  DTW  LEX          27R   \n",
       "4  csv/TVC_28_10_DTW_22R_04L_686200104131618.csv  TVC  DTW           28   \n",
       "5  csv/BTV_19_01_DTW_21R_03L_686200104140345.csv  BTV  DTW           19   \n",
       "\n",
       "  dep_le_ident dep_iata arr_he_ident arr_le_ident arr_iata  \\\n",
       "0          03L      DTW           33           15      BTV   \n",
       "1          09L      DTW           23           05      AZO   \n",
       "2           09      AZO          27R          09L      DTW   \n",
       "3          09L      DTW           22           04      LEX   \n",
       "4           10      TVC          22R          04L      DTW   \n",
       "5           01      BTV          21R          03L      DTW   \n",
       "\n",
       "                                            new_name unstable_approach  \n",
       "0  csv/DTW_21R_03L_BTV_33_15_DTW_21R_03L_BTV_33_1...          unstable  \n",
       "1  csv/DTW_27R_09L_AZO_23_05_DTW_27R_09L_AZO_23_0...          unstable  \n",
       "2  csv/AZO_27_09_DTW_27R_09L_AZO_27_09_DTW_27R_09...          unstable  \n",
       "3  csv/DTW_27R_09L_LEX_22_04_DTW_27R_09L_LEX_22_0...          unstable  \n",
       "4  csv/TVC_28_10_DTW_22R_04L_TVC_28_10_DTW_22R_04...          unstable  \n",
       "5  csv/BTV_19_01_DTW_21R_03L_BTV_19_01_DTW_21R_03...          unstable  "
      ]
     },
     "execution_count": 42,
     "metadata": {},
     "output_type": "execute_result"
    }
   ],
   "source": [
    "# Add to df_fdm_info\n",
    "df_fdm_info['unstable_approach'] = result_unstable\n",
    "df_fdm_info"
   ]
  }
 ],
 "metadata": {
  "kernelspec": {
   "display_name": "Python 3",
   "language": "python",
   "name": "python3"
  },
  "language_info": {
   "codemirror_mode": {
    "name": "ipython",
    "version": 3
   },
   "file_extension": ".py",
   "mimetype": "text/x-python",
   "name": "python",
   "nbconvert_exporter": "python",
   "pygments_lexer": "ipython3",
   "version": "3.9.5"
  }
 },
 "nbformat": 4,
 "nbformat_minor": 2
}
