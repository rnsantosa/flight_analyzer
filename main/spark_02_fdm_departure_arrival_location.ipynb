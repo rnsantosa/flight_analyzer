{
 "cells": [
  {
   "cell_type": "markdown",
   "metadata": {},
   "source": [
    "# FDM Departure and Arrival\n",
    "Finding departure and arrival coordinate for each FDM files. Then, create `fdm_location` dataset using the information. Using PySpark"
   ]
  },
  {
   "cell_type": "markdown",
   "metadata": {},
   "source": [
    "## Import"
   ]
  },
  {
   "cell_type": "code",
   "execution_count": 1,
   "metadata": {},
   "outputs": [],
   "source": [
    "import pandas as pd\n",
    "import seaborn as sns\n",
    "import numpy as np\n",
    "import gc\n",
    "import os"
   ]
  },
  {
   "cell_type": "markdown",
   "metadata": {},
   "source": [
    "#### Initialize Spark"
   ]
  },
  {
   "cell_type": "code",
   "execution_count": 2,
   "metadata": {},
   "outputs": [],
   "source": [
    "import findspark\n",
    "findspark.init()\n",
    "\n",
    "import pyspark\n",
    "import random\n",
    "\n",
    "#Settings for PySpark to work\n",
    "driver_memory = '4g'\n",
    "num_executors = 2\n",
    "executor_memory = '1g'\n",
    "pyspark_submit_args = ' --driver-memory ' + driver_memory + ' pyspark-shell'\n",
    "\n",
    "#Setting the required parameters to start up PySpark\n",
    "os.environ[\"PYSPARK_SUBMIT_ARGS\"] = pyspark_submit_args\n",
    "\n",
    "#Import Modules Needed for PySpark\n",
    "from pyspark.sql import SparkSession"
   ]
  },
  {
   "cell_type": "code",
   "execution_count": 3,
   "metadata": {},
   "outputs": [],
   "source": [
    "import pyspark.sql.functions as F \n",
    "from pyspark.sql.types import *"
   ]
  },
  {
   "cell_type": "code",
   "execution_count": 63,
   "metadata": {},
   "outputs": [],
   "source": [
    "spark = SparkSession.builder.appName(\"Data Exploration\").getOrCreate()"
   ]
  },
  {
   "cell_type": "markdown",
   "metadata": {},
   "source": [
    "# Extract FDM Data"
   ]
  },
  {
   "cell_type": "markdown",
   "metadata": {},
   "source": [
    "#### 1. Read FDM Management Data"
   ]
  },
  {
   "cell_type": "code",
   "execution_count": 5,
   "metadata": {
    "scrolled": true
   },
   "outputs": [
    {
     "data": {
      "text/html": [
       "<div>\n",
       "<style scoped>\n",
       "    .dataframe tbody tr th:only-of-type {\n",
       "        vertical-align: middle;\n",
       "    }\n",
       "\n",
       "    .dataframe tbody tr th {\n",
       "        vertical-align: top;\n",
       "    }\n",
       "\n",
       "    .dataframe thead th {\n",
       "        text-align: right;\n",
       "    }\n",
       "</style>\n",
       "<table border=\"1\" class=\"dataframe\">\n",
       "  <thead>\n",
       "    <tr style=\"text-align: right;\">\n",
       "      <th></th>\n",
       "      <th>fname</th>\n",
       "      <th>tail_id</th>\n",
       "      <th>fsize_mb</th>\n",
       "      <th>fullpath</th>\n",
       "    </tr>\n",
       "  </thead>\n",
       "  <tbody>\n",
       "    <tr>\n",
       "      <th>0</th>\n",
       "      <td>686200104111724.csv</td>\n",
       "      <td>tail_686_1</td>\n",
       "      <td>50.99</td>\n",
       "      <td>/Volumes/My Passport/desy/tail_686_1/686200104...</td>\n",
       "    </tr>\n",
       "    <tr>\n",
       "      <th>1</th>\n",
       "      <td>686200104120602.csv</td>\n",
       "      <td>tail_686_1</td>\n",
       "      <td>24.43</td>\n",
       "      <td>/Volumes/My Passport/desy/tail_686_1/686200104...</td>\n",
       "    </tr>\n",
       "    <tr>\n",
       "      <th>2</th>\n",
       "      <td>686200104120802.csv</td>\n",
       "      <td>tail_686_1</td>\n",
       "      <td>40.53</td>\n",
       "      <td>/Volumes/My Passport/desy/tail_686_1/686200104...</td>\n",
       "    </tr>\n",
       "    <tr>\n",
       "      <th>3</th>\n",
       "      <td>686200104121013.csv</td>\n",
       "      <td>tail_686_1</td>\n",
       "      <td>43.39</td>\n",
       "      <td>/Volumes/My Passport/desy/tail_686_1/686200104...</td>\n",
       "    </tr>\n",
       "    <tr>\n",
       "      <th>4</th>\n",
       "      <td>686200104121245.csv</td>\n",
       "      <td>tail_686_1</td>\n",
       "      <td>61.52</td>\n",
       "      <td>/Volumes/My Passport/desy/tail_686_1/686200104...</td>\n",
       "    </tr>\n",
       "  </tbody>\n",
       "</table>\n",
       "</div>"
      ],
      "text/plain": [
       "                 fname     tail_id  fsize_mb  \\\n",
       "0  686200104111724.csv  tail_686_1     50.99   \n",
       "1  686200104120602.csv  tail_686_1     24.43   \n",
       "2  686200104120802.csv  tail_686_1     40.53   \n",
       "3  686200104121013.csv  tail_686_1     43.39   \n",
       "4  686200104121245.csv  tail_686_1     61.52   \n",
       "\n",
       "                                            fullpath  \n",
       "0  /Volumes/My Passport/desy/tail_686_1/686200104...  \n",
       "1  /Volumes/My Passport/desy/tail_686_1/686200104...  \n",
       "2  /Volumes/My Passport/desy/tail_686_1/686200104...  \n",
       "3  /Volumes/My Passport/desy/tail_686_1/686200104...  \n",
       "4  /Volumes/My Passport/desy/tail_686_1/686200104...  "
      ]
     },
     "metadata": {},
     "output_type": "display_data"
    },
    {
     "name": "stdout",
     "output_type": "stream",
     "text": [
      "(9316, 4)\n"
     ]
    }
   ],
   "source": [
    "fdm_database_path = '../dataset/database/fdm_files.csv'\n",
    "fdm_files = pd.read_csv(fdm_database_path)\n",
    "display(fdm_files.head())\n",
    "print(fdm_files.shape)"
   ]
  },
  {
   "cell_type": "markdown",
   "metadata": {},
   "source": [
    "#### 2. Create FDM Spark DF "
   ]
  },
  {
   "cell_type": "code",
   "execution_count": 64,
   "metadata": {},
   "outputs": [],
   "source": [
    "# fdm_folder_path = '../dataset/fdm'\n",
    "fdm_folder_path = '/Volumes/My Passport/desy'\n",
    "\n",
    "fdm_data = spark.read \\\n",
    "                .option(\"header\", \"true\") \\\n",
    "                .csv(f'{fdm_folder_path}/*/*.csv') \\\n",
    "                .withColumn(\"fname\", F.input_file_name())"
   ]
  },
  {
   "cell_type": "code",
   "execution_count": 49,
   "metadata": {},
   "outputs": [
    {
     "data": {
      "text/html": [
       "<div>\n",
       "<style scoped>\n",
       "    .dataframe tbody tr th:only-of-type {\n",
       "        vertical-align: middle;\n",
       "    }\n",
       "\n",
       "    .dataframe tbody tr th {\n",
       "        vertical-align: top;\n",
       "    }\n",
       "\n",
       "    .dataframe thead th {\n",
       "        text-align: right;\n",
       "    }\n",
       "</style>\n",
       "<table border=\"1\" class=\"dataframe\">\n",
       "  <thead>\n",
       "    <tr style=\"text-align: right;\">\n",
       "      <th></th>\n",
       "      <th>airbrk_pos_rad</th>\n",
       "      <th>ail_l_rad</th>\n",
       "      <th>ail_r_rad</th>\n",
       "      <th>hbaro_m</th>\n",
       "      <th>hdot_1_mps</th>\n",
       "      <th>aoa_1_rad</th>\n",
       "      <th>aoa_2_rad</th>\n",
       "      <th>aoac_rad</th>\n",
       "      <th>aoai_rad</th>\n",
       "      <th>auto_thr_status</th>\n",
       "      <th>...</th>\n",
       "      <th>temp_total_degC</th>\n",
       "      <th>psi_rad</th>\n",
       "      <th>psi_mag_selected</th>\n",
       "      <th>chi_rad</th>\n",
       "      <th>chi_mag_rad</th>\n",
       "      <th>az_mps2</th>\n",
       "      <th>wdir_rad</th>\n",
       "      <th>wow</th>\n",
       "      <th>ws_mps</th>\n",
       "      <th>fname</th>\n",
       "    </tr>\n",
       "  </thead>\n",
       "  <tbody>\n",
       "    <tr>\n",
       "      <th>0</th>\n",
       "      <td>2.09410904426956</td>\n",
       "      <td>1.82175343497467</td>\n",
       "      <td>1.79283149314117</td>\n",
       "      <td>337.7184</td>\n",
       "      <td>-0.08128</td>\n",
       "      <td>0.151096090453625</td>\n",
       "      <td>0.322900797260857</td>\n",
       "      <td>0</td>\n",
       "      <td>0.236998452179623</td>\n",
       "      <td>0</td>\n",
       "      <td>...</td>\n",
       "      <td>32</td>\n",
       "      <td>0.814423972265244</td>\n",
       "      <td>1</td>\n",
       "      <td>-0.523647275167336</td>\n",
       "      <td>-0.386839432914986</td>\n",
       "      <td>9.7546836659193</td>\n",
       "      <td>0</td>\n",
       "      <td>0</td>\n",
       "      <td>0</td>\n",
       "      <td>file:/Volumes/My%20Passport/desy/tail_686_3/68...</td>\n",
       "    </tr>\n",
       "    <tr>\n",
       "      <th>1</th>\n",
       "      <td>NaN</td>\n",
       "      <td>NaN</td>\n",
       "      <td>NaN</td>\n",
       "      <td>NaN</td>\n",
       "      <td>NaN</td>\n",
       "      <td>NaN</td>\n",
       "      <td>NaN</td>\n",
       "      <td>NaN</td>\n",
       "      <td>NaN</td>\n",
       "      <td>NaN</td>\n",
       "      <td>...</td>\n",
       "      <td>NaN</td>\n",
       "      <td>NaN</td>\n",
       "      <td>NaN</td>\n",
       "      <td>NaN</td>\n",
       "      <td>NaN</td>\n",
       "      <td>NaN</td>\n",
       "      <td>NaN</td>\n",
       "      <td>NaN</td>\n",
       "      <td>NaN</td>\n",
       "      <td>file:/Volumes/My%20Passport/desy/tail_686_3/68...</td>\n",
       "    </tr>\n",
       "    <tr>\n",
       "      <th>2</th>\n",
       "      <td>NaN</td>\n",
       "      <td>NaN</td>\n",
       "      <td>NaN</td>\n",
       "      <td>NaN</td>\n",
       "      <td>NaN</td>\n",
       "      <td>NaN</td>\n",
       "      <td>NaN</td>\n",
       "      <td>NaN</td>\n",
       "      <td>NaN</td>\n",
       "      <td>NaN</td>\n",
       "      <td>...</td>\n",
       "      <td>NaN</td>\n",
       "      <td>NaN</td>\n",
       "      <td>NaN</td>\n",
       "      <td>NaN</td>\n",
       "      <td>NaN</td>\n",
       "      <td>9.7546836659193</td>\n",
       "      <td>NaN</td>\n",
       "      <td>NaN</td>\n",
       "      <td>NaN</td>\n",
       "      <td>file:/Volumes/My%20Passport/desy/tail_686_3/68...</td>\n",
       "    </tr>\n",
       "    <tr>\n",
       "      <th>3</th>\n",
       "      <td>NaN</td>\n",
       "      <td>NaN</td>\n",
       "      <td>NaN</td>\n",
       "      <td>NaN</td>\n",
       "      <td>NaN</td>\n",
       "      <td>NaN</td>\n",
       "      <td>NaN</td>\n",
       "      <td>NaN</td>\n",
       "      <td>NaN</td>\n",
       "      <td>NaN</td>\n",
       "      <td>...</td>\n",
       "      <td>NaN</td>\n",
       "      <td>NaN</td>\n",
       "      <td>NaN</td>\n",
       "      <td>NaN</td>\n",
       "      <td>NaN</td>\n",
       "      <td>NaN</td>\n",
       "      <td>NaN</td>\n",
       "      <td>NaN</td>\n",
       "      <td>NaN</td>\n",
       "      <td>file:/Volumes/My%20Passport/desy/tail_686_3/68...</td>\n",
       "    </tr>\n",
       "    <tr>\n",
       "      <th>4</th>\n",
       "      <td>NaN</td>\n",
       "      <td>NaN</td>\n",
       "      <td>NaN</td>\n",
       "      <td>337.7184</td>\n",
       "      <td>-0.16256</td>\n",
       "      <td>0.150329116375732</td>\n",
       "      <td>0.322900797260857</td>\n",
       "      <td>0</td>\n",
       "      <td>0.236998452179623</td>\n",
       "      <td>NaN</td>\n",
       "      <td>...</td>\n",
       "      <td>NaN</td>\n",
       "      <td>0.814423972265244</td>\n",
       "      <td>NaN</td>\n",
       "      <td>-0.499296052092614</td>\n",
       "      <td>-0.362488209840264</td>\n",
       "      <td>9.77712930648327</td>\n",
       "      <td>0</td>\n",
       "      <td>NaN</td>\n",
       "      <td>0</td>\n",
       "      <td>file:/Volumes/My%20Passport/desy/tail_686_3/68...</td>\n",
       "    </tr>\n",
       "  </tbody>\n",
       "</table>\n",
       "<p>5 rows × 111 columns</p>\n",
       "</div>"
      ],
      "text/plain": [
       "     airbrk_pos_rad         ail_l_rad         ail_r_rad   hbaro_m hdot_1_mps  \\\n",
       "0  2.09410904426956  1.82175343497467  1.79283149314117  337.7184   -0.08128   \n",
       "1               NaN               NaN               NaN       NaN        NaN   \n",
       "2               NaN               NaN               NaN       NaN        NaN   \n",
       "3               NaN               NaN               NaN       NaN        NaN   \n",
       "4               NaN               NaN               NaN  337.7184   -0.16256   \n",
       "\n",
       "           aoa_1_rad          aoa_2_rad aoac_rad           aoai_rad  \\\n",
       "0  0.151096090453625  0.322900797260857        0  0.236998452179623   \n",
       "1                NaN                NaN      NaN                NaN   \n",
       "2                NaN                NaN      NaN                NaN   \n",
       "3                NaN                NaN      NaN                NaN   \n",
       "4  0.150329116375732  0.322900797260857        0  0.236998452179623   \n",
       "\n",
       "  auto_thr_status  ... temp_total_degC            psi_rad psi_mag_selected  \\\n",
       "0               0  ...              32  0.814423972265244                1   \n",
       "1             NaN  ...             NaN                NaN              NaN   \n",
       "2             NaN  ...             NaN                NaN              NaN   \n",
       "3             NaN  ...             NaN                NaN              NaN   \n",
       "4             NaN  ...             NaN  0.814423972265244              NaN   \n",
       "\n",
       "              chi_rad         chi_mag_rad           az_mps2 wdir_rad  wow  \\\n",
       "0  -0.523647275167336  -0.386839432914986   9.7546836659193        0    0   \n",
       "1                 NaN                 NaN               NaN      NaN  NaN   \n",
       "2                 NaN                 NaN   9.7546836659193      NaN  NaN   \n",
       "3                 NaN                 NaN               NaN      NaN  NaN   \n",
       "4  -0.499296052092614  -0.362488209840264  9.77712930648327        0  NaN   \n",
       "\n",
       "  ws_mps                                              fname  \n",
       "0      0  file:/Volumes/My%20Passport/desy/tail_686_3/68...  \n",
       "1    NaN  file:/Volumes/My%20Passport/desy/tail_686_3/68...  \n",
       "2    NaN  file:/Volumes/My%20Passport/desy/tail_686_3/68...  \n",
       "3    NaN  file:/Volumes/My%20Passport/desy/tail_686_3/68...  \n",
       "4      0  file:/Volumes/My%20Passport/desy/tail_686_3/68...  \n",
       "\n",
       "[5 rows x 111 columns]"
      ]
     },
     "execution_count": 49,
     "metadata": {},
     "output_type": "execute_result"
    }
   ],
   "source": [
    "fdm_data.limit(5).toPandas()"
   ]
  },
  {
   "cell_type": "markdown",
   "metadata": {},
   "source": [
    "# Transform FDM Data"
   ]
  },
  {
   "cell_type": "markdown",
   "metadata": {},
   "source": [
    "### Data Cleaning"
   ]
  },
  {
   "cell_type": "markdown",
   "metadata": {},
   "source": [
    "####  1. Change orig_fname column to filename only"
   ]
  },
  {
   "cell_type": "code",
   "execution_count": 65,
   "metadata": {},
   "outputs": [],
   "source": [
    "extract_fname_udf = F.udf(os.path.basename, StringType())\n",
    "fdm_fname = fdm_data.withColumn(\"fname\", extract_fname_udf(\"fname\"))"
   ]
  },
  {
   "cell_type": "code",
   "execution_count": 51,
   "metadata": {
    "scrolled": true
   },
   "outputs": [
    {
     "data": {
      "text/html": [
       "<div>\n",
       "<style scoped>\n",
       "    .dataframe tbody tr th:only-of-type {\n",
       "        vertical-align: middle;\n",
       "    }\n",
       "\n",
       "    .dataframe tbody tr th {\n",
       "        vertical-align: top;\n",
       "    }\n",
       "\n",
       "    .dataframe thead th {\n",
       "        text-align: right;\n",
       "    }\n",
       "</style>\n",
       "<table border=\"1\" class=\"dataframe\">\n",
       "  <thead>\n",
       "    <tr style=\"text-align: right;\">\n",
       "      <th></th>\n",
       "      <th>fname</th>\n",
       "    </tr>\n",
       "  </thead>\n",
       "  <tbody>\n",
       "    <tr>\n",
       "      <th>0</th>\n",
       "      <td>686200203171255.csv</td>\n",
       "    </tr>\n",
       "    <tr>\n",
       "      <th>1</th>\n",
       "      <td>686200203171255.csv</td>\n",
       "    </tr>\n",
       "    <tr>\n",
       "      <th>2</th>\n",
       "      <td>686200203171255.csv</td>\n",
       "    </tr>\n",
       "    <tr>\n",
       "      <th>3</th>\n",
       "      <td>686200203171255.csv</td>\n",
       "    </tr>\n",
       "    <tr>\n",
       "      <th>4</th>\n",
       "      <td>686200203171255.csv</td>\n",
       "    </tr>\n",
       "  </tbody>\n",
       "</table>\n",
       "</div>"
      ],
      "text/plain": [
       "                 fname\n",
       "0  686200203171255.csv\n",
       "1  686200203171255.csv\n",
       "2  686200203171255.csv\n",
       "3  686200203171255.csv\n",
       "4  686200203171255.csv"
      ]
     },
     "execution_count": 51,
     "metadata": {},
     "output_type": "execute_result"
    }
   ],
   "source": [
    "fdm_fname.select('fname').limit(5).toPandas()"
   ]
  },
  {
   "cell_type": "markdown",
   "metadata": {},
   "source": [
    "#### 2. Remove Error in Location Column\n",
    "Error if Latitude or Longitude = 0"
   ]
  },
  {
   "cell_type": "code",
   "execution_count": 66,
   "metadata": {},
   "outputs": [],
   "source": [
    "# Cast lat_rad and lon_rad to float\n",
    "fdm_float = fdm_fname.withColumn(\"lat_rad\", F.col(\"lat_rad\").cast(FloatType()))\\\n",
    "                     .withColumn(\"lon_rad\", F.col(\"lon_rad\").cast(FloatType()))"
   ]
  },
  {
   "cell_type": "code",
   "execution_count": 67,
   "metadata": {},
   "outputs": [],
   "source": [
    "fdm_cleaned_loc = fdm_float.filter((fdm_fname['lat_rad'] != 0) & (fdm_fname['lon_rad'] != 0))\\\n",
    "                           .filter(~F.isnan(\"lat_rad\") & ~F.isnan(\"lon_rad\"))"
   ]
  },
  {
   "cell_type": "markdown",
   "metadata": {},
   "source": [
    "#### Finalize Transformation"
   ]
  },
  {
   "cell_type": "code",
   "execution_count": 68,
   "metadata": {},
   "outputs": [],
   "source": [
    "fdm_transformed = fdm_cleaned_loc"
   ]
  },
  {
   "cell_type": "markdown",
   "metadata": {},
   "source": [
    "## Find Departure Coordinate"
   ]
  },
  {
   "cell_type": "markdown",
   "metadata": {},
   "source": [
    "#### 1. Create Helper Function"
   ]
  },
  {
   "cell_type": "code",
   "execution_count": 69,
   "metadata": {},
   "outputs": [],
   "source": [
    "def get_first_loc(fdm_df):\n",
    "    # Given FDM Dataframe, get location (lat, lon) from first row\n",
    "    if fdm_df.empty:\n",
    "        return (np.nan, np.nan)\n",
    "    else:\n",
    "        return tuple(fdm_df[['lat_rad', 'lon_rad']].iloc[0])"
   ]
  },
  {
   "cell_type": "code",
   "execution_count": 70,
   "metadata": {},
   "outputs": [],
   "source": [
    "def get_last_loc(fdm_df):\n",
    "    # Given FDM Dataframe, get location (lat, lon) from last row\n",
    "    if fdm_df.empty:\n",
    "        return (np.nan, np.nan)\n",
    "    else:\n",
    "        return tuple(fdm_df[['lat_rad', 'lon_rad']].iloc[-1])"
   ]
  },
  {
   "cell_type": "code",
   "execution_count": 71,
   "metadata": {},
   "outputs": [],
   "source": [
    "def get_departure_loc(fdm):\n",
    "    # Given fdm dataframe, return the departure long lat and arrival long lat\n",
    "    plane_in_ground   = fdm[fdm['wow'] == 0]\n",
    "    plane_off_ground  = fdm[fdm['wow'] == 1]\n",
    "        \n",
    "    if plane_in_ground.empty:\n",
    "        return (np.nan, np.nan)\n",
    "\n",
    "    if plane_off_ground.empty:\n",
    "        est_departure_loc = tuple(plane_in_ground[['lat_rad', 'lon_rad']].iloc[0])\n",
    "        return est_departure_loc\n",
    "    else:\n",
    "        first_takeoff_idx = plane_off_ground.index[0]\n",
    "        departure_df = plane_in_ground.loc[:first_takeoff_idx]\n",
    "        est_departure_loc = get_first_loc(departure_df)\n",
    "        return est_departure_loc"
   ]
  },
  {
   "cell_type": "code",
   "execution_count": 72,
   "metadata": {},
   "outputs": [],
   "source": [
    "def get_arrival_loc(fdm):\n",
    "    # Given fdm dataframe, return the departure long lat and arrival long lat\n",
    "    plane_in_ground   = fdm[fdm['wow'] == 0]\n",
    "    plane_off_ground  = fdm[fdm['wow'] == 1]\n",
    "        \n",
    "    if plane_in_ground.empty:\n",
    "        return (np.nan, np.nan)\n",
    "\n",
    "    if plane_off_ground.empty:\n",
    "        return (np.nan, np.nan)\n",
    "    else:\n",
    "        first_takeoff_idx = plane_off_ground.index[0]\n",
    "        arrival_df = plane_in_ground.loc[first_takeoff_idx:]\n",
    "        est_arrival_loc = get_last_loc(arrival_df)\n",
    "        return est_arrival_loc"
   ]
  },
  {
   "cell_type": "code",
   "execution_count": 73,
   "metadata": {},
   "outputs": [],
   "source": [
    "def get_loc_from_fdm(fdm):\n",
    "    # Given filepath, return the departure long lat and arrival long lat\n",
    "    dep_lat, dep_lon, arr_lat, arr_lon = get_departure_loc(fdm) + get_arrival_loc(fdm)\n",
    "    return (dep_lat, dep_lon, arr_lat, arr_lon)"
   ]
  },
  {
   "cell_type": "markdown",
   "metadata": {},
   "source": [
    "#### Test Helper Function is Working to DataFrame"
   ]
  },
  {
   "cell_type": "code",
   "execution_count": null,
   "metadata": {},
   "outputs": [],
   "source": [
    "fdm_transformed.limit(5).toPandas()"
   ]
  },
  {
   "cell_type": "code",
   "execution_count": null,
   "metadata": {},
   "outputs": [],
   "source": [
    "fname_1 = '686200104130652.csv'\n",
    "df_1 = fdm_transformed.filter(fdm_transformed['fname'] == fname_1).toPandas()\n",
    "get_loc_from_fdm(df_1)"
   ]
  },
  {
   "cell_type": "markdown",
   "metadata": {},
   "source": [
    "#### 2. Generate Location for All FDM using Spark"
   ]
  },
  {
   "cell_type": "code",
   "execution_count": 60,
   "metadata": {},
   "outputs": [],
   "source": [
    "fdm_transformed = fdm_transformed.repartition(\"fname\")"
   ]
  },
  {
   "cell_type": "code",
   "execution_count": null,
   "metadata": {},
   "outputs": [],
   "source": [
    "fdm_transformed.groupBy('fname').agg(F.count('*').alias('count')).toPandas()"
   ]
  },
  {
   "cell_type": "code",
   "execution_count": 75,
   "metadata": {},
   "outputs": [],
   "source": [
    "fdm_location_schema = StructType([\n",
    "    StructField(\"fname\", StringType()),\n",
    "    StructField(\"dep_lat\", DoubleType()),\n",
    "    StructField(\"dep_lon\", DoubleType()),\n",
    "    StructField(\"arr_lat\", DoubleType()),\n",
    "    StructField(\"arr_lon\", DoubleType()),\n",
    "])"
   ]
  },
  {
   "cell_type": "code",
   "execution_count": null,
   "metadata": {},
   "outputs": [],
   "source": [
    "# result = df_1.groupby(df_1.fname).apply(get_loc_from_fdm)\n",
    "# loc_columns = ['dep_lat', 'dep_lon', 'arr_lat', 'arr_lon']\n",
    "# result_df = pd.DataFrame(result.index)\n",
    "# result_df[loc_columns] = pd.DataFrame(result.values.tolist(), index=result_df.index)\n",
    "# result_df.reset_index(inplace=True, drop=True)"
   ]
  },
  {
   "cell_type": "code",
   "execution_count": 80,
   "metadata": {},
   "outputs": [],
   "source": [
    "@F.pandas_udf(fdm_location_schema, functionType=F.PandasUDFType.GROUPED_MAP)\n",
    "def find_fdm_location(df):\n",
    "    result = df.groupby(df.fname).apply(get_loc_from_fdm)\n",
    "    loc_columns = ['dep_lat', 'dep_lon', 'arr_lat', 'arr_lon']\n",
    "    result_df = pd.DataFrame(result.index)\n",
    "    result_df[loc_columns] = pd.DataFrame(result.values.tolist(), index=result_df.index)\n",
    "    result_df.reset_index(inplace=True, drop=True)\n",
    "    return result_df"
   ]
  },
  {
   "cell_type": "code",
   "execution_count": 81,
   "metadata": {},
   "outputs": [
    {
     "name": "stderr",
     "output_type": "stream",
     "text": [
      "/Users/rnsantosa/spark-3.1.1-bin-hadoop2.7/python/pyspark/sql/pandas/group_ops.py:81: UserWarning: It is preferred to use 'applyInPandas' over this API. This API will be deprecated in the future releases. See SPARK-28264 for more details.\n",
      "  warnings.warn(\n"
     ]
    }
   ],
   "source": [
    "fdm_locations = fdm_transformed.groupby(\"fname\").apply(find_fdm_location)\n",
    "\n",
    "# fdm_locations.limit(10).toPandas()"
   ]
  },
  {
   "cell_type": "code",
   "execution_count": 82,
   "metadata": {},
   "outputs": [],
   "source": [
    "fdm_locations_df = fdm_locations.toPandas()\n",
    "fdm_locations_df.to_csv('../dataset/database/fdm_locations.csv', index=False)"
   ]
  },
  {
   "cell_type": "code",
   "execution_count": null,
   "metadata": {},
   "outputs": [],
   "source": []
  }
 ],
 "metadata": {
  "kernelspec": {
   "display_name": "env",
   "language": "python",
   "name": "env"
  },
  "language_info": {
   "codemirror_mode": {
    "name": "ipython",
    "version": 3
   },
   "file_extension": ".py",
   "mimetype": "text/x-python",
   "name": "python",
   "nbconvert_exporter": "python",
   "pygments_lexer": "ipython3",
   "version": "3.9.5"
  }
 },
 "nbformat": 4,
 "nbformat_minor": 4
}
