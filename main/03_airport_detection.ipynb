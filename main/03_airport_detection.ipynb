{
 "cells": [
  {
   "cell_type": "markdown",
   "metadata": {},
   "source": [
    "# Airport Detection\n",
    "Detect departure and arrival airport from Flight Data Monitoring dataset.\n",
    "Using KNN model to match longitude and latitude of airport."
   ]
  },
  {
   "cell_type": "markdown",
   "metadata": {},
   "source": [
    "## Import"
   ]
  },
  {
   "cell_type": "code",
   "execution_count": 1,
   "metadata": {},
   "outputs": [],
   "source": [
    "%load_ext autoreload\n",
    "%autoreload 2"
   ]
  },
  {
   "cell_type": "code",
   "execution_count": 2,
   "metadata": {},
   "outputs": [],
   "source": [
    "import numpy as np\n",
    "import pandas as pd\n",
    "import matplotlib.pyplot as plt\n",
    "import seaborn as sns\n",
    "import math\n",
    "\n",
    "from sklearn.neighbors import KNeighborsClassifier"
   ]
  },
  {
   "cell_type": "markdown",
   "metadata": {},
   "source": [
    "### Constant"
   ]
  },
  {
   "cell_type": "code",
   "execution_count": 3,
   "metadata": {},
   "outputs": [],
   "source": [
    "# fdm_database_path = '../dataset/database/01_fdm_files.csv'\n",
    "# fdm_locations_path = '../dataset/database/02_fdm_location.csv'\n",
    "# flights_airport_output = '../dataset/database/03_flights_airport.csv'"
   ]
  },
  {
   "cell_type": "code",
   "execution_count": 3,
   "metadata": {},
   "outputs": [],
   "source": [
    "fdm_database_path = '../dataset/database_local/01_fdm_files.csv'\n",
    "fdm_locations_path = '../dataset/database_local/02_fdm_locations.csv'\n",
    "flights_airport_output = '../dataset/database_local/03_flights_airport.csv'"
   ]
  },
  {
   "cell_type": "markdown",
   "metadata": {},
   "source": [
    "## Read Data"
   ]
  },
  {
   "cell_type": "markdown",
   "metadata": {},
   "source": [
    "#### 1. Read Airport Data"
   ]
  },
  {
   "cell_type": "code",
   "execution_count": 4,
   "metadata": {},
   "outputs": [
    {
     "data": {
      "text/html": [
       "<div>\n",
       "<style scoped>\n",
       "    .dataframe tbody tr th:only-of-type {\n",
       "        vertical-align: middle;\n",
       "    }\n",
       "\n",
       "    .dataframe tbody tr th {\n",
       "        vertical-align: top;\n",
       "    }\n",
       "\n",
       "    .dataframe thead th {\n",
       "        text-align: right;\n",
       "    }\n",
       "</style>\n",
       "<table border=\"1\" class=\"dataframe\">\n",
       "  <thead>\n",
       "    <tr style=\"text-align: right;\">\n",
       "      <th></th>\n",
       "      <th>icao_code</th>\n",
       "      <th>iata_code</th>\n",
       "      <th>type</th>\n",
       "      <th>name</th>\n",
       "      <th>latitude_rad</th>\n",
       "      <th>longitude_rad</th>\n",
       "      <th>elevation_ft</th>\n",
       "      <th>scheduled_service</th>\n",
       "    </tr>\n",
       "    <tr>\n",
       "      <th>no</th>\n",
       "      <th></th>\n",
       "      <th></th>\n",
       "      <th></th>\n",
       "      <th></th>\n",
       "      <th></th>\n",
       "      <th></th>\n",
       "      <th></th>\n",
       "      <th></th>\n",
       "    </tr>\n",
       "  </thead>\n",
       "  <tbody>\n",
       "    <tr>\n",
       "      <th>1</th>\n",
       "      <td>5A8</td>\n",
       "      <td>WKK</td>\n",
       "      <td>medium_airport</td>\n",
       "      <td>Aleknagik / New Airport</td>\n",
       "      <td>1.034677</td>\n",
       "      <td>-2.768406</td>\n",
       "      <td>66.0</td>\n",
       "      <td>yes</td>\n",
       "    </tr>\n",
       "    <tr>\n",
       "      <th>2</th>\n",
       "      <td>AF-0005</td>\n",
       "      <td>NaN</td>\n",
       "      <td>medium_airport</td>\n",
       "      <td>Khost International Airport (U.C.)</td>\n",
       "      <td>0.580926</td>\n",
       "      <td>1.218368</td>\n",
       "      <td>4204.0</td>\n",
       "      <td>no</td>\n",
       "    </tr>\n",
       "    <tr>\n",
       "      <th>3</th>\n",
       "      <td>AGGH</td>\n",
       "      <td>HIR</td>\n",
       "      <td>medium_airport</td>\n",
       "      <td>Honiara International Airport</td>\n",
       "      <td>-0.164550</td>\n",
       "      <td>2.793487</td>\n",
       "      <td>28.0</td>\n",
       "      <td>yes</td>\n",
       "    </tr>\n",
       "    <tr>\n",
       "      <th>4</th>\n",
       "      <td>AGGM</td>\n",
       "      <td>MUA</td>\n",
       "      <td>medium_airport</td>\n",
       "      <td>Munda Airport</td>\n",
       "      <td>-0.145350</td>\n",
       "      <td>2.744757</td>\n",
       "      <td>10.0</td>\n",
       "      <td>yes</td>\n",
       "    </tr>\n",
       "    <tr>\n",
       "      <th>5</th>\n",
       "      <td>AHJ</td>\n",
       "      <td>AHJ</td>\n",
       "      <td>medium_airport</td>\n",
       "      <td>Hongyuan Airport</td>\n",
       "      <td>0.567782</td>\n",
       "      <td>1.786384</td>\n",
       "      <td>11600.0</td>\n",
       "      <td>no</td>\n",
       "    </tr>\n",
       "  </tbody>\n",
       "</table>\n",
       "</div>"
      ],
      "text/plain": [
       "   icao_code iata_code            type                                name  \\\n",
       "no                                                                           \n",
       "1        5A8       WKK  medium_airport             Aleknagik / New Airport   \n",
       "2    AF-0005       NaN  medium_airport  Khost International Airport (U.C.)   \n",
       "3       AGGH       HIR  medium_airport       Honiara International Airport   \n",
       "4       AGGM       MUA  medium_airport                       Munda Airport   \n",
       "5        AHJ       AHJ  medium_airport                    Hongyuan Airport   \n",
       "\n",
       "    latitude_rad  longitude_rad  elevation_ft scheduled_service  \n",
       "no                                                               \n",
       "1       1.034677      -2.768406          66.0               yes  \n",
       "2       0.580926       1.218368        4204.0                no  \n",
       "3      -0.164550       2.793487          28.0               yes  \n",
       "4      -0.145350       2.744757          10.0               yes  \n",
       "5       0.567782       1.786384       11600.0                no  "
      ]
     },
     "execution_count": 4,
     "metadata": {},
     "output_type": "execute_result"
    }
   ],
   "source": [
    "airports_filepath = '../dataset/database/airports (radians).xlsx'\n",
    "airports = pd.read_excel(airports_filepath, index_col=0)\n",
    "airports.head()"
   ]
  },
  {
   "cell_type": "markdown",
   "metadata": {},
   "source": [
    "#### 2. Read FDM File Data"
   ]
  },
  {
   "cell_type": "code",
   "execution_count": 5,
   "metadata": {
    "scrolled": true
   },
   "outputs": [
    {
     "data": {
      "text/html": [
       "<div>\n",
       "<style scoped>\n",
       "    .dataframe tbody tr th:only-of-type {\n",
       "        vertical-align: middle;\n",
       "    }\n",
       "\n",
       "    .dataframe tbody tr th {\n",
       "        vertical-align: top;\n",
       "    }\n",
       "\n",
       "    .dataframe thead th {\n",
       "        text-align: right;\n",
       "    }\n",
       "</style>\n",
       "<table border=\"1\" class=\"dataframe\">\n",
       "  <thead>\n",
       "    <tr style=\"text-align: right;\">\n",
       "      <th></th>\n",
       "      <th>fname</th>\n",
       "      <th>tail_id</th>\n",
       "      <th>fsize_mb</th>\n",
       "      <th>fullpath</th>\n",
       "    </tr>\n",
       "  </thead>\n",
       "  <tbody>\n",
       "    <tr>\n",
       "      <th>0</th>\n",
       "      <td>686200104121532.csv</td>\n",
       "      <td>tail_686_1</td>\n",
       "      <td>68.39</td>\n",
       "      <td>../dataset/fdm/tail_686_1/686200104121532.csv</td>\n",
       "    </tr>\n",
       "    <tr>\n",
       "      <th>1</th>\n",
       "      <td>686200104121245.csv</td>\n",
       "      <td>tail_686_1</td>\n",
       "      <td>61.52</td>\n",
       "      <td>../dataset/fdm/tail_686_1/686200104121245.csv</td>\n",
       "    </tr>\n",
       "    <tr>\n",
       "      <th>2</th>\n",
       "      <td>686200104121825.csv</td>\n",
       "      <td>tail_686_2</td>\n",
       "      <td>40.71</td>\n",
       "      <td>../dataset/fdm/tail_686_2/686200104121825.csv</td>\n",
       "    </tr>\n",
       "    <tr>\n",
       "      <th>3</th>\n",
       "      <td>686200104130429.csv</td>\n",
       "      <td>tail_686_2</td>\n",
       "      <td>42.63</td>\n",
       "      <td>../dataset/fdm/tail_686_2/686200104130429.csv</td>\n",
       "    </tr>\n",
       "    <tr>\n",
       "      <th>4</th>\n",
       "      <td>686200104130652.csv</td>\n",
       "      <td>tail_687_1</td>\n",
       "      <td>95.92</td>\n",
       "      <td>../dataset/fdm/tail_687_1/686200104130652.csv</td>\n",
       "    </tr>\n",
       "  </tbody>\n",
       "</table>\n",
       "</div>"
      ],
      "text/plain": [
       "                 fname     tail_id  fsize_mb  \\\n",
       "0  686200104121532.csv  tail_686_1     68.39   \n",
       "1  686200104121245.csv  tail_686_1     61.52   \n",
       "2  686200104121825.csv  tail_686_2     40.71   \n",
       "3  686200104130429.csv  tail_686_2     42.63   \n",
       "4  686200104130652.csv  tail_687_1     95.92   \n",
       "\n",
       "                                        fullpath  \n",
       "0  ../dataset/fdm/tail_686_1/686200104121532.csv  \n",
       "1  ../dataset/fdm/tail_686_1/686200104121245.csv  \n",
       "2  ../dataset/fdm/tail_686_2/686200104121825.csv  \n",
       "3  ../dataset/fdm/tail_686_2/686200104130429.csv  \n",
       "4  ../dataset/fdm/tail_687_1/686200104130652.csv  "
      ]
     },
     "execution_count": 5,
     "metadata": {},
     "output_type": "execute_result"
    }
   ],
   "source": [
    "fdm_files = pd.read_csv(fdm_database_path)\n",
    "fdm_files.head()"
   ]
  },
  {
   "cell_type": "markdown",
   "metadata": {},
   "source": [
    "#### 3. Read FDM Location"
   ]
  },
  {
   "cell_type": "code",
   "execution_count": 6,
   "metadata": {},
   "outputs": [
    {
     "data": {
      "text/html": [
       "<div>\n",
       "<style scoped>\n",
       "    .dataframe tbody tr th:only-of-type {\n",
       "        vertical-align: middle;\n",
       "    }\n",
       "\n",
       "    .dataframe tbody tr th {\n",
       "        vertical-align: top;\n",
       "    }\n",
       "\n",
       "    .dataframe thead th {\n",
       "        text-align: right;\n",
       "    }\n",
       "</style>\n",
       "<table border=\"1\" class=\"dataframe\">\n",
       "  <thead>\n",
       "    <tr style=\"text-align: right;\">\n",
       "      <th></th>\n",
       "      <th>fname</th>\n",
       "      <th>dep_lat</th>\n",
       "      <th>dep_lon</th>\n",
       "      <th>arr_lat</th>\n",
       "      <th>arr_lon</th>\n",
       "    </tr>\n",
       "  </thead>\n",
       "  <tbody>\n",
       "    <tr>\n",
       "      <th>0</th>\n",
       "      <td>686200104121532.csv</td>\n",
       "      <td>0.585762</td>\n",
       "      <td>-1.514118</td>\n",
       "      <td>0.736623</td>\n",
       "      <td>-1.454892</td>\n",
       "    </tr>\n",
       "    <tr>\n",
       "      <th>1</th>\n",
       "      <td>686200104121245.csv</td>\n",
       "      <td>0.736719</td>\n",
       "      <td>-1.454814</td>\n",
       "      <td>0.585786</td>\n",
       "      <td>-1.514111</td>\n",
       "    </tr>\n",
       "    <tr>\n",
       "      <th>2</th>\n",
       "      <td>686200104121825.csv</td>\n",
       "      <td>0.736698</td>\n",
       "      <td>-1.454781</td>\n",
       "      <td>0.663881</td>\n",
       "      <td>-1.476550</td>\n",
       "    </tr>\n",
       "    <tr>\n",
       "      <th>3</th>\n",
       "      <td>686200104130429.csv</td>\n",
       "      <td>0.663908</td>\n",
       "      <td>-1.476544</td>\n",
       "      <td>0.736575</td>\n",
       "      <td>-1.454951</td>\n",
       "    </tr>\n",
       "    <tr>\n",
       "      <th>4</th>\n",
       "      <td>686200104130652.csv</td>\n",
       "      <td>0.736596</td>\n",
       "      <td>-1.454951</td>\n",
       "      <td>0.617748</td>\n",
       "      <td>-1.703400</td>\n",
       "    </tr>\n",
       "  </tbody>\n",
       "</table>\n",
       "</div>"
      ],
      "text/plain": [
       "                 fname   dep_lat   dep_lon   arr_lat   arr_lon\n",
       "0  686200104121532.csv  0.585762 -1.514118  0.736623 -1.454892\n",
       "1  686200104121245.csv  0.736719 -1.454814  0.585786 -1.514111\n",
       "2  686200104121825.csv  0.736698 -1.454781  0.663881 -1.476550\n",
       "3  686200104130429.csv  0.663908 -1.476544  0.736575 -1.454951\n",
       "4  686200104130652.csv  0.736596 -1.454951  0.617748 -1.703400"
      ]
     },
     "execution_count": 6,
     "metadata": {},
     "output_type": "execute_result"
    }
   ],
   "source": [
    "fdm_locations = pd.read_csv(fdm_locations_path)\n",
    "fdm_locations.head()"
   ]
  },
  {
   "cell_type": "code",
   "execution_count": 7,
   "metadata": {},
   "outputs": [
    {
     "data": {
      "text/plain": [
       "(5, 5)"
      ]
     },
     "execution_count": 7,
     "metadata": {},
     "output_type": "execute_result"
    }
   ],
   "source": [
    "fdm_locations_cleaned = fdm_locations[~fdm_locations.isnull().any(axis=1)]\n",
    "fdm_locations_cleaned.shape"
   ]
  },
  {
   "cell_type": "markdown",
   "metadata": {},
   "source": [
    "## Exploratory Data Analysis"
   ]
  },
  {
   "cell_type": "markdown",
   "metadata": {},
   "source": [
    "#### 1. Create Airport Locations"
   ]
  },
  {
   "cell_type": "code",
   "execution_count": 8,
   "metadata": {},
   "outputs": [
    {
     "data": {
      "text/html": [
       "<div>\n",
       "<style scoped>\n",
       "    .dataframe tbody tr th:only-of-type {\n",
       "        vertical-align: middle;\n",
       "    }\n",
       "\n",
       "    .dataframe tbody tr th {\n",
       "        vertical-align: top;\n",
       "    }\n",
       "\n",
       "    .dataframe thead th {\n",
       "        text-align: right;\n",
       "    }\n",
       "</style>\n",
       "<table border=\"1\" class=\"dataframe\">\n",
       "  <thead>\n",
       "    <tr style=\"text-align: right;\">\n",
       "      <th></th>\n",
       "      <th>iata_code</th>\n",
       "      <th>latitude_rad</th>\n",
       "      <th>longitude_rad</th>\n",
       "    </tr>\n",
       "    <tr>\n",
       "      <th>no</th>\n",
       "      <th></th>\n",
       "      <th></th>\n",
       "      <th></th>\n",
       "    </tr>\n",
       "  </thead>\n",
       "  <tbody>\n",
       "    <tr>\n",
       "      <th>1</th>\n",
       "      <td>WKK</td>\n",
       "      <td>1.034677</td>\n",
       "      <td>-2.768406</td>\n",
       "    </tr>\n",
       "    <tr>\n",
       "      <th>2</th>\n",
       "      <td>NaN</td>\n",
       "      <td>0.580926</td>\n",
       "      <td>1.218368</td>\n",
       "    </tr>\n",
       "    <tr>\n",
       "      <th>3</th>\n",
       "      <td>HIR</td>\n",
       "      <td>-0.164550</td>\n",
       "      <td>2.793487</td>\n",
       "    </tr>\n",
       "    <tr>\n",
       "      <th>4</th>\n",
       "      <td>MUA</td>\n",
       "      <td>-0.145350</td>\n",
       "      <td>2.744757</td>\n",
       "    </tr>\n",
       "    <tr>\n",
       "      <th>5</th>\n",
       "      <td>AHJ</td>\n",
       "      <td>0.567782</td>\n",
       "      <td>1.786384</td>\n",
       "    </tr>\n",
       "  </tbody>\n",
       "</table>\n",
       "</div>"
      ],
      "text/plain": [
       "   iata_code  latitude_rad  longitude_rad\n",
       "no                                       \n",
       "1        WKK      1.034677      -2.768406\n",
       "2        NaN      0.580926       1.218368\n",
       "3        HIR     -0.164550       2.793487\n",
       "4        MUA     -0.145350       2.744757\n",
       "5        AHJ      0.567782       1.786384"
      ]
     },
     "execution_count": 8,
     "metadata": {},
     "output_type": "execute_result"
    }
   ],
   "source": [
    "airport_locations = airports[['iata_code', 'latitude_rad', 'longitude_rad']]\n",
    "airport_locations.head()"
   ]
  },
  {
   "cell_type": "code",
   "execution_count": 9,
   "metadata": {},
   "outputs": [],
   "source": [
    "airport_locations = airport_locations.dropna()"
   ]
  },
  {
   "cell_type": "code",
   "execution_count": 10,
   "metadata": {
    "scrolled": false
   },
   "outputs": [
    {
     "name": "stdout",
     "output_type": "stream",
     "text": [
      "<class 'pandas.core.frame.DataFrame'>\n",
      "Int64Index: 4470 entries, 1 to 5157\n",
      "Data columns (total 3 columns):\n",
      " #   Column         Non-Null Count  Dtype  \n",
      "---  ------         --------------  -----  \n",
      " 0   iata_code      4470 non-null   object \n",
      " 1   latitude_rad   4470 non-null   float64\n",
      " 2   longitude_rad  4470 non-null   float64\n",
      "dtypes: float64(2), object(1)\n",
      "memory usage: 139.7+ KB\n"
     ]
    }
   ],
   "source": [
    "airport_locations.info()"
   ]
  },
  {
   "cell_type": "markdown",
   "metadata": {},
   "source": [
    "No null value detected"
   ]
  },
  {
   "cell_type": "markdown",
   "metadata": {},
   "source": [
    "## Model Training"
   ]
  },
  {
   "cell_type": "code",
   "execution_count": 11,
   "metadata": {},
   "outputs": [
    {
     "data": {
      "text/plain": [
       "KNeighborsClassifier(n_neighbors=1)"
      ]
     },
     "execution_count": 11,
     "metadata": {},
     "output_type": "execute_result"
    }
   ],
   "source": [
    "knn = KNeighborsClassifier(n_neighbors=1)\n",
    "\n",
    "X_train = airport_locations[['latitude_rad', 'longitude_rad']]\n",
    "y_train = airport_locations['iata_code']\n",
    "\n",
    "knn.fit(X_train, y_train)"
   ]
  },
  {
   "cell_type": "markdown",
   "metadata": {},
   "source": [
    "### Predict Airport"
   ]
  },
  {
   "cell_type": "markdown",
   "metadata": {},
   "source": [
    "#### 1. Departure Airport"
   ]
  },
  {
   "cell_type": "code",
   "execution_count": 12,
   "metadata": {},
   "outputs": [
    {
     "data": {
      "text/plain": [
       "array(['BHM', 'DTW', 'DTW', 'LEX', 'DTW'], dtype=object)"
      ]
     },
     "execution_count": 12,
     "metadata": {},
     "output_type": "execute_result"
    }
   ],
   "source": [
    "departure_list = knn.predict(fdm_locations_cleaned[['dep_lat', 'dep_lon']])\n",
    "departure_list"
   ]
  },
  {
   "cell_type": "markdown",
   "metadata": {},
   "source": [
    "#### 2. Arrival Airport"
   ]
  },
  {
   "cell_type": "code",
   "execution_count": 13,
   "metadata": {},
   "outputs": [
    {
     "data": {
      "text/plain": [
       "array(['DTW', 'BHM', 'LEX', 'DTW', 'OKC'], dtype=object)"
      ]
     },
     "execution_count": 13,
     "metadata": {},
     "output_type": "execute_result"
    }
   ],
   "source": [
    "arrival_list = knn.predict(fdm_locations_cleaned[['arr_lat', 'arr_lon']])\n",
    "arrival_list"
   ]
  },
  {
   "cell_type": "markdown",
   "metadata": {},
   "source": [
    "#### Join Prediction to Table"
   ]
  },
  {
   "cell_type": "code",
   "execution_count": 14,
   "metadata": {},
   "outputs": [],
   "source": [
    "fdm_airport = fdm_locations_cleaned[['fname']].copy()\n",
    "fdm_airport['dep_airport'] = departure_list\n",
    "fdm_airport['arr_airport'] = arrival_list"
   ]
  },
  {
   "cell_type": "code",
   "execution_count": 15,
   "metadata": {},
   "outputs": [
    {
     "data": {
      "text/html": [
       "<div>\n",
       "<style scoped>\n",
       "    .dataframe tbody tr th:only-of-type {\n",
       "        vertical-align: middle;\n",
       "    }\n",
       "\n",
       "    .dataframe tbody tr th {\n",
       "        vertical-align: top;\n",
       "    }\n",
       "\n",
       "    .dataframe thead th {\n",
       "        text-align: right;\n",
       "    }\n",
       "</style>\n",
       "<table border=\"1\" class=\"dataframe\">\n",
       "  <thead>\n",
       "    <tr style=\"text-align: right;\">\n",
       "      <th></th>\n",
       "      <th>fname</th>\n",
       "      <th>dep_airport</th>\n",
       "      <th>arr_airport</th>\n",
       "    </tr>\n",
       "  </thead>\n",
       "  <tbody>\n",
       "    <tr>\n",
       "      <th>0</th>\n",
       "      <td>686200104121532.csv</td>\n",
       "      <td>BHM</td>\n",
       "      <td>DTW</td>\n",
       "    </tr>\n",
       "    <tr>\n",
       "      <th>1</th>\n",
       "      <td>686200104121245.csv</td>\n",
       "      <td>DTW</td>\n",
       "      <td>BHM</td>\n",
       "    </tr>\n",
       "    <tr>\n",
       "      <th>2</th>\n",
       "      <td>686200104121825.csv</td>\n",
       "      <td>DTW</td>\n",
       "      <td>LEX</td>\n",
       "    </tr>\n",
       "    <tr>\n",
       "      <th>3</th>\n",
       "      <td>686200104130429.csv</td>\n",
       "      <td>LEX</td>\n",
       "      <td>DTW</td>\n",
       "    </tr>\n",
       "    <tr>\n",
       "      <th>4</th>\n",
       "      <td>686200104130652.csv</td>\n",
       "      <td>DTW</td>\n",
       "      <td>OKC</td>\n",
       "    </tr>\n",
       "  </tbody>\n",
       "</table>\n",
       "</div>"
      ],
      "text/plain": [
       "                 fname dep_airport arr_airport\n",
       "0  686200104121532.csv         BHM         DTW\n",
       "1  686200104121245.csv         DTW         BHM\n",
       "2  686200104121825.csv         DTW         LEX\n",
       "3  686200104130429.csv         LEX         DTW\n",
       "4  686200104130652.csv         DTW         OKC"
      ]
     },
     "execution_count": 15,
     "metadata": {},
     "output_type": "execute_result"
    }
   ],
   "source": [
    "fdm_airport.head()"
   ]
  },
  {
   "cell_type": "markdown",
   "metadata": {},
   "source": [
    "#### Merge with FDM Files"
   ]
  },
  {
   "cell_type": "code",
   "execution_count": 16,
   "metadata": {},
   "outputs": [
    {
     "data": {
      "text/html": [
       "<div>\n",
       "<style scoped>\n",
       "    .dataframe tbody tr th:only-of-type {\n",
       "        vertical-align: middle;\n",
       "    }\n",
       "\n",
       "    .dataframe tbody tr th {\n",
       "        vertical-align: top;\n",
       "    }\n",
       "\n",
       "    .dataframe thead th {\n",
       "        text-align: right;\n",
       "    }\n",
       "</style>\n",
       "<table border=\"1\" class=\"dataframe\">\n",
       "  <thead>\n",
       "    <tr style=\"text-align: right;\">\n",
       "      <th></th>\n",
       "      <th>fname</th>\n",
       "      <th>tail_id</th>\n",
       "      <th>fsize_mb</th>\n",
       "      <th>fullpath</th>\n",
       "    </tr>\n",
       "  </thead>\n",
       "  <tbody>\n",
       "    <tr>\n",
       "      <th>0</th>\n",
       "      <td>686200104121532.csv</td>\n",
       "      <td>tail_686_1</td>\n",
       "      <td>68.39</td>\n",
       "      <td>../dataset/fdm/tail_686_1/686200104121532.csv</td>\n",
       "    </tr>\n",
       "    <tr>\n",
       "      <th>1</th>\n",
       "      <td>686200104121245.csv</td>\n",
       "      <td>tail_686_1</td>\n",
       "      <td>61.52</td>\n",
       "      <td>../dataset/fdm/tail_686_1/686200104121245.csv</td>\n",
       "    </tr>\n",
       "    <tr>\n",
       "      <th>2</th>\n",
       "      <td>686200104121825.csv</td>\n",
       "      <td>tail_686_2</td>\n",
       "      <td>40.71</td>\n",
       "      <td>../dataset/fdm/tail_686_2/686200104121825.csv</td>\n",
       "    </tr>\n",
       "    <tr>\n",
       "      <th>3</th>\n",
       "      <td>686200104130429.csv</td>\n",
       "      <td>tail_686_2</td>\n",
       "      <td>42.63</td>\n",
       "      <td>../dataset/fdm/tail_686_2/686200104130429.csv</td>\n",
       "    </tr>\n",
       "    <tr>\n",
       "      <th>4</th>\n",
       "      <td>686200104130652.csv</td>\n",
       "      <td>tail_687_1</td>\n",
       "      <td>95.92</td>\n",
       "      <td>../dataset/fdm/tail_687_1/686200104130652.csv</td>\n",
       "    </tr>\n",
       "  </tbody>\n",
       "</table>\n",
       "</div>"
      ],
      "text/plain": [
       "                 fname     tail_id  fsize_mb  \\\n",
       "0  686200104121532.csv  tail_686_1     68.39   \n",
       "1  686200104121245.csv  tail_686_1     61.52   \n",
       "2  686200104121825.csv  tail_686_2     40.71   \n",
       "3  686200104130429.csv  tail_686_2     42.63   \n",
       "4  686200104130652.csv  tail_687_1     95.92   \n",
       "\n",
       "                                        fullpath  \n",
       "0  ../dataset/fdm/tail_686_1/686200104121532.csv  \n",
       "1  ../dataset/fdm/tail_686_1/686200104121245.csv  \n",
       "2  ../dataset/fdm/tail_686_2/686200104121825.csv  \n",
       "3  ../dataset/fdm/tail_686_2/686200104130429.csv  \n",
       "4  ../dataset/fdm/tail_687_1/686200104130652.csv  "
      ]
     },
     "execution_count": 16,
     "metadata": {},
     "output_type": "execute_result"
    }
   ],
   "source": [
    "fdm_files"
   ]
  },
  {
   "cell_type": "code",
   "execution_count": 17,
   "metadata": {},
   "outputs": [],
   "source": [
    "fdm_files_merged = fdm_files.copy()\n",
    "fdm_files_merged = fdm_files_merged.join(fdm_airport.set_index('fname'),\n",
    "                                         on='fname',\n",
    "                                         how='left')"
   ]
  },
  {
   "cell_type": "code",
   "execution_count": 18,
   "metadata": {},
   "outputs": [
    {
     "data": {
      "text/html": [
       "<div>\n",
       "<style scoped>\n",
       "    .dataframe tbody tr th:only-of-type {\n",
       "        vertical-align: middle;\n",
       "    }\n",
       "\n",
       "    .dataframe tbody tr th {\n",
       "        vertical-align: top;\n",
       "    }\n",
       "\n",
       "    .dataframe thead th {\n",
       "        text-align: right;\n",
       "    }\n",
       "</style>\n",
       "<table border=\"1\" class=\"dataframe\">\n",
       "  <thead>\n",
       "    <tr style=\"text-align: right;\">\n",
       "      <th></th>\n",
       "      <th>fname</th>\n",
       "      <th>tail_id</th>\n",
       "      <th>fsize_mb</th>\n",
       "      <th>fullpath</th>\n",
       "      <th>dep_airport</th>\n",
       "      <th>arr_airport</th>\n",
       "    </tr>\n",
       "  </thead>\n",
       "  <tbody>\n",
       "    <tr>\n",
       "      <th>0</th>\n",
       "      <td>686200104121532.csv</td>\n",
       "      <td>tail_686_1</td>\n",
       "      <td>68.39</td>\n",
       "      <td>../dataset/fdm/tail_686_1/686200104121532.csv</td>\n",
       "      <td>BHM</td>\n",
       "      <td>DTW</td>\n",
       "    </tr>\n",
       "    <tr>\n",
       "      <th>1</th>\n",
       "      <td>686200104121245.csv</td>\n",
       "      <td>tail_686_1</td>\n",
       "      <td>61.52</td>\n",
       "      <td>../dataset/fdm/tail_686_1/686200104121245.csv</td>\n",
       "      <td>DTW</td>\n",
       "      <td>BHM</td>\n",
       "    </tr>\n",
       "    <tr>\n",
       "      <th>2</th>\n",
       "      <td>686200104121825.csv</td>\n",
       "      <td>tail_686_2</td>\n",
       "      <td>40.71</td>\n",
       "      <td>../dataset/fdm/tail_686_2/686200104121825.csv</td>\n",
       "      <td>DTW</td>\n",
       "      <td>LEX</td>\n",
       "    </tr>\n",
       "    <tr>\n",
       "      <th>3</th>\n",
       "      <td>686200104130429.csv</td>\n",
       "      <td>tail_686_2</td>\n",
       "      <td>42.63</td>\n",
       "      <td>../dataset/fdm/tail_686_2/686200104130429.csv</td>\n",
       "      <td>LEX</td>\n",
       "      <td>DTW</td>\n",
       "    </tr>\n",
       "    <tr>\n",
       "      <th>4</th>\n",
       "      <td>686200104130652.csv</td>\n",
       "      <td>tail_687_1</td>\n",
       "      <td>95.92</td>\n",
       "      <td>../dataset/fdm/tail_687_1/686200104130652.csv</td>\n",
       "      <td>DTW</td>\n",
       "      <td>OKC</td>\n",
       "    </tr>\n",
       "  </tbody>\n",
       "</table>\n",
       "</div>"
      ],
      "text/plain": [
       "                 fname     tail_id  fsize_mb  \\\n",
       "0  686200104121532.csv  tail_686_1     68.39   \n",
       "1  686200104121245.csv  tail_686_1     61.52   \n",
       "2  686200104121825.csv  tail_686_2     40.71   \n",
       "3  686200104130429.csv  tail_686_2     42.63   \n",
       "4  686200104130652.csv  tail_687_1     95.92   \n",
       "\n",
       "                                        fullpath dep_airport arr_airport  \n",
       "0  ../dataset/fdm/tail_686_1/686200104121532.csv         BHM         DTW  \n",
       "1  ../dataset/fdm/tail_686_1/686200104121245.csv         DTW         BHM  \n",
       "2  ../dataset/fdm/tail_686_2/686200104121825.csv         DTW         LEX  \n",
       "3  ../dataset/fdm/tail_686_2/686200104130429.csv         LEX         DTW  \n",
       "4  ../dataset/fdm/tail_687_1/686200104130652.csv         DTW         OKC  "
      ]
     },
     "execution_count": 18,
     "metadata": {},
     "output_type": "execute_result"
    }
   ],
   "source": [
    "fdm_files_merged.head()"
   ]
  },
  {
   "cell_type": "markdown",
   "metadata": {},
   "source": [
    "#### Reorder column"
   ]
  },
  {
   "cell_type": "code",
   "execution_count": 19,
   "metadata": {},
   "outputs": [],
   "source": [
    "col_order = ['fname', 'tail_id', 'dep_airport', 'arr_airport', 'fsize_mb', 'fullpath']\n",
    "fdm_files_merged = fdm_files_merged[col_order]"
   ]
  },
  {
   "cell_type": "code",
   "execution_count": 20,
   "metadata": {},
   "outputs": [
    {
     "data": {
      "text/html": [
       "<div>\n",
       "<style scoped>\n",
       "    .dataframe tbody tr th:only-of-type {\n",
       "        vertical-align: middle;\n",
       "    }\n",
       "\n",
       "    .dataframe tbody tr th {\n",
       "        vertical-align: top;\n",
       "    }\n",
       "\n",
       "    .dataframe thead th {\n",
       "        text-align: right;\n",
       "    }\n",
       "</style>\n",
       "<table border=\"1\" class=\"dataframe\">\n",
       "  <thead>\n",
       "    <tr style=\"text-align: right;\">\n",
       "      <th></th>\n",
       "      <th>fname</th>\n",
       "      <th>tail_id</th>\n",
       "      <th>dep_airport</th>\n",
       "      <th>arr_airport</th>\n",
       "      <th>fsize_mb</th>\n",
       "      <th>fullpath</th>\n",
       "    </tr>\n",
       "  </thead>\n",
       "  <tbody>\n",
       "    <tr>\n",
       "      <th>0</th>\n",
       "      <td>686200104121532.csv</td>\n",
       "      <td>tail_686_1</td>\n",
       "      <td>BHM</td>\n",
       "      <td>DTW</td>\n",
       "      <td>68.39</td>\n",
       "      <td>../dataset/fdm/tail_686_1/686200104121532.csv</td>\n",
       "    </tr>\n",
       "    <tr>\n",
       "      <th>1</th>\n",
       "      <td>686200104121245.csv</td>\n",
       "      <td>tail_686_1</td>\n",
       "      <td>DTW</td>\n",
       "      <td>BHM</td>\n",
       "      <td>61.52</td>\n",
       "      <td>../dataset/fdm/tail_686_1/686200104121245.csv</td>\n",
       "    </tr>\n",
       "    <tr>\n",
       "      <th>2</th>\n",
       "      <td>686200104121825.csv</td>\n",
       "      <td>tail_686_2</td>\n",
       "      <td>DTW</td>\n",
       "      <td>LEX</td>\n",
       "      <td>40.71</td>\n",
       "      <td>../dataset/fdm/tail_686_2/686200104121825.csv</td>\n",
       "    </tr>\n",
       "    <tr>\n",
       "      <th>3</th>\n",
       "      <td>686200104130429.csv</td>\n",
       "      <td>tail_686_2</td>\n",
       "      <td>LEX</td>\n",
       "      <td>DTW</td>\n",
       "      <td>42.63</td>\n",
       "      <td>../dataset/fdm/tail_686_2/686200104130429.csv</td>\n",
       "    </tr>\n",
       "    <tr>\n",
       "      <th>4</th>\n",
       "      <td>686200104130652.csv</td>\n",
       "      <td>tail_687_1</td>\n",
       "      <td>DTW</td>\n",
       "      <td>OKC</td>\n",
       "      <td>95.92</td>\n",
       "      <td>../dataset/fdm/tail_687_1/686200104130652.csv</td>\n",
       "    </tr>\n",
       "  </tbody>\n",
       "</table>\n",
       "</div>"
      ],
      "text/plain": [
       "                 fname     tail_id dep_airport arr_airport  fsize_mb  \\\n",
       "0  686200104121532.csv  tail_686_1         BHM         DTW     68.39   \n",
       "1  686200104121245.csv  tail_686_1         DTW         BHM     61.52   \n",
       "2  686200104121825.csv  tail_686_2         DTW         LEX     40.71   \n",
       "3  686200104130429.csv  tail_686_2         LEX         DTW     42.63   \n",
       "4  686200104130652.csv  tail_687_1         DTW         OKC     95.92   \n",
       "\n",
       "                                        fullpath  \n",
       "0  ../dataset/fdm/tail_686_1/686200104121532.csv  \n",
       "1  ../dataset/fdm/tail_686_1/686200104121245.csv  \n",
       "2  ../dataset/fdm/tail_686_2/686200104121825.csv  \n",
       "3  ../dataset/fdm/tail_686_2/686200104130429.csv  \n",
       "4  ../dataset/fdm/tail_687_1/686200104130652.csv  "
      ]
     },
     "execution_count": 20,
     "metadata": {},
     "output_type": "execute_result"
    }
   ],
   "source": [
    "fdm_files_merged.head()"
   ]
  },
  {
   "cell_type": "code",
   "execution_count": 21,
   "metadata": {},
   "outputs": [],
   "source": [
    "fdm_files_merged.to_csv(flights_airport_output, index=False)"
   ]
  }
 ],
 "metadata": {
  "kernelspec": {
   "display_name": "Python 3",
   "language": "python",
   "name": "python3"
  },
  "language_info": {
   "codemirror_mode": {
    "name": "ipython",
    "version": 3
   },
   "file_extension": ".py",
   "mimetype": "text/x-python",
   "name": "python",
   "nbconvert_exporter": "python",
   "pygments_lexer": "ipython3",
   "version": "3.9.5"
  }
 },
 "nbformat": 4,
 "nbformat_minor": 4
}
