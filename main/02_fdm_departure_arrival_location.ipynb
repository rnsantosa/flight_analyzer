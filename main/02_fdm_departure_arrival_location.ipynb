{
 "cells": [
  {
   "cell_type": "markdown",
   "metadata": {},
   "source": [
    "# FDM Departure and Arrival\n",
    "Finding departure and arrival coordinate for each FDM files. Then, create `fdm_location` dataset using the information."
   ]
  },
  {
   "cell_type": "markdown",
   "metadata": {},
   "source": [
    "## Import"
   ]
  },
  {
   "cell_type": "code",
   "execution_count": 1,
   "metadata": {},
   "outputs": [],
   "source": [
    "import pandas as pd\n",
    "import seaborn as sns\n",
    "import numpy as np\n",
    "import gc\n",
    "import os"
   ]
  },
  {
   "cell_type": "markdown",
   "metadata": {},
   "source": [
    "### Constant"
   ]
  },
  {
   "cell_type": "code",
   "execution_count": 2,
   "metadata": {},
   "outputs": [],
   "source": [
    "# fdm_database_path = '../dataset/database/01_fdm_files.csv'\n",
    "# fdm_locations_temp = \"../dataset/database/fdm_location_write.csv\"\n",
    "# fdm_locations_output = '../dataset/database/02_fdm_locations.csv'"
   ]
  },
  {
   "cell_type": "code",
   "execution_count": 2,
   "metadata": {},
   "outputs": [],
   "source": [
    "fdm_database_path = '../dataset/database_local/01_fdm_files.csv'\n",
    "fdm_locations_temp = \"../dataset/database_local/fdm_location_write.csv\"\n",
    "fdm_locations_output = '../dataset/database_local/02_fdm_locations.csv'"
   ]
  },
  {
   "cell_type": "markdown",
   "metadata": {},
   "source": [
    "## Read Data"
   ]
  },
  {
   "cell_type": "markdown",
   "metadata": {},
   "source": [
    "#### 1. Read FDM Management Data"
   ]
  },
  {
   "cell_type": "code",
   "execution_count": 3,
   "metadata": {},
   "outputs": [
    {
     "data": {
      "text/html": [
       "<div>\n",
       "<style scoped>\n",
       "    .dataframe tbody tr th:only-of-type {\n",
       "        vertical-align: middle;\n",
       "    }\n",
       "\n",
       "    .dataframe tbody tr th {\n",
       "        vertical-align: top;\n",
       "    }\n",
       "\n",
       "    .dataframe thead th {\n",
       "        text-align: right;\n",
       "    }\n",
       "</style>\n",
       "<table border=\"1\" class=\"dataframe\">\n",
       "  <thead>\n",
       "    <tr style=\"text-align: right;\">\n",
       "      <th></th>\n",
       "      <th>fname</th>\n",
       "      <th>tail_id</th>\n",
       "      <th>fsize_mb</th>\n",
       "      <th>fullpath</th>\n",
       "    </tr>\n",
       "  </thead>\n",
       "  <tbody>\n",
       "    <tr>\n",
       "      <th>0</th>\n",
       "      <td>686200104121532.csv</td>\n",
       "      <td>tail_686_1</td>\n",
       "      <td>68.39</td>\n",
       "      <td>../dataset/fdm/tail_686_1/686200104121532.csv</td>\n",
       "    </tr>\n",
       "    <tr>\n",
       "      <th>1</th>\n",
       "      <td>686200104121245.csv</td>\n",
       "      <td>tail_686_1</td>\n",
       "      <td>61.52</td>\n",
       "      <td>../dataset/fdm/tail_686_1/686200104121245.csv</td>\n",
       "    </tr>\n",
       "    <tr>\n",
       "      <th>2</th>\n",
       "      <td>686200104121825.csv</td>\n",
       "      <td>tail_686_2</td>\n",
       "      <td>40.71</td>\n",
       "      <td>../dataset/fdm/tail_686_2/686200104121825.csv</td>\n",
       "    </tr>\n",
       "    <tr>\n",
       "      <th>3</th>\n",
       "      <td>686200104130429.csv</td>\n",
       "      <td>tail_686_2</td>\n",
       "      <td>42.63</td>\n",
       "      <td>../dataset/fdm/tail_686_2/686200104130429.csv</td>\n",
       "    </tr>\n",
       "    <tr>\n",
       "      <th>4</th>\n",
       "      <td>686200104130652.csv</td>\n",
       "      <td>tail_687_1</td>\n",
       "      <td>95.92</td>\n",
       "      <td>../dataset/fdm/tail_687_1/686200104130652.csv</td>\n",
       "    </tr>\n",
       "  </tbody>\n",
       "</table>\n",
       "</div>"
      ],
      "text/plain": [
       "                 fname     tail_id  fsize_mb  \\\n",
       "0  686200104121532.csv  tail_686_1     68.39   \n",
       "1  686200104121245.csv  tail_686_1     61.52   \n",
       "2  686200104121825.csv  tail_686_2     40.71   \n",
       "3  686200104130429.csv  tail_686_2     42.63   \n",
       "4  686200104130652.csv  tail_687_1     95.92   \n",
       "\n",
       "                                        fullpath  \n",
       "0  ../dataset/fdm/tail_686_1/686200104121532.csv  \n",
       "1  ../dataset/fdm/tail_686_1/686200104121245.csv  \n",
       "2  ../dataset/fdm/tail_686_2/686200104121825.csv  \n",
       "3  ../dataset/fdm/tail_686_2/686200104130429.csv  \n",
       "4  ../dataset/fdm/tail_687_1/686200104130652.csv  "
      ]
     },
     "metadata": {},
     "output_type": "display_data"
    },
    {
     "name": "stdout",
     "output_type": "stream",
     "text": [
      "(5, 4)\n"
     ]
    }
   ],
   "source": [
    "fdm_files = pd.read_csv(fdm_database_path)\n",
    "display(fdm_files.head())\n",
    "print(fdm_files.shape)"
   ]
  },
  {
   "cell_type": "markdown",
   "metadata": {},
   "source": [
    "## Find Departure Coordinate"
   ]
  },
  {
   "cell_type": "markdown",
   "metadata": {},
   "source": [
    "#### 1. Create Helper Function"
   ]
  },
  {
   "cell_type": "code",
   "execution_count": 4,
   "metadata": {},
   "outputs": [],
   "source": [
    "def get_first_loc(fdm_df):\n",
    "    # Given FDM Dataframe, get location (lat, lon) from first row\n",
    "    if fdm_df.empty:\n",
    "        return (np.nan, np.nan)\n",
    "    else:\n",
    "        return tuple(fdm_df[['lat_rad', 'lon_rad']].iloc[0])"
   ]
  },
  {
   "cell_type": "code",
   "execution_count": 5,
   "metadata": {},
   "outputs": [],
   "source": [
    "def get_last_loc(fdm_df):\n",
    "    # Given FDM Dataframe, get location (lat, lon) from last row\n",
    "    if fdm_df.empty:\n",
    "        return (np.nan, np.nan)\n",
    "    else:\n",
    "        return tuple(fdm_df[['lat_rad', 'lon_rad']].iloc[-1])"
   ]
  },
  {
   "cell_type": "code",
   "execution_count": 6,
   "metadata": {},
   "outputs": [],
   "source": [
    "def get_departure_loc(fdm):\n",
    "    # Given fdm dataframe, return the departure long lat and arrival long lat\n",
    "    plane_in_ground   = fdm[fdm['wow'] == 0]\n",
    "    plane_off_ground  = fdm[fdm['wow'] == 1]\n",
    "        \n",
    "    if plane_in_ground.empty:\n",
    "        return (np.nan, np.nan)\n",
    "\n",
    "    if plane_off_ground.empty:\n",
    "        est_departure_loc = tuple(plane_in_ground[['lat_rad', 'lon_rad']].iloc[0])\n",
    "        return est_departure_loc\n",
    "    else:\n",
    "        first_takeoff_idx = plane_off_ground.index[0]\n",
    "        departure_df = plane_in_ground.loc[:first_takeoff_idx]\n",
    "        est_departure_loc = get_first_loc(departure_df)\n",
    "        return est_departure_loc"
   ]
  },
  {
   "cell_type": "code",
   "execution_count": 7,
   "metadata": {},
   "outputs": [],
   "source": [
    "def get_arrival_loc(fdm):\n",
    "    # Given fdm dataframe, return the departure long lat and arrival long lat\n",
    "    plane_in_ground   = fdm[fdm['wow'] == 0]\n",
    "    plane_off_ground  = fdm[fdm['wow'] == 1]\n",
    "        \n",
    "    if plane_in_ground.empty:\n",
    "        return (np.nan, np.nan)\n",
    "\n",
    "    if plane_off_ground.empty:\n",
    "        return (np.nan, np.nan)\n",
    "    else:\n",
    "        first_takeoff_idx = plane_off_ground.index[0]\n",
    "        arrival_df = plane_in_ground.loc[first_takeoff_idx:]\n",
    "        est_arrival_loc = get_last_loc(arrival_df)\n",
    "        return est_arrival_loc"
   ]
  },
  {
   "cell_type": "code",
   "execution_count": 8,
   "metadata": {},
   "outputs": [],
   "source": [
    "locs = []\n",
    "def get_loc_from_fdm(fdm_filepath, write=True):\n",
    "    # Given filepath, return the departure long lat and arrival long lat    \n",
    "    fdm_df = pd.read_csv(fdm_filepath)\n",
    "    fdm_df = fdm_df[(fdm_df['lat_rad'] != 0) & (fdm_df['lon_rad'] != 0)]\n",
    "    dep_lat, dep_lon, arr_lat, arr_lon = get_departure_loc(fdm_df) + get_arrival_loc(fdm_df)\n",
    "    \n",
    "    row = (os.path.basename(fdm_filepath), dep_lat, dep_lon, arr_lat, arr_lon)\n",
    "    locs.append(row)\n",
    "    \n",
    "    if write:\n",
    "        file1 = open(fdm_locations_temp, \"a\")  # append mode\n",
    "        file1.write(\",\".join(str(r) for r in row)  + '\\n')\n",
    "        file1.close()\n",
    "    \n",
    "    print(os.path.basename(fdm_filepath), end=': ')\n",
    "    print((round(dep_lat, 4), round(dep_lon, 4), round(arr_lat, 4), round(arr_lon, 4)), end=' | ')\n",
    "    print(len(locs), '/', len(fdm_files))\n",
    "    return (dep_lat, dep_lon, arr_lat, arr_lon)"
   ]
  },
  {
   "cell_type": "code",
   "execution_count": 9,
   "metadata": {},
   "outputs": [
    {
     "name": "stdout",
     "output_type": "stream",
     "text": [
      "686200104121532.csv: (0.5858, -1.5141, 0.7366, -1.4549) | 1 / 5\n"
     ]
    },
    {
     "data": {
      "text/plain": [
       "(0.585762194239099, -1.51411785826036, 0.736622745011118, -1.4548915730506)"
      ]
     },
     "execution_count": 9,
     "metadata": {},
     "output_type": "execute_result"
    }
   ],
   "source": [
    "fpath = fdm_files.fullpath[0]\n",
    "get_loc_from_fdm(fpath, write=False)"
   ]
  },
  {
   "cell_type": "markdown",
   "metadata": {},
   "source": [
    "#### 2. Generate Location for All FDM Files"
   ]
  },
  {
   "cell_type": "code",
   "execution_count": 10,
   "metadata": {},
   "outputs": [],
   "source": [
    "loc_columns = ['dep_lat', 'dep_lon', 'arr_lat', 'arr_lon']\n",
    "csv_header = ['fname'] + loc_columns\n",
    "\n",
    "file1 = open(fdm_locations_temp, \"w\")\n",
    "L = ','.join(csv_header) + '\\n'\n",
    "file1.writelines(L)\n",
    "file1.close()"
   ]
  },
  {
   "cell_type": "code",
   "execution_count": 11,
   "metadata": {},
   "outputs": [
    {
     "name": "stdout",
     "output_type": "stream",
     "text": [
      "686200104121532.csv: (0.5858, -1.5141, 0.7366, -1.4549) | 1 / 5\n",
      "686200104121245.csv: (0.7367, -1.4548, 0.5858, -1.5141) | 2 / 5\n",
      "686200104121825.csv: (0.7367, -1.4548, 0.6639, -1.4766) | 3 / 5\n",
      "686200104130429.csv: (0.6639, -1.4765, 0.7366, -1.455) | 4 / 5\n",
      "686200104130652.csv: (0.7366, -1.455, 0.6177, -1.7034) | 5 / 5\n"
     ]
    }
   ],
   "source": [
    "locs = []\n",
    "loc_tuples = fdm_files[:5].fullpath.map(get_loc_from_fdm)"
   ]
  },
  {
   "cell_type": "code",
   "execution_count": 12,
   "metadata": {},
   "outputs": [],
   "source": [
    "fdm_locations = fdm_files[['fname']].copy()\n",
    "fdm_locations[loc_columns] = pd.DataFrame(loc_tuples.tolist(), index=fdm_files.index)"
   ]
  },
  {
   "cell_type": "code",
   "execution_count": 13,
   "metadata": {},
   "outputs": [
    {
     "data": {
      "text/html": [
       "<div>\n",
       "<style scoped>\n",
       "    .dataframe tbody tr th:only-of-type {\n",
       "        vertical-align: middle;\n",
       "    }\n",
       "\n",
       "    .dataframe tbody tr th {\n",
       "        vertical-align: top;\n",
       "    }\n",
       "\n",
       "    .dataframe thead th {\n",
       "        text-align: right;\n",
       "    }\n",
       "</style>\n",
       "<table border=\"1\" class=\"dataframe\">\n",
       "  <thead>\n",
       "    <tr style=\"text-align: right;\">\n",
       "      <th></th>\n",
       "      <th>fname</th>\n",
       "      <th>dep_lat</th>\n",
       "      <th>dep_lon</th>\n",
       "      <th>arr_lat</th>\n",
       "      <th>arr_lon</th>\n",
       "    </tr>\n",
       "  </thead>\n",
       "  <tbody>\n",
       "    <tr>\n",
       "      <th>0</th>\n",
       "      <td>686200104121532.csv</td>\n",
       "      <td>0.585762</td>\n",
       "      <td>-1.514118</td>\n",
       "      <td>0.736623</td>\n",
       "      <td>-1.454892</td>\n",
       "    </tr>\n",
       "    <tr>\n",
       "      <th>1</th>\n",
       "      <td>686200104121245.csv</td>\n",
       "      <td>0.736719</td>\n",
       "      <td>-1.454814</td>\n",
       "      <td>0.585786</td>\n",
       "      <td>-1.514111</td>\n",
       "    </tr>\n",
       "    <tr>\n",
       "      <th>2</th>\n",
       "      <td>686200104121825.csv</td>\n",
       "      <td>0.736698</td>\n",
       "      <td>-1.454781</td>\n",
       "      <td>0.663881</td>\n",
       "      <td>-1.476550</td>\n",
       "    </tr>\n",
       "    <tr>\n",
       "      <th>3</th>\n",
       "      <td>686200104130429.csv</td>\n",
       "      <td>0.663908</td>\n",
       "      <td>-1.476544</td>\n",
       "      <td>0.736575</td>\n",
       "      <td>-1.454951</td>\n",
       "    </tr>\n",
       "    <tr>\n",
       "      <th>4</th>\n",
       "      <td>686200104130652.csv</td>\n",
       "      <td>0.736596</td>\n",
       "      <td>-1.454951</td>\n",
       "      <td>0.617748</td>\n",
       "      <td>-1.703400</td>\n",
       "    </tr>\n",
       "  </tbody>\n",
       "</table>\n",
       "</div>"
      ],
      "text/plain": [
       "                 fname   dep_lat   dep_lon   arr_lat   arr_lon\n",
       "0  686200104121532.csv  0.585762 -1.514118  0.736623 -1.454892\n",
       "1  686200104121245.csv  0.736719 -1.454814  0.585786 -1.514111\n",
       "2  686200104121825.csv  0.736698 -1.454781  0.663881 -1.476550\n",
       "3  686200104130429.csv  0.663908 -1.476544  0.736575 -1.454951\n",
       "4  686200104130652.csv  0.736596 -1.454951  0.617748 -1.703400"
      ]
     },
     "execution_count": 13,
     "metadata": {},
     "output_type": "execute_result"
    }
   ],
   "source": [
    "fdm_locations.head()"
   ]
  },
  {
   "cell_type": "code",
   "execution_count": 14,
   "metadata": {},
   "outputs": [],
   "source": [
    "fdm_locations.to_csv(fdm_locations_output, index=False)"
   ]
  }
 ],
 "metadata": {
  "kernelspec": {
   "display_name": "flight_env",
   "language": "python",
   "name": "flight_env"
  },
  "language_info": {
   "codemirror_mode": {
    "name": "ipython",
    "version": 3
   },
   "file_extension": ".py",
   "mimetype": "text/x-python",
   "name": "python",
   "nbconvert_exporter": "python",
   "pygments_lexer": "ipython3",
   "version": "3.9.5"
  }
 },
 "nbformat": 4,
 "nbformat_minor": 4
}
