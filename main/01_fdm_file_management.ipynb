{
 "cells": [
  {
   "cell_type": "markdown",
   "metadata": {},
   "source": [
    "# FDM File Management\n",
    "1. Convert CSV dataset to Parquet to reduce file size. - deprecated\n",
    "2. Create database of list of FDM files, origin file, path, filesize info. "
   ]
  },
  {
   "cell_type": "markdown",
   "metadata": {},
   "source": [
    "## Import"
   ]
  },
  {
   "cell_type": "code",
   "execution_count": 1,
   "metadata": {},
   "outputs": [],
   "source": [
    "import pandas as pd\n",
    "import numpy as np\n",
    "import os\n",
    "import math"
   ]
  },
  {
   "cell_type": "markdown",
   "metadata": {},
   "source": [
    "### Constant"
   ]
  },
  {
   "cell_type": "code",
   "execution_count": 3,
   "metadata": {},
   "outputs": [],
   "source": [
    "fdm_folder_path = '../dataset/fdm'\n",
    "output = '../dataset/database_local/01_fdm_files.csv'"
   ]
  },
  {
   "cell_type": "code",
   "execution_count": 4,
   "metadata": {},
   "outputs": [],
   "source": [
    "# fdm_folder_path = '/Volumes/My Passport/desy'\n",
    "# output = '../dataset/database/01_fdm_files.csv'"
   ]
  },
  {
   "cell_type": "markdown",
   "metadata": {},
   "source": [
    "## Read Files\n",
    "Retrieve all FDM files information and create dataset."
   ]
  },
  {
   "cell_type": "code",
   "execution_count": 5,
   "metadata": {},
   "outputs": [],
   "source": [
    "# Scan through the folder\n",
    "filename_list, tail_id_list, fsize_mb_list, fullpath_list = [], [], [], []\n",
    "for root, dirs, files in os.walk(fdm_folder_path):\n",
    "    for file in files:\n",
    "        if file.endswith(\".csv\"):\n",
    "            path = os.path.join(root, file)\n",
    "            filesize = round(os.stat(path).st_size / 1000000, 2)\n",
    "            tail_id = os.path.basename(root)\n",
    "\n",
    "            filename_list.append(file)\n",
    "            fullpath_list.append(path)\n",
    "            fsize_mb_list.append(filesize)\n",
    "            tail_id_list.append(tail_id)"
   ]
  },
  {
   "cell_type": "markdown",
   "metadata": {},
   "source": [
    "### Create File Database"
   ]
  },
  {
   "cell_type": "code",
   "execution_count": 6,
   "metadata": {},
   "outputs": [],
   "source": [
    "col_to_list = {'fname': filename_list,\n",
    "               'tail_id': tail_id_list,\n",
    "               'fsize_mb': fsize_mb_list,\n",
    "               'fullpath': fullpath_list}\n",
    "fdm_files = pd.DataFrame(col_to_list)"
   ]
  },
  {
   "cell_type": "code",
   "execution_count": 7,
   "metadata": {},
   "outputs": [
    {
     "data": {
      "text/html": [
       "<div>\n",
       "<style scoped>\n",
       "    .dataframe tbody tr th:only-of-type {\n",
       "        vertical-align: middle;\n",
       "    }\n",
       "\n",
       "    .dataframe tbody tr th {\n",
       "        vertical-align: top;\n",
       "    }\n",
       "\n",
       "    .dataframe thead th {\n",
       "        text-align: right;\n",
       "    }\n",
       "</style>\n",
       "<table border=\"1\" class=\"dataframe\">\n",
       "  <thead>\n",
       "    <tr style=\"text-align: right;\">\n",
       "      <th></th>\n",
       "      <th>fname</th>\n",
       "      <th>tail_id</th>\n",
       "      <th>fsize_mb</th>\n",
       "      <th>fullpath</th>\n",
       "    </tr>\n",
       "  </thead>\n",
       "  <tbody>\n",
       "    <tr>\n",
       "      <th>0</th>\n",
       "      <td>686200104121532.csv</td>\n",
       "      <td>tail_686_1</td>\n",
       "      <td>68.39</td>\n",
       "      <td>../dataset/fdm/tail_686_1/686200104121532.csv</td>\n",
       "    </tr>\n",
       "    <tr>\n",
       "      <th>1</th>\n",
       "      <td>686200104121245.csv</td>\n",
       "      <td>tail_686_1</td>\n",
       "      <td>61.52</td>\n",
       "      <td>../dataset/fdm/tail_686_1/686200104121245.csv</td>\n",
       "    </tr>\n",
       "    <tr>\n",
       "      <th>2</th>\n",
       "      <td>686200104121825.csv</td>\n",
       "      <td>tail_686_2</td>\n",
       "      <td>40.71</td>\n",
       "      <td>../dataset/fdm/tail_686_2/686200104121825.csv</td>\n",
       "    </tr>\n",
       "    <tr>\n",
       "      <th>3</th>\n",
       "      <td>686200104130429.csv</td>\n",
       "      <td>tail_686_2</td>\n",
       "      <td>42.63</td>\n",
       "      <td>../dataset/fdm/tail_686_2/686200104130429.csv</td>\n",
       "    </tr>\n",
       "    <tr>\n",
       "      <th>4</th>\n",
       "      <td>686200104130652.csv</td>\n",
       "      <td>tail_687_1</td>\n",
       "      <td>95.92</td>\n",
       "      <td>../dataset/fdm/tail_687_1/686200104130652.csv</td>\n",
       "    </tr>\n",
       "  </tbody>\n",
       "</table>\n",
       "</div>"
      ],
      "text/plain": [
       "                 fname     tail_id  fsize_mb  \\\n",
       "0  686200104121532.csv  tail_686_1     68.39   \n",
       "1  686200104121245.csv  tail_686_1     61.52   \n",
       "2  686200104121825.csv  tail_686_2     40.71   \n",
       "3  686200104130429.csv  tail_686_2     42.63   \n",
       "4  686200104130652.csv  tail_687_1     95.92   \n",
       "\n",
       "                                        fullpath  \n",
       "0  ../dataset/fdm/tail_686_1/686200104121532.csv  \n",
       "1  ../dataset/fdm/tail_686_1/686200104121245.csv  \n",
       "2  ../dataset/fdm/tail_686_2/686200104121825.csv  \n",
       "3  ../dataset/fdm/tail_686_2/686200104130429.csv  \n",
       "4  ../dataset/fdm/tail_687_1/686200104130652.csv  "
      ]
     },
     "execution_count": 7,
     "metadata": {},
     "output_type": "execute_result"
    }
   ],
   "source": [
    "fdm_files"
   ]
  },
  {
   "cell_type": "code",
   "execution_count": 8,
   "metadata": {
    "scrolled": true
   },
   "outputs": [
    {
     "data": {
      "text/plain": [
       "True"
      ]
     },
     "execution_count": 8,
     "metadata": {},
     "output_type": "execute_result"
    }
   ],
   "source": [
    "fdm_files.fname.is_unique"
   ]
  },
  {
   "cell_type": "code",
   "execution_count": 9,
   "metadata": {},
   "outputs": [],
   "source": [
    "fdm_files.to_csv(output, index=False)"
   ]
  }
 ],
 "metadata": {
  "kernelspec": {
   "display_name": "flight_env",
   "language": "python",
   "name": "flight_env"
  },
  "language_info": {
   "codemirror_mode": {
    "name": "ipython",
    "version": 3
   },
   "file_extension": ".py",
   "mimetype": "text/x-python",
   "name": "python",
   "nbconvert_exporter": "python",
   "pygments_lexer": "ipython3",
   "version": "3.9.5"
  }
 },
 "nbformat": 4,
 "nbformat_minor": 4
}
