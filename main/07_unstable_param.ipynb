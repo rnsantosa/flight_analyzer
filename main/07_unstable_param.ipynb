{
 "cells": [
  {
   "cell_type": "markdown",
   "id": "fd1d7c1c",
   "metadata": {},
   "source": [
    "### Import"
   ]
  },
  {
   "cell_type": "code",
   "execution_count": 222,
   "id": "dc68a77f",
   "metadata": {},
   "outputs": [
    {
     "name": "stdout",
     "output_type": "stream",
     "text": [
      "The autoreload extension is already loaded. To reload it, use:\n",
      "  %reload_ext autoreload\n"
     ]
    }
   ],
   "source": [
    "%load_ext autoreload\n",
    "%autoreload 2"
   ]
  },
  {
   "cell_type": "code",
   "execution_count": 223,
   "id": "81e471ca",
   "metadata": {},
   "outputs": [],
   "source": [
    "import math\n",
    "import matplotlib.pyplot as plt\n",
    "import multiprocessing as mp\n",
    "import numpy as np\n",
    "import pandas as pd\n",
    "import seaborn as sns\n",
    "import os\n",
    "\n",
    "from functools import reduce\n",
    "from tqdm import tqdm, tqdm_pandas\n",
    "# from tqdm._tqdm_notebook import tqdm_notebook"
   ]
  },
  {
   "cell_type": "code",
   "execution_count": 224,
   "id": "3b5a9b1c",
   "metadata": {},
   "outputs": [],
   "source": [
    "tqdm.pandas()"
   ]
  },
  {
   "cell_type": "markdown",
   "id": "fab729ba",
   "metadata": {},
   "source": [
    "### Constant"
   ]
  },
  {
   "cell_type": "code",
   "execution_count": 225,
   "id": "ccd9b850",
   "metadata": {},
   "outputs": [],
   "source": [
    "base_path = '../dataset/database_local'\n",
    "# base_path = '../dataset/database'"
   ]
  },
  {
   "cell_type": "code",
   "execution_count": 226,
   "id": "01bfef83",
   "metadata": {},
   "outputs": [],
   "source": [
    "flight_runway_file = base_path + '/04_flights_with_runway.csv'\n",
    "landing_runway_file = base_path + '/04_landing_count_detail.csv'\n",
    "all_fdm_file = base_path + '/06_all_crucial_fdm.csv'\n",
    "output_flap_file = base_path + '/07_param_flap.csv'"
   ]
  },
  {
   "cell_type": "markdown",
   "id": "7907bad4",
   "metadata": {},
   "source": [
    "# Read Data"
   ]
  },
  {
   "cell_type": "markdown",
   "id": "366009e9",
   "metadata": {},
   "source": [
    "#### 1. Read All Crucial FDM Flight"
   ]
  },
  {
   "cell_type": "code",
   "execution_count": 227,
   "id": "90db3b95",
   "metadata": {},
   "outputs": [
    {
     "data": {
      "text/html": [
       "<div>\n",
       "<style scoped>\n",
       "    .dataframe tbody tr th:only-of-type {\n",
       "        vertical-align: middle;\n",
       "    }\n",
       "\n",
       "    .dataframe tbody tr th {\n",
       "        vertical-align: top;\n",
       "    }\n",
       "\n",
       "    .dataframe thead th {\n",
       "        text-align: right;\n",
       "    }\n",
       "</style>\n",
       "<table border=\"1\" class=\"dataframe\">\n",
       "  <thead>\n",
       "    <tr style=\"text-align: right;\">\n",
       "      <th></th>\n",
       "      <th>hbaro_m</th>\n",
       "      <th>hdot_1_mps</th>\n",
       "      <th>flap_te_pos</th>\n",
       "      <th>gs_dev_ddm</th>\n",
       "      <th>gs_mps</th>\n",
       "      <th>loc_dev_ddm</th>\n",
       "      <th>lg_squat_mr</th>\n",
       "      <th>n11_rpm</th>\n",
       "      <th>n12_rpm</th>\n",
       "      <th>n13_rpm</th>\n",
       "      <th>n14_rpm</th>\n",
       "      <th>theta_rad</th>\n",
       "      <th>hralt_m</th>\n",
       "      <th>tas_mps</th>\n",
       "      <th>chi_rad</th>\n",
       "      <th>file</th>\n",
       "    </tr>\n",
       "  </thead>\n",
       "  <tbody>\n",
       "    <tr>\n",
       "      <th>56716</th>\n",
       "      <td>999.1344</td>\n",
       "      <td>-3.73888</td>\n",
       "      <td>NaN</td>\n",
       "      <td>NaN</td>\n",
       "      <td>96.32889</td>\n",
       "      <td>NaN</td>\n",
       "      <td>NaN</td>\n",
       "      <td>34.03125</td>\n",
       "      <td>33.125</td>\n",
       "      <td>33.18750</td>\n",
       "      <td>34.15625</td>\n",
       "      <td>-0.021283</td>\n",
       "      <td>810.768</td>\n",
       "      <td>96.746872</td>\n",
       "      <td>-3.042753</td>\n",
       "      <td>686200104121825.csv</td>\n",
       "    </tr>\n",
       "    <tr>\n",
       "      <th>56717</th>\n",
       "      <td>NaN</td>\n",
       "      <td>NaN</td>\n",
       "      <td>NaN</td>\n",
       "      <td>NaN</td>\n",
       "      <td>NaN</td>\n",
       "      <td>NaN</td>\n",
       "      <td>NaN</td>\n",
       "      <td>NaN</td>\n",
       "      <td>NaN</td>\n",
       "      <td>NaN</td>\n",
       "      <td>NaN</td>\n",
       "      <td>NaN</td>\n",
       "      <td>NaN</td>\n",
       "      <td>NaN</td>\n",
       "      <td>NaN</td>\n",
       "      <td>686200104121825.csv</td>\n",
       "    </tr>\n",
       "    <tr>\n",
       "      <th>56718</th>\n",
       "      <td>NaN</td>\n",
       "      <td>NaN</td>\n",
       "      <td>NaN</td>\n",
       "      <td>NaN</td>\n",
       "      <td>NaN</td>\n",
       "      <td>NaN</td>\n",
       "      <td>NaN</td>\n",
       "      <td>NaN</td>\n",
       "      <td>NaN</td>\n",
       "      <td>NaN</td>\n",
       "      <td>NaN</td>\n",
       "      <td>-0.021283</td>\n",
       "      <td>810.768</td>\n",
       "      <td>NaN</td>\n",
       "      <td>NaN</td>\n",
       "      <td>686200104121825.csv</td>\n",
       "    </tr>\n",
       "    <tr>\n",
       "      <th>56719</th>\n",
       "      <td>NaN</td>\n",
       "      <td>NaN</td>\n",
       "      <td>NaN</td>\n",
       "      <td>NaN</td>\n",
       "      <td>NaN</td>\n",
       "      <td>NaN</td>\n",
       "      <td>NaN</td>\n",
       "      <td>NaN</td>\n",
       "      <td>NaN</td>\n",
       "      <td>NaN</td>\n",
       "      <td>NaN</td>\n",
       "      <td>NaN</td>\n",
       "      <td>NaN</td>\n",
       "      <td>NaN</td>\n",
       "      <td>NaN</td>\n",
       "      <td>686200104121825.csv</td>\n",
       "    </tr>\n",
       "    <tr>\n",
       "      <th>56720</th>\n",
       "      <td>998.2200</td>\n",
       "      <td>-3.49504</td>\n",
       "      <td>2436.0</td>\n",
       "      <td>-0.33384</td>\n",
       "      <td>96.07167</td>\n",
       "      <td>-0.365736</td>\n",
       "      <td>0.0</td>\n",
       "      <td>34.03125</td>\n",
       "      <td>33.125</td>\n",
       "      <td>33.21875</td>\n",
       "      <td>34.15625</td>\n",
       "      <td>-0.021092</td>\n",
       "      <td>810.768</td>\n",
       "      <td>96.586110</td>\n",
       "      <td>-3.040452</td>\n",
       "      <td>686200104121825.csv</td>\n",
       "    </tr>\n",
       "  </tbody>\n",
       "</table>\n",
       "</div>"
      ],
      "text/plain": [
       "        hbaro_m  hdot_1_mps  flap_te_pos  gs_dev_ddm    gs_mps  loc_dev_ddm  \\\n",
       "56716  999.1344    -3.73888          NaN         NaN  96.32889          NaN   \n",
       "56717       NaN         NaN          NaN         NaN       NaN          NaN   \n",
       "56718       NaN         NaN          NaN         NaN       NaN          NaN   \n",
       "56719       NaN         NaN          NaN         NaN       NaN          NaN   \n",
       "56720  998.2200    -3.49504       2436.0    -0.33384  96.07167    -0.365736   \n",
       "\n",
       "       lg_squat_mr   n11_rpm  n12_rpm   n13_rpm   n14_rpm  theta_rad  hralt_m  \\\n",
       "56716          NaN  34.03125   33.125  33.18750  34.15625  -0.021283  810.768   \n",
       "56717          NaN       NaN      NaN       NaN       NaN        NaN      NaN   \n",
       "56718          NaN       NaN      NaN       NaN       NaN  -0.021283  810.768   \n",
       "56719          NaN       NaN      NaN       NaN       NaN        NaN      NaN   \n",
       "56720          0.0  34.03125   33.125  33.21875  34.15625  -0.021092  810.768   \n",
       "\n",
       "         tas_mps   chi_rad                 file  \n",
       "56716  96.746872 -3.042753  686200104121825.csv  \n",
       "56717        NaN       NaN  686200104121825.csv  \n",
       "56718        NaN       NaN  686200104121825.csv  \n",
       "56719        NaN       NaN  686200104121825.csv  \n",
       "56720  96.586110 -3.040452  686200104121825.csv  "
      ]
     },
     "metadata": {},
     "output_type": "display_data"
    },
    {
     "name": "stdout",
     "output_type": "stream",
     "text": [
      "(800, 16)\n"
     ]
    }
   ],
   "source": [
    "all_fdm = pd.read_csv(all_fdm_file, index_col=0)\n",
    "display(all_fdm.head())\n",
    "print(all_fdm.shape)"
   ]
  },
  {
   "cell_type": "markdown",
   "id": "fcee8bed",
   "metadata": {},
   "source": [
    "# Transform Data"
   ]
  },
  {
   "cell_type": "markdown",
   "id": "6750f55e",
   "metadata": {},
   "source": [
    "### Parameter Function\n",
    "Determine if a flight is unstable or stable. Steps:\n",
    "1. Convert `flap_te_pos` to degrees by dividing with 100\n",
    "2. Unstable condition: `flap_te_pos < 30` for 5s consecutive\n",
    "    - Search for value < 30, if the next 5 consecutive is still < 30 then unstable, else stable."
   ]
  },
  {
   "cell_type": "code",
   "execution_count": 228,
   "id": "be72e5b4",
   "metadata": {},
   "outputs": [
    {
     "data": {
      "text/plain": [
       "True"
      ]
     },
     "execution_count": 228,
     "metadata": {},
     "output_type": "execute_result"
    }
   ],
   "source": [
    "list_a = [0, 1, 1, 1, 0, 0, 1, 1, 1, 1, 1]\n",
    "\n",
    "def find_n_consecutive_flag(flag_list: list, n: int) -> bool:\n",
    "    if len(flag_list) < n:\n",
    "        return(False)\n",
    "    for i in range(len(flag_list) - (n - 1)):\n",
    "        if flag_list[i] == 0:\n",
    "            continue\n",
    "        sum_flag = sum(flag_list[i:i+n])\n",
    "        if sum_flag == n:\n",
    "            return(True)\n",
    "    return(False)\n",
    "\n",
    "find_n_consecutive_flag(list_a, 5)"
   ]
  },
  {
   "cell_type": "code",
   "execution_count": 229,
   "id": "33ef6ad5",
   "metadata": {},
   "outputs": [
    {
     "data": {
      "text/plain": [
       "False"
      ]
     },
     "execution_count": 229,
     "metadata": {},
     "output_type": "execute_result"
    }
   ],
   "source": [
    "test = [0, 0, 0, 0, 0, 0, 0, 0, 0, 0, 0]\n",
    "find_n_consecutive_flag(test, 5)"
   ]
  },
  {
   "cell_type": "markdown",
   "id": "1f4152eb",
   "metadata": {},
   "source": [
    "# Param 1: Flap\n",
    "- column: flap_te_pos\n",
    "- unstable if flap_deg < 30"
   ]
  },
  {
   "cell_type": "code",
   "execution_count": 230,
   "id": "88964d75",
   "metadata": {},
   "outputs": [],
   "source": [
    "def detect_flap_unstable(df):\n",
    "    cleaned_flaps = df.flap_te_pos.dropna()\n",
    "    flap_deg = cleaned_flaps / 100\n",
    "    sns.lineplot(data=flap_deg.reset_index(drop=True), lw=0.25, color='#1f77b4')\n",
    "    flap_flag = list(flap_deg < 30)\n",
    "    is_unstable = find_n_consecutive_flag(flap_flag, n=5)\n",
    "    return int(is_unstable)"
   ]
  },
  {
   "cell_type": "markdown",
   "id": "1610a965",
   "metadata": {},
   "source": [
    "### Detect for All FDM"
   ]
  },
  {
   "cell_type": "code",
   "execution_count": 231,
   "id": "f2b9f460",
   "metadata": {},
   "outputs": [
    {
     "name": "stderr",
     "output_type": "stream",
     "text": [
      "100%|██████████| 5/5 [00:00<00:00, 37.01it/s]\n"
     ]
    },
    {
     "data": {
      "image/png": "[encoded data removed]",
      "text/plain": [
       "<Figure size 432x288 with 1 Axes>"
      ]
     },
     "metadata": {
      "needs_background": "light"
     },
     "output_type": "display_data"
    }
   ],
   "source": [
    "unstable_detection = all_fdm.groupby('file').progress_apply(detect_flap_unstable)"
   ]
  },
  {
   "cell_type": "code",
   "execution_count": 232,
   "id": "0e705ba5",
   "metadata": {},
   "outputs": [
    {
     "data": {
      "text/html": [
       "<div>\n",
       "<style scoped>\n",
       "    .dataframe tbody tr th:only-of-type {\n",
       "        vertical-align: middle;\n",
       "    }\n",
       "\n",
       "    .dataframe tbody tr th {\n",
       "        vertical-align: top;\n",
       "    }\n",
       "\n",
       "    .dataframe thead th {\n",
       "        text-align: right;\n",
       "    }\n",
       "</style>\n",
       "<table border=\"1\" class=\"dataframe\">\n",
       "  <thead>\n",
       "    <tr style=\"text-align: right;\">\n",
       "      <th></th>\n",
       "      <th>flap</th>\n",
       "    </tr>\n",
       "    <tr>\n",
       "      <th>file</th>\n",
       "      <th></th>\n",
       "    </tr>\n",
       "  </thead>\n",
       "  <tbody>\n",
       "    <tr>\n",
       "      <th>686200104121245.csv</th>\n",
       "      <td>1</td>\n",
       "    </tr>\n",
       "    <tr>\n",
       "      <th>686200104121532.csv</th>\n",
       "      <td>1</td>\n",
       "    </tr>\n",
       "    <tr>\n",
       "      <th>686200104121825.csv</th>\n",
       "      <td>1</td>\n",
       "    </tr>\n",
       "    <tr>\n",
       "      <th>686200104130429.csv</th>\n",
       "      <td>1</td>\n",
       "    </tr>\n",
       "    <tr>\n",
       "      <th>686200104130652.csv</th>\n",
       "      <td>1</td>\n",
       "    </tr>\n",
       "  </tbody>\n",
       "</table>\n",
       "</div>"
      ],
      "text/plain": [
       "                     flap\n",
       "file                     \n",
       "686200104121245.csv     1\n",
       "686200104121532.csv     1\n",
       "686200104121825.csv     1\n",
       "686200104130429.csv     1\n",
       "686200104130652.csv     1"
      ]
     },
     "execution_count": 232,
     "metadata": {},
     "output_type": "execute_result"
    }
   ],
   "source": [
    "unstable_detection_df = pd.DataFrame(unstable_detection, columns=['flap'])\n",
    "unstable_detection_df.head()"
   ]
  },
  {
   "cell_type": "code",
   "execution_count": 233,
   "id": "30d9d8e8",
   "metadata": {},
   "outputs": [],
   "source": [
    "unstable_detection_df.to_csv(output_flap_file)"
   ]
  },
  {
   "cell_type": "markdown",
   "id": "23060814",
   "metadata": {},
   "source": [
    "# Param 2: Gamma"
   ]
  },
  {
   "attachments": {},
   "cell_type": "markdown",
   "id": "3881d5b5",
   "metadata": {},
   "source": [
    "### Parameter Function\n",
    "- Find gamma value using `gamma_rad = arcsin(hdot_1_mps/gs_mps)`\n",
    "- Convert rad to degree\n",
    "- up_bound = -1.0, lw_bound = -5.0"
   ]
  },
  {
   "cell_type": "code",
   "execution_count": 234,
   "id": "b354614c",
   "metadata": {},
   "outputs": [
    {
     "data": {
      "text/plain": [
       "56716      96.328890\n",
       "56720      96.071670\n",
       "56724      96.071670\n",
       "56728      95.943060\n",
       "56732      95.750145\n",
       "             ...    \n",
       "146332    109.511415\n",
       "146336    109.382805\n",
       "146340    109.318500\n",
       "146344    109.318500\n",
       "146348    109.189890\n",
       "Name: gs_mps, Length: 200, dtype: float64"
      ]
     },
     "execution_count": 234,
     "metadata": {},
     "output_type": "execute_result"
    }
   ],
   "source": [
    "all_fdm.gs_mps.dropna()"
   ]
  },
  {
   "cell_type": "code",
   "execution_count": 235,
   "id": "1547cd7c",
   "metadata": {},
   "outputs": [
    {
     "data": {
      "text/plain": [
       "56716     -3.73888\n",
       "56720     -3.49504\n",
       "56724     -3.41376\n",
       "56728     -3.25120\n",
       "56732     -3.41376\n",
       "            ...   \n",
       "146332   -11.46048\n",
       "146336   -11.05408\n",
       "146340   -11.37920\n",
       "146344   -10.89152\n",
       "146348   -11.05408\n",
       "Name: hdot_1_mps, Length: 200, dtype: float64"
      ]
     },
     "execution_count": 235,
     "metadata": {},
     "output_type": "execute_result"
    }
   ],
   "source": [
    "all_fdm.hdot_1_mps.dropna()"
   ]
  },
  {
   "cell_type": "code",
   "execution_count": 236,
   "id": "f14c8af1",
   "metadata": {},
   "outputs": [],
   "source": [
    "def detect_gamma_unstable(df):\n",
    "    \"\"\"\n",
    "    Return 1 if flight is unstable or 0 if flight is stable, based on gamma parameter.\n",
    "    gamma_rad = arcsin(hdot_1_mps/gs_mps)\n",
    "    Unstable if gamma_deg > -1.0 or gamma_deg < -5.0\n",
    "    \"\"\"\n",
    "    # Clean df\n",
    "    cleaned_gs_mps = df.gs_mps.dropna()\n",
    "    cleaned_hdot = df.hdot_1_mps.dropna()\n",
    "    \n",
    "    # Convert to gamma_deg\n",
    "    gamma_rad = np.arcsin(cleaned_hdot/cleaned_gs_mps)\n",
    "    gamma_deg = gamma_rad.map(math.degrees)\n",
    "    \n",
    "    # Flag unstable flight\n",
    "    gamma_flag = list((gamma_deg > -1) | (gamma_deg < -5))\n",
    "    \n",
    "    # Display plot\n",
    "    sns.lineplot(data=gamma_deg.reset_index(drop=True), lw=0.25, color='#1f77b4')\n",
    "    \n",
    "    # Determine unstable or stable\n",
    "    is_unstable = find_n_consecutive_flag(gamma_flag, 5)\n",
    "    return int(is_unstable)"
   ]
  },
  {
   "cell_type": "code",
   "execution_count": null,
   "id": "98dea119",
   "metadata": {},
   "outputs": [],
   "source": []
  },
  {
   "cell_type": "code",
   "execution_count": 237,
   "id": "bf31a220",
   "metadata": {},
   "outputs": [
    {
     "data": {
      "text/plain": [
       "array([ 0.        ,  0.01098633,  0.02197267,  0.02197076,  0.032959  ,\n",
       "        0.03295709,  0.06591609,  0.06591609,  0.04394342,  0.02197267,\n",
       "        0.        , -0.02197267, -0.03295709, -0.04394342, -0.04394533,\n",
       "       -0.05492976, -0.04394342, -0.04394342, -0.04394533, -0.04394342,\n",
       "       -0.02197267, -0.02197076, -0.02197267,  0.01098633,  0.        ,\n",
       "        0.02197076,  0.02197267,  0.02197267,  0.02197076,  0.032959  ,\n",
       "        0.01098633,  0.01098633,  0.01098443,  0.        ,  0.        ,\n",
       "       -0.01098443, -0.01098633, -0.01098633, -0.02197267, -0.01098633,\n",
       "       -0.01098443, -0.01098633, -0.01098633, -0.01098633,  0.        ,\n",
       "        0.        ,  0.01098633,  0.01098633,  0.02197076,  0.032959  ,\n",
       "        0.04394342,  0.032959  ,  0.03295709,  0.02197267,  0.03295709,\n",
       "        0.02197267,  0.01098633,  0.        ,  0.        ,  0.        ,\n",
       "       -0.01098633,  0.        ,  0.01098633,  0.01098633,  0.02197076,\n",
       "        0.01098633,  0.02197267,  0.01098633,  0.01098443,  0.01098633,\n",
       "       -0.01098633, -0.02197076, -0.02197267, -0.01098633, -0.02197076,\n",
       "       -0.02197267, -0.02197267, -0.04394342, -0.05492976])"
      ]
     },
     "execution_count": 237,
     "metadata": {},
     "output_type": "execute_result"
    }
   ],
   "source": [
    "a"
   ]
  },
  {
   "cell_type": "code",
   "execution_count": 238,
   "id": "898811d9",
   "metadata": {},
   "outputs": [
    {
     "data": {
      "text/plain": [
       "0"
      ]
     },
     "execution_count": 238,
     "metadata": {},
     "output_type": "execute_result"
    },
    {
     "data": {
      "image/png": "[encoded data removed]",
      "text/plain": [
       "<Figure size 432x288 with 1 Axes>"
      ]
     },
     "metadata": {
      "needs_background": "light"
     },
     "output_type": "display_data"
    }
   ],
   "source": [
    "detect_gamma_unstable(all_fdm[all_fdm['file'] == '686200104121825.csv'])"
   ]
  },
  {
   "cell_type": "code",
   "execution_count": 239,
   "id": "f1d0ee1e",
   "metadata": {},
   "outputs": [
    {
     "name": "stderr",
     "output_type": "stream",
     "text": [
      "100%|██████████| 5/5 [00:00<00:00, 22.91it/s]\n"
     ]
    },
    {
     "data": {
      "image/png": "[encoded data removed]",
      "text/plain": [
       "<Figure size 432x288 with 1 Axes>"
      ]
     },
     "metadata": {
      "needs_background": "light"
     },
     "output_type": "display_data"
    }
   ],
   "source": [
    "unstable_gamma_detection = all_fdm.groupby('file').progress_apply(detect_gamma_unstable)"
   ]
  },
  {
   "cell_type": "code",
   "execution_count": 240,
   "id": "6ce86fdf",
   "metadata": {},
   "outputs": [
    {
     "data": {
      "text/plain": [
       "1"
      ]
     },
     "execution_count": 240,
     "metadata": {},
     "output_type": "execute_result"
    },
    {
     "data": {
      "image/png": "[encoded data removed]",
      "text/plain": [
       "<Figure size 432x288 with 1 Axes>"
      ]
     },
     "metadata": {
      "needs_background": "light"
     },
     "output_type": "display_data"
    }
   ],
   "source": [
    "detect_gamma_unstable(all_fdm)"
   ]
  },
  {
   "cell_type": "code",
   "execution_count": 241,
   "id": "a1966635",
   "metadata": {},
   "outputs": [
    {
     "data": {
      "text/html": [
       "<div>\n",
       "<style scoped>\n",
       "    .dataframe tbody tr th:only-of-type {\n",
       "        vertical-align: middle;\n",
       "    }\n",
       "\n",
       "    .dataframe tbody tr th {\n",
       "        vertical-align: top;\n",
       "    }\n",
       "\n",
       "    .dataframe thead th {\n",
       "        text-align: right;\n",
       "    }\n",
       "</style>\n",
       "<table border=\"1\" class=\"dataframe\">\n",
       "  <thead>\n",
       "    <tr style=\"text-align: right;\">\n",
       "      <th></th>\n",
       "      <th>flap</th>\n",
       "      <th>gamma</th>\n",
       "    </tr>\n",
       "    <tr>\n",
       "      <th>file</th>\n",
       "      <th></th>\n",
       "      <th></th>\n",
       "    </tr>\n",
       "  </thead>\n",
       "  <tbody>\n",
       "    <tr>\n",
       "      <th>686200104121245.csv</th>\n",
       "      <td>1</td>\n",
       "      <td>0</td>\n",
       "    </tr>\n",
       "    <tr>\n",
       "      <th>686200104121532.csv</th>\n",
       "      <td>1</td>\n",
       "      <td>1</td>\n",
       "    </tr>\n",
       "    <tr>\n",
       "      <th>686200104121825.csv</th>\n",
       "      <td>1</td>\n",
       "      <td>0</td>\n",
       "    </tr>\n",
       "    <tr>\n",
       "      <th>686200104130429.csv</th>\n",
       "      <td>1</td>\n",
       "      <td>0</td>\n",
       "    </tr>\n",
       "    <tr>\n",
       "      <th>686200104130652.csv</th>\n",
       "      <td>1</td>\n",
       "      <td>1</td>\n",
       "    </tr>\n",
       "  </tbody>\n",
       "</table>\n",
       "</div>"
      ],
      "text/plain": [
       "                     flap  gamma\n",
       "file                            \n",
       "686200104121245.csv     1      0\n",
       "686200104121532.csv     1      1\n",
       "686200104121825.csv     1      0\n",
       "686200104130429.csv     1      0\n",
       "686200104130652.csv     1      1"
      ]
     },
     "execution_count": 241,
     "metadata": {},
     "output_type": "execute_result"
    }
   ],
   "source": [
    "unstable_detection_df['gamma'] = unstable_gamma_detection\n",
    "unstable_detection_df"
   ]
  },
  {
   "cell_type": "code",
   "execution_count": null,
   "id": "2c8b4fd6",
   "metadata": {},
   "outputs": [],
   "source": []
  },
  {
   "cell_type": "markdown",
   "id": "276088de",
   "metadata": {},
   "source": [
    "# Param 3: Glide Slope\n",
    "- Convert `gs_dev_ddm` to dot using `gs_dev_ddm * 1.0 / 0.0875`\n",
    "- max_gs_dev_dot = 1, min_gs_dev_dot = -1"
   ]
  },
  {
   "cell_type": "markdown",
   "id": "41792806",
   "metadata": {},
   "source": [
    "\n",
    "- Convert `gs_dev_ddm` to dot using `gs_dev_ddm * 1.0 / 0.0875`\n",
    "- max_gs_dev_dot = 1, min_gs_dev_dot = -1"
   ]
  },
  {
   "cell_type": "code",
   "execution_count": 242,
   "id": "e9e082a4",
   "metadata": {},
   "outputs": [],
   "source": [
    "def detect_glide_slope_unstable(df):\n",
    "    \"\"\"\n",
    "    Return 1 if flight is unstable or 0 if flight is stable, based on gs_dev_ddm.\n",
    "    gs_dev_dot = gs_dev_ddm * ( 1 / 0.0875)\n",
    "    Unstable if gs_dev_dot > 1 or gs_dev_dot < -1\n",
    "    \"\"\"\n",
    "    # Clean df\n",
    "    cleaned_gs_dev_ddm = df.gs_dev_ddm.dropna()\n",
    "    \n",
    "    # Convert ddm to dot\n",
    "    ddm_to_dot = 1.0 / 0.0875\n",
    "    gs_dev_dot = cleaned_gs_dev_ddm * ddm_to_dot\n",
    "    \n",
    "    # Flag unstable flight\n",
    "    unstable_flag = list((gs_dev_dot > 1) | (gs_dev_dot < -1))\n",
    "\n",
    "    # Determine unstable or stable\n",
    "    is_unstable = find_n_consecutive_flag(unstable_flag, 5)\n",
    "    \n",
    "    # Display plot\n",
    "    line_color = 'red' if is_unstable else '#1f77b4'\n",
    "    sns.lineplot(data=gs_dev_dot.reset_index(drop=True), lw=0.25, color=line_color)\n",
    "    \n",
    "    return int(is_unstable)"
   ]
  },
  {
   "cell_type": "code",
   "execution_count": 243,
   "id": "a3f167ef",
   "metadata": {},
   "outputs": [
    {
     "data": {
      "text/plain": [
       "1"
      ]
     },
     "execution_count": 243,
     "metadata": {},
     "output_type": "execute_result"
    },
    {
     "data": {
      "image/png": "[encoded data removed]",
      "text/plain": [
       "<Figure size 432x288 with 1 Axes>"
      ]
     },
     "metadata": {
      "needs_background": "light"
     },
     "output_type": "display_data"
    }
   ],
   "source": [
    "sample_df = all_fdm[all_fdm['file'] == '686200104121825.csv']\n",
    "detect_glide_slope_unstable(sample_df)"
   ]
  },
  {
   "cell_type": "code",
   "execution_count": 244,
   "id": "d32a020a",
   "metadata": {},
   "outputs": [
    {
     "name": "stderr",
     "output_type": "stream",
     "text": [
      "100%|██████████| 5/5 [00:00<00:00, 38.47it/s]\n"
     ]
    },
    {
     "data": {
      "text/html": [
       "<div>\n",
       "<style scoped>\n",
       "    .dataframe tbody tr th:only-of-type {\n",
       "        vertical-align: middle;\n",
       "    }\n",
       "\n",
       "    .dataframe tbody tr th {\n",
       "        vertical-align: top;\n",
       "    }\n",
       "\n",
       "    .dataframe thead th {\n",
       "        text-align: right;\n",
       "    }\n",
       "</style>\n",
       "<table border=\"1\" class=\"dataframe\">\n",
       "  <thead>\n",
       "    <tr style=\"text-align: right;\">\n",
       "      <th></th>\n",
       "      <th>flap</th>\n",
       "      <th>gamma</th>\n",
       "      <th>glide</th>\n",
       "    </tr>\n",
       "    <tr>\n",
       "      <th>file</th>\n",
       "      <th></th>\n",
       "      <th></th>\n",
       "      <th></th>\n",
       "    </tr>\n",
       "  </thead>\n",
       "  <tbody>\n",
       "    <tr>\n",
       "      <th>686200104121245.csv</th>\n",
       "      <td>1</td>\n",
       "      <td>0</td>\n",
       "      <td>1</td>\n",
       "    </tr>\n",
       "    <tr>\n",
       "      <th>686200104121532.csv</th>\n",
       "      <td>1</td>\n",
       "      <td>1</td>\n",
       "      <td>0</td>\n",
       "    </tr>\n",
       "    <tr>\n",
       "      <th>686200104121825.csv</th>\n",
       "      <td>1</td>\n",
       "      <td>0</td>\n",
       "      <td>1</td>\n",
       "    </tr>\n",
       "    <tr>\n",
       "      <th>686200104130429.csv</th>\n",
       "      <td>1</td>\n",
       "      <td>0</td>\n",
       "      <td>1</td>\n",
       "    </tr>\n",
       "    <tr>\n",
       "      <th>686200104130652.csv</th>\n",
       "      <td>1</td>\n",
       "      <td>1</td>\n",
       "      <td>0</td>\n",
       "    </tr>\n",
       "  </tbody>\n",
       "</table>\n",
       "</div>"
      ],
      "text/plain": [
       "                     flap  gamma  glide\n",
       "file                                   \n",
       "686200104121245.csv     1      0      1\n",
       "686200104121532.csv     1      1      0\n",
       "686200104121825.csv     1      0      1\n",
       "686200104130429.csv     1      0      1\n",
       "686200104130652.csv     1      1      0"
      ]
     },
     "execution_count": 244,
     "metadata": {},
     "output_type": "execute_result"
    },
    {
     "data": {
      "image/png": "[encoded data removed]",
      "text/plain": [
       "<Figure size 432x288 with 1 Axes>"
      ]
     },
     "metadata": {
      "needs_background": "light"
     },
     "output_type": "display_data"
    }
   ],
   "source": [
    "unstable_glide_detection = all_fdm.groupby('file').progress_apply(detect_glide_slope_unstable)\n",
    "unstable_detection_df['glide'] = unstable_glide_detection\n",
    "unstable_detection_df"
   ]
  },
  {
   "cell_type": "code",
   "execution_count": 245,
   "id": "b02ffa25",
   "metadata": {},
   "outputs": [
    {
     "data": {
      "text/html": [
       "<div>\n",
       "<style scoped>\n",
       "    .dataframe tbody tr th:only-of-type {\n",
       "        vertical-align: middle;\n",
       "    }\n",
       "\n",
       "    .dataframe tbody tr th {\n",
       "        vertical-align: top;\n",
       "    }\n",
       "\n",
       "    .dataframe thead th {\n",
       "        text-align: right;\n",
       "    }\n",
       "</style>\n",
       "<table border=\"1\" class=\"dataframe\">\n",
       "  <thead>\n",
       "    <tr style=\"text-align: right;\">\n",
       "      <th></th>\n",
       "      <th>flap</th>\n",
       "      <th>gamma</th>\n",
       "      <th>glide</th>\n",
       "    </tr>\n",
       "    <tr>\n",
       "      <th>file</th>\n",
       "      <th></th>\n",
       "      <th></th>\n",
       "      <th></th>\n",
       "    </tr>\n",
       "  </thead>\n",
       "  <tbody>\n",
       "    <tr>\n",
       "      <th>686200104121245.csv</th>\n",
       "      <td>1</td>\n",
       "      <td>0</td>\n",
       "      <td>1</td>\n",
       "    </tr>\n",
       "    <tr>\n",
       "      <th>686200104121532.csv</th>\n",
       "      <td>1</td>\n",
       "      <td>1</td>\n",
       "      <td>0</td>\n",
       "    </tr>\n",
       "    <tr>\n",
       "      <th>686200104121825.csv</th>\n",
       "      <td>1</td>\n",
       "      <td>0</td>\n",
       "      <td>1</td>\n",
       "    </tr>\n",
       "    <tr>\n",
       "      <th>686200104130429.csv</th>\n",
       "      <td>1</td>\n",
       "      <td>0</td>\n",
       "      <td>1</td>\n",
       "    </tr>\n",
       "    <tr>\n",
       "      <th>686200104130652.csv</th>\n",
       "      <td>1</td>\n",
       "      <td>1</td>\n",
       "      <td>0</td>\n",
       "    </tr>\n",
       "  </tbody>\n",
       "</table>\n",
       "</div>"
      ],
      "text/plain": [
       "                     flap  gamma  glide\n",
       "file                                   \n",
       "686200104121245.csv     1      0      1\n",
       "686200104121532.csv     1      1      0\n",
       "686200104121825.csv     1      0      1\n",
       "686200104130429.csv     1      0      1\n",
       "686200104130652.csv     1      1      0"
      ]
     },
     "execution_count": 245,
     "metadata": {},
     "output_type": "execute_result"
    }
   ],
   "source": [
    "unstable_detection_df['glide'] = unstable_glide_detection\n",
    "unstable_detection_df"
   ]
  },
  {
   "cell_type": "markdown",
   "id": "60d62d17",
   "metadata": {},
   "source": [
    "# Param 4: Altitude Rate\n",
    "- max_hdot_mps = -5.08"
   ]
  },
  {
   "cell_type": "code",
   "execution_count": 246,
   "id": "557a8c4c",
   "metadata": {},
   "outputs": [],
   "source": [
    "def detect_altitude_unstable(df):\n",
    "    \"\"\"\n",
    "    Return 1 if flight is unstable or 0 if flight is stable, based on hdot_1_mps.\n",
    "    Unstable if hdot_1_mps > -5.08\n",
    "    \"\"\"\n",
    "    # Clean df\n",
    "    cleaned_hdot_1_mps = df.hdot_1_mps.dropna()\n",
    "    \n",
    "    # Flag unstable flight\n",
    "    unstable_flag = list(cleaned_hdot_1_mps > -5.08)\n",
    "\n",
    "    # Determine unstable or stable\n",
    "    is_unstable = find_n_consecutive_flag(unstable_flag, 5)\n",
    "    \n",
    "    # Display plot\n",
    "    line_color = 'red' if is_unstable else '#1f77b4'\n",
    "    sns.lineplot(data=cleaned_hdot_1_mps.reset_index(drop=True), lw=0.25, color=line_color)\n",
    "    \n",
    "    return int(is_unstable)"
   ]
  },
  {
   "cell_type": "code",
   "execution_count": 247,
   "id": "e088918b",
   "metadata": {
    "scrolled": true
   },
   "outputs": [
    {
     "data": {
      "text/plain": [
       "1"
      ]
     },
     "execution_count": 247,
     "metadata": {},
     "output_type": "execute_result"
    },
    {
     "data": {
      "image/png": "[encoded data removed]",
      "text/plain": [
       "<Figure size 432x288 with 1 Axes>"
      ]
     },
     "metadata": {
      "needs_background": "light"
     },
     "output_type": "display_data"
    }
   ],
   "source": [
    "sample_df = all_fdm[all_fdm['file'] == '686200104121825.csv']\n",
    "detect_altitude_unstable(sample_df)"
   ]
  },
  {
   "cell_type": "code",
   "execution_count": 248,
   "id": "daafd79e",
   "metadata": {},
   "outputs": [
    {
     "data": {
      "text/plain": [
       "Index(['hbaro_m', 'hdot_1_mps', 'flap_te_pos', 'gs_dev_ddm', 'gs_mps',\n",
       "       'loc_dev_ddm', 'lg_squat_mr', 'n11_rpm', 'n12_rpm', 'n13_rpm',\n",
       "       'n14_rpm', 'theta_rad', 'hralt_m', 'tas_mps', 'chi_rad', 'file'],\n",
       "      dtype='object')"
      ]
     },
     "execution_count": 248,
     "metadata": {},
     "output_type": "execute_result"
    }
   ],
   "source": [
    "sample_df.columns"
   ]
  },
  {
   "cell_type": "code",
   "execution_count": 249,
   "id": "845f13ee",
   "metadata": {},
   "outputs": [
    {
     "name": "stderr",
     "output_type": "stream",
     "text": [
      "100%|██████████| 5/5 [00:00<00:00, 41.00it/s]\n"
     ]
    },
    {
     "data": {
      "text/html": [
       "<div>\n",
       "<style scoped>\n",
       "    .dataframe tbody tr th:only-of-type {\n",
       "        vertical-align: middle;\n",
       "    }\n",
       "\n",
       "    .dataframe tbody tr th {\n",
       "        vertical-align: top;\n",
       "    }\n",
       "\n",
       "    .dataframe thead th {\n",
       "        text-align: right;\n",
       "    }\n",
       "</style>\n",
       "<table border=\"1\" class=\"dataframe\">\n",
       "  <thead>\n",
       "    <tr style=\"text-align: right;\">\n",
       "      <th></th>\n",
       "      <th>flap</th>\n",
       "      <th>gamma</th>\n",
       "      <th>glide</th>\n",
       "      <th>altitude</th>\n",
       "    </tr>\n",
       "    <tr>\n",
       "      <th>file</th>\n",
       "      <th></th>\n",
       "      <th></th>\n",
       "      <th></th>\n",
       "      <th></th>\n",
       "    </tr>\n",
       "  </thead>\n",
       "  <tbody>\n",
       "    <tr>\n",
       "      <th>686200104121245.csv</th>\n",
       "      <td>1</td>\n",
       "      <td>0</td>\n",
       "      <td>1</td>\n",
       "      <td>0</td>\n",
       "    </tr>\n",
       "    <tr>\n",
       "      <th>686200104121532.csv</th>\n",
       "      <td>1</td>\n",
       "      <td>1</td>\n",
       "      <td>0</td>\n",
       "      <td>1</td>\n",
       "    </tr>\n",
       "    <tr>\n",
       "      <th>686200104121825.csv</th>\n",
       "      <td>1</td>\n",
       "      <td>0</td>\n",
       "      <td>1</td>\n",
       "      <td>1</td>\n",
       "    </tr>\n",
       "    <tr>\n",
       "      <th>686200104130429.csv</th>\n",
       "      <td>1</td>\n",
       "      <td>0</td>\n",
       "      <td>1</td>\n",
       "      <td>1</td>\n",
       "    </tr>\n",
       "    <tr>\n",
       "      <th>686200104130652.csv</th>\n",
       "      <td>1</td>\n",
       "      <td>1</td>\n",
       "      <td>0</td>\n",
       "      <td>0</td>\n",
       "    </tr>\n",
       "  </tbody>\n",
       "</table>\n",
       "</div>"
      ],
      "text/plain": [
       "                     flap  gamma  glide  altitude\n",
       "file                                             \n",
       "686200104121245.csv     1      0      1         0\n",
       "686200104121532.csv     1      1      0         1\n",
       "686200104121825.csv     1      0      1         1\n",
       "686200104130429.csv     1      0      1         1\n",
       "686200104130652.csv     1      1      0         0"
      ]
     },
     "execution_count": 249,
     "metadata": {},
     "output_type": "execute_result"
    },
    {
     "data": {
      "image/png": "[encoded data removed]",
      "text/plain": [
       "<Figure size 432x288 with 1 Axes>"
      ]
     },
     "metadata": {
      "needs_background": "light"
     },
     "output_type": "display_data"
    }
   ],
   "source": [
    "unstable_altitude_detection = all_fdm.groupby('file').progress_apply(detect_altitude_unstable)\n",
    "unstable_detection_df['altitude'] = unstable_altitude_detection\n",
    "unstable_detection_df"
   ]
  },
  {
   "attachments": {},
   "cell_type": "markdown",
   "id": "5d12e877",
   "metadata": {},
   "source": [
    "# Param 5: Localizer\n",
    "- Using `loc_dev_ddm`\n",
    "- Convert ddm to dot\n",
    "- max_loc_dev_dot = 1"
   ]
  },
  {
   "cell_type": "code",
   "execution_count": 250,
   "id": "76ba7358",
   "metadata": {},
   "outputs": [],
   "source": [
    "def detect_localizer_unstable(df):\n",
    "    \"\"\"\n",
    "    Return 1 if flight is unstable or 0 if flight is stable, based on loc_dev_ddm.\n",
    "    loc_dev_dot = loc_dev_ddm * (1 / 0.0875)\n",
    "    Unstable if loc_dev_dot > 1 or loc_dev_dot < -1\n",
    "    \"\"\"\n",
    "    # Clean df\n",
    "    cleaned_loc_dev_ddm = df.loc_dev_ddm.dropna()\n",
    "    \n",
    "    # Convert ddm to dot\n",
    "    ddm_to_dot = 1.0 / 0.0875\n",
    "    loc_dev_dot = cleaned_loc_dev_ddm * ddm_to_dot\n",
    "    \n",
    "    # Flag unstable flight\n",
    "    unstable_flag = list((loc_dev_dot > 1) | (loc_dev_dot < -1))\n",
    "\n",
    "    # Determine unstable or stable\n",
    "    is_unstable = find_n_consecutive_flag(unstable_flag, 5)\n",
    "    \n",
    "    # Display plot\n",
    "    line_color = 'red' if is_unstable else '#1f77b4'\n",
    "    sns.lineplot(data=loc_dev_dot.reset_index(drop=True), lw=0.25, color=line_color)\n",
    "    \n",
    "    return int(is_unstable)"
   ]
  },
  {
   "cell_type": "code",
   "execution_count": 251,
   "id": "b24363c8",
   "metadata": {
    "scrolled": true
   },
   "outputs": [
    {
     "data": {
      "text/plain": [
       "1"
      ]
     },
     "execution_count": 251,
     "metadata": {},
     "output_type": "execute_result"
    },
    {
     "data": {
      "image/png": "[encoded data removed]",
      "text/plain": [
       "<Figure size 432x288 with 1 Axes>"
      ]
     },
     "metadata": {
      "needs_background": "light"
     },
     "output_type": "display_data"
    }
   ],
   "source": [
    "sample_df = all_fdm[all_fdm['file'] == '686200104121825.csv']\n",
    "detect_localizer_unstable(sample_df)"
   ]
  },
  {
   "cell_type": "code",
   "execution_count": 252,
   "id": "a25acde7",
   "metadata": {},
   "outputs": [
    {
     "name": "stderr",
     "output_type": "stream",
     "text": [
      "100%|██████████| 5/5 [00:00<00:00, 45.87it/s]\n"
     ]
    },
    {
     "data": {
      "text/html": [
       "<div>\n",
       "<style scoped>\n",
       "    .dataframe tbody tr th:only-of-type {\n",
       "        vertical-align: middle;\n",
       "    }\n",
       "\n",
       "    .dataframe tbody tr th {\n",
       "        vertical-align: top;\n",
       "    }\n",
       "\n",
       "    .dataframe thead th {\n",
       "        text-align: right;\n",
       "    }\n",
       "</style>\n",
       "<table border=\"1\" class=\"dataframe\">\n",
       "  <thead>\n",
       "    <tr style=\"text-align: right;\">\n",
       "      <th></th>\n",
       "      <th>flap</th>\n",
       "      <th>gamma</th>\n",
       "      <th>glide</th>\n",
       "      <th>altitude</th>\n",
       "      <th>localizer</th>\n",
       "    </tr>\n",
       "    <tr>\n",
       "      <th>file</th>\n",
       "      <th></th>\n",
       "      <th></th>\n",
       "      <th></th>\n",
       "      <th></th>\n",
       "      <th></th>\n",
       "    </tr>\n",
       "  </thead>\n",
       "  <tbody>\n",
       "    <tr>\n",
       "      <th>686200104121245.csv</th>\n",
       "      <td>1</td>\n",
       "      <td>0</td>\n",
       "      <td>1</td>\n",
       "      <td>0</td>\n",
       "      <td>1</td>\n",
       "    </tr>\n",
       "    <tr>\n",
       "      <th>686200104121532.csv</th>\n",
       "      <td>1</td>\n",
       "      <td>1</td>\n",
       "      <td>0</td>\n",
       "      <td>1</td>\n",
       "      <td>1</td>\n",
       "    </tr>\n",
       "    <tr>\n",
       "      <th>686200104121825.csv</th>\n",
       "      <td>1</td>\n",
       "      <td>0</td>\n",
       "      <td>1</td>\n",
       "      <td>1</td>\n",
       "      <td>1</td>\n",
       "    </tr>\n",
       "    <tr>\n",
       "      <th>686200104130429.csv</th>\n",
       "      <td>1</td>\n",
       "      <td>0</td>\n",
       "      <td>1</td>\n",
       "      <td>1</td>\n",
       "      <td>1</td>\n",
       "    </tr>\n",
       "    <tr>\n",
       "      <th>686200104130652.csv</th>\n",
       "      <td>1</td>\n",
       "      <td>1</td>\n",
       "      <td>0</td>\n",
       "      <td>0</td>\n",
       "      <td>1</td>\n",
       "    </tr>\n",
       "  </tbody>\n",
       "</table>\n",
       "</div>"
      ],
      "text/plain": [
       "                     flap  gamma  glide  altitude  localizer\n",
       "file                                                        \n",
       "686200104121245.csv     1      0      1         0          1\n",
       "686200104121532.csv     1      1      0         1          1\n",
       "686200104121825.csv     1      0      1         1          1\n",
       "686200104130429.csv     1      0      1         1          1\n",
       "686200104130652.csv     1      1      0         0          1"
      ]
     },
     "execution_count": 252,
     "metadata": {},
     "output_type": "execute_result"
    },
    {
     "data": {
      "image/png": "[encoded data removed]",
      "text/plain": [
       "<Figure size 432x288 with 1 Axes>"
      ]
     },
     "metadata": {
      "needs_background": "light"
     },
     "output_type": "display_data"
    }
   ],
   "source": [
    "unstable_localizer_detection = all_fdm.groupby('file').progress_apply(detect_localizer_unstable)\n",
    "unstable_detection_df['localizer'] = unstable_localizer_detection\n",
    "unstable_detection_df"
   ]
  },
  {
   "cell_type": "markdown",
   "id": "30a98790",
   "metadata": {},
   "source": [
    "# Param 6: Thrust\n",
    "- Using n1_rpm value: `n1_rpm = (n11_rpm + n12_rpm + n13_rpm + n14_rpm) / 4`\n",
    "- min_r1_rpm = 30"
   ]
  },
  {
   "cell_type": "code",
   "execution_count": 253,
   "id": "50187e95",
   "metadata": {},
   "outputs": [
    {
     "data": {
      "text/plain": [
       "Index(['hbaro_m', 'hdot_1_mps', 'flap_te_pos', 'gs_dev_ddm', 'gs_mps',\n",
       "       'loc_dev_ddm', 'lg_squat_mr', 'n11_rpm', 'n12_rpm', 'n13_rpm',\n",
       "       'n14_rpm', 'theta_rad', 'hralt_m', 'tas_mps', 'chi_rad', 'file'],\n",
       "      dtype='object')"
      ]
     },
     "execution_count": 253,
     "metadata": {},
     "output_type": "execute_result"
    }
   ],
   "source": [
    "sample_df.columns"
   ]
  },
  {
   "cell_type": "code",
   "execution_count": 254,
   "id": "f190ead9",
   "metadata": {},
   "outputs": [],
   "source": [
    "def detect_thrust_unstable(df):\n",
    "    \"\"\"\n",
    "    Return 1 if flight is unstable or 0 if flight is stable, based on n1_rpm.\n",
    "    n1_rpm = (n11_rpm + n12_rpm + n13_rpm + n14_rpm) / 4\n",
    "    Unstable if n1_rpm < 30\n",
    "    \"\"\"\n",
    "    # Clean df\n",
    "    cleaned_n11_rpm = df.n11_rpm.dropna()\n",
    "    cleaned_n12_rpm = df.n12_rpm.dropna()\n",
    "    cleaned_n13_rpm = df.n13_rpm.dropna()\n",
    "    cleaned_n14_rpm = df.n14_rpm.dropna()\n",
    "    \n",
    "    # Find n1_rpm\n",
    "    n1_rpm = (cleaned_n11_rpm + cleaned_n12_rpm + cleaned_n13_rpm + cleaned_n14_rpm) / 4\n",
    "    \n",
    "    # Flag unstable flight\n",
    "    unstable_flag = list(n1_rpm < 30)\n",
    "\n",
    "    # Determine unstable or stable\n",
    "    is_unstable = find_n_consecutive_flag(unstable_flag, 5)\n",
    "    \n",
    "    # Display plot\n",
    "    line_color = 'red' if is_unstable else '#1f77b4'\n",
    "    sns.lineplot(data=n1_rpm.reset_index(drop=True), lw=0.25, color=line_color)\n",
    "    \n",
    "    return int(is_unstable)"
   ]
  },
  {
   "cell_type": "code",
   "execution_count": 255,
   "id": "3e286122",
   "metadata": {},
   "outputs": [
    {
     "data": {
      "text/plain": [
       "0"
      ]
     },
     "execution_count": 255,
     "metadata": {},
     "output_type": "execute_result"
    },
    {
     "data": {
      "image/png": "[encoded data removed]",
      "text/plain": [
       "<Figure size 432x288 with 1 Axes>"
      ]
     },
     "metadata": {
      "needs_background": "light"
     },
     "output_type": "display_data"
    }
   ],
   "source": [
    "sample_df = all_fdm[all_fdm['file'] == '686200104121825.csv']\n",
    "detect_thrust_unstable(sample_df)"
   ]
  },
  {
   "cell_type": "code",
   "execution_count": 256,
   "id": "bb7c73ab",
   "metadata": {},
   "outputs": [
    {
     "name": "stderr",
     "output_type": "stream",
     "text": [
      "100%|██████████| 5/5 [00:00<00:00, 25.50it/s]\n"
     ]
    },
    {
     "data": {
      "text/html": [
       "<div>\n",
       "<style scoped>\n",
       "    .dataframe tbody tr th:only-of-type {\n",
       "        vertical-align: middle;\n",
       "    }\n",
       "\n",
       "    .dataframe tbody tr th {\n",
       "        vertical-align: top;\n",
       "    }\n",
       "\n",
       "    .dataframe thead th {\n",
       "        text-align: right;\n",
       "    }\n",
       "</style>\n",
       "<table border=\"1\" class=\"dataframe\">\n",
       "  <thead>\n",
       "    <tr style=\"text-align: right;\">\n",
       "      <th></th>\n",
       "      <th>flap</th>\n",
       "      <th>gamma</th>\n",
       "      <th>glide</th>\n",
       "      <th>altitude</th>\n",
       "      <th>localizer</th>\n",
       "      <th>thrust</th>\n",
       "    </tr>\n",
       "    <tr>\n",
       "      <th>file</th>\n",
       "      <th></th>\n",
       "      <th></th>\n",
       "      <th></th>\n",
       "      <th></th>\n",
       "      <th></th>\n",
       "      <th></th>\n",
       "    </tr>\n",
       "  </thead>\n",
       "  <tbody>\n",
       "    <tr>\n",
       "      <th>686200104121245.csv</th>\n",
       "      <td>1</td>\n",
       "      <td>0</td>\n",
       "      <td>1</td>\n",
       "      <td>0</td>\n",
       "      <td>1</td>\n",
       "      <td>0</td>\n",
       "    </tr>\n",
       "    <tr>\n",
       "      <th>686200104121532.csv</th>\n",
       "      <td>1</td>\n",
       "      <td>1</td>\n",
       "      <td>0</td>\n",
       "      <td>1</td>\n",
       "      <td>1</td>\n",
       "      <td>0</td>\n",
       "    </tr>\n",
       "    <tr>\n",
       "      <th>686200104121825.csv</th>\n",
       "      <td>1</td>\n",
       "      <td>0</td>\n",
       "      <td>1</td>\n",
       "      <td>1</td>\n",
       "      <td>1</td>\n",
       "      <td>0</td>\n",
       "    </tr>\n",
       "    <tr>\n",
       "      <th>686200104130429.csv</th>\n",
       "      <td>1</td>\n",
       "      <td>0</td>\n",
       "      <td>1</td>\n",
       "      <td>1</td>\n",
       "      <td>1</td>\n",
       "      <td>0</td>\n",
       "    </tr>\n",
       "    <tr>\n",
       "      <th>686200104130652.csv</th>\n",
       "      <td>1</td>\n",
       "      <td>1</td>\n",
       "      <td>0</td>\n",
       "      <td>0</td>\n",
       "      <td>1</td>\n",
       "      <td>0</td>\n",
       "    </tr>\n",
       "  </tbody>\n",
       "</table>\n",
       "</div>"
      ],
      "text/plain": [
       "                     flap  gamma  glide  altitude  localizer  thrust\n",
       "file                                                                \n",
       "686200104121245.csv     1      0      1         0          1       0\n",
       "686200104121532.csv     1      1      0         1          1       0\n",
       "686200104121825.csv     1      0      1         1          1       0\n",
       "686200104130429.csv     1      0      1         1          1       0\n",
       "686200104130652.csv     1      1      0         0          1       0"
      ]
     },
     "execution_count": 256,
     "metadata": {},
     "output_type": "execute_result"
    },
    {
     "data": {
      "image/png": "[encoded data removed]",
      "text/plain": [
       "<Figure size 432x288 with 1 Axes>"
      ]
     },
     "metadata": {
      "needs_background": "light"
     },
     "output_type": "display_data"
    }
   ],
   "source": [
    "unstable_thrust_detection = all_fdm.groupby('file').progress_apply(detect_thrust_unstable)\n",
    "unstable_detection_df['thrust'] = unstable_thrust_detection\n",
    "unstable_detection_df"
   ]
  },
  {
   "attachments": {},
   "cell_type": "markdown",
   "id": "7aef02b4",
   "metadata": {},
   "source": [
    "# Param 7: True Airspeed\n",
    "- Column: tas_mps\n",
    "- For B747: min_tas_mps = 72.5 m/s & max_tas_mps = 82.8 m/s"
   ]
  },
  {
   "cell_type": "code",
   "execution_count": 257,
   "id": "13fb6948",
   "metadata": {},
   "outputs": [
    {
     "data": {
      "text/plain": [
       "Index(['hbaro_m', 'hdot_1_mps', 'flap_te_pos', 'gs_dev_ddm', 'gs_mps',\n",
       "       'loc_dev_ddm', 'lg_squat_mr', 'n11_rpm', 'n12_rpm', 'n13_rpm',\n",
       "       'n14_rpm', 'theta_rad', 'hralt_m', 'tas_mps', 'chi_rad', 'file'],\n",
       "      dtype='object')"
      ]
     },
     "execution_count": 257,
     "metadata": {},
     "output_type": "execute_result"
    }
   ],
   "source": [
    "sample_df.columns"
   ]
  },
  {
   "cell_type": "code",
   "execution_count": 258,
   "id": "63014a83",
   "metadata": {},
   "outputs": [],
   "source": [
    "def detect_airspeed_unstable(df):\n",
    "    \"\"\"\n",
    "    Return 1 if flight is unstable or 0 if flight is stable, based on tas_mps.\n",
    "    for B747: unstable if tas_mps < 72.5 or tas_mps > 82.8\n",
    "    \"\"\"\n",
    "    # Clean df\n",
    "    cleaned_tas_mps = df.tas_mps.dropna()\n",
    "    \n",
    "    # Flag unstable flight\n",
    "    unstable_flag = list((cleaned_tas_mps < 72.5) | (cleaned_tas_mps > 82.8))\n",
    "\n",
    "    # Determine unstable or stable\n",
    "    is_unstable = find_n_consecutive_flag(unstable_flag, 5)\n",
    "    \n",
    "    # Display plot\n",
    "    line_color = 'red' if is_unstable else '#1f77b4'\n",
    "    sns.lineplot(data=cleaned_tas_mps.reset_index(drop=True), lw=0.25, color=line_color)\n",
    "    \n",
    "    return int(is_unstable)"
   ]
  },
  {
   "cell_type": "code",
   "execution_count": 259,
   "id": "cebe9fbf",
   "metadata": {},
   "outputs": [
    {
     "data": {
      "text/plain": [
       "1"
      ]
     },
     "execution_count": 259,
     "metadata": {},
     "output_type": "execute_result"
    },
    {
     "data": {
      "image/png": "[encoded data removed]",
      "text/plain": [
       "<Figure size 432x288 with 1 Axes>"
      ]
     },
     "metadata": {
      "needs_background": "light"
     },
     "output_type": "display_data"
    }
   ],
   "source": [
    "sample_df = all_fdm[all_fdm['file'] == '686200104121825.csv']\n",
    "detect_airspeed_unstable(sample_df)"
   ]
  },
  {
   "cell_type": "code",
   "execution_count": 260,
   "id": "06ba13c1",
   "metadata": {
    "scrolled": true
   },
   "outputs": [
    {
     "name": "stderr",
     "output_type": "stream",
     "text": [
      "100%|██████████| 5/5 [00:00<00:00, 25.40it/s]\n"
     ]
    },
    {
     "data": {
      "text/html": [
       "<div>\n",
       "<style scoped>\n",
       "    .dataframe tbody tr th:only-of-type {\n",
       "        vertical-align: middle;\n",
       "    }\n",
       "\n",
       "    .dataframe tbody tr th {\n",
       "        vertical-align: top;\n",
       "    }\n",
       "\n",
       "    .dataframe thead th {\n",
       "        text-align: right;\n",
       "    }\n",
       "</style>\n",
       "<table border=\"1\" class=\"dataframe\">\n",
       "  <thead>\n",
       "    <tr style=\"text-align: right;\">\n",
       "      <th></th>\n",
       "      <th>flap</th>\n",
       "      <th>gamma</th>\n",
       "      <th>glide</th>\n",
       "      <th>altitude</th>\n",
       "      <th>localizer</th>\n",
       "      <th>thrust</th>\n",
       "      <th>airspeed</th>\n",
       "    </tr>\n",
       "    <tr>\n",
       "      <th>file</th>\n",
       "      <th></th>\n",
       "      <th></th>\n",
       "      <th></th>\n",
       "      <th></th>\n",
       "      <th></th>\n",
       "      <th></th>\n",
       "      <th></th>\n",
       "    </tr>\n",
       "  </thead>\n",
       "  <tbody>\n",
       "    <tr>\n",
       "      <th>686200104121245.csv</th>\n",
       "      <td>1</td>\n",
       "      <td>0</td>\n",
       "      <td>1</td>\n",
       "      <td>0</td>\n",
       "      <td>1</td>\n",
       "      <td>0</td>\n",
       "      <td>1</td>\n",
       "    </tr>\n",
       "    <tr>\n",
       "      <th>686200104121532.csv</th>\n",
       "      <td>1</td>\n",
       "      <td>1</td>\n",
       "      <td>0</td>\n",
       "      <td>1</td>\n",
       "      <td>1</td>\n",
       "      <td>0</td>\n",
       "      <td>1</td>\n",
       "    </tr>\n",
       "    <tr>\n",
       "      <th>686200104121825.csv</th>\n",
       "      <td>1</td>\n",
       "      <td>0</td>\n",
       "      <td>1</td>\n",
       "      <td>1</td>\n",
       "      <td>1</td>\n",
       "      <td>0</td>\n",
       "      <td>1</td>\n",
       "    </tr>\n",
       "    <tr>\n",
       "      <th>686200104130429.csv</th>\n",
       "      <td>1</td>\n",
       "      <td>0</td>\n",
       "      <td>1</td>\n",
       "      <td>1</td>\n",
       "      <td>1</td>\n",
       "      <td>0</td>\n",
       "      <td>1</td>\n",
       "    </tr>\n",
       "    <tr>\n",
       "      <th>686200104130652.csv</th>\n",
       "      <td>1</td>\n",
       "      <td>1</td>\n",
       "      <td>0</td>\n",
       "      <td>0</td>\n",
       "      <td>1</td>\n",
       "      <td>0</td>\n",
       "      <td>1</td>\n",
       "    </tr>\n",
       "  </tbody>\n",
       "</table>\n",
       "</div>"
      ],
      "text/plain": [
       "                     flap  gamma  glide  altitude  localizer  thrust  airspeed\n",
       "file                                                                          \n",
       "686200104121245.csv     1      0      1         0          1       0         1\n",
       "686200104121532.csv     1      1      0         1          1       0         1\n",
       "686200104121825.csv     1      0      1         1          1       0         1\n",
       "686200104130429.csv     1      0      1         1          1       0         1\n",
       "686200104130652.csv     1      1      0         0          1       0         1"
      ]
     },
     "execution_count": 260,
     "metadata": {},
     "output_type": "execute_result"
    },
    {
     "data": {
      "image/png": "[encoded data removed]",
      "text/plain": [
       "<Figure size 432x288 with 1 Axes>"
      ]
     },
     "metadata": {
      "needs_background": "light"
     },
     "output_type": "display_data"
    }
   ],
   "source": [
    "unstable_airspeed_detection = all_fdm.groupby('file').progress_apply(detect_airspeed_unstable)\n",
    "unstable_detection_df['airspeed'] = unstable_airspeed_detection\n",
    "unstable_detection_df"
   ]
  },
  {
   "cell_type": "code",
   "execution_count": null,
   "id": "3ab0281d",
   "metadata": {},
   "outputs": [],
   "source": []
  },
  {
   "cell_type": "markdown",
   "id": "848b0cee",
   "metadata": {},
   "source": [
    "# Param 8: Pitch Angle\n",
    "- column: theta_rad\n",
    "- convert to theta_deg\n",
    "- sum of difference = sum(np.diff(theta_deg)) \n",
    "- max_cumsum_theta_deg = 5"
   ]
  },
  {
   "cell_type": "code",
   "execution_count": 261,
   "id": "3353e7fc",
   "metadata": {},
   "outputs": [],
   "source": [
    "theta_deg = sample_df.theta_rad.dropna().map(math.degrees)"
   ]
  },
  {
   "cell_type": "code",
   "execution_count": 262,
   "id": "8460227e",
   "metadata": {},
   "outputs": [
    {
     "data": {
      "text/plain": [
       "0          NaN\n",
       "1          NaN\n",
       "2          NaN\n",
       "3          NaN\n",
       "4     0.845921\n",
       "        ...   \n",
       "70    0.373520\n",
       "71    0.406477\n",
       "72    0.439438\n",
       "73    0.483383\n",
       "74    0.571270\n",
       "Length: 75, dtype: float64"
      ]
     },
     "execution_count": 262,
     "metadata": {},
     "output_type": "execute_result"
    }
   ],
   "source": [
    "pd.Series(cumsum_theta_deg).rolling(5).sum()"
   ]
  },
  {
   "cell_type": "code",
   "execution_count": 263,
   "id": "01df6df3",
   "metadata": {},
   "outputs": [],
   "source": [
    "def detect_pitch_unstable(df):\n",
    "    \"\"\"\n",
    "    Return 1 if flight is unstable or 0 if flight is stable, based on theta_rad.\n",
    "    Unstable if sum of difference on theta_deg (cumsum_theta_deg)  > 5\n",
    "    \"\"\"\n",
    "    # Clean df\n",
    "    cleaned_theta_rad = df.theta_rad.dropna()\n",
    "    \n",
    "    # Convert to deg\n",
    "    theta_deg = cleaned_theta_rad.map(math.degrees)\n",
    "    \n",
    "    # Find cummulative sum\n",
    "    diff_theta_deg = pd.Series(abs(np.diff(theta_deg)))\n",
    "    cumsum_theta_deg = diff_theta_deg.rolling(5).sum()\n",
    "    \n",
    "    # Flag unstable flight\n",
    "    unstable_flag = list(cumsum_theta_deg > 5)\n",
    "\n",
    "    # Determine unstable or stable\n",
    "    is_unstable = find_n_consecutive_flag(unstable_flag, 5)\n",
    "    \n",
    "    # Display plot\n",
    "    line_color = 'red' if is_unstable else '#1f77b4'\n",
    "    sns.lineplot(data=cumsum_theta_deg, lw=0.25, color=line_color)\n",
    "    \n",
    "    return int(is_unstable)"
   ]
  },
  {
   "cell_type": "code",
   "execution_count": 264,
   "id": "77cc4ece",
   "metadata": {},
   "outputs": [
    {
     "data": {
      "text/plain": [
       "0"
      ]
     },
     "execution_count": 264,
     "metadata": {},
     "output_type": "execute_result"
    },
    {
     "data": {
      "image/png": "[encoded data removed]",
      "text/plain": [
       "<Figure size 432x288 with 1 Axes>"
      ]
     },
     "metadata": {
      "needs_background": "light"
     },
     "output_type": "display_data"
    }
   ],
   "source": [
    "sample_df = all_fdm[all_fdm['file'] == '686200104121825.csv']\n",
    "detect_pitch_unstable(sample_df)"
   ]
  },
  {
   "cell_type": "code",
   "execution_count": 265,
   "id": "1a82540b",
   "metadata": {
    "scrolled": true
   },
   "outputs": [
    {
     "name": "stderr",
     "output_type": "stream",
     "text": [
      "100%|██████████| 5/5 [00:00<00:00, 27.02it/s]\n"
     ]
    },
    {
     "data": {
      "text/html": [
       "<div>\n",
       "<style scoped>\n",
       "    .dataframe tbody tr th:only-of-type {\n",
       "        vertical-align: middle;\n",
       "    }\n",
       "\n",
       "    .dataframe tbody tr th {\n",
       "        vertical-align: top;\n",
       "    }\n",
       "\n",
       "    .dataframe thead th {\n",
       "        text-align: right;\n",
       "    }\n",
       "</style>\n",
       "<table border=\"1\" class=\"dataframe\">\n",
       "  <thead>\n",
       "    <tr style=\"text-align: right;\">\n",
       "      <th></th>\n",
       "      <th>flap</th>\n",
       "      <th>gamma</th>\n",
       "      <th>glide</th>\n",
       "      <th>altitude</th>\n",
       "      <th>localizer</th>\n",
       "      <th>thrust</th>\n",
       "      <th>airspeed</th>\n",
       "      <th>pitch</th>\n",
       "    </tr>\n",
       "    <tr>\n",
       "      <th>file</th>\n",
       "      <th></th>\n",
       "      <th></th>\n",
       "      <th></th>\n",
       "      <th></th>\n",
       "      <th></th>\n",
       "      <th></th>\n",
       "      <th></th>\n",
       "      <th></th>\n",
       "    </tr>\n",
       "  </thead>\n",
       "  <tbody>\n",
       "    <tr>\n",
       "      <th>686200104121245.csv</th>\n",
       "      <td>1</td>\n",
       "      <td>0</td>\n",
       "      <td>1</td>\n",
       "      <td>0</td>\n",
       "      <td>1</td>\n",
       "      <td>0</td>\n",
       "      <td>1</td>\n",
       "      <td>0</td>\n",
       "    </tr>\n",
       "    <tr>\n",
       "      <th>686200104121532.csv</th>\n",
       "      <td>1</td>\n",
       "      <td>1</td>\n",
       "      <td>0</td>\n",
       "      <td>1</td>\n",
       "      <td>1</td>\n",
       "      <td>0</td>\n",
       "      <td>1</td>\n",
       "      <td>0</td>\n",
       "    </tr>\n",
       "    <tr>\n",
       "      <th>686200104121825.csv</th>\n",
       "      <td>1</td>\n",
       "      <td>0</td>\n",
       "      <td>1</td>\n",
       "      <td>1</td>\n",
       "      <td>1</td>\n",
       "      <td>0</td>\n",
       "      <td>1</td>\n",
       "      <td>0</td>\n",
       "    </tr>\n",
       "    <tr>\n",
       "      <th>686200104130429.csv</th>\n",
       "      <td>1</td>\n",
       "      <td>0</td>\n",
       "      <td>1</td>\n",
       "      <td>1</td>\n",
       "      <td>1</td>\n",
       "      <td>0</td>\n",
       "      <td>1</td>\n",
       "      <td>0</td>\n",
       "    </tr>\n",
       "    <tr>\n",
       "      <th>686200104130652.csv</th>\n",
       "      <td>1</td>\n",
       "      <td>1</td>\n",
       "      <td>0</td>\n",
       "      <td>0</td>\n",
       "      <td>1</td>\n",
       "      <td>0</td>\n",
       "      <td>1</td>\n",
       "      <td>0</td>\n",
       "    </tr>\n",
       "  </tbody>\n",
       "</table>\n",
       "</div>"
      ],
      "text/plain": [
       "                     flap  gamma  glide  altitude  localizer  thrust  \\\n",
       "file                                                                   \n",
       "686200104121245.csv     1      0      1         0          1       0   \n",
       "686200104121532.csv     1      1      0         1          1       0   \n",
       "686200104121825.csv     1      0      1         1          1       0   \n",
       "686200104130429.csv     1      0      1         1          1       0   \n",
       "686200104130652.csv     1      1      0         0          1       0   \n",
       "\n",
       "                     airspeed  pitch  \n",
       "file                                  \n",
       "686200104121245.csv         1      0  \n",
       "686200104121532.csv         1      0  \n",
       "686200104121825.csv         1      0  \n",
       "686200104130429.csv         1      0  \n",
       "686200104130652.csv         1      0  "
      ]
     },
     "execution_count": 265,
     "metadata": {},
     "output_type": "execute_result"
    },
    {
     "data": {
      "image/png": "[encoded data removed]",
      "text/plain": [
       "<Figure size 432x288 with 1 Axes>"
      ]
     },
     "metadata": {
      "needs_background": "light"
     },
     "output_type": "display_data"
    }
   ],
   "source": [
    "unstable_pitch_detection = all_fdm.groupby('file').progress_apply(detect_pitch_unstable)\n",
    "unstable_detection_df['pitch'] = unstable_pitch_detection\n",
    "unstable_detection_df"
   ]
  },
  {
   "cell_type": "markdown",
   "id": "e406c009",
   "metadata": {},
   "source": [
    "# Param 9: Track Angle\n",
    "- column: chi_rad\n",
    "- Convert rad to degrees, mod 360 -> math.degrees(rad) % 360\n",
    "- up_bound = 305, lw_bound = 295"
   ]
  },
  {
   "cell_type": "code",
   "execution_count": 266,
   "id": "7600d944",
   "metadata": {},
   "outputs": [],
   "source": [
    "def detect_track_unstable(df):\n",
    "    \"\"\"\n",
    "    Return 1 if flight is unstable or 0 if flight is stable, based on chi_rad.\n",
    "    Convert to chi_deg then mod by 360.\n",
    "    Unstable if chi_deg > 305 or chi_deg < 295\n",
    "    \"\"\"\n",
    "    # Clean df\n",
    "    cleaned_chi_rad = df.chi_rad.dropna()\n",
    "    \n",
    "    # Convert to chi_deg\n",
    "    chi_deg = cleaned_chi_rad * math.degrees(1) % 360\n",
    "    \n",
    "    # Flag unstable flight\n",
    "    unstable_flag = list((chi_deg < 295) | (chi_deg > 305))\n",
    "\n",
    "    # Determine unstable or stable\n",
    "    is_unstable = find_n_consecutive_flag(unstable_flag, 5)\n",
    "    \n",
    "    # Display plot\n",
    "    line_color = 'red' if is_unstable else '#1f77b4'\n",
    "    sns.lineplot(data=chi_deg.reset_index(drop=True), lw=0.25, color=line_color)\n",
    "    \n",
    "    return int(is_unstable)"
   ]
  },
  {
   "cell_type": "code",
   "execution_count": 267,
   "id": "d4727b04",
   "metadata": {},
   "outputs": [
    {
     "data": {
      "text/plain": [
       "1"
      ]
     },
     "execution_count": 267,
     "metadata": {},
     "output_type": "execute_result"
    },
    {
     "data": {
      "image/png": "[encoded data removed]",
      "text/plain": [
       "<Figure size 432x288 with 1 Axes>"
      ]
     },
     "metadata": {
      "needs_background": "light"
     },
     "output_type": "display_data"
    }
   ],
   "source": [
    "sample_df = all_fdm[all_fdm['file'] == '686200104121825.csv']\n",
    "detect_track_unstable(sample_df)"
   ]
  },
  {
   "cell_type": "code",
   "execution_count": 268,
   "id": "885688a1",
   "metadata": {
    "scrolled": true
   },
   "outputs": [
    {
     "name": "stderr",
     "output_type": "stream",
     "text": [
      "100%|██████████| 5/5 [00:00<00:00, 28.21it/s]\n"
     ]
    },
    {
     "data": {
      "text/html": [
       "<div>\n",
       "<style scoped>\n",
       "    .dataframe tbody tr th:only-of-type {\n",
       "        vertical-align: middle;\n",
       "    }\n",
       "\n",
       "    .dataframe tbody tr th {\n",
       "        vertical-align: top;\n",
       "    }\n",
       "\n",
       "    .dataframe thead th {\n",
       "        text-align: right;\n",
       "    }\n",
       "</style>\n",
       "<table border=\"1\" class=\"dataframe\">\n",
       "  <thead>\n",
       "    <tr style=\"text-align: right;\">\n",
       "      <th></th>\n",
       "      <th>flap</th>\n",
       "      <th>gamma</th>\n",
       "      <th>glide</th>\n",
       "      <th>altitude</th>\n",
       "      <th>localizer</th>\n",
       "      <th>thrust</th>\n",
       "      <th>airspeed</th>\n",
       "      <th>pitch</th>\n",
       "      <th>track</th>\n",
       "    </tr>\n",
       "    <tr>\n",
       "      <th>file</th>\n",
       "      <th></th>\n",
       "      <th></th>\n",
       "      <th></th>\n",
       "      <th></th>\n",
       "      <th></th>\n",
       "      <th></th>\n",
       "      <th></th>\n",
       "      <th></th>\n",
       "      <th></th>\n",
       "    </tr>\n",
       "  </thead>\n",
       "  <tbody>\n",
       "    <tr>\n",
       "      <th>686200104121245.csv</th>\n",
       "      <td>1</td>\n",
       "      <td>0</td>\n",
       "      <td>1</td>\n",
       "      <td>0</td>\n",
       "      <td>1</td>\n",
       "      <td>0</td>\n",
       "      <td>1</td>\n",
       "      <td>0</td>\n",
       "      <td>1</td>\n",
       "    </tr>\n",
       "    <tr>\n",
       "      <th>686200104121532.csv</th>\n",
       "      <td>1</td>\n",
       "      <td>1</td>\n",
       "      <td>0</td>\n",
       "      <td>1</td>\n",
       "      <td>1</td>\n",
       "      <td>0</td>\n",
       "      <td>1</td>\n",
       "      <td>0</td>\n",
       "      <td>0</td>\n",
       "    </tr>\n",
       "    <tr>\n",
       "      <th>686200104121825.csv</th>\n",
       "      <td>1</td>\n",
       "      <td>0</td>\n",
       "      <td>1</td>\n",
       "      <td>1</td>\n",
       "      <td>1</td>\n",
       "      <td>0</td>\n",
       "      <td>1</td>\n",
       "      <td>0</td>\n",
       "      <td>1</td>\n",
       "    </tr>\n",
       "    <tr>\n",
       "      <th>686200104130429.csv</th>\n",
       "      <td>1</td>\n",
       "      <td>0</td>\n",
       "      <td>1</td>\n",
       "      <td>1</td>\n",
       "      <td>1</td>\n",
       "      <td>0</td>\n",
       "      <td>1</td>\n",
       "      <td>0</td>\n",
       "      <td>1</td>\n",
       "    </tr>\n",
       "    <tr>\n",
       "      <th>686200104130652.csv</th>\n",
       "      <td>1</td>\n",
       "      <td>1</td>\n",
       "      <td>0</td>\n",
       "      <td>0</td>\n",
       "      <td>1</td>\n",
       "      <td>0</td>\n",
       "      <td>1</td>\n",
       "      <td>0</td>\n",
       "      <td>1</td>\n",
       "    </tr>\n",
       "  </tbody>\n",
       "</table>\n",
       "</div>"
      ],
      "text/plain": [
       "                     flap  gamma  glide  altitude  localizer  thrust  \\\n",
       "file                                                                   \n",
       "686200104121245.csv     1      0      1         0          1       0   \n",
       "686200104121532.csv     1      1      0         1          1       0   \n",
       "686200104121825.csv     1      0      1         1          1       0   \n",
       "686200104130429.csv     1      0      1         1          1       0   \n",
       "686200104130652.csv     1      1      0         0          1       0   \n",
       "\n",
       "                     airspeed  pitch  track  \n",
       "file                                         \n",
       "686200104121245.csv         1      0      1  \n",
       "686200104121532.csv         1      0      0  \n",
       "686200104121825.csv         1      0      1  \n",
       "686200104130429.csv         1      0      1  \n",
       "686200104130652.csv         1      0      1  "
      ]
     },
     "execution_count": 268,
     "metadata": {},
     "output_type": "execute_result"
    },
    {
     "data": {
      "image/png": "[encoded data removed]",
      "text/plain": [
       "<Figure size 432x288 with 1 Axes>"
      ]
     },
     "metadata": {
      "needs_background": "light"
     },
     "output_type": "display_data"
    }
   ],
   "source": [
    "unstable_track_detection = all_fdm.groupby('file').progress_apply(detect_track_unstable)\n",
    "unstable_detection_df['track'] = unstable_track_detection\n",
    "unstable_detection_df"
   ]
  },
  {
   "cell_type": "markdown",
   "id": "478d2a6f",
   "metadata": {},
   "source": [
    "# Param 10: Landing Gear\n",
    "- column: lg_squat_mr\n",
    "- unstable if ????"
   ]
  },
  {
   "cell_type": "markdown",
   "id": "3a7a2747",
   "metadata": {},
   "source": [
    "Notes: for sampling, after clean df add shift accoring to sampling rate"
   ]
  },
  {
   "cell_type": "code",
   "execution_count": 269,
   "id": "54d10251",
   "metadata": {},
   "outputs": [],
   "source": [
    "def detect_lgear_unstable(df):\n",
    "    \"\"\"\n",
    "    Return 1 if flight is unstable or 0 if flight is stable, based on lg_squat_mr.\n",
    "    Unstable if average for 5 seconds > 0.8\n",
    "    \"\"\"\n",
    "    # Clean df\n",
    "    cleaned_lg_squat_mr = df.lg_squat_mr.dropna()\n",
    "    \n",
    "    # Average value for 5 second\n",
    "    avg_lg_squat_mr = cleaned_lg_squat_mr.rolling(5).mean()\n",
    "    \n",
    "    # Flag window cummulative average\n",
    "    unstable_flag = list(avg_lg_squat_mr > 0.8)\n",
    "\n",
    "    # Determine unstable or stable\n",
    "    is_unstable = find_n_consecutive_flag(unstable_flag, 5)\n",
    "    \n",
    "    # Display plot\n",
    "    color = 'red' if is_unstable else '#1f77b4'\n",
    "    plt.plot(cleaned_lg_squat_mr.reset_index(drop=True), 'o', markersize=0.5, color=color)\n",
    "    \n",
    "    return int(is_unstable)"
   ]
  },
  {
   "cell_type": "code",
   "execution_count": 270,
   "id": "8d1a5b3d",
   "metadata": {},
   "outputs": [
    {
     "data": {
      "text/plain": [
       "0"
      ]
     },
     "execution_count": 270,
     "metadata": {},
     "output_type": "execute_result"
    },
    {
     "data": {
      "image/png": "[encoded data removed]",
      "text/plain": [
       "<Figure size 432x288 with 1 Axes>"
      ]
     },
     "metadata": {
      "needs_background": "light"
     },
     "output_type": "display_data"
    }
   ],
   "source": [
    "sample_df = all_fdm[all_fdm['file'] == '686200104121825.csv']\n",
    "detect_lgear_unstable(sample_df)"
   ]
  },
  {
   "cell_type": "code",
   "execution_count": 271,
   "id": "e39a1337",
   "metadata": {
    "scrolled": true
   },
   "outputs": [
    {
     "name": "stderr",
     "output_type": "stream",
     "text": [
      "100%|██████████| 5/5 [00:00<00:00, 22.49it/s]\n"
     ]
    },
    {
     "data": {
      "text/html": [
       "<div>\n",
       "<style scoped>\n",
       "    .dataframe tbody tr th:only-of-type {\n",
       "        vertical-align: middle;\n",
       "    }\n",
       "\n",
       "    .dataframe tbody tr th {\n",
       "        vertical-align: top;\n",
       "    }\n",
       "\n",
       "    .dataframe thead th {\n",
       "        text-align: right;\n",
       "    }\n",
       "</style>\n",
       "<table border=\"1\" class=\"dataframe\">\n",
       "  <thead>\n",
       "    <tr style=\"text-align: right;\">\n",
       "      <th></th>\n",
       "      <th>flap</th>\n",
       "      <th>gamma</th>\n",
       "      <th>glide</th>\n",
       "      <th>altitude</th>\n",
       "      <th>localizer</th>\n",
       "      <th>thrust</th>\n",
       "      <th>airspeed</th>\n",
       "      <th>pitch</th>\n",
       "      <th>track</th>\n",
       "      <th>lgear</th>\n",
       "    </tr>\n",
       "    <tr>\n",
       "      <th>file</th>\n",
       "      <th></th>\n",
       "      <th></th>\n",
       "      <th></th>\n",
       "      <th></th>\n",
       "      <th></th>\n",
       "      <th></th>\n",
       "      <th></th>\n",
       "      <th></th>\n",
       "      <th></th>\n",
       "      <th></th>\n",
       "    </tr>\n",
       "  </thead>\n",
       "  <tbody>\n",
       "    <tr>\n",
       "      <th>686200104121245.csv</th>\n",
       "      <td>1</td>\n",
       "      <td>0</td>\n",
       "      <td>1</td>\n",
       "      <td>0</td>\n",
       "      <td>1</td>\n",
       "      <td>0</td>\n",
       "      <td>1</td>\n",
       "      <td>0</td>\n",
       "      <td>1</td>\n",
       "      <td>0</td>\n",
       "    </tr>\n",
       "    <tr>\n",
       "      <th>686200104121532.csv</th>\n",
       "      <td>1</td>\n",
       "      <td>1</td>\n",
       "      <td>0</td>\n",
       "      <td>1</td>\n",
       "      <td>1</td>\n",
       "      <td>0</td>\n",
       "      <td>1</td>\n",
       "      <td>0</td>\n",
       "      <td>0</td>\n",
       "      <td>0</td>\n",
       "    </tr>\n",
       "    <tr>\n",
       "      <th>686200104121825.csv</th>\n",
       "      <td>1</td>\n",
       "      <td>0</td>\n",
       "      <td>1</td>\n",
       "      <td>1</td>\n",
       "      <td>1</td>\n",
       "      <td>0</td>\n",
       "      <td>1</td>\n",
       "      <td>0</td>\n",
       "      <td>1</td>\n",
       "      <td>0</td>\n",
       "    </tr>\n",
       "    <tr>\n",
       "      <th>686200104130429.csv</th>\n",
       "      <td>1</td>\n",
       "      <td>0</td>\n",
       "      <td>1</td>\n",
       "      <td>1</td>\n",
       "      <td>1</td>\n",
       "      <td>0</td>\n",
       "      <td>1</td>\n",
       "      <td>0</td>\n",
       "      <td>1</td>\n",
       "      <td>0</td>\n",
       "    </tr>\n",
       "    <tr>\n",
       "      <th>686200104130652.csv</th>\n",
       "      <td>1</td>\n",
       "      <td>1</td>\n",
       "      <td>0</td>\n",
       "      <td>0</td>\n",
       "      <td>1</td>\n",
       "      <td>0</td>\n",
       "      <td>1</td>\n",
       "      <td>0</td>\n",
       "      <td>1</td>\n",
       "      <td>0</td>\n",
       "    </tr>\n",
       "  </tbody>\n",
       "</table>\n",
       "</div>"
      ],
      "text/plain": [
       "                     flap  gamma  glide  altitude  localizer  thrust  \\\n",
       "file                                                                   \n",
       "686200104121245.csv     1      0      1         0          1       0   \n",
       "686200104121532.csv     1      1      0         1          1       0   \n",
       "686200104121825.csv     1      0      1         1          1       0   \n",
       "686200104130429.csv     1      0      1         1          1       0   \n",
       "686200104130652.csv     1      1      0         0          1       0   \n",
       "\n",
       "                     airspeed  pitch  track  lgear  \n",
       "file                                                \n",
       "686200104121245.csv         1      0      1      0  \n",
       "686200104121532.csv         1      0      0      0  \n",
       "686200104121825.csv         1      0      1      0  \n",
       "686200104130429.csv         1      0      1      0  \n",
       "686200104130652.csv         1      0      1      0  "
      ]
     },
     "execution_count": 271,
     "metadata": {},
     "output_type": "execute_result"
    },
    {
     "data": {
      "image/png": "[encoded data removed]",
      "text/plain": [
       "<Figure size 432x288 with 1 Axes>"
      ]
     },
     "metadata": {
      "needs_background": "light"
     },
     "output_type": "display_data"
    }
   ],
   "source": [
    "unstable_lgear_detection = all_fdm.groupby('file').progress_apply(detect_lgear_unstable)\n",
    "unstable_detection_df['lgear'] = unstable_lgear_detection\n",
    "unstable_detection_df"
   ]
  },
  {
   "cell_type": "markdown",
   "id": "8ba4292a",
   "metadata": {},
   "source": [
    "## Export to CSV"
   ]
  },
  {
   "cell_type": "code",
   "execution_count": 272,
   "id": "46ea7d1f",
   "metadata": {},
   "outputs": [],
   "source": [
    "unstable_detection_df.to_csv(base_path + '/07_unstable_detection_df', index=False)"
   ]
  },
  {
   "cell_type": "code",
   "execution_count": null,
   "id": "4ebbcd02",
   "metadata": {},
   "outputs": [],
   "source": []
  }
 ],
 "metadata": {
  "kernelspec": {
   "display_name": "flight_env",
   "language": "python",
   "name": "flight_env"
  },
  "language_info": {
   "codemirror_mode": {
    "name": "ipython",
    "version": 3
   },
   "file_extension": ".py",
   "mimetype": "text/x-python",
   "name": "python",
   "nbconvert_exporter": "python",
   "pygments_lexer": "ipython3",
   "version": "3.9.5"
  }
 },
 "nbformat": 4,
 "nbformat_minor": 5
}
