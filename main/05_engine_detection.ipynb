{
 "cells": [
  {
   "cell_type": "markdown",
   "metadata": {},
   "source": [
    "# Airplane Engine Detection\n",
    "Detect Airplane Engine from FDM Data. Engine are identified using these columns:\n",
    "1. `engcycle_x_hr`: If exist `engcycle_4_hr` column value, then airplane has 4 engine.\n",
    "2. `ctrlcolumn_pos_capt`: If exist `ctrlcolumn_pos_capt` column value, then airplane engine is B747, otherwise it's A380."
   ]
  },
  {
   "cell_type": "markdown",
   "metadata": {},
   "source": [
    "### Import"
   ]
  },
  {
   "cell_type": "code",
   "execution_count": 2,
   "metadata": {},
   "outputs": [],
   "source": [
    "%load_ext autoreload\n",
    "%autoreload 2"
   ]
  },
  {
   "cell_type": "code",
   "execution_count": 3,
   "metadata": {},
   "outputs": [],
   "source": [
    "import math\n",
    "import numpy as np\n",
    "import pandas as pd\n",
    "import seaborn as sns"
   ]
  },
  {
   "cell_type": "markdown",
   "metadata": {},
   "source": [
    "### Define File"
   ]
  },
  {
   "cell_type": "code",
   "execution_count": 14,
   "metadata": {},
   "outputs": [],
   "source": [
    "base_path = '../dataset/database_local'\n",
    "# base_path = '../dataset/database'"
   ]
  },
  {
   "cell_type": "code",
   "execution_count": 15,
   "metadata": {},
   "outputs": [],
   "source": [
    "# Input\n",
    "flight_runway_file = f'{base_path}/04_flights_with_runway.csv'\n",
    "landing_runway_file = f'{base_path}/04_landing_count_detail.csv'\n",
    "\n",
    "# Output\n",
    "output_file = f'{base_path}/05_flight_engine.csv'"
   ]
  },
  {
   "cell_type": "markdown",
   "metadata": {},
   "source": [
    "### Read Data"
   ]
  },
  {
   "cell_type": "markdown",
   "metadata": {},
   "source": [
    "#### 1. Read Flight Runway Data "
   ]
  },
  {
   "cell_type": "code",
   "execution_count": 16,
   "metadata": {},
   "outputs": [
    {
     "data": {
      "text/html": [
       "<div>\n",
       "<style scoped>\n",
       "    .dataframe tbody tr th:only-of-type {\n",
       "        vertical-align: middle;\n",
       "    }\n",
       "\n",
       "    .dataframe tbody tr th {\n",
       "        vertical-align: top;\n",
       "    }\n",
       "\n",
       "    .dataframe thead th {\n",
       "        text-align: right;\n",
       "    }\n",
       "</style>\n",
       "<table border=\"1\" class=\"dataframe\">\n",
       "  <thead>\n",
       "    <tr style=\"text-align: right;\">\n",
       "      <th></th>\n",
       "      <th>fname</th>\n",
       "      <th>tail_id</th>\n",
       "      <th>dep_airport</th>\n",
       "      <th>dep_rwy</th>\n",
       "      <th>arr_airport</th>\n",
       "      <th>arr_rwy</th>\n",
       "      <th>fsize_mb</th>\n",
       "      <th>fullpath</th>\n",
       "    </tr>\n",
       "  </thead>\n",
       "  <tbody>\n",
       "    <tr>\n",
       "      <th>0</th>\n",
       "      <td>686200104121532.csv</td>\n",
       "      <td>tail_686_1</td>\n",
       "      <td>BHM</td>\n",
       "      <td>36</td>\n",
       "      <td>DTW</td>\n",
       "      <td>09R</td>\n",
       "      <td>68.39</td>\n",
       "      <td>../dataset/fdm/tail_686_1/686200104121532.csv</td>\n",
       "    </tr>\n",
       "    <tr>\n",
       "      <th>1</th>\n",
       "      <td>686200104121245.csv</td>\n",
       "      <td>tail_686_1</td>\n",
       "      <td>DTW</td>\n",
       "      <td>03L</td>\n",
       "      <td>BHM</td>\n",
       "      <td>24</td>\n",
       "      <td>61.52</td>\n",
       "      <td>../dataset/fdm/tail_686_1/686200104121245.csv</td>\n",
       "    </tr>\n",
       "    <tr>\n",
       "      <th>2</th>\n",
       "      <td>686200104121825.csv</td>\n",
       "      <td>tail_686_2</td>\n",
       "      <td>DTW</td>\n",
       "      <td>03L</td>\n",
       "      <td>LEX</td>\n",
       "      <td>22</td>\n",
       "      <td>40.71</td>\n",
       "      <td>../dataset/fdm/tail_686_2/686200104121825.csv</td>\n",
       "    </tr>\n",
       "    <tr>\n",
       "      <th>3</th>\n",
       "      <td>686200104130429.csv</td>\n",
       "      <td>tail_686_2</td>\n",
       "      <td>LEX</td>\n",
       "      <td>22</td>\n",
       "      <td>DTW</td>\n",
       "      <td>09R</td>\n",
       "      <td>42.63</td>\n",
       "      <td>../dataset/fdm/tail_686_2/686200104130429.csv</td>\n",
       "    </tr>\n",
       "    <tr>\n",
       "      <th>4</th>\n",
       "      <td>686200104130652.csv</td>\n",
       "      <td>tail_687_1</td>\n",
       "      <td>DTW</td>\n",
       "      <td>09R</td>\n",
       "      <td>OKC</td>\n",
       "      <td>31</td>\n",
       "      <td>95.92</td>\n",
       "      <td>../dataset/fdm/tail_687_1/686200104130652.csv</td>\n",
       "    </tr>\n",
       "  </tbody>\n",
       "</table>\n",
       "</div>"
      ],
      "text/plain": [
       "                 fname     tail_id dep_airport dep_rwy arr_airport arr_rwy  \\\n",
       "0  686200104121532.csv  tail_686_1         BHM      36         DTW     09R   \n",
       "1  686200104121245.csv  tail_686_1         DTW     03L         BHM      24   \n",
       "2  686200104121825.csv  tail_686_2         DTW     03L         LEX      22   \n",
       "3  686200104130429.csv  tail_686_2         LEX      22         DTW     09R   \n",
       "4  686200104130652.csv  tail_687_1         DTW     09R         OKC      31   \n",
       "\n",
       "   fsize_mb                                       fullpath  \n",
       "0     68.39  ../dataset/fdm/tail_686_1/686200104121532.csv  \n",
       "1     61.52  ../dataset/fdm/tail_686_1/686200104121245.csv  \n",
       "2     40.71  ../dataset/fdm/tail_686_2/686200104121825.csv  \n",
       "3     42.63  ../dataset/fdm/tail_686_2/686200104130429.csv  \n",
       "4     95.92  ../dataset/fdm/tail_687_1/686200104130652.csv  "
      ]
     },
     "execution_count": 16,
     "metadata": {},
     "output_type": "execute_result"
    }
   ],
   "source": [
    "flight_runway = pd.read_csv(flight_runway_file)\n",
    "flight_runway.head()"
   ]
  },
  {
   "cell_type": "markdown",
   "metadata": {},
   "source": [
    "#### 2. Read Landing Runway Count"
   ]
  },
  {
   "cell_type": "code",
   "execution_count": 17,
   "metadata": {},
   "outputs": [
    {
     "data": {
      "text/html": [
       "<div>\n",
       "<style scoped>\n",
       "    .dataframe tbody tr th:only-of-type {\n",
       "        vertical-align: middle;\n",
       "    }\n",
       "\n",
       "    .dataframe tbody tr th {\n",
       "        vertical-align: top;\n",
       "    }\n",
       "\n",
       "    .dataframe thead th {\n",
       "        text-align: right;\n",
       "    }\n",
       "</style>\n",
       "<table border=\"1\" class=\"dataframe\">\n",
       "  <thead>\n",
       "    <tr style=\"text-align: right;\">\n",
       "      <th></th>\n",
       "      <th>iata_code</th>\n",
       "      <th>runway_ident</th>\n",
       "      <th>flight_count</th>\n",
       "      <th>icao_code</th>\n",
       "      <th>type</th>\n",
       "      <th>name</th>\n",
       "      <th>latitude_rad</th>\n",
       "      <th>longitude_rad</th>\n",
       "      <th>elevation_ft</th>\n",
       "      <th>scheduled_service</th>\n",
       "    </tr>\n",
       "  </thead>\n",
       "  <tbody>\n",
       "    <tr>\n",
       "      <th>0</th>\n",
       "      <td>DTW</td>\n",
       "      <td>DTW.09R</td>\n",
       "      <td>2</td>\n",
       "      <td>KDTW</td>\n",
       "      <td>large_airport</td>\n",
       "      <td>Detroit Metropolitan Wayne County Airport</td>\n",
       "      <td>0.736745</td>\n",
       "      <td>-1.454791</td>\n",
       "      <td>645.0</td>\n",
       "      <td>yes</td>\n",
       "    </tr>\n",
       "    <tr>\n",
       "      <th>1</th>\n",
       "      <td>OKC</td>\n",
       "      <td>OKC.31</td>\n",
       "      <td>1</td>\n",
       "      <td>KOKC</td>\n",
       "      <td>large_airport</td>\n",
       "      <td>Will Rogers World Airport</td>\n",
       "      <td>0.617726</td>\n",
       "      <td>-1.703454</td>\n",
       "      <td>1295.0</td>\n",
       "      <td>yes</td>\n",
       "    </tr>\n",
       "    <tr>\n",
       "      <th>2</th>\n",
       "      <td>LEX</td>\n",
       "      <td>LEX.22</td>\n",
       "      <td>1</td>\n",
       "      <td>KLEX</td>\n",
       "      <td>large_airport</td>\n",
       "      <td>Blue Grass Airport</td>\n",
       "      <td>0.663862</td>\n",
       "      <td>-1.476652</td>\n",
       "      <td>979.0</td>\n",
       "      <td>yes</td>\n",
       "    </tr>\n",
       "    <tr>\n",
       "      <th>3</th>\n",
       "      <td>BHM</td>\n",
       "      <td>BHM.24</td>\n",
       "      <td>1</td>\n",
       "      <td>KBHM</td>\n",
       "      <td>large_airport</td>\n",
       "      <td>Birmingham-Shuttlesworth International Airport</td>\n",
       "      <td>0.585783</td>\n",
       "      <td>-1.514134</td>\n",
       "      <td>650.0</td>\n",
       "      <td>yes</td>\n",
       "    </tr>\n",
       "  </tbody>\n",
       "</table>\n",
       "</div>"
      ],
      "text/plain": [
       "  iata_code runway_ident  flight_count icao_code           type  \\\n",
       "0       DTW      DTW.09R             2      KDTW  large_airport   \n",
       "1       OKC       OKC.31             1      KOKC  large_airport   \n",
       "2       LEX       LEX.22             1      KLEX  large_airport   \n",
       "3       BHM       BHM.24             1      KBHM  large_airport   \n",
       "\n",
       "                                             name  latitude_rad  \\\n",
       "0       Detroit Metropolitan Wayne County Airport      0.736745   \n",
       "1                       Will Rogers World Airport      0.617726   \n",
       "2                              Blue Grass Airport      0.663862   \n",
       "3  Birmingham-Shuttlesworth International Airport      0.585783   \n",
       "\n",
       "   longitude_rad  elevation_ft scheduled_service  \n",
       "0      -1.454791         645.0               yes  \n",
       "1      -1.703454        1295.0               yes  \n",
       "2      -1.476652         979.0               yes  \n",
       "3      -1.514134         650.0               yes  "
      ]
     },
     "execution_count": 17,
     "metadata": {},
     "output_type": "execute_result"
    }
   ],
   "source": [
    "landing_runway_count = pd.read_csv(landing_runway_file)\n",
    "landing_runway_count.head()"
   ]
  },
  {
   "cell_type": "markdown",
   "metadata": {},
   "source": [
    "## Transform Data "
   ]
  },
  {
   "cell_type": "markdown",
   "metadata": {},
   "source": [
    "#### 1. Append Full Runway Id Column"
   ]
  },
  {
   "cell_type": "code",
   "execution_count": 18,
   "metadata": {},
   "outputs": [
    {
     "data": {
      "text/plain": [
       "0    DTW.09R\n",
       "1     BHM.24\n",
       "2     LEX.22\n",
       "3    DTW.09R\n",
       "4     OKC.31\n",
       "dtype: object"
      ]
     },
     "execution_count": 18,
     "metadata": {},
     "output_type": "execute_result"
    }
   ],
   "source": [
    "arrival_runway_id = flight_runway['arr_airport'] + '.' + flight_runway['arr_rwy']\n",
    "arrival_runway_id.head()"
   ]
  },
  {
   "cell_type": "code",
   "execution_count": 19,
   "metadata": {},
   "outputs": [
    {
     "data": {
      "text/html": [
       "<div>\n",
       "<style scoped>\n",
       "    .dataframe tbody tr th:only-of-type {\n",
       "        vertical-align: middle;\n",
       "    }\n",
       "\n",
       "    .dataframe tbody tr th {\n",
       "        vertical-align: top;\n",
       "    }\n",
       "\n",
       "    .dataframe thead th {\n",
       "        text-align: right;\n",
       "    }\n",
       "</style>\n",
       "<table border=\"1\" class=\"dataframe\">\n",
       "  <thead>\n",
       "    <tr style=\"text-align: right;\">\n",
       "      <th></th>\n",
       "      <th>fname</th>\n",
       "      <th>tail_id</th>\n",
       "      <th>dep_airport</th>\n",
       "      <th>dep_rwy</th>\n",
       "      <th>arr_airport</th>\n",
       "      <th>arr_rwy</th>\n",
       "      <th>fsize_mb</th>\n",
       "      <th>fullpath</th>\n",
       "      <th>arr_rwy_id</th>\n",
       "    </tr>\n",
       "  </thead>\n",
       "  <tbody>\n",
       "    <tr>\n",
       "      <th>0</th>\n",
       "      <td>686200104121532.csv</td>\n",
       "      <td>tail_686_1</td>\n",
       "      <td>BHM</td>\n",
       "      <td>36</td>\n",
       "      <td>DTW</td>\n",
       "      <td>09R</td>\n",
       "      <td>68.39</td>\n",
       "      <td>../dataset/fdm/tail_686_1/686200104121532.csv</td>\n",
       "      <td>DTW.09R</td>\n",
       "    </tr>\n",
       "    <tr>\n",
       "      <th>1</th>\n",
       "      <td>686200104121245.csv</td>\n",
       "      <td>tail_686_1</td>\n",
       "      <td>DTW</td>\n",
       "      <td>03L</td>\n",
       "      <td>BHM</td>\n",
       "      <td>24</td>\n",
       "      <td>61.52</td>\n",
       "      <td>../dataset/fdm/tail_686_1/686200104121245.csv</td>\n",
       "      <td>BHM.24</td>\n",
       "    </tr>\n",
       "    <tr>\n",
       "      <th>2</th>\n",
       "      <td>686200104121825.csv</td>\n",
       "      <td>tail_686_2</td>\n",
       "      <td>DTW</td>\n",
       "      <td>03L</td>\n",
       "      <td>LEX</td>\n",
       "      <td>22</td>\n",
       "      <td>40.71</td>\n",
       "      <td>../dataset/fdm/tail_686_2/686200104121825.csv</td>\n",
       "      <td>LEX.22</td>\n",
       "    </tr>\n",
       "    <tr>\n",
       "      <th>3</th>\n",
       "      <td>686200104130429.csv</td>\n",
       "      <td>tail_686_2</td>\n",
       "      <td>LEX</td>\n",
       "      <td>22</td>\n",
       "      <td>DTW</td>\n",
       "      <td>09R</td>\n",
       "      <td>42.63</td>\n",
       "      <td>../dataset/fdm/tail_686_2/686200104130429.csv</td>\n",
       "      <td>DTW.09R</td>\n",
       "    </tr>\n",
       "    <tr>\n",
       "      <th>4</th>\n",
       "      <td>686200104130652.csv</td>\n",
       "      <td>tail_687_1</td>\n",
       "      <td>DTW</td>\n",
       "      <td>09R</td>\n",
       "      <td>OKC</td>\n",
       "      <td>31</td>\n",
       "      <td>95.92</td>\n",
       "      <td>../dataset/fdm/tail_687_1/686200104130652.csv</td>\n",
       "      <td>OKC.31</td>\n",
       "    </tr>\n",
       "  </tbody>\n",
       "</table>\n",
       "</div>"
      ],
      "text/plain": [
       "                 fname     tail_id dep_airport dep_rwy arr_airport arr_rwy  \\\n",
       "0  686200104121532.csv  tail_686_1         BHM      36         DTW     09R   \n",
       "1  686200104121245.csv  tail_686_1         DTW     03L         BHM      24   \n",
       "2  686200104121825.csv  tail_686_2         DTW     03L         LEX      22   \n",
       "3  686200104130429.csv  tail_686_2         LEX      22         DTW     09R   \n",
       "4  686200104130652.csv  tail_687_1         DTW     09R         OKC      31   \n",
       "\n",
       "   fsize_mb                                       fullpath arr_rwy_id  \n",
       "0     68.39  ../dataset/fdm/tail_686_1/686200104121532.csv    DTW.09R  \n",
       "1     61.52  ../dataset/fdm/tail_686_1/686200104121245.csv     BHM.24  \n",
       "2     40.71  ../dataset/fdm/tail_686_2/686200104121825.csv     LEX.22  \n",
       "3     42.63  ../dataset/fdm/tail_686_2/686200104130429.csv    DTW.09R  \n",
       "4     95.92  ../dataset/fdm/tail_687_1/686200104130652.csv     OKC.31  "
      ]
     },
     "execution_count": 19,
     "metadata": {},
     "output_type": "execute_result"
    }
   ],
   "source": [
    "flight_runway['arr_rwy_id'] = arrival_runway_id\n",
    "flight_runway.head()"
   ]
  },
  {
   "cell_type": "markdown",
   "metadata": {},
   "source": [
    "#### 2. Select Flight with Selected Runway Id"
   ]
  },
  {
   "cell_type": "code",
   "execution_count": 20,
   "metadata": {},
   "outputs": [],
   "source": [
    "# Choose flight's landing runway to detect airplane engine\n",
    "# landing_runways = ['MSP.30R']\n",
    "landing_runways = ['MSP.30R', 'DTW.09R']"
   ]
  },
  {
   "cell_type": "code",
   "execution_count": 21,
   "metadata": {},
   "outputs": [
    {
     "data": {
      "text/html": [
       "<div>\n",
       "<style scoped>\n",
       "    .dataframe tbody tr th:only-of-type {\n",
       "        vertical-align: middle;\n",
       "    }\n",
       "\n",
       "    .dataframe tbody tr th {\n",
       "        vertical-align: top;\n",
       "    }\n",
       "\n",
       "    .dataframe thead th {\n",
       "        text-align: right;\n",
       "    }\n",
       "</style>\n",
       "<table border=\"1\" class=\"dataframe\">\n",
       "  <thead>\n",
       "    <tr style=\"text-align: right;\">\n",
       "      <th></th>\n",
       "      <th>fname</th>\n",
       "      <th>tail_id</th>\n",
       "      <th>dep_airport</th>\n",
       "      <th>dep_rwy</th>\n",
       "      <th>arr_airport</th>\n",
       "      <th>arr_rwy</th>\n",
       "      <th>fsize_mb</th>\n",
       "      <th>fullpath</th>\n",
       "      <th>arr_rwy_id</th>\n",
       "    </tr>\n",
       "  </thead>\n",
       "  <tbody>\n",
       "    <tr>\n",
       "      <th>0</th>\n",
       "      <td>686200104121532.csv</td>\n",
       "      <td>tail_686_1</td>\n",
       "      <td>BHM</td>\n",
       "      <td>36</td>\n",
       "      <td>DTW</td>\n",
       "      <td>09R</td>\n",
       "      <td>68.39</td>\n",
       "      <td>../dataset/fdm/tail_686_1/686200104121532.csv</td>\n",
       "      <td>DTW.09R</td>\n",
       "    </tr>\n",
       "    <tr>\n",
       "      <th>3</th>\n",
       "      <td>686200104130429.csv</td>\n",
       "      <td>tail_686_2</td>\n",
       "      <td>LEX</td>\n",
       "      <td>22</td>\n",
       "      <td>DTW</td>\n",
       "      <td>09R</td>\n",
       "      <td>42.63</td>\n",
       "      <td>../dataset/fdm/tail_686_2/686200104130429.csv</td>\n",
       "      <td>DTW.09R</td>\n",
       "    </tr>\n",
       "  </tbody>\n",
       "</table>\n",
       "</div>"
      ],
      "text/plain": [
       "                 fname     tail_id dep_airport dep_rwy arr_airport arr_rwy  \\\n",
       "0  686200104121532.csv  tail_686_1         BHM      36         DTW     09R   \n",
       "3  686200104130429.csv  tail_686_2         LEX      22         DTW     09R   \n",
       "\n",
       "   fsize_mb                                       fullpath arr_rwy_id  \n",
       "0     68.39  ../dataset/fdm/tail_686_1/686200104121532.csv    DTW.09R  \n",
       "3     42.63  ../dataset/fdm/tail_686_2/686200104130429.csv    DTW.09R  "
      ]
     },
     "metadata": {},
     "output_type": "display_data"
    },
    {
     "data": {
      "text/plain": [
       "(2, 9)"
      ]
     },
     "execution_count": 21,
     "metadata": {},
     "output_type": "execute_result"
    }
   ],
   "source": [
    "selected_flight = flight_runway[flight_runway['arr_rwy_id'].isin(landing_runways)]\n",
    "display(selected_flight.head())\n",
    "selected_flight.shape"
   ]
  },
  {
   "cell_type": "markdown",
   "metadata": {},
   "source": [
    "#### 3. Create Helper Function to Detect Engine"
   ]
  },
  {
   "cell_type": "code",
   "execution_count": 22,
   "metadata": {},
   "outputs": [
    {
     "name": "stdout",
     "output_type": "stream",
     "text": [
      "../dataset/fdm/tail_686_2/686200104130429.csv\n",
      "B747\n"
     ]
    },
    {
     "data": {
      "text/html": [
       "<div>\n",
       "<style scoped>\n",
       "    .dataframe tbody tr th:only-of-type {\n",
       "        vertical-align: middle;\n",
       "    }\n",
       "\n",
       "    .dataframe tbody tr th {\n",
       "        vertical-align: top;\n",
       "    }\n",
       "\n",
       "    .dataframe thead th {\n",
       "        text-align: right;\n",
       "    }\n",
       "</style>\n",
       "<table border=\"1\" class=\"dataframe\">\n",
       "  <thead>\n",
       "    <tr style=\"text-align: right;\">\n",
       "      <th></th>\n",
       "      <th>n11_rpm</th>\n",
       "      <th>n12_rpm</th>\n",
       "      <th>n13_rpm</th>\n",
       "      <th>n14_rpm</th>\n",
       "      <th>n21_rpm</th>\n",
       "      <th>n22_rpm</th>\n",
       "      <th>n23_rpm</th>\n",
       "      <th>n24_rpm</th>\n",
       "      <th>ctrlcolumn_pos_capt</th>\n",
       "      <th>ctrlcolumn_pos_fo</th>\n",
       "      <th>eng_1_hr</th>\n",
       "      <th>eng_2_hr</th>\n",
       "      <th>eng_3_hr</th>\n",
       "      <th>eng_4_hr</th>\n",
       "    </tr>\n",
       "  </thead>\n",
       "  <tbody>\n",
       "    <tr>\n",
       "      <th>0</th>\n",
       "      <td>1.0</td>\n",
       "      <td>1.75</td>\n",
       "      <td>1.75</td>\n",
       "      <td>0.9375</td>\n",
       "      <td>0.0</td>\n",
       "      <td>0.0</td>\n",
       "      <td>0.0</td>\n",
       "      <td>0.0</td>\n",
       "      <td>2828.0</td>\n",
       "      <td>1895.0</td>\n",
       "      <td>8867.0</td>\n",
       "      <td>6372.0</td>\n",
       "      <td>6372.0</td>\n",
       "      <td>8531.0</td>\n",
       "    </tr>\n",
       "    <tr>\n",
       "      <th>64</th>\n",
       "      <td>1.0</td>\n",
       "      <td>1.75</td>\n",
       "      <td>1.75</td>\n",
       "      <td>0.9375</td>\n",
       "      <td>0.0</td>\n",
       "      <td>0.0</td>\n",
       "      <td>0.0</td>\n",
       "      <td>0.0</td>\n",
       "      <td>2829.0</td>\n",
       "      <td>1896.0</td>\n",
       "      <td>8867.0</td>\n",
       "      <td>6372.0</td>\n",
       "      <td>6372.0</td>\n",
       "      <td>8531.0</td>\n",
       "    </tr>\n",
       "    <tr>\n",
       "      <th>128</th>\n",
       "      <td>1.0</td>\n",
       "      <td>1.75</td>\n",
       "      <td>1.75</td>\n",
       "      <td>0.9375</td>\n",
       "      <td>0.0</td>\n",
       "      <td>0.0</td>\n",
       "      <td>0.0</td>\n",
       "      <td>0.0</td>\n",
       "      <td>2828.0</td>\n",
       "      <td>1896.0</td>\n",
       "      <td>8867.0</td>\n",
       "      <td>6372.0</td>\n",
       "      <td>6372.0</td>\n",
       "      <td>8531.0</td>\n",
       "    </tr>\n",
       "    <tr>\n",
       "      <th>192</th>\n",
       "      <td>1.0</td>\n",
       "      <td>1.75</td>\n",
       "      <td>1.75</td>\n",
       "      <td>0.9375</td>\n",
       "      <td>0.0</td>\n",
       "      <td>0.0</td>\n",
       "      <td>0.0</td>\n",
       "      <td>0.0</td>\n",
       "      <td>2829.0</td>\n",
       "      <td>1896.0</td>\n",
       "      <td>8867.0</td>\n",
       "      <td>6372.0</td>\n",
       "      <td>6372.0</td>\n",
       "      <td>8531.0</td>\n",
       "    </tr>\n",
       "    <tr>\n",
       "      <th>256</th>\n",
       "      <td>1.0</td>\n",
       "      <td>1.75</td>\n",
       "      <td>1.75</td>\n",
       "      <td>0.9375</td>\n",
       "      <td>0.0</td>\n",
       "      <td>0.0</td>\n",
       "      <td>0.0</td>\n",
       "      <td>0.0</td>\n",
       "      <td>2829.0</td>\n",
       "      <td>1896.0</td>\n",
       "      <td>8867.0</td>\n",
       "      <td>6372.0</td>\n",
       "      <td>6372.0</td>\n",
       "      <td>8531.0</td>\n",
       "    </tr>\n",
       "  </tbody>\n",
       "</table>\n",
       "</div>"
      ],
      "text/plain": [
       "     n11_rpm  n12_rpm  n13_rpm  n14_rpm  n21_rpm  n22_rpm  n23_rpm  n24_rpm  \\\n",
       "0        1.0     1.75     1.75   0.9375      0.0      0.0      0.0      0.0   \n",
       "64       1.0     1.75     1.75   0.9375      0.0      0.0      0.0      0.0   \n",
       "128      1.0     1.75     1.75   0.9375      0.0      0.0      0.0      0.0   \n",
       "192      1.0     1.75     1.75   0.9375      0.0      0.0      0.0      0.0   \n",
       "256      1.0     1.75     1.75   0.9375      0.0      0.0      0.0      0.0   \n",
       "\n",
       "     ctrlcolumn_pos_capt  ctrlcolumn_pos_fo  eng_1_hr  eng_2_hr  eng_3_hr  \\\n",
       "0                 2828.0             1895.0    8867.0    6372.0    6372.0   \n",
       "64                2829.0             1896.0    8867.0    6372.0    6372.0   \n",
       "128               2828.0             1896.0    8867.0    6372.0    6372.0   \n",
       "192               2829.0             1896.0    8867.0    6372.0    6372.0   \n",
       "256               2829.0             1896.0    8867.0    6372.0    6372.0   \n",
       "\n",
       "     eng_4_hr  \n",
       "0      8531.0  \n",
       "64     8531.0  \n",
       "128    8531.0  \n",
       "192    8531.0  \n",
       "256    8531.0  "
      ]
     },
     "metadata": {},
     "output_type": "display_data"
    },
    {
     "data": {
      "text/plain": [
       "<AxesSubplot:ylabel='ctrlcolumn_pos_capt'>"
      ]
     },
     "execution_count": 22,
     "metadata": {},
     "output_type": "execute_result"
    },
    {
     "data": {
      "image/png": "[encoded data removed]",
      "text/plain": [
       "<Figure size 432x288 with 1 Axes>"
      ]
     },
     "metadata": {
      "needs_background": "light"
     },
     "output_type": "display_data"
    }
   ],
   "source": [
    "# For debugging function\n",
    "fpath = selected_flight.sample(1).fullpath.iloc[0]\n",
    "print(fpath)\n",
    "fdm_df = pd.read_csv(fpath)\n",
    "\n",
    "engine = None\n",
    "if fdm_df['engcycle_4_hr'].sum() > 0:\n",
    "    n_engine = 4\n",
    "    if fdm_df['ctrlcolumn_pos_capt'].sum() > 0:\n",
    "        engine = 'B747'\n",
    "    else:\n",
    "        engine = 'A380'\n",
    "print(engine)\n",
    "        \n",
    "select_col = ['n11_rpm', 'n12_rpm', 'n13_rpm', 'n14_rpm', 'n21_rpm', 'n22_rpm', 'n23_rpm', \\\n",
    "              'n24_rpm', 'ctrlcolumn_pos_capt', 'ctrlcolumn_pos_fo', 'eng_1_hr', 'eng_2_hr',\\\n",
    "              'eng_3_hr', 'eng_4_hr']\n",
    "test_df = fdm_df[select_col].dropna()\n",
    "display(test_df.head())\n",
    "sns.lineplot(data=test_df.ctrlcolumn_pos_capt)"
   ]
  },
  {
   "cell_type": "markdown",
   "metadata": {},
   "source": [
    "#### Main Function"
   ]
  },
  {
   "cell_type": "code",
   "execution_count": 23,
   "metadata": {},
   "outputs": [],
   "source": [
    "def identify_engine(filepath):\n",
    "    sum_pos_fo_treshold = 0.3 * pow(10, 7)\n",
    "    sum_pos_capt_treshold = 0.3 * pow(10, 7)\n",
    "    \n",
    "    fdm_df = pd.read_csv(filepath)\n",
    "    engine = None\n",
    "    if fdm_df['engcycle_4_hr'].sum() > 0:\n",
    "        n_engine = 4\n",
    "        if fdm_df['ctrlcolumn_pos_capt'].sum() > sum_pos_capt_treshold \\\n",
    "        and fdm_df['ctrlcolumn_pos_fo'].sum() > sum_pos_fo_treshold:\n",
    "            engine = 'B747'\n",
    "        else:\n",
    "            engine = 'A380'\n",
    "    print(f'{filepath}: {engine}')\n",
    "    return engine"
   ]
  },
  {
   "cell_type": "code",
   "execution_count": 24,
   "metadata": {},
   "outputs": [
    {
     "name": "stdout",
     "output_type": "stream",
     "text": [
      "../dataset/fdm/tail_686_2/686200104130429.csv: B747\n"
     ]
    },
    {
     "data": {
      "text/plain": [
       "'B747'"
      ]
     },
     "execution_count": 24,
     "metadata": {},
     "output_type": "execute_result"
    }
   ],
   "source": [
    "identify_engine(fpath)"
   ]
  },
  {
   "cell_type": "markdown",
   "metadata": {},
   "source": [
    "#### 4. Determine Engine"
   ]
  },
  {
   "cell_type": "code",
   "execution_count": 25,
   "metadata": {},
   "outputs": [
    {
     "name": "stdout",
     "output_type": "stream",
     "text": [
      "../dataset/fdm/tail_686_1/686200104121532.csv: B747\n",
      "../dataset/fdm/tail_687_1/686200104130652.csv: B747\n",
      "../dataset/fdm/tail_686_2/686200104130429.csv: B747\n",
      "../dataset/fdm/tail_686_2/686200104121825.csv: B747\n",
      "../dataset/fdm/tail_686_1/686200104121245.csv: B747\n"
     ]
    },
    {
     "data": {
      "text/plain": [
       "0    B747\n",
       "4    B747\n",
       "3    B747\n",
       "2    B747\n",
       "1    B747\n",
       "Name: fullpath, dtype: object"
      ]
     },
     "execution_count": 25,
     "metadata": {},
     "output_type": "execute_result"
    }
   ],
   "source": [
    "engines = flight_runway.sample(5).fullpath.map(identify_engine)\n",
    "engines"
   ]
  },
  {
   "cell_type": "code",
   "execution_count": 43,
   "metadata": {},
   "outputs": [
    {
     "data": {
      "text/html": [
       "<div>\n",
       "<style scoped>\n",
       "    .dataframe tbody tr th:only-of-type {\n",
       "        vertical-align: middle;\n",
       "    }\n",
       "\n",
       "    .dataframe tbody tr th {\n",
       "        vertical-align: top;\n",
       "    }\n",
       "\n",
       "    .dataframe thead th {\n",
       "        text-align: right;\n",
       "    }\n",
       "</style>\n",
       "<table border=\"1\" class=\"dataframe\">\n",
       "  <thead>\n",
       "    <tr style=\"text-align: right;\">\n",
       "      <th></th>\n",
       "      <th>fname</th>\n",
       "      <th>engine</th>\n",
       "    </tr>\n",
       "  </thead>\n",
       "  <tbody>\n",
       "    <tr>\n",
       "      <th>0</th>\n",
       "      <td>686200104121532.csv</td>\n",
       "      <td>B747</td>\n",
       "    </tr>\n",
       "    <tr>\n",
       "      <th>1</th>\n",
       "      <td>686200104121245.csv</td>\n",
       "      <td>B747</td>\n",
       "    </tr>\n",
       "    <tr>\n",
       "      <th>2</th>\n",
       "      <td>686200104121825.csv</td>\n",
       "      <td>B747</td>\n",
       "    </tr>\n",
       "    <tr>\n",
       "      <th>3</th>\n",
       "      <td>686200104130429.csv</td>\n",
       "      <td>B747</td>\n",
       "    </tr>\n",
       "    <tr>\n",
       "      <th>4</th>\n",
       "      <td>686200104130652.csv</td>\n",
       "      <td>B747</td>\n",
       "    </tr>\n",
       "  </tbody>\n",
       "</table>\n",
       "</div>"
      ],
      "text/plain": [
       "                 fname engine\n",
       "0  686200104121532.csv   B747\n",
       "1  686200104121245.csv   B747\n",
       "2  686200104121825.csv   B747\n",
       "3  686200104130429.csv   B747\n",
       "4  686200104130652.csv   B747"
      ]
     },
     "execution_count": 43,
     "metadata": {},
     "output_type": "execute_result"
    }
   ],
   "source": [
    "flight_engine = flight_runway[['fname']].copy()\n",
    "flight_engine['engine'] = engines\n",
    "flight_engine.to_csv(output_file, index=False)\n",
    "flight_engine"
   ]
  },
  {
   "cell_type": "markdown",
   "metadata": {},
   "source": [
    "# Disclaimer\n",
    "To shorten time, results are generated using multiprocessing by running `05_engine_detection.py` script."
   ]
  },
  {
   "cell_type": "markdown",
   "metadata": {},
   "source": [
    "#### Check Result"
   ]
  },
  {
   "cell_type": "code",
   "execution_count": 44,
   "metadata": {},
   "outputs": [
    {
     "data": {
      "text/html": [
       "<div>\n",
       "<style scoped>\n",
       "    .dataframe tbody tr th:only-of-type {\n",
       "        vertical-align: middle;\n",
       "    }\n",
       "\n",
       "    .dataframe tbody tr th {\n",
       "        vertical-align: top;\n",
       "    }\n",
       "\n",
       "    .dataframe thead th {\n",
       "        text-align: right;\n",
       "    }\n",
       "</style>\n",
       "<table border=\"1\" class=\"dataframe\">\n",
       "  <thead>\n",
       "    <tr style=\"text-align: right;\">\n",
       "      <th></th>\n",
       "      <th>fname</th>\n",
       "      <th>engine</th>\n",
       "    </tr>\n",
       "  </thead>\n",
       "  <tbody>\n",
       "    <tr>\n",
       "      <th>0</th>\n",
       "      <td>686200104121532.csv</td>\n",
       "      <td>B747</td>\n",
       "    </tr>\n",
       "    <tr>\n",
       "      <th>1</th>\n",
       "      <td>686200104121245.csv</td>\n",
       "      <td>B747</td>\n",
       "    </tr>\n",
       "    <tr>\n",
       "      <th>2</th>\n",
       "      <td>686200104121825.csv</td>\n",
       "      <td>B747</td>\n",
       "    </tr>\n",
       "    <tr>\n",
       "      <th>3</th>\n",
       "      <td>686200104130429.csv</td>\n",
       "      <td>B747</td>\n",
       "    </tr>\n",
       "    <tr>\n",
       "      <th>4</th>\n",
       "      <td>686200104130652.csv</td>\n",
       "      <td>B747</td>\n",
       "    </tr>\n",
       "  </tbody>\n",
       "</table>\n",
       "</div>"
      ],
      "text/plain": [
       "                 fname engine\n",
       "0  686200104121532.csv   B747\n",
       "1  686200104121245.csv   B747\n",
       "2  686200104121825.csv   B747\n",
       "3  686200104130429.csv   B747\n",
       "4  686200104130652.csv   B747"
      ]
     },
     "execution_count": 44,
     "metadata": {},
     "output_type": "execute_result"
    }
   ],
   "source": [
    "flight_engine = pd.read_csv(output_file)\n",
    "flight_engine.head()"
   ]
  },
  {
   "cell_type": "code",
   "execution_count": 45,
   "metadata": {
    "scrolled": true
   },
   "outputs": [
    {
     "data": {
      "text/plain": [
       "B747    5\n",
       "Name: engine, dtype: int64"
      ]
     },
     "execution_count": 45,
     "metadata": {},
     "output_type": "execute_result"
    }
   ],
   "source": [
    "flight_engine.engine.value_counts()"
   ]
  },
  {
   "cell_type": "markdown",
   "metadata": {},
   "source": [
    "#### Get Engine for MSP30"
   ]
  },
  {
   "cell_type": "code",
   "execution_count": 72,
   "metadata": {},
   "outputs": [
    {
     "data": {
      "text/html": [
       "<div>\n",
       "<style scoped>\n",
       "    .dataframe tbody tr th:only-of-type {\n",
       "        vertical-align: middle;\n",
       "    }\n",
       "\n",
       "    .dataframe tbody tr th {\n",
       "        vertical-align: top;\n",
       "    }\n",
       "\n",
       "    .dataframe thead th {\n",
       "        text-align: right;\n",
       "    }\n",
       "</style>\n",
       "<table border=\"1\" class=\"dataframe\">\n",
       "  <thead>\n",
       "    <tr style=\"text-align: right;\">\n",
       "      <th></th>\n",
       "      <th>fname</th>\n",
       "      <th>arr_rwy_id</th>\n",
       "      <th>engine</th>\n",
       "    </tr>\n",
       "  </thead>\n",
       "  <tbody>\n",
       "  </tbody>\n",
       "</table>\n",
       "</div>"
      ],
      "text/plain": [
       "Empty DataFrame\n",
       "Columns: [fname, arr_rwy_id, engine]\n",
       "Index: []"
      ]
     },
     "execution_count": 72,
     "metadata": {},
     "output_type": "execute_result"
    }
   ],
   "source": [
    "flight_msp30 = flight_runway[flight_runway['arr_rwy_id'] == 'MSP.30R']\n",
    "select_cols = ['fname', 'arr_rwy_id']\n",
    "flight_msp30_engine = flight_msp30[select_cols].join(flight_engine.set_index('fname'), \n",
    "                                                     on='fname',\n",
    "                                                     how='left')\n",
    "flight_msp30_engine"
   ]
  },
  {
   "cell_type": "code",
   "execution_count": 73,
   "metadata": {},
   "outputs": [
    {
     "data": {
      "text/plain": [
       "Series([], Name: engine, dtype: int64)"
      ]
     },
     "execution_count": 73,
     "metadata": {},
     "output_type": "execute_result"
    }
   ],
   "source": [
    "flight_msp30_engine.engine.value_counts()"
   ]
  },
  {
   "cell_type": "code",
   "execution_count": null,
   "metadata": {},
   "outputs": [],
   "source": []
  }
 ],
 "metadata": {
  "kernelspec": {
   "display_name": "fdm_env",
   "language": "python",
   "name": "fdm_env"
  },
  "language_info": {
   "codemirror_mode": {
    "name": "ipython",
    "version": 3
   },
   "file_extension": ".py",
   "mimetype": "text/x-python",
   "name": "python",
   "nbconvert_exporter": "python",
   "pygments_lexer": "ipython3",
   "version": "3.9.5"
  }
 },
 "nbformat": 4,
 "nbformat_minor": 4
}
