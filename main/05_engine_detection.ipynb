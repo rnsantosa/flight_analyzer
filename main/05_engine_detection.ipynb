{
 "cells": [
  {
   "cell_type": "markdown",
   "metadata": {},
   "source": [
    "# Airplane Engine Detection\n",
    "Detect Airplane Engine from FDM Data. Engine are identified using these columns:\n",
    "1. `engcycle_x_hr`: If exist `engcycle_4_hr` column value, then airplane has 4 engine.\n",
    "2. `ctrlcolumn_pos_capt`: If exist `ctrlcolumn_pos_capt` column value, then airplane engine is B747, otherwise it's A380."
   ]
  },
  {
   "cell_type": "markdown",
   "metadata": {},
   "source": [
    "### Import"
   ]
  },
  {
   "cell_type": "code",
   "execution_count": 3,
   "metadata": {},
   "outputs": [
    {
     "name": "stdout",
     "output_type": "stream",
     "text": [
      "The autoreload extension is already loaded. To reload it, use:\n",
      "  %reload_ext autoreload\n"
     ]
    }
   ],
   "source": [
    "%load_ext autoreload\n",
    "%autoreload 2"
   ]
  },
  {
   "cell_type": "code",
   "execution_count": 4,
   "metadata": {},
   "outputs": [],
   "source": [
    "import math\n",
    "import numpy as np\n",
    "import pandas as pd\n",
    "import seaborn as sns"
   ]
  },
  {
   "cell_type": "markdown",
   "metadata": {},
   "source": [
    "### Define File"
   ]
  },
  {
   "cell_type": "code",
   "execution_count": 34,
   "metadata": {},
   "outputs": [],
   "source": [
    "# base_path = '../dataset/database_local'\n",
    "base_path = '../dataset/database'"
   ]
  },
  {
   "cell_type": "code",
   "execution_count": 35,
   "metadata": {},
   "outputs": [],
   "source": [
    "# Input\n",
    "flight_runway_file = f'{base_path}/04_flights_with_runway.csv'\n",
    "landing_runway_file = f'{base_path}/04_landing_count_detail.csv'\n",
    "\n",
    "# Output\n",
    "output_file = f'{base_path}/05_flight_engine.csv'"
   ]
  },
  {
   "cell_type": "markdown",
   "metadata": {},
   "source": [
    "### Read Data"
   ]
  },
  {
   "cell_type": "markdown",
   "metadata": {},
   "source": [
    "#### 1. Read Flight Runway Data "
   ]
  },
  {
   "cell_type": "code",
   "execution_count": 36,
   "metadata": {},
   "outputs": [
    {
     "data": {
      "text/html": [
       "<div>\n",
       "<style scoped>\n",
       "    .dataframe tbody tr th:only-of-type {\n",
       "        vertical-align: middle;\n",
       "    }\n",
       "\n",
       "    .dataframe tbody tr th {\n",
       "        vertical-align: top;\n",
       "    }\n",
       "\n",
       "    .dataframe thead th {\n",
       "        text-align: right;\n",
       "    }\n",
       "</style>\n",
       "<table border=\"1\" class=\"dataframe\">\n",
       "  <thead>\n",
       "    <tr style=\"text-align: right;\">\n",
       "      <th></th>\n",
       "      <th>fname</th>\n",
       "      <th>tail_id</th>\n",
       "      <th>dep_airport</th>\n",
       "      <th>dep_rwy</th>\n",
       "      <th>arr_airport</th>\n",
       "      <th>arr_rwy</th>\n",
       "      <th>fsize_mb</th>\n",
       "      <th>fullpath</th>\n",
       "    </tr>\n",
       "  </thead>\n",
       "  <tbody>\n",
       "    <tr>\n",
       "      <th>0</th>\n",
       "      <td>686200104111724.csv</td>\n",
       "      <td>tail_686_1</td>\n",
       "      <td>MSP</td>\n",
       "      <td>22</td>\n",
       "      <td>FNT</td>\n",
       "      <td>18</td>\n",
       "      <td>50.99</td>\n",
       "      <td>/Volumes/My Passport/desy/tail_686_1/686200104...</td>\n",
       "    </tr>\n",
       "    <tr>\n",
       "      <th>1</th>\n",
       "      <td>686200104120602.csv</td>\n",
       "      <td>tail_686_1</td>\n",
       "      <td>FNT</td>\n",
       "      <td>18</td>\n",
       "      <td>DTW</td>\n",
       "      <td>09L</td>\n",
       "      <td>24.43</td>\n",
       "      <td>/Volumes/My Passport/desy/tail_686_1/686200104...</td>\n",
       "    </tr>\n",
       "    <tr>\n",
       "      <th>2</th>\n",
       "      <td>686200104120802.csv</td>\n",
       "      <td>tail_686_1</td>\n",
       "      <td>DTW</td>\n",
       "      <td>09L</td>\n",
       "      <td>LEX</td>\n",
       "      <td>22</td>\n",
       "      <td>40.53</td>\n",
       "      <td>/Volumes/My Passport/desy/tail_686_1/686200104...</td>\n",
       "    </tr>\n",
       "    <tr>\n",
       "      <th>3</th>\n",
       "      <td>686200104121013.csv</td>\n",
       "      <td>tail_686_1</td>\n",
       "      <td>LEX</td>\n",
       "      <td>22</td>\n",
       "      <td>DTW</td>\n",
       "      <td>09L</td>\n",
       "      <td>43.39</td>\n",
       "      <td>/Volumes/My Passport/desy/tail_686_1/686200104...</td>\n",
       "    </tr>\n",
       "    <tr>\n",
       "      <th>4</th>\n",
       "      <td>686200104121245.csv</td>\n",
       "      <td>tail_686_1</td>\n",
       "      <td>DTW</td>\n",
       "      <td>03L</td>\n",
       "      <td>BHM</td>\n",
       "      <td>24</td>\n",
       "      <td>61.52</td>\n",
       "      <td>/Volumes/My Passport/desy/tail_686_1/686200104...</td>\n",
       "    </tr>\n",
       "  </tbody>\n",
       "</table>\n",
       "</div>"
      ],
      "text/plain": [
       "                 fname     tail_id dep_airport dep_rwy arr_airport arr_rwy  \\\n",
       "0  686200104111724.csv  tail_686_1         MSP      22         FNT      18   \n",
       "1  686200104120602.csv  tail_686_1         FNT      18         DTW     09L   \n",
       "2  686200104120802.csv  tail_686_1         DTW     09L         LEX      22   \n",
       "3  686200104121013.csv  tail_686_1         LEX      22         DTW     09L   \n",
       "4  686200104121245.csv  tail_686_1         DTW     03L         BHM      24   \n",
       "\n",
       "   fsize_mb                                           fullpath  \n",
       "0     50.99  /Volumes/My Passport/desy/tail_686_1/686200104...  \n",
       "1     24.43  /Volumes/My Passport/desy/tail_686_1/686200104...  \n",
       "2     40.53  /Volumes/My Passport/desy/tail_686_1/686200104...  \n",
       "3     43.39  /Volumes/My Passport/desy/tail_686_1/686200104...  \n",
       "4     61.52  /Volumes/My Passport/desy/tail_686_1/686200104...  "
      ]
     },
     "execution_count": 36,
     "metadata": {},
     "output_type": "execute_result"
    }
   ],
   "source": [
    "flight_runway = pd.read_csv(flight_runway_file)\n",
    "flight_runway.head()"
   ]
  },
  {
   "cell_type": "markdown",
   "metadata": {},
   "source": [
    "#### 2. Read Landing Runway Count"
   ]
  },
  {
   "cell_type": "code",
   "execution_count": 37,
   "metadata": {},
   "outputs": [
    {
     "data": {
      "text/html": [
       "<div>\n",
       "<style scoped>\n",
       "    .dataframe tbody tr th:only-of-type {\n",
       "        vertical-align: middle;\n",
       "    }\n",
       "\n",
       "    .dataframe tbody tr th {\n",
       "        vertical-align: top;\n",
       "    }\n",
       "\n",
       "    .dataframe thead th {\n",
       "        text-align: right;\n",
       "    }\n",
       "</style>\n",
       "<table border=\"1\" class=\"dataframe\">\n",
       "  <thead>\n",
       "    <tr style=\"text-align: right;\">\n",
       "      <th></th>\n",
       "      <th>iata_code</th>\n",
       "      <th>runway_ident</th>\n",
       "      <th>flight_count</th>\n",
       "      <th>icao_code</th>\n",
       "      <th>type</th>\n",
       "      <th>name</th>\n",
       "      <th>latitude_rad</th>\n",
       "      <th>longitude_rad</th>\n",
       "      <th>elevation_ft</th>\n",
       "      <th>scheduled_service</th>\n",
       "    </tr>\n",
       "  </thead>\n",
       "  <tbody>\n",
       "    <tr>\n",
       "      <th>0</th>\n",
       "      <td>MSP</td>\n",
       "      <td>MSP.30R</td>\n",
       "      <td>1847</td>\n",
       "      <td>KMSP</td>\n",
       "      <td>large_airport</td>\n",
       "      <td>Minneapolis-St Paul International/Wold-Chamber...</td>\n",
       "      <td>0.783339</td>\n",
       "      <td>-1.627027</td>\n",
       "      <td>841.0</td>\n",
       "      <td>yes</td>\n",
       "    </tr>\n",
       "    <tr>\n",
       "      <th>1</th>\n",
       "      <td>DTW</td>\n",
       "      <td>DTW.03L</td>\n",
       "      <td>713</td>\n",
       "      <td>KDTW</td>\n",
       "      <td>large_airport</td>\n",
       "      <td>Detroit Metropolitan Wayne County Airport</td>\n",
       "      <td>0.736745</td>\n",
       "      <td>-1.454791</td>\n",
       "      <td>645.0</td>\n",
       "      <td>yes</td>\n",
       "    </tr>\n",
       "    <tr>\n",
       "      <th>2</th>\n",
       "      <td>DTW</td>\n",
       "      <td>DTW.09L</td>\n",
       "      <td>628</td>\n",
       "      <td>KDTW</td>\n",
       "      <td>large_airport</td>\n",
       "      <td>Detroit Metropolitan Wayne County Airport</td>\n",
       "      <td>0.736745</td>\n",
       "      <td>-1.454791</td>\n",
       "      <td>645.0</td>\n",
       "      <td>yes</td>\n",
       "    </tr>\n",
       "    <tr>\n",
       "      <th>3</th>\n",
       "      <td>MEM</td>\n",
       "      <td>MEM.18L</td>\n",
       "      <td>542</td>\n",
       "      <td>KMEM</td>\n",
       "      <td>large_airport</td>\n",
       "      <td>Memphis International Airport</td>\n",
       "      <td>0.611605</td>\n",
       "      <td>-1.570390</td>\n",
       "      <td>341.0</td>\n",
       "      <td>yes</td>\n",
       "    </tr>\n",
       "    <tr>\n",
       "      <th>4</th>\n",
       "      <td>MEM</td>\n",
       "      <td>MEM.18R</td>\n",
       "      <td>347</td>\n",
       "      <td>KMEM</td>\n",
       "      <td>large_airport</td>\n",
       "      <td>Memphis International Airport</td>\n",
       "      <td>0.611605</td>\n",
       "      <td>-1.570390</td>\n",
       "      <td>341.0</td>\n",
       "      <td>yes</td>\n",
       "    </tr>\n",
       "  </tbody>\n",
       "</table>\n",
       "</div>"
      ],
      "text/plain": [
       "  iata_code runway_ident  flight_count icao_code           type  \\\n",
       "0       MSP      MSP.30R          1847      KMSP  large_airport   \n",
       "1       DTW      DTW.03L           713      KDTW  large_airport   \n",
       "2       DTW      DTW.09L           628      KDTW  large_airport   \n",
       "3       MEM      MEM.18L           542      KMEM  large_airport   \n",
       "4       MEM      MEM.18R           347      KMEM  large_airport   \n",
       "\n",
       "                                                name  latitude_rad  \\\n",
       "0  Minneapolis-St Paul International/Wold-Chamber...      0.783339   \n",
       "1          Detroit Metropolitan Wayne County Airport      0.736745   \n",
       "2          Detroit Metropolitan Wayne County Airport      0.736745   \n",
       "3                      Memphis International Airport      0.611605   \n",
       "4                      Memphis International Airport      0.611605   \n",
       "\n",
       "   longitude_rad  elevation_ft scheduled_service  \n",
       "0      -1.627027         841.0               yes  \n",
       "1      -1.454791         645.0               yes  \n",
       "2      -1.454791         645.0               yes  \n",
       "3      -1.570390         341.0               yes  \n",
       "4      -1.570390         341.0               yes  "
      ]
     },
     "execution_count": 37,
     "metadata": {},
     "output_type": "execute_result"
    }
   ],
   "source": [
    "landing_runway_count = pd.read_csv(landing_runway_file)\n",
    "landing_runway_count.head()"
   ]
  },
  {
   "cell_type": "markdown",
   "metadata": {},
   "source": [
    "## Transform Data "
   ]
  },
  {
   "cell_type": "markdown",
   "metadata": {},
   "source": [
    "#### 1. Append Full Runway Id Column"
   ]
  },
  {
   "cell_type": "code",
   "execution_count": 38,
   "metadata": {},
   "outputs": [
    {
     "data": {
      "text/plain": [
       "0     FNT.18\n",
       "1    DTW.09L\n",
       "2     LEX.22\n",
       "3    DTW.09L\n",
       "4     BHM.24\n",
       "dtype: object"
      ]
     },
     "execution_count": 38,
     "metadata": {},
     "output_type": "execute_result"
    }
   ],
   "source": [
    "arrival_runway_id = flight_runway['arr_airport'] + '.' + flight_runway['arr_rwy']\n",
    "arrival_runway_id.head()"
   ]
  },
  {
   "cell_type": "code",
   "execution_count": 39,
   "metadata": {},
   "outputs": [
    {
     "data": {
      "text/html": [
       "<div>\n",
       "<style scoped>\n",
       "    .dataframe tbody tr th:only-of-type {\n",
       "        vertical-align: middle;\n",
       "    }\n",
       "\n",
       "    .dataframe tbody tr th {\n",
       "        vertical-align: top;\n",
       "    }\n",
       "\n",
       "    .dataframe thead th {\n",
       "        text-align: right;\n",
       "    }\n",
       "</style>\n",
       "<table border=\"1\" class=\"dataframe\">\n",
       "  <thead>\n",
       "    <tr style=\"text-align: right;\">\n",
       "      <th></th>\n",
       "      <th>fname</th>\n",
       "      <th>tail_id</th>\n",
       "      <th>dep_airport</th>\n",
       "      <th>dep_rwy</th>\n",
       "      <th>arr_airport</th>\n",
       "      <th>arr_rwy</th>\n",
       "      <th>fsize_mb</th>\n",
       "      <th>fullpath</th>\n",
       "      <th>arr_rwy_id</th>\n",
       "    </tr>\n",
       "  </thead>\n",
       "  <tbody>\n",
       "    <tr>\n",
       "      <th>0</th>\n",
       "      <td>686200104111724.csv</td>\n",
       "      <td>tail_686_1</td>\n",
       "      <td>MSP</td>\n",
       "      <td>22</td>\n",
       "      <td>FNT</td>\n",
       "      <td>18</td>\n",
       "      <td>50.99</td>\n",
       "      <td>/Volumes/My Passport/desy/tail_686_1/686200104...</td>\n",
       "      <td>FNT.18</td>\n",
       "    </tr>\n",
       "    <tr>\n",
       "      <th>1</th>\n",
       "      <td>686200104120602.csv</td>\n",
       "      <td>tail_686_1</td>\n",
       "      <td>FNT</td>\n",
       "      <td>18</td>\n",
       "      <td>DTW</td>\n",
       "      <td>09L</td>\n",
       "      <td>24.43</td>\n",
       "      <td>/Volumes/My Passport/desy/tail_686_1/686200104...</td>\n",
       "      <td>DTW.09L</td>\n",
       "    </tr>\n",
       "    <tr>\n",
       "      <th>2</th>\n",
       "      <td>686200104120802.csv</td>\n",
       "      <td>tail_686_1</td>\n",
       "      <td>DTW</td>\n",
       "      <td>09L</td>\n",
       "      <td>LEX</td>\n",
       "      <td>22</td>\n",
       "      <td>40.53</td>\n",
       "      <td>/Volumes/My Passport/desy/tail_686_1/686200104...</td>\n",
       "      <td>LEX.22</td>\n",
       "    </tr>\n",
       "    <tr>\n",
       "      <th>3</th>\n",
       "      <td>686200104121013.csv</td>\n",
       "      <td>tail_686_1</td>\n",
       "      <td>LEX</td>\n",
       "      <td>22</td>\n",
       "      <td>DTW</td>\n",
       "      <td>09L</td>\n",
       "      <td>43.39</td>\n",
       "      <td>/Volumes/My Passport/desy/tail_686_1/686200104...</td>\n",
       "      <td>DTW.09L</td>\n",
       "    </tr>\n",
       "    <tr>\n",
       "      <th>4</th>\n",
       "      <td>686200104121245.csv</td>\n",
       "      <td>tail_686_1</td>\n",
       "      <td>DTW</td>\n",
       "      <td>03L</td>\n",
       "      <td>BHM</td>\n",
       "      <td>24</td>\n",
       "      <td>61.52</td>\n",
       "      <td>/Volumes/My Passport/desy/tail_686_1/686200104...</td>\n",
       "      <td>BHM.24</td>\n",
       "    </tr>\n",
       "  </tbody>\n",
       "</table>\n",
       "</div>"
      ],
      "text/plain": [
       "                 fname     tail_id dep_airport dep_rwy arr_airport arr_rwy  \\\n",
       "0  686200104111724.csv  tail_686_1         MSP      22         FNT      18   \n",
       "1  686200104120602.csv  tail_686_1         FNT      18         DTW     09L   \n",
       "2  686200104120802.csv  tail_686_1         DTW     09L         LEX      22   \n",
       "3  686200104121013.csv  tail_686_1         LEX      22         DTW     09L   \n",
       "4  686200104121245.csv  tail_686_1         DTW     03L         BHM      24   \n",
       "\n",
       "   fsize_mb                                           fullpath arr_rwy_id  \n",
       "0     50.99  /Volumes/My Passport/desy/tail_686_1/686200104...     FNT.18  \n",
       "1     24.43  /Volumes/My Passport/desy/tail_686_1/686200104...    DTW.09L  \n",
       "2     40.53  /Volumes/My Passport/desy/tail_686_1/686200104...     LEX.22  \n",
       "3     43.39  /Volumes/My Passport/desy/tail_686_1/686200104...    DTW.09L  \n",
       "4     61.52  /Volumes/My Passport/desy/tail_686_1/686200104...     BHM.24  "
      ]
     },
     "execution_count": 39,
     "metadata": {},
     "output_type": "execute_result"
    }
   ],
   "source": [
    "flight_runway['arr_rwy_id'] = arrival_runway_id\n",
    "flight_runway.head()"
   ]
  },
  {
   "cell_type": "markdown",
   "metadata": {},
   "source": [
    "#### 2. Select Flight with Selected Runway Id"
   ]
  },
  {
   "cell_type": "code",
   "execution_count": 40,
   "metadata": {},
   "outputs": [],
   "source": [
    "# Choose flight's landing runway to detect airplane engine\n",
    "# landing_runways = ['MSP.30R']\n",
    "landing_runways = ['MSP.30R', 'DTW.09R']"
   ]
  },
  {
   "cell_type": "code",
   "execution_count": 41,
   "metadata": {},
   "outputs": [
    {
     "data": {
      "text/html": [
       "<div>\n",
       "<style scoped>\n",
       "    .dataframe tbody tr th:only-of-type {\n",
       "        vertical-align: middle;\n",
       "    }\n",
       "\n",
       "    .dataframe tbody tr th {\n",
       "        vertical-align: top;\n",
       "    }\n",
       "\n",
       "    .dataframe thead th {\n",
       "        text-align: right;\n",
       "    }\n",
       "</style>\n",
       "<table border=\"1\" class=\"dataframe\">\n",
       "  <thead>\n",
       "    <tr style=\"text-align: right;\">\n",
       "      <th></th>\n",
       "      <th>fname</th>\n",
       "      <th>tail_id</th>\n",
       "      <th>dep_airport</th>\n",
       "      <th>dep_rwy</th>\n",
       "      <th>arr_airport</th>\n",
       "      <th>arr_rwy</th>\n",
       "      <th>fsize_mb</th>\n",
       "      <th>fullpath</th>\n",
       "      <th>arr_rwy_id</th>\n",
       "    </tr>\n",
       "  </thead>\n",
       "  <tbody>\n",
       "    <tr>\n",
       "      <th>5</th>\n",
       "      <td>686200104121532.csv</td>\n",
       "      <td>tail_686_1</td>\n",
       "      <td>BHM</td>\n",
       "      <td>36</td>\n",
       "      <td>DTW</td>\n",
       "      <td>09R</td>\n",
       "      <td>68.39</td>\n",
       "      <td>/Volumes/My Passport/desy/tail_686_1/686200104...</td>\n",
       "      <td>DTW.09R</td>\n",
       "    </tr>\n",
       "    <tr>\n",
       "      <th>7</th>\n",
       "      <td>686200104130429.csv</td>\n",
       "      <td>tail_686_1</td>\n",
       "      <td>LEX</td>\n",
       "      <td>22</td>\n",
       "      <td>DTW</td>\n",
       "      <td>09R</td>\n",
       "      <td>42.63</td>\n",
       "      <td>/Volumes/My Passport/desy/tail_686_1/686200104...</td>\n",
       "      <td>DTW.09R</td>\n",
       "    </tr>\n",
       "    <tr>\n",
       "      <th>33</th>\n",
       "      <td>686200104160640.csv</td>\n",
       "      <td>tail_686_1</td>\n",
       "      <td>CVG</td>\n",
       "      <td>18C</td>\n",
       "      <td>MSP</td>\n",
       "      <td>30R</td>\n",
       "      <td>80.96</td>\n",
       "      <td>/Volumes/My Passport/desy/tail_686_1/686200104...</td>\n",
       "      <td>MSP.30R</td>\n",
       "    </tr>\n",
       "    <tr>\n",
       "      <th>35</th>\n",
       "      <td>686200104161057.csv</td>\n",
       "      <td>tail_686_1</td>\n",
       "      <td>MSN</td>\n",
       "      <td>18</td>\n",
       "      <td>MSP</td>\n",
       "      <td>30R</td>\n",
       "      <td>48.32</td>\n",
       "      <td>/Volumes/My Passport/desy/tail_686_1/686200104...</td>\n",
       "      <td>MSP.30R</td>\n",
       "    </tr>\n",
       "    <tr>\n",
       "      <th>37</th>\n",
       "      <td>686200104170613.csv</td>\n",
       "      <td>tail_686_1</td>\n",
       "      <td>GSO</td>\n",
       "      <td>32</td>\n",
       "      <td>MSP</td>\n",
       "      <td>30R</td>\n",
       "      <td>108.79</td>\n",
       "      <td>/Volumes/My Passport/desy/tail_686_1/686200104...</td>\n",
       "      <td>MSP.30R</td>\n",
       "    </tr>\n",
       "  </tbody>\n",
       "</table>\n",
       "</div>"
      ],
      "text/plain": [
       "                  fname     tail_id dep_airport dep_rwy arr_airport arr_rwy  \\\n",
       "5   686200104121532.csv  tail_686_1         BHM      36         DTW     09R   \n",
       "7   686200104130429.csv  tail_686_1         LEX      22         DTW     09R   \n",
       "33  686200104160640.csv  tail_686_1         CVG     18C         MSP     30R   \n",
       "35  686200104161057.csv  tail_686_1         MSN      18         MSP     30R   \n",
       "37  686200104170613.csv  tail_686_1         GSO      32         MSP     30R   \n",
       "\n",
       "    fsize_mb                                           fullpath arr_rwy_id  \n",
       "5      68.39  /Volumes/My Passport/desy/tail_686_1/686200104...    DTW.09R  \n",
       "7      42.63  /Volumes/My Passport/desy/tail_686_1/686200104...    DTW.09R  \n",
       "33     80.96  /Volumes/My Passport/desy/tail_686_1/686200104...    MSP.30R  \n",
       "35     48.32  /Volumes/My Passport/desy/tail_686_1/686200104...    MSP.30R  \n",
       "37    108.79  /Volumes/My Passport/desy/tail_686_1/686200104...    MSP.30R  "
      ]
     },
     "metadata": {},
     "output_type": "display_data"
    },
    {
     "data": {
      "text/plain": [
       "(2095, 9)"
      ]
     },
     "execution_count": 41,
     "metadata": {},
     "output_type": "execute_result"
    }
   ],
   "source": [
    "selected_flight = flight_runway[flight_runway['arr_rwy_id'].isin(landing_runways)]\n",
    "display(selected_flight.head())\n",
    "selected_flight.shape"
   ]
  },
  {
   "cell_type": "markdown",
   "metadata": {},
   "source": [
    "#### 3. Create Helper Function to Detect Engine"
   ]
  },
  {
   "cell_type": "code",
   "execution_count": 28,
   "metadata": {},
   "outputs": [
    {
     "name": "stdout",
     "output_type": "stream",
     "text": [
      "../dataset/fdm/tail_686_1/686200104121532.csv\n",
      "B747\n"
     ]
    },
    {
     "data": {
      "text/html": [
       "<div>\n",
       "<style scoped>\n",
       "    .dataframe tbody tr th:only-of-type {\n",
       "        vertical-align: middle;\n",
       "    }\n",
       "\n",
       "    .dataframe tbody tr th {\n",
       "        vertical-align: top;\n",
       "    }\n",
       "\n",
       "    .dataframe thead th {\n",
       "        text-align: right;\n",
       "    }\n",
       "</style>\n",
       "<table border=\"1\" class=\"dataframe\">\n",
       "  <thead>\n",
       "    <tr style=\"text-align: right;\">\n",
       "      <th></th>\n",
       "      <th>n11_rpm</th>\n",
       "      <th>n12_rpm</th>\n",
       "      <th>n13_rpm</th>\n",
       "      <th>n14_rpm</th>\n",
       "      <th>n21_rpm</th>\n",
       "      <th>n22_rpm</th>\n",
       "      <th>n23_rpm</th>\n",
       "      <th>n24_rpm</th>\n",
       "      <th>ctrlcolumn_pos_capt</th>\n",
       "      <th>ctrlcolumn_pos_fo</th>\n",
       "      <th>eng_1_hr</th>\n",
       "      <th>eng_2_hr</th>\n",
       "      <th>eng_3_hr</th>\n",
       "      <th>eng_4_hr</th>\n",
       "    </tr>\n",
       "  </thead>\n",
       "  <tbody>\n",
       "    <tr>\n",
       "      <th>0</th>\n",
       "      <td>1.0</td>\n",
       "      <td>1.75</td>\n",
       "      <td>1.75</td>\n",
       "      <td>0.9375</td>\n",
       "      <td>0.0</td>\n",
       "      <td>0.0</td>\n",
       "      <td>0.0</td>\n",
       "      <td>0.0</td>\n",
       "      <td>2825.0</td>\n",
       "      <td>1904.0</td>\n",
       "      <td>8864.0</td>\n",
       "      <td>6369.0</td>\n",
       "      <td>6369.0</td>\n",
       "      <td>8528.0</td>\n",
       "    </tr>\n",
       "    <tr>\n",
       "      <th>64</th>\n",
       "      <td>1.0</td>\n",
       "      <td>1.75</td>\n",
       "      <td>1.75</td>\n",
       "      <td>0.9375</td>\n",
       "      <td>0.0</td>\n",
       "      <td>0.0</td>\n",
       "      <td>0.0</td>\n",
       "      <td>0.0</td>\n",
       "      <td>2825.0</td>\n",
       "      <td>1904.0</td>\n",
       "      <td>8864.0</td>\n",
       "      <td>6369.0</td>\n",
       "      <td>6369.0</td>\n",
       "      <td>8528.0</td>\n",
       "    </tr>\n",
       "    <tr>\n",
       "      <th>128</th>\n",
       "      <td>1.0</td>\n",
       "      <td>1.75</td>\n",
       "      <td>1.75</td>\n",
       "      <td>0.9375</td>\n",
       "      <td>0.0</td>\n",
       "      <td>0.0</td>\n",
       "      <td>0.0</td>\n",
       "      <td>0.0</td>\n",
       "      <td>2825.0</td>\n",
       "      <td>1904.0</td>\n",
       "      <td>8864.0</td>\n",
       "      <td>6369.0</td>\n",
       "      <td>6369.0</td>\n",
       "      <td>8528.0</td>\n",
       "    </tr>\n",
       "    <tr>\n",
       "      <th>192</th>\n",
       "      <td>1.0</td>\n",
       "      <td>1.75</td>\n",
       "      <td>1.75</td>\n",
       "      <td>0.9375</td>\n",
       "      <td>0.0</td>\n",
       "      <td>0.0</td>\n",
       "      <td>0.0</td>\n",
       "      <td>0.0</td>\n",
       "      <td>2825.0</td>\n",
       "      <td>1903.0</td>\n",
       "      <td>8864.0</td>\n",
       "      <td>6369.0</td>\n",
       "      <td>6369.0</td>\n",
       "      <td>8528.0</td>\n",
       "    </tr>\n",
       "    <tr>\n",
       "      <th>256</th>\n",
       "      <td>1.0</td>\n",
       "      <td>1.75</td>\n",
       "      <td>1.75</td>\n",
       "      <td>0.9375</td>\n",
       "      <td>0.0</td>\n",
       "      <td>0.0</td>\n",
       "      <td>0.0</td>\n",
       "      <td>0.0</td>\n",
       "      <td>2825.0</td>\n",
       "      <td>1903.0</td>\n",
       "      <td>8864.0</td>\n",
       "      <td>6369.0</td>\n",
       "      <td>6369.0</td>\n",
       "      <td>8528.0</td>\n",
       "    </tr>\n",
       "  </tbody>\n",
       "</table>\n",
       "</div>"
      ],
      "text/plain": [
       "     n11_rpm  n12_rpm  n13_rpm  n14_rpm  n21_rpm  n22_rpm  n23_rpm  n24_rpm  \\\n",
       "0        1.0     1.75     1.75   0.9375      0.0      0.0      0.0      0.0   \n",
       "64       1.0     1.75     1.75   0.9375      0.0      0.0      0.0      0.0   \n",
       "128      1.0     1.75     1.75   0.9375      0.0      0.0      0.0      0.0   \n",
       "192      1.0     1.75     1.75   0.9375      0.0      0.0      0.0      0.0   \n",
       "256      1.0     1.75     1.75   0.9375      0.0      0.0      0.0      0.0   \n",
       "\n",
       "     ctrlcolumn_pos_capt  ctrlcolumn_pos_fo  eng_1_hr  eng_2_hr  eng_3_hr  \\\n",
       "0                 2825.0             1904.0    8864.0    6369.0    6369.0   \n",
       "64                2825.0             1904.0    8864.0    6369.0    6369.0   \n",
       "128               2825.0             1904.0    8864.0    6369.0    6369.0   \n",
       "192               2825.0             1903.0    8864.0    6369.0    6369.0   \n",
       "256               2825.0             1903.0    8864.0    6369.0    6369.0   \n",
       "\n",
       "     eng_4_hr  \n",
       "0      8528.0  \n",
       "64     8528.0  \n",
       "128    8528.0  \n",
       "192    8528.0  \n",
       "256    8528.0  "
      ]
     },
     "metadata": {},
     "output_type": "display_data"
    },
    {
     "data": {
      "text/plain": [
       "<AxesSubplot:ylabel='ctrlcolumn_pos_capt'>"
      ]
     },
     "execution_count": 28,
     "metadata": {},
     "output_type": "execute_result"
    },
    {
     "data": {
      "image/png": "[encoded data removed]",
      "text/plain": [
       "<Figure size 432x288 with 1 Axes>"
      ]
     },
     "metadata": {
      "needs_background": "light"
     },
     "output_type": "display_data"
    }
   ],
   "source": [
    "# For debugging function\n",
    "fpath = selected_flight.sample(1).fullpath.iloc[0]\n",
    "print(fpath)\n",
    "fdm_df = pd.read_csv(fpath)\n",
    "\n",
    "engine = None\n",
    "if fdm_df['engcycle_4_hr'].sum() > 0:\n",
    "    n_engine = 4\n",
    "    if fdm_df['ctrlcolumn_pos_capt'].sum() > 0:\n",
    "        engine = 'B747'\n",
    "    else:\n",
    "        engine = 'A380'\n",
    "print(engine)\n",
    "        \n",
    "select_col = ['n11_rpm', 'n12_rpm', 'n13_rpm', 'n14_rpm', 'n21_rpm', 'n22_rpm', 'n23_rpm', \\\n",
    "              'n24_rpm', 'ctrlcolumn_pos_capt', 'ctrlcolumn_pos_fo', 'eng_1_hr', 'eng_2_hr',\\\n",
    "              'eng_3_hr', 'eng_4_hr']\n",
    "test_df = fdm_df[select_col].dropna()\n",
    "display(test_df.head())\n",
    "sns.lineplot(data=test_df.ctrlcolumn_pos_capt)"
   ]
  },
  {
   "cell_type": "markdown",
   "metadata": {},
   "source": [
    "#### Main Function"
   ]
  },
  {
   "cell_type": "code",
   "execution_count": 29,
   "metadata": {},
   "outputs": [],
   "source": [
    "def identify_engine(filepath):\n",
    "    sum_pos_fo_treshold = 0.3 * pow(10, 7)\n",
    "    sum_pos_capt_treshold = 0.3 * pow(10, 7)\n",
    "    \n",
    "    fdm_df = pd.read_csv(filepath)\n",
    "    engine = None\n",
    "    if fdm_df['engcycle_4_hr'].sum() > 0:\n",
    "        n_engine = 4\n",
    "        if fdm_df['ctrlcolumn_pos_capt'].sum() > sum_pos_capt_treshold \\\n",
    "        and fdm_df['ctrlcolumn_pos_fo'].sum() > sum_pos_fo_treshold:\n",
    "            engine = 'B747'\n",
    "        else:\n",
    "            engine = 'A380'\n",
    "    print(f'{filepath}: {engine}')\n",
    "    return engine"
   ]
  },
  {
   "cell_type": "code",
   "execution_count": 30,
   "metadata": {},
   "outputs": [
    {
     "name": "stdout",
     "output_type": "stream",
     "text": [
      "../dataset/fdm/tail_686_1/686200104121532.csv: B747\n"
     ]
    },
    {
     "data": {
      "text/plain": [
       "'B747'"
      ]
     },
     "execution_count": 30,
     "metadata": {},
     "output_type": "execute_result"
    }
   ],
   "source": [
    "identify_engine(fpath)"
   ]
  },
  {
   "cell_type": "markdown",
   "metadata": {},
   "source": [
    "#### 4. Determine Engine"
   ]
  },
  {
   "cell_type": "code",
   "execution_count": 32,
   "metadata": {},
   "outputs": [
    {
     "name": "stdout",
     "output_type": "stream",
     "text": [
      "../dataset/fdm/tail_687_1/686200104130652.csv: B747\n",
      "../dataset/fdm/tail_686_2/686200104121825.csv: B747\n",
      "../dataset/fdm/tail_686_1/686200104121245.csv: B747\n",
      "../dataset/fdm/tail_686_1/686200104121532.csv: B747\n",
      "../dataset/fdm/tail_686_2/686200104130429.csv: B747\n"
     ]
    },
    {
     "data": {
      "text/plain": [
       "4    B747\n",
       "2    B747\n",
       "1    B747\n",
       "0    B747\n",
       "3    B747\n",
       "Name: fullpath, dtype: object"
      ]
     },
     "execution_count": 32,
     "metadata": {},
     "output_type": "execute_result"
    }
   ],
   "source": [
    "engines = flight_runway.sample(5).fullpath.map(identify_engine)\n",
    "engines"
   ]
  },
  {
   "cell_type": "markdown",
   "metadata": {},
   "source": [
    "# Disclaimer\n",
    "To shorten time, results are generated using multiprocessing by running `05_engine_detection.py` script."
   ]
  },
  {
   "cell_type": "markdown",
   "metadata": {},
   "source": [
    "#### Check Result"
   ]
  },
  {
   "cell_type": "code",
   "execution_count": 42,
   "metadata": {},
   "outputs": [
    {
     "data": {
      "text/html": [
       "<div>\n",
       "<style scoped>\n",
       "    .dataframe tbody tr th:only-of-type {\n",
       "        vertical-align: middle;\n",
       "    }\n",
       "\n",
       "    .dataframe tbody tr th {\n",
       "        vertical-align: top;\n",
       "    }\n",
       "\n",
       "    .dataframe thead th {\n",
       "        text-align: right;\n",
       "    }\n",
       "</style>\n",
       "<table border=\"1\" class=\"dataframe\">\n",
       "  <thead>\n",
       "    <tr style=\"text-align: right;\">\n",
       "      <th></th>\n",
       "      <th>filepath</th>\n",
       "      <th>sum_engcycle_4_hr</th>\n",
       "      <th>sum_pos_capt</th>\n",
       "      <th>sum_pos_fo</th>\n",
       "      <th>engine</th>\n",
       "    </tr>\n",
       "  </thead>\n",
       "  <tbody>\n",
       "    <tr>\n",
       "      <th>0</th>\n",
       "      <td>686200104241134.csv</td>\n",
       "      <td>5427536.0</td>\n",
       "      <td>13546465.0</td>\n",
       "      <td>10192523.0</td>\n",
       "      <td>B747</td>\n",
       "    </tr>\n",
       "    <tr>\n",
       "      <th>1</th>\n",
       "      <td>686200104251118.csv</td>\n",
       "      <td>6567856.0</td>\n",
       "      <td>16351670.0</td>\n",
       "      <td>12408496.0</td>\n",
       "      <td>B747</td>\n",
       "    </tr>\n",
       "    <tr>\n",
       "      <th>2</th>\n",
       "      <td>686200104241456.csv</td>\n",
       "      <td>8666129.0</td>\n",
       "      <td>21633010.0</td>\n",
       "      <td>16803295.0</td>\n",
       "      <td>B747</td>\n",
       "    </tr>\n",
       "    <tr>\n",
       "      <th>3</th>\n",
       "      <td>686200104251448.csv</td>\n",
       "      <td>9619402.0</td>\n",
       "      <td>23966985.0</td>\n",
       "      <td>18695654.0</td>\n",
       "      <td>B747</td>\n",
       "    </tr>\n",
       "    <tr>\n",
       "      <th>4</th>\n",
       "      <td>686200104161057.csv</td>\n",
       "      <td>11082776.0</td>\n",
       "      <td>27742748.0</td>\n",
       "      <td>21040467.0</td>\n",
       "      <td>B747</td>\n",
       "    </tr>\n",
       "  </tbody>\n",
       "</table>\n",
       "</div>"
      ],
      "text/plain": [
       "              filepath  sum_engcycle_4_hr  sum_pos_capt  sum_pos_fo engine\n",
       "0  686200104241134.csv          5427536.0    13546465.0  10192523.0   B747\n",
       "1  686200104251118.csv          6567856.0    16351670.0  12408496.0   B747\n",
       "2  686200104241456.csv          8666129.0    21633010.0  16803295.0   B747\n",
       "3  686200104251448.csv          9619402.0    23966985.0  18695654.0   B747\n",
       "4  686200104161057.csv         11082776.0    27742748.0  21040467.0   B747"
      ]
     },
     "execution_count": 42,
     "metadata": {},
     "output_type": "execute_result"
    }
   ],
   "source": [
    "flight_engine = pd.read_csv(output_file)\n",
    "flight_engine.head()"
   ]
  },
  {
   "cell_type": "code",
   "execution_count": 43,
   "metadata": {},
   "outputs": [
    {
     "data": {
      "text/plain": [
       "37"
      ]
     },
     "execution_count": 43,
     "metadata": {},
     "output_type": "execute_result"
    }
   ],
   "source": [
    "sum(flight_engine.sum_pos_capt == 0)"
   ]
  },
  {
   "cell_type": "code",
   "execution_count": 44,
   "metadata": {
    "scrolled": true
   },
   "outputs": [
    {
     "data": {
      "text/plain": [
       "B747    1810\n",
       "A380      37\n",
       "Name: engine, dtype: int64"
      ]
     },
     "execution_count": 44,
     "metadata": {},
     "output_type": "execute_result"
    }
   ],
   "source": [
    "flight_engine.engine.value_counts()"
   ]
  }
 ],
 "metadata": {
  "kernelspec": {
   "display_name": "fdm_env",
   "language": "python",
   "name": "fdm_env"
  },
  "language_info": {
   "codemirror_mode": {
    "name": "ipython",
    "version": 3
   },
   "file_extension": ".py",
   "mimetype": "text/x-python",
   "name": "python",
   "nbconvert_exporter": "python",
   "pygments_lexer": "ipython3",
   "version": "3.9.5"
  }
 },
 "nbformat": 4,
 "nbformat_minor": 4
}
