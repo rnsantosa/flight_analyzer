{
 "cells": [
  {
   "cell_type": "markdown",
   "metadata": {},
   "source": [
    "# FDM File Management\n",
    "1. Convert CSV dataset to Parquet to reduce file size. - deprecated\n",
    "2. Create database of list of FDM files, origin file, path, filesize info. "
   ]
  },
  {
   "cell_type": "markdown",
   "metadata": {},
   "source": [
    "## Import"
   ]
  },
  {
   "cell_type": "code",
   "execution_count": 2,
   "metadata": {},
   "outputs": [],
   "source": [
    "import pandas as pd\n",
    "import numpy as np\n",
    "import os\n",
    "import math"
   ]
  },
  {
   "cell_type": "markdown",
   "metadata": {},
   "source": [
    "### Constant"
   ]
  },
  {
   "cell_type": "code",
   "execution_count": 11,
   "metadata": {},
   "outputs": [],
   "source": [
    "# fdm_folder_path = '../dataset/fdm'\n",
    "# output = '../dataset/database_local/01_fdm_files.csv'"
   ]
  },
  {
   "cell_type": "code",
   "execution_count": 1,
   "metadata": {},
   "outputs": [],
   "source": [
    "fdm_folder_path = '/Volumes/My Passport/desy'\n",
    "output = '../dataset/database/01_fdm_files.csv'"
   ]
  },
  {
   "cell_type": "markdown",
   "metadata": {},
   "source": [
    "## Read Files\n",
    "Retrieve all FDM files information and create dataset."
   ]
  },
  {
   "cell_type": "code",
   "execution_count": 3,
   "metadata": {},
   "outputs": [],
   "source": [
    "# Scan through the folder\n",
    "filename_list, tail_id_list, fsize_mb_list, fullpath_list = [], [], [], []\n",
    "for root, dirs, files in os.walk(fdm_folder_path):\n",
    "    for file in files:\n",
    "        if file.endswith(\".csv\"):\n",
    "            path = os.path.join(root, file)\n",
    "            filesize = round(os.stat(path).st_size / 1000000, 2)\n",
    "            tail_id = os.path.basename(root)\n",
    "\n",
    "            filename_list.append(file)\n",
    "            fullpath_list.append(path)\n",
    "            fsize_mb_list.append(filesize)\n",
    "            tail_id_list.append(tail_id)"
   ]
  },
  {
   "cell_type": "markdown",
   "metadata": {},
   "source": [
    "### Create File Database"
   ]
  },
  {
   "cell_type": "code",
   "execution_count": 4,
   "metadata": {},
   "outputs": [],
   "source": [
    "col_to_list = {'fname': filename_list,\n",
    "               'tail_id': tail_id_list,\n",
    "               'fsize_mb': fsize_mb_list,\n",
    "               'fullpath': fullpath_list}\n",
    "fdm_files = pd.DataFrame(col_to_list)"
   ]
  },
  {
   "cell_type": "code",
   "execution_count": 5,
   "metadata": {},
   "outputs": [
    {
     "data": {
      "text/html": [
       "<div>\n",
       "<style scoped>\n",
       "    .dataframe tbody tr th:only-of-type {\n",
       "        vertical-align: middle;\n",
       "    }\n",
       "\n",
       "    .dataframe tbody tr th {\n",
       "        vertical-align: top;\n",
       "    }\n",
       "\n",
       "    .dataframe thead th {\n",
       "        text-align: right;\n",
       "    }\n",
       "</style>\n",
       "<table border=\"1\" class=\"dataframe\">\n",
       "  <thead>\n",
       "    <tr style=\"text-align: right;\">\n",
       "      <th></th>\n",
       "      <th>fname</th>\n",
       "      <th>tail_id</th>\n",
       "      <th>fsize_mb</th>\n",
       "      <th>fullpath</th>\n",
       "    </tr>\n",
       "  </thead>\n",
       "  <tbody>\n",
       "    <tr>\n",
       "      <th>0</th>\n",
       "      <td>686200104111724.csv</td>\n",
       "      <td>tail_686_1</td>\n",
       "      <td>50.99</td>\n",
       "      <td>/Volumes/My Passport/desy/tail_686_1/686200104...</td>\n",
       "    </tr>\n",
       "    <tr>\n",
       "      <th>1</th>\n",
       "      <td>686200104120602.csv</td>\n",
       "      <td>tail_686_1</td>\n",
       "      <td>24.43</td>\n",
       "      <td>/Volumes/My Passport/desy/tail_686_1/686200104...</td>\n",
       "    </tr>\n",
       "    <tr>\n",
       "      <th>2</th>\n",
       "      <td>686200104120802.csv</td>\n",
       "      <td>tail_686_1</td>\n",
       "      <td>40.53</td>\n",
       "      <td>/Volumes/My Passport/desy/tail_686_1/686200104...</td>\n",
       "    </tr>\n",
       "    <tr>\n",
       "      <th>3</th>\n",
       "      <td>686200104121013.csv</td>\n",
       "      <td>tail_686_1</td>\n",
       "      <td>43.39</td>\n",
       "      <td>/Volumes/My Passport/desy/tail_686_1/686200104...</td>\n",
       "    </tr>\n",
       "    <tr>\n",
       "      <th>4</th>\n",
       "      <td>686200104121245.csv</td>\n",
       "      <td>tail_686_1</td>\n",
       "      <td>61.52</td>\n",
       "      <td>/Volumes/My Passport/desy/tail_686_1/686200104...</td>\n",
       "    </tr>\n",
       "    <tr>\n",
       "      <th>...</th>\n",
       "      <td>...</td>\n",
       "      <td>...</td>\n",
       "      <td>...</td>\n",
       "      <td>...</td>\n",
       "    </tr>\n",
       "    <tr>\n",
       "      <th>9311</th>\n",
       "      <td>687201003032120.csv</td>\n",
       "      <td>tail_687_9</td>\n",
       "      <td>16.87</td>\n",
       "      <td>/Volumes/My Passport/desy/tail_687_9/687201003...</td>\n",
       "    </tr>\n",
       "    <tr>\n",
       "      <th>9312</th>\n",
       "      <td>687201003040534.csv</td>\n",
       "      <td>tail_687_9</td>\n",
       "      <td>20.63</td>\n",
       "      <td>/Volumes/My Passport/desy/tail_687_9/687201003...</td>\n",
       "    </tr>\n",
       "    <tr>\n",
       "      <th>9313</th>\n",
       "      <td>687201003040811.csv</td>\n",
       "      <td>tail_687_9</td>\n",
       "      <td>56.74</td>\n",
       "      <td>/Volumes/My Passport/desy/tail_687_9/687201003...</td>\n",
       "    </tr>\n",
       "    <tr>\n",
       "      <th>9314</th>\n",
       "      <td>687201003041105.csv</td>\n",
       "      <td>tail_687_9</td>\n",
       "      <td>55.84</td>\n",
       "      <td>/Volumes/My Passport/desy/tail_687_9/687201003...</td>\n",
       "    </tr>\n",
       "    <tr>\n",
       "      <th>9315</th>\n",
       "      <td>687201003041723.csv</td>\n",
       "      <td>tail_687_9</td>\n",
       "      <td>63.22</td>\n",
       "      <td>/Volumes/My Passport/desy/tail_687_9/687201003...</td>\n",
       "    </tr>\n",
       "  </tbody>\n",
       "</table>\n",
       "<p>9316 rows × 4 columns</p>\n",
       "</div>"
      ],
      "text/plain": [
       "                    fname     tail_id  fsize_mb  \\\n",
       "0     686200104111724.csv  tail_686_1     50.99   \n",
       "1     686200104120602.csv  tail_686_1     24.43   \n",
       "2     686200104120802.csv  tail_686_1     40.53   \n",
       "3     686200104121013.csv  tail_686_1     43.39   \n",
       "4     686200104121245.csv  tail_686_1     61.52   \n",
       "...                   ...         ...       ...   \n",
       "9311  687201003032120.csv  tail_687_9     16.87   \n",
       "9312  687201003040534.csv  tail_687_9     20.63   \n",
       "9313  687201003040811.csv  tail_687_9     56.74   \n",
       "9314  687201003041105.csv  tail_687_9     55.84   \n",
       "9315  687201003041723.csv  tail_687_9     63.22   \n",
       "\n",
       "                                               fullpath  \n",
       "0     /Volumes/My Passport/desy/tail_686_1/686200104...  \n",
       "1     /Volumes/My Passport/desy/tail_686_1/686200104...  \n",
       "2     /Volumes/My Passport/desy/tail_686_1/686200104...  \n",
       "3     /Volumes/My Passport/desy/tail_686_1/686200104...  \n",
       "4     /Volumes/My Passport/desy/tail_686_1/686200104...  \n",
       "...                                                 ...  \n",
       "9311  /Volumes/My Passport/desy/tail_687_9/687201003...  \n",
       "9312  /Volumes/My Passport/desy/tail_687_9/687201003...  \n",
       "9313  /Volumes/My Passport/desy/tail_687_9/687201003...  \n",
       "9314  /Volumes/My Passport/desy/tail_687_9/687201003...  \n",
       "9315  /Volumes/My Passport/desy/tail_687_9/687201003...  \n",
       "\n",
       "[9316 rows x 4 columns]"
      ]
     },
     "execution_count": 5,
     "metadata": {},
     "output_type": "execute_result"
    }
   ],
   "source": [
    "fdm_files"
   ]
  },
  {
   "cell_type": "code",
   "execution_count": 6,
   "metadata": {
    "scrolled": true
   },
   "outputs": [
    {
     "data": {
      "text/plain": [
       "True"
      ]
     },
     "execution_count": 6,
     "metadata": {},
     "output_type": "execute_result"
    }
   ],
   "source": [
    "fdm_files.fname.is_unique"
   ]
  },
  {
   "cell_type": "code",
   "execution_count": 7,
   "metadata": {},
   "outputs": [],
   "source": [
    "fdm_files.to_csv(output, index=False)"
   ]
  },
  {
   "cell_type": "markdown",
   "metadata": {},
   "source": [
    "## Convert to Parquet (Optional)\n",
    "Using Spark to save time"
   ]
  },
  {
   "cell_type": "markdown",
   "metadata": {},
   "source": [
    "#### Initialize Spark"
   ]
  },
  {
   "cell_type": "code",
   "execution_count": 2,
   "metadata": {},
   "outputs": [],
   "source": [
    "import findspark\n",
    "findspark.init()\n",
    "\n",
    "import pyspark\n",
    "import random\n",
    "\n",
    "#Settings for PySpark to work\n",
    "driver_memory = '4g'\n",
    "num_executors = 2\n",
    "executor_memory = '1g'\n",
    "pyspark_submit_args = ' --driver-memory ' + driver_memory + ' pyspark-shell'\n",
    "\n",
    "#Setting the required parameters to start up PySpark\n",
    "os.environ[\"PYSPARK_SUBMIT_ARGS\"] = pyspark_submit_args\n",
    "\n",
    "#Import Modules Needed for PySpark\n",
    "from pyspark.sql import SparkSession"
   ]
  },
  {
   "cell_type": "code",
   "execution_count": 3,
   "metadata": {},
   "outputs": [],
   "source": [
    "import pyspark.sql.functions as F \n",
    "from pyspark.sql.types import DoubleType, IntegerType, StringType"
   ]
  },
  {
   "cell_type": "code",
   "execution_count": 4,
   "metadata": {},
   "outputs": [],
   "source": [
    "spark = SparkSession.builder.appName(\"Data Exploration\").getOrCreate()"
   ]
  },
  {
   "cell_type": "code",
   "execution_count": 5,
   "metadata": {},
   "outputs": [],
   "source": [
    "#Helper for pretty formatting for Spark DataFrames\n",
    "def showDF(df, limitRows =  20, truncate = True):\n",
    "    if(truncate):\n",
    "        pd.set_option('display.max_colwidth', 50)\n",
    "    else:\n",
    "        pd.set_option('display.max_colwidth', None)\n",
    "    pd.set_option('display.max_rows', limitRows)\n",
    "    display(df.limit(limitRows).toPandas())\n",
    "    pd.reset_option('display.max_rows')"
   ]
  },
  {
   "cell_type": "markdown",
   "metadata": {},
   "source": [
    "#### Extract All CSV"
   ]
  },
  {
   "cell_type": "code",
   "execution_count": 10,
   "metadata": {},
   "outputs": [],
   "source": [
    "all_fdm_df = spark.read \\\n",
    "                .option(\"header\", \"true\") \\\n",
    "                .csv(f'{fdm_folder_path}/*/*.csv') \\\n",
    "                .withColumn(\"orig_fname\", F.input_file_name())"
   ]
  },
  {
   "cell_type": "code",
   "execution_count": 11,
   "metadata": {},
   "outputs": [],
   "source": [
    "# Change orig_fname column to filename only\n",
    "extract_fname_udf = F.udf(os.path.basename, StringType())\n",
    "fdm_with_fname = all_fdm_df.withColumn(\"orig_fname\", extract_fname_udf(\"orig_fname\"))"
   ]
  },
  {
   "cell_type": "code",
   "execution_count": 12,
   "metadata": {},
   "outputs": [
    {
     "data": {
      "text/html": [
       "<div>\n",
       "<style scoped>\n",
       "    .dataframe tbody tr th:only-of-type {\n",
       "        vertical-align: middle;\n",
       "    }\n",
       "\n",
       "    .dataframe tbody tr th {\n",
       "        vertical-align: top;\n",
       "    }\n",
       "\n",
       "    .dataframe thead th {\n",
       "        text-align: right;\n",
       "    }\n",
       "</style>\n",
       "<table border=\"1\" class=\"dataframe\">\n",
       "  <thead>\n",
       "    <tr style=\"text-align: right;\">\n",
       "      <th></th>\n",
       "      <th>airbrk_pos_rad</th>\n",
       "      <th>ail_l_rad</th>\n",
       "      <th>ail_r_rad</th>\n",
       "      <th>hbaro_m</th>\n",
       "      <th>hdot_1_mps</th>\n",
       "      <th>aoa_1_rad</th>\n",
       "      <th>aoa_2_rad</th>\n",
       "      <th>aoac_rad</th>\n",
       "      <th>aoai_rad</th>\n",
       "      <th>auto_thr_status</th>\n",
       "      <th>...</th>\n",
       "      <th>temp_total_degC</th>\n",
       "      <th>psi_rad</th>\n",
       "      <th>psi_mag_selected</th>\n",
       "      <th>chi_rad</th>\n",
       "      <th>chi_mag_rad</th>\n",
       "      <th>az_mps2</th>\n",
       "      <th>wdir_rad</th>\n",
       "      <th>wow</th>\n",
       "      <th>ws_mps</th>\n",
       "      <th>orig_fname</th>\n",
       "    </tr>\n",
       "  </thead>\n",
       "  <tbody>\n",
       "    <tr>\n",
       "      <th>0</th>\n",
       "      <td>2.09410904426956</td>\n",
       "      <td>1.82175343497467</td>\n",
       "      <td>1.79283149314117</td>\n",
       "      <td>337.7184</td>\n",
       "      <td>-0.08128</td>\n",
       "      <td>0.151096090453625</td>\n",
       "      <td>0.322900797260857</td>\n",
       "      <td>0</td>\n",
       "      <td>0.236998452179623</td>\n",
       "      <td>0</td>\n",
       "      <td>...</td>\n",
       "      <td>32</td>\n",
       "      <td>0.814423972265244</td>\n",
       "      <td>1</td>\n",
       "      <td>-0.523647275167336</td>\n",
       "      <td>-0.386839432914986</td>\n",
       "      <td>9.7546836659193</td>\n",
       "      <td>0</td>\n",
       "      <td>0</td>\n",
       "      <td>0</td>\n",
       "      <td>686200203171255.csv</td>\n",
       "    </tr>\n",
       "    <tr>\n",
       "      <th>1</th>\n",
       "      <td>NaN</td>\n",
       "      <td>NaN</td>\n",
       "      <td>NaN</td>\n",
       "      <td>NaN</td>\n",
       "      <td>NaN</td>\n",
       "      <td>NaN</td>\n",
       "      <td>NaN</td>\n",
       "      <td>NaN</td>\n",
       "      <td>NaN</td>\n",
       "      <td>NaN</td>\n",
       "      <td>...</td>\n",
       "      <td>NaN</td>\n",
       "      <td>NaN</td>\n",
       "      <td>NaN</td>\n",
       "      <td>NaN</td>\n",
       "      <td>NaN</td>\n",
       "      <td>NaN</td>\n",
       "      <td>NaN</td>\n",
       "      <td>NaN</td>\n",
       "      <td>NaN</td>\n",
       "      <td>686200203171255.csv</td>\n",
       "    </tr>\n",
       "    <tr>\n",
       "      <th>2</th>\n",
       "      <td>NaN</td>\n",
       "      <td>NaN</td>\n",
       "      <td>NaN</td>\n",
       "      <td>NaN</td>\n",
       "      <td>NaN</td>\n",
       "      <td>NaN</td>\n",
       "      <td>NaN</td>\n",
       "      <td>NaN</td>\n",
       "      <td>NaN</td>\n",
       "      <td>NaN</td>\n",
       "      <td>...</td>\n",
       "      <td>NaN</td>\n",
       "      <td>NaN</td>\n",
       "      <td>NaN</td>\n",
       "      <td>NaN</td>\n",
       "      <td>NaN</td>\n",
       "      <td>9.7546836659193</td>\n",
       "      <td>NaN</td>\n",
       "      <td>NaN</td>\n",
       "      <td>NaN</td>\n",
       "      <td>686200203171255.csv</td>\n",
       "    </tr>\n",
       "    <tr>\n",
       "      <th>3</th>\n",
       "      <td>NaN</td>\n",
       "      <td>NaN</td>\n",
       "      <td>NaN</td>\n",
       "      <td>NaN</td>\n",
       "      <td>NaN</td>\n",
       "      <td>NaN</td>\n",
       "      <td>NaN</td>\n",
       "      <td>NaN</td>\n",
       "      <td>NaN</td>\n",
       "      <td>NaN</td>\n",
       "      <td>...</td>\n",
       "      <td>NaN</td>\n",
       "      <td>NaN</td>\n",
       "      <td>NaN</td>\n",
       "      <td>NaN</td>\n",
       "      <td>NaN</td>\n",
       "      <td>NaN</td>\n",
       "      <td>NaN</td>\n",
       "      <td>NaN</td>\n",
       "      <td>NaN</td>\n",
       "      <td>686200203171255.csv</td>\n",
       "    </tr>\n",
       "    <tr>\n",
       "      <th>4</th>\n",
       "      <td>NaN</td>\n",
       "      <td>NaN</td>\n",
       "      <td>NaN</td>\n",
       "      <td>337.7184</td>\n",
       "      <td>-0.16256</td>\n",
       "      <td>0.150329116375732</td>\n",
       "      <td>0.322900797260857</td>\n",
       "      <td>0</td>\n",
       "      <td>0.236998452179623</td>\n",
       "      <td>NaN</td>\n",
       "      <td>...</td>\n",
       "      <td>NaN</td>\n",
       "      <td>0.814423972265244</td>\n",
       "      <td>NaN</td>\n",
       "      <td>-0.499296052092614</td>\n",
       "      <td>-0.362488209840264</td>\n",
       "      <td>9.77712930648327</td>\n",
       "      <td>0</td>\n",
       "      <td>NaN</td>\n",
       "      <td>0</td>\n",
       "      <td>686200203171255.csv</td>\n",
       "    </tr>\n",
       "  </tbody>\n",
       "</table>\n",
       "<p>5 rows × 111 columns</p>\n",
       "</div>"
      ],
      "text/plain": [
       "     airbrk_pos_rad         ail_l_rad         ail_r_rad   hbaro_m hdot_1_mps  \\\n",
       "0  2.09410904426956  1.82175343497467  1.79283149314117  337.7184   -0.08128   \n",
       "1               NaN               NaN               NaN       NaN        NaN   \n",
       "2               NaN               NaN               NaN       NaN        NaN   \n",
       "3               NaN               NaN               NaN       NaN        NaN   \n",
       "4               NaN               NaN               NaN  337.7184   -0.16256   \n",
       "\n",
       "           aoa_1_rad          aoa_2_rad aoac_rad           aoai_rad  \\\n",
       "0  0.151096090453625  0.322900797260857        0  0.236998452179623   \n",
       "1                NaN                NaN      NaN                NaN   \n",
       "2                NaN                NaN      NaN                NaN   \n",
       "3                NaN                NaN      NaN                NaN   \n",
       "4  0.150329116375732  0.322900797260857        0  0.236998452179623   \n",
       "\n",
       "  auto_thr_status  ... temp_total_degC            psi_rad psi_mag_selected  \\\n",
       "0               0  ...              32  0.814423972265244                1   \n",
       "1             NaN  ...             NaN                NaN              NaN   \n",
       "2             NaN  ...             NaN                NaN              NaN   \n",
       "3             NaN  ...             NaN                NaN              NaN   \n",
       "4             NaN  ...             NaN  0.814423972265244              NaN   \n",
       "\n",
       "              chi_rad         chi_mag_rad           az_mps2 wdir_rad  wow  \\\n",
       "0  -0.523647275167336  -0.386839432914986   9.7546836659193        0    0   \n",
       "1                 NaN                 NaN               NaN      NaN  NaN   \n",
       "2                 NaN                 NaN   9.7546836659193      NaN  NaN   \n",
       "3                 NaN                 NaN               NaN      NaN  NaN   \n",
       "4  -0.499296052092614  -0.362488209840264  9.77712930648327        0  NaN   \n",
       "\n",
       "  ws_mps           orig_fname  \n",
       "0      0  686200203171255.csv  \n",
       "1    NaN  686200203171255.csv  \n",
       "2    NaN  686200203171255.csv  \n",
       "3    NaN  686200203171255.csv  \n",
       "4      0  686200203171255.csv  \n",
       "\n",
       "[5 rows x 111 columns]"
      ]
     },
     "execution_count": 12,
     "metadata": {},
     "output_type": "execute_result"
    }
   ],
   "source": [
    "fdm_with_fname.limit(5).toPandas()"
   ]
  },
  {
   "cell_type": "markdown",
   "metadata": {},
   "source": [
    "#### Write to Parquet"
   ]
  },
  {
   "cell_type": "code",
   "execution_count": null,
   "metadata": {},
   "outputs": [],
   "source": [
    "dest_path = '../dataset/fdm_parquet/'\n",
    "fdm_with_fname.write \\\n",
    "              .mode(\"overwrite\") \\\n",
    "              .partitionBy('orig_fname') \\\n",
    "              .parquet(f\"{dest_path}\")"
   ]
  },
  {
   "cell_type": "markdown",
   "metadata": {},
   "source": [
    "#### Restructure Folder and File Name"
   ]
  },
  {
   "cell_type": "code",
   "execution_count": null,
   "metadata": {},
   "outputs": [],
   "source": [
    "import shutil\n",
    "\n",
    "fname_parquet_list, fname_orig_list, fullpath_list = [], [], []\n",
    "\n",
    "# Scan through the folder\n",
    "for root, dirs, files in os.walk(dest_path):\n",
    "    for file in files:\n",
    "        if file.endswith(\".parquet\"):\n",
    "            # Rename File\n",
    "            orig_fname = os.path.basename(root).split('=')[1]\n",
    "            dest_fname = os.path.splitext(orig_fname)[0] + '.parquet'\n",
    "            \n",
    "            src_fpath = os.path.join(root, file)\n",
    "            dest_fpath = os.path.join(dest_path, dest_fname)\n",
    "            \n",
    "            fname_parquet_list.append(dest_fname)\n",
    "            fname_orig_list.append(orig_fname)\n",
    "            fullpath_list.append(dest_fpath)\n",
    "            \n",
    "            shutil.move(src_fpath, dest_fpath)\n",
    "            shutil.rmtree(root)\n",
    "            \n",
    "            print(orig_fname, dest_fname, dest_fpath)"
   ]
  },
  {
   "cell_type": "markdown",
   "metadata": {},
   "source": [
    "### Save Parquet File Metadata"
   ]
  },
  {
   "cell_type": "code",
   "execution_count": null,
   "metadata": {},
   "outputs": [],
   "source": [
    "fdm_parquet_files = pd.DataFrame(columns=['fname', 'orig_fname', 'fullpath'])"
   ]
  },
  {
   "cell_type": "code",
   "execution_count": null,
   "metadata": {},
   "outputs": [],
   "source": [
    "fdm_parquet_files['fname'] = fname_parquet_list\n",
    "fdm_parquet_files['orig_fname'] = fname_orig_list\n",
    "fdm_parquet_files['fullpath'] = fullpath_list"
   ]
  },
  {
   "cell_type": "code",
   "execution_count": null,
   "metadata": {},
   "outputs": [],
   "source": [
    "fdm_parquet_files"
   ]
  },
  {
   "cell_type": "code",
   "execution_count": null,
   "metadata": {},
   "outputs": [],
   "source": [
    "fdm_parquet_files.to_csv('../dataset/database/01_fdm_parquet_files.csv', index=False)"
   ]
  },
  {
   "cell_type": "code",
   "execution_count": null,
   "metadata": {},
   "outputs": [],
   "source": []
  }
 ],
 "metadata": {
  "kernelspec": {
   "display_name": "flight_env",
   "language": "python",
   "name": "flight_env"
  },
  "language_info": {
   "codemirror_mode": {
    "name": "ipython",
    "version": 3
   },
   "file_extension": ".py",
   "mimetype": "text/x-python",
   "name": "python",
   "nbconvert_exporter": "python",
   "pygments_lexer": "ipython3",
   "version": "3.9.5"
  }
 },
 "nbformat": 4,
 "nbformat_minor": 4
}
