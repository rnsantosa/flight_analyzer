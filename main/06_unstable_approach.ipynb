{
 "cells": [
  {
   "cell_type": "markdown",
   "metadata": {},
   "source": [
    "# Unstable Approach\n",
    "Define a flight is stable or unstable based on determined parameters."
   ]
  },
  {
   "cell_type": "markdown",
   "metadata": {},
   "source": [
    "### Import"
   ]
  },
  {
   "cell_type": "code",
   "execution_count": 1,
   "metadata": {},
   "outputs": [],
   "source": [
    "%load_ext autoreload\n",
    "%autoreload 2"
   ]
  },
  {
   "cell_type": "code",
   "execution_count": 2,
   "metadata": {},
   "outputs": [],
   "source": [
    "import math\n",
    "import matplotlib.pyplot as plt\n",
    "import multiprocessing as mp\n",
    "import numpy as np\n",
    "import pandas as pd\n",
    "import seaborn as sns\n",
    "import os"
   ]
  },
  {
   "cell_type": "markdown",
   "metadata": {},
   "source": [
    "### Constant"
   ]
  },
  {
   "cell_type": "code",
   "execution_count": 3,
   "metadata": {},
   "outputs": [],
   "source": [
    "base_path = '../dataset/database_local'\n",
    "# base_path = '../dataset/database'"
   ]
  },
  {
   "cell_type": "code",
   "execution_count": 4,
   "metadata": {},
   "outputs": [],
   "source": [
    "flight_runway_file = base_path + '/04_flights_with_runway.csv'\n",
    "landing_runway_file = base_path + '/04_landing_count_detail.csv'\n",
    "output_file = base_path + '/06_all_crucial_fdm.csv'"
   ]
  },
  {
   "cell_type": "markdown",
   "metadata": {},
   "source": [
    "### Read Data"
   ]
  },
  {
   "cell_type": "markdown",
   "metadata": {},
   "source": [
    "#### 1. Read Flight Runway Data "
   ]
  },
  {
   "cell_type": "code",
   "execution_count": 5,
   "metadata": {},
   "outputs": [
    {
     "data": {
      "text/html": [
       "<div>\n",
       "<style scoped>\n",
       "    .dataframe tbody tr th:only-of-type {\n",
       "        vertical-align: middle;\n",
       "    }\n",
       "\n",
       "    .dataframe tbody tr th {\n",
       "        vertical-align: top;\n",
       "    }\n",
       "\n",
       "    .dataframe thead th {\n",
       "        text-align: right;\n",
       "    }\n",
       "</style>\n",
       "<table border=\"1\" class=\"dataframe\">\n",
       "  <thead>\n",
       "    <tr style=\"text-align: right;\">\n",
       "      <th></th>\n",
       "      <th>fname</th>\n",
       "      <th>tail_id</th>\n",
       "      <th>dep_airport</th>\n",
       "      <th>dep_rwy</th>\n",
       "      <th>arr_airport</th>\n",
       "      <th>arr_rwy</th>\n",
       "      <th>fsize_mb</th>\n",
       "      <th>fullpath</th>\n",
       "    </tr>\n",
       "  </thead>\n",
       "  <tbody>\n",
       "    <tr>\n",
       "      <th>0</th>\n",
       "      <td>686200104121532.csv</td>\n",
       "      <td>tail_686_1</td>\n",
       "      <td>BHM</td>\n",
       "      <td>36</td>\n",
       "      <td>DTW</td>\n",
       "      <td>09R</td>\n",
       "      <td>68.39</td>\n",
       "      <td>../dataset/fdm/tail_686_1/686200104121532.csv</td>\n",
       "    </tr>\n",
       "    <tr>\n",
       "      <th>1</th>\n",
       "      <td>686200104121245.csv</td>\n",
       "      <td>tail_686_1</td>\n",
       "      <td>DTW</td>\n",
       "      <td>03L</td>\n",
       "      <td>BHM</td>\n",
       "      <td>24</td>\n",
       "      <td>61.52</td>\n",
       "      <td>../dataset/fdm/tail_686_1/686200104121245.csv</td>\n",
       "    </tr>\n",
       "    <tr>\n",
       "      <th>2</th>\n",
       "      <td>686200104121825.csv</td>\n",
       "      <td>tail_686_2</td>\n",
       "      <td>DTW</td>\n",
       "      <td>03L</td>\n",
       "      <td>LEX</td>\n",
       "      <td>22</td>\n",
       "      <td>40.71</td>\n",
       "      <td>../dataset/fdm/tail_686_2/686200104121825.csv</td>\n",
       "    </tr>\n",
       "    <tr>\n",
       "      <th>3</th>\n",
       "      <td>686200104130429.csv</td>\n",
       "      <td>tail_686_2</td>\n",
       "      <td>LEX</td>\n",
       "      <td>22</td>\n",
       "      <td>DTW</td>\n",
       "      <td>09R</td>\n",
       "      <td>42.63</td>\n",
       "      <td>../dataset/fdm/tail_686_2/686200104130429.csv</td>\n",
       "    </tr>\n",
       "    <tr>\n",
       "      <th>4</th>\n",
       "      <td>686200104130652.csv</td>\n",
       "      <td>tail_687_1</td>\n",
       "      <td>DTW</td>\n",
       "      <td>09R</td>\n",
       "      <td>OKC</td>\n",
       "      <td>31</td>\n",
       "      <td>95.92</td>\n",
       "      <td>../dataset/fdm/tail_687_1/686200104130652.csv</td>\n",
       "    </tr>\n",
       "  </tbody>\n",
       "</table>\n",
       "</div>"
      ],
      "text/plain": [
       "                 fname     tail_id dep_airport dep_rwy arr_airport arr_rwy  \\\n",
       "0  686200104121532.csv  tail_686_1         BHM      36         DTW     09R   \n",
       "1  686200104121245.csv  tail_686_1         DTW     03L         BHM      24   \n",
       "2  686200104121825.csv  tail_686_2         DTW     03L         LEX      22   \n",
       "3  686200104130429.csv  tail_686_2         LEX      22         DTW     09R   \n",
       "4  686200104130652.csv  tail_687_1         DTW     09R         OKC      31   \n",
       "\n",
       "   fsize_mb                                       fullpath  \n",
       "0     68.39  ../dataset/fdm/tail_686_1/686200104121532.csv  \n",
       "1     61.52  ../dataset/fdm/tail_686_1/686200104121245.csv  \n",
       "2     40.71  ../dataset/fdm/tail_686_2/686200104121825.csv  \n",
       "3     42.63  ../dataset/fdm/tail_686_2/686200104130429.csv  \n",
       "4     95.92  ../dataset/fdm/tail_687_1/686200104130652.csv  "
      ]
     },
     "execution_count": 5,
     "metadata": {},
     "output_type": "execute_result"
    }
   ],
   "source": [
    "flight_runway = pd.read_csv(flight_runway_file)\n",
    "flight_runway.head()"
   ]
  },
  {
   "cell_type": "markdown",
   "metadata": {},
   "source": [
    "#### 2. Read Landing Runway Count"
   ]
  },
  {
   "cell_type": "code",
   "execution_count": 6,
   "metadata": {},
   "outputs": [
    {
     "data": {
      "text/html": [
       "<div>\n",
       "<style scoped>\n",
       "    .dataframe tbody tr th:only-of-type {\n",
       "        vertical-align: middle;\n",
       "    }\n",
       "\n",
       "    .dataframe tbody tr th {\n",
       "        vertical-align: top;\n",
       "    }\n",
       "\n",
       "    .dataframe thead th {\n",
       "        text-align: right;\n",
       "    }\n",
       "</style>\n",
       "<table border=\"1\" class=\"dataframe\">\n",
       "  <thead>\n",
       "    <tr style=\"text-align: right;\">\n",
       "      <th></th>\n",
       "      <th>iata_code</th>\n",
       "      <th>runway_ident</th>\n",
       "      <th>flight_count</th>\n",
       "      <th>icao_code</th>\n",
       "      <th>type</th>\n",
       "      <th>name</th>\n",
       "      <th>latitude_rad</th>\n",
       "      <th>longitude_rad</th>\n",
       "      <th>elevation_ft</th>\n",
       "      <th>scheduled_service</th>\n",
       "    </tr>\n",
       "  </thead>\n",
       "  <tbody>\n",
       "    <tr>\n",
       "      <th>0</th>\n",
       "      <td>DTW</td>\n",
       "      <td>DTW.09R</td>\n",
       "      <td>2</td>\n",
       "      <td>KDTW</td>\n",
       "      <td>large_airport</td>\n",
       "      <td>Detroit Metropolitan Wayne County Airport</td>\n",
       "      <td>0.736745</td>\n",
       "      <td>-1.454791</td>\n",
       "      <td>645.0</td>\n",
       "      <td>yes</td>\n",
       "    </tr>\n",
       "    <tr>\n",
       "      <th>1</th>\n",
       "      <td>LEX</td>\n",
       "      <td>LEX.22</td>\n",
       "      <td>1</td>\n",
       "      <td>KLEX</td>\n",
       "      <td>large_airport</td>\n",
       "      <td>Blue Grass Airport</td>\n",
       "      <td>0.663862</td>\n",
       "      <td>-1.476652</td>\n",
       "      <td>979.0</td>\n",
       "      <td>yes</td>\n",
       "    </tr>\n",
       "    <tr>\n",
       "      <th>2</th>\n",
       "      <td>BHM</td>\n",
       "      <td>BHM.24</td>\n",
       "      <td>1</td>\n",
       "      <td>KBHM</td>\n",
       "      <td>large_airport</td>\n",
       "      <td>Birmingham-Shuttlesworth International Airport</td>\n",
       "      <td>0.585783</td>\n",
       "      <td>-1.514134</td>\n",
       "      <td>650.0</td>\n",
       "      <td>yes</td>\n",
       "    </tr>\n",
       "    <tr>\n",
       "      <th>3</th>\n",
       "      <td>OKC</td>\n",
       "      <td>OKC.31</td>\n",
       "      <td>1</td>\n",
       "      <td>KOKC</td>\n",
       "      <td>large_airport</td>\n",
       "      <td>Will Rogers World Airport</td>\n",
       "      <td>0.617726</td>\n",
       "      <td>-1.703454</td>\n",
       "      <td>1295.0</td>\n",
       "      <td>yes</td>\n",
       "    </tr>\n",
       "  </tbody>\n",
       "</table>\n",
       "</div>"
      ],
      "text/plain": [
       "  iata_code runway_ident  flight_count icao_code           type  \\\n",
       "0       DTW      DTW.09R             2      KDTW  large_airport   \n",
       "1       LEX       LEX.22             1      KLEX  large_airport   \n",
       "2       BHM       BHM.24             1      KBHM  large_airport   \n",
       "3       OKC       OKC.31             1      KOKC  large_airport   \n",
       "\n",
       "                                             name  latitude_rad  \\\n",
       "0       Detroit Metropolitan Wayne County Airport      0.736745   \n",
       "1                              Blue Grass Airport      0.663862   \n",
       "2  Birmingham-Shuttlesworth International Airport      0.585783   \n",
       "3                       Will Rogers World Airport      0.617726   \n",
       "\n",
       "   longitude_rad  elevation_ft scheduled_service  \n",
       "0      -1.454791         645.0               yes  \n",
       "1      -1.476652         979.0               yes  \n",
       "2      -1.514134         650.0               yes  \n",
       "3      -1.703454        1295.0               yes  "
      ]
     },
     "execution_count": 6,
     "metadata": {},
     "output_type": "execute_result"
    }
   ],
   "source": [
    "landing_runway_count = pd.read_csv(landing_runway_file)\n",
    "landing_runway_count.head()"
   ]
  },
  {
   "cell_type": "markdown",
   "metadata": {},
   "source": [
    "## Data Exploration"
   ]
  },
  {
   "cell_type": "code",
   "execution_count": 7,
   "metadata": {},
   "outputs": [],
   "source": [
    "df = pd.read_csv(flight_runway.fullpath[0])"
   ]
  },
  {
   "cell_type": "code",
   "execution_count": 8,
   "metadata": {
    "scrolled": true
   },
   "outputs": [
    {
     "data": {
      "image/png": "[encoded data removed]",
      "text/plain": [
       "<Figure size 864x288 with 2 Axes>"
      ]
     },
     "metadata": {
      "needs_background": "light"
     },
     "output_type": "display_data"
    }
   ],
   "source": [
    "fig, (ax1, ax2) = plt.subplots(1, 2, figsize=(12, 4))\n",
    "sns.lineplot(data = df.hbaro_m, ax=ax1)\n",
    "sns.lineplot(data = df.hralt_m, ax=ax2)\n",
    "plt.show()"
   ]
  },
  {
   "cell_type": "markdown",
   "metadata": {},
   "source": [
    "### Data Transformation"
   ]
  },
  {
   "cell_type": "markdown",
   "metadata": {},
   "source": [
    "##### Get Crucial DF\n",
    "Crucial DataFrame is the landaing data started from when altitude equals `alt_m` with the duration of `duration_s`  "
   ]
  },
  {
   "cell_type": "code",
   "execution_count": 9,
   "metadata": {},
   "outputs": [],
   "source": [
    "sampling_rate = 16"
   ]
  },
  {
   "cell_type": "code",
   "execution_count": 10,
   "metadata": {},
   "outputs": [],
   "source": [
    "# Change to hralt_m\n",
    "# 1000 >= alt >= 500\n",
    "def get_crucial_df(df_fdm, alt_m, duration_s, sampling_rate=16):\n",
    "    idx_max = np.where(df_fdm['hbaro_m'].eq(max(df_fdm['hbaro_m'])), df_fdm.index, 0).max()+1\n",
    "    landing_df = df_fdm.loc[idx_max:]\n",
    "    crucial_alt_start_idx = landing_df[landing_df['hbaro_m'] <= alt_m].index[0]\n",
    "    crucial_df = landing_df.loc[crucial_alt_start_idx:].iloc[:duration_s*sampling_rate]\n",
    "    # sns.lineplot(data = crucial_df.hbaro_m)`\n",
    "    return crucial_df"
   ]
  },
  {
   "cell_type": "code",
   "execution_count": 11,
   "metadata": {},
   "outputs": [],
   "source": [
    "cols = ['flap_te_pos', 'hbaro_m', 'hralt_m', 'hdot_1_mps', 'gs_mps', \\\n",
    "        'gs_dev_ddm', 'loc_dev_ddm', 'n11_rpm', 'n12_rpm', 'n13_rpm', \\\n",
    "        'n14_rpm', 'tas_mps', 'theta_rad', 'chi_rad', 'lg_squat_mr']"
   ]
  },
  {
   "cell_type": "code",
   "execution_count": 12,
   "metadata": {},
   "outputs": [],
   "source": [
    "def get_crucial_df_from_file(filepath, cols=cols):\n",
    "    df_fdm = pd.read_csv(filepath, usecols=cols)\n",
    "    crucial_df = get_crucial_df(df_fdm, 1000, 10)\n",
    "    crucial_df['file'] = os.path.basename(filepath)\n",
    "    return crucial_df"
   ]
  },
  {
   "cell_type": "code",
   "execution_count": 13,
   "metadata": {},
   "outputs": [
    {
     "data": {
      "text/plain": [
       "<AxesSubplot:ylabel='hralt_m'>"
      ]
     },
     "execution_count": 13,
     "metadata": {},
     "output_type": "execute_result"
    },
    {
     "data": {
      "image/png": "[encoded data removed]",
      "text/plain": [
       "<Figure size 432x288 with 1 Axes>"
      ]
     },
     "metadata": {
      "needs_background": "light"
     },
     "output_type": "display_data"
    }
   ],
   "source": [
    "test_df = pd.read_csv(flight_runway.fullpath[4])\n",
    "sns.lineplot(data=test_df.hralt_m)"
   ]
  },
  {
   "cell_type": "code",
   "execution_count": 14,
   "metadata": {},
   "outputs": [],
   "source": [
    "all_df = pd.DataFrame()\n",
    "file = open(output_file, \"w\")\n",
    "file.close()\n",
    "with open(output_file, 'a') as f:\n",
    "    for file in flight_runway.fullpath[:8]:\n",
    "        df = get_crucial_df_from_file(file, cols)\n",
    "        df.to_csv(f, mode='a', header=f.tell()==0)\n",
    "        all_df = all_df.append(df)"
   ]
  },
  {
   "cell_type": "code",
   "execution_count": 16,
   "metadata": {},
   "outputs": [],
   "source": [
    "import defs"
   ]
  },
  {
   "cell_type": "code",
   "execution_count": 17,
   "metadata": {},
   "outputs": [
    {
     "name": "stdout",
     "output_type": "stream",
     "text": [
      "Done: 1/5\n",
      "Done: 2/5\n",
      "Done: 3/5\n",
      "Done: 4/5\n",
      "Done: 5/5\n"
     ]
    }
   ],
   "source": [
    "# Multiprocessing\n",
    "if __name__ == '__main__':\n",
    "    params = flight_runway.fullpath.tolist()\n",
    "    p = mp.Pool(10)\n",
    "\n",
    "    all_df = pd.DataFrame()\n",
    "    file = open(output_file, \"w\")\n",
    "    file.close()\n",
    "    with open(output_file, 'a') as f:\n",
    "        for i, result in enumerate(p.imap_unordered(defs.get_crucial_df_from_file, params)):\n",
    "            result.to_csv(f, mode='a', header=f.tell()==0)\n",
    "            all_df = all_df.append(result)\n",
    "            print(f\"Done: {i+1}/{len(params)}\")"
   ]
  },
  {
   "cell_type": "code",
   "execution_count": 18,
   "metadata": {},
   "outputs": [
    {
     "name": "stdout",
     "output_type": "stream",
     "text": [
      "<class 'pandas.core.frame.DataFrame'>\n",
      "Int64Index: 800 entries, 56812 to 146351\n",
      "Data columns (total 16 columns):\n",
      " #   Column       Non-Null Count  Dtype  \n",
      "---  ------       --------------  -----  \n",
      " 0   hbaro_m      200 non-null    float64\n",
      " 1   hdot_1_mps   200 non-null    float64\n",
      " 2   flap_te_pos  50 non-null     float64\n",
      " 3   gs_dev_ddm   50 non-null     float64\n",
      " 4   gs_mps       200 non-null    float64\n",
      " 5   loc_dev_ddm  50 non-null     float64\n",
      " 6   lg_squat_mr  100 non-null    float64\n",
      " 7   n11_rpm      200 non-null    float64\n",
      " 8   n12_rpm      200 non-null    float64\n",
      " 9   n13_rpm      200 non-null    float64\n",
      " 10  n14_rpm      200 non-null    float64\n",
      " 11  theta_rad    400 non-null    float64\n",
      " 12  hralt_m      400 non-null    float64\n",
      " 13  tas_mps      200 non-null    float64\n",
      " 14  chi_rad      200 non-null    float64\n",
      " 15  file         800 non-null    object \n",
      "dtypes: float64(15), object(1)\n",
      "memory usage: 106.2+ KB\n"
     ]
    }
   ],
   "source": [
    "all_df.info()"
   ]
  },
  {
   "cell_type": "code",
   "execution_count": 23,
   "metadata": {},
   "outputs": [],
   "source": [
    "all_df.to_csv(base_path + '/06_all_crucial_fdm_backup.csv')"
   ]
  }
 ],
 "metadata": {
  "kernelspec": {
   "display_name": "flight_env",
   "language": "python",
   "name": "flight_env"
  },
  "language_info": {
   "codemirror_mode": {
    "name": "ipython",
    "version": 3
   },
   "file_extension": ".py",
   "mimetype": "text/x-python",
   "name": "python",
   "nbconvert_exporter": "python",
   "pygments_lexer": "ipython3",
   "version": "3.9.5"
  }
 },
 "nbformat": 4,
 "nbformat_minor": 4
}
