{
 "cells": [
  {
   "cell_type": "markdown",
   "id": "fd1d7c1c",
   "metadata": {},
   "source": [
    "### Import"
   ]
  },
  {
   "cell_type": "code",
   "execution_count": 1,
   "id": "dc68a77f",
   "metadata": {},
   "outputs": [],
   "source": [
    "%load_ext autoreload\n",
    "%autoreload 2"
   ]
  },
  {
   "cell_type": "code",
   "execution_count": 2,
   "id": "81e471ca",
   "metadata": {},
   "outputs": [],
   "source": [
    "import math\n",
    "import matplotlib.pyplot as plt\n",
    "import multiprocessing as mp\n",
    "import numpy as np\n",
    "import pandas as pd\n",
    "import seaborn as sns\n",
    "import os\n",
    "\n",
    "from functools import reduce\n",
    "from tqdm import tqdm, tqdm_pandas\n",
    "# from tqdm._tqdm_notebook import tqdm_notebook"
   ]
  },
  {
   "cell_type": "code",
   "execution_count": 3,
   "id": "3b5a9b1c",
   "metadata": {},
   "outputs": [],
   "source": [
    "tqdm.pandas()"
   ]
  },
  {
   "cell_type": "markdown",
   "id": "fab729ba",
   "metadata": {},
   "source": [
    "### Constant"
   ]
  },
  {
   "cell_type": "code",
   "execution_count": 4,
   "id": "ccd9b850",
   "metadata": {},
   "outputs": [],
   "source": [
    "base_path = '../dataset/database_local'\n",
    "# base_path = '../dataset/database'"
   ]
  },
  {
   "cell_type": "code",
   "execution_count": 5,
   "id": "01bfef83",
   "metadata": {},
   "outputs": [],
   "source": [
    "flight_runway_file = base_path + '/04_flights_with_runway.csv'\n",
    "landing_runway_file = base_path + '/04_landing_count_detail.csv'\n",
    "all_fdm_file = base_path + '/06_all_crucial_fdm.csv'\n",
    "output_flap_file = base_path + '/07_param_flap.csv'"
   ]
  },
  {
   "cell_type": "markdown",
   "id": "7907bad4",
   "metadata": {},
   "source": [
    "# Read Data"
   ]
  },
  {
   "cell_type": "markdown",
   "id": "366009e9",
   "metadata": {},
   "source": [
    "#### 1. Read All Crucial FDM Flight"
   ]
  },
  {
   "cell_type": "code",
   "execution_count": 6,
   "id": "90db3b95",
   "metadata": {},
   "outputs": [
    {
     "data": {
      "text/html": [
       "<div>\n",
       "<style scoped>\n",
       "    .dataframe tbody tr th:only-of-type {\n",
       "        vertical-align: middle;\n",
       "    }\n",
       "\n",
       "    .dataframe tbody tr th {\n",
       "        vertical-align: top;\n",
       "    }\n",
       "\n",
       "    .dataframe thead th {\n",
       "        text-align: right;\n",
       "    }\n",
       "</style>\n",
       "<table border=\"1\" class=\"dataframe\">\n",
       "  <thead>\n",
       "    <tr style=\"text-align: right;\">\n",
       "      <th></th>\n",
       "      <th>hbaro_m</th>\n",
       "      <th>hdot_1_mps</th>\n",
       "      <th>flap_te_pos</th>\n",
       "      <th>gs_dev_ddm</th>\n",
       "      <th>gs_mps</th>\n",
       "      <th>loc_dev_ddm</th>\n",
       "      <th>lg_squat_mr</th>\n",
       "      <th>n11_rpm</th>\n",
       "      <th>n12_rpm</th>\n",
       "      <th>n13_rpm</th>\n",
       "      <th>n14_rpm</th>\n",
       "      <th>theta_rad</th>\n",
       "      <th>hralt_m</th>\n",
       "      <th>tas_mps</th>\n",
       "      <th>chi_rad</th>\n",
       "      <th>file</th>\n",
       "    </tr>\n",
       "  </thead>\n",
       "  <tbody>\n",
       "    <tr>\n",
       "      <th>56812</th>\n",
       "      <td>999.1344</td>\n",
       "      <td>-8.37184</td>\n",
       "      <td>NaN</td>\n",
       "      <td>NaN</td>\n",
       "      <td>120.76479</td>\n",
       "      <td>NaN</td>\n",
       "      <td>NaN</td>\n",
       "      <td>33.78125</td>\n",
       "      <td>32.9375</td>\n",
       "      <td>32.6875</td>\n",
       "      <td>33.40625</td>\n",
       "      <td>0.016490</td>\n",
       "      <td>838.200</td>\n",
       "      <td>105.492352</td>\n",
       "      <td>2.156426</td>\n",
       "      <td>686200104130429.csv</td>\n",
       "    </tr>\n",
       "    <tr>\n",
       "      <th>56813</th>\n",
       "      <td>NaN</td>\n",
       "      <td>NaN</td>\n",
       "      <td>NaN</td>\n",
       "      <td>NaN</td>\n",
       "      <td>NaN</td>\n",
       "      <td>NaN</td>\n",
       "      <td>NaN</td>\n",
       "      <td>NaN</td>\n",
       "      <td>NaN</td>\n",
       "      <td>NaN</td>\n",
       "      <td>NaN</td>\n",
       "      <td>NaN</td>\n",
       "      <td>NaN</td>\n",
       "      <td>NaN</td>\n",
       "      <td>NaN</td>\n",
       "      <td>686200104130429.csv</td>\n",
       "    </tr>\n",
       "    <tr>\n",
       "      <th>56814</th>\n",
       "      <td>NaN</td>\n",
       "      <td>NaN</td>\n",
       "      <td>NaN</td>\n",
       "      <td>NaN</td>\n",
       "      <td>NaN</td>\n",
       "      <td>NaN</td>\n",
       "      <td>NaN</td>\n",
       "      <td>NaN</td>\n",
       "      <td>NaN</td>\n",
       "      <td>NaN</td>\n",
       "      <td>NaN</td>\n",
       "      <td>0.017640</td>\n",
       "      <td>835.152</td>\n",
       "      <td>NaN</td>\n",
       "      <td>NaN</td>\n",
       "      <td>686200104130429.csv</td>\n",
       "    </tr>\n",
       "    <tr>\n",
       "      <th>56815</th>\n",
       "      <td>NaN</td>\n",
       "      <td>NaN</td>\n",
       "      <td>NaN</td>\n",
       "      <td>NaN</td>\n",
       "      <td>NaN</td>\n",
       "      <td>NaN</td>\n",
       "      <td>NaN</td>\n",
       "      <td>NaN</td>\n",
       "      <td>NaN</td>\n",
       "      <td>NaN</td>\n",
       "      <td>NaN</td>\n",
       "      <td>NaN</td>\n",
       "      <td>NaN</td>\n",
       "      <td>NaN</td>\n",
       "      <td>NaN</td>\n",
       "      <td>686200104130429.csv</td>\n",
       "    </tr>\n",
       "    <tr>\n",
       "      <th>56816</th>\n",
       "      <td>996.6960</td>\n",
       "      <td>-9.42848</td>\n",
       "      <td>79.0</td>\n",
       "      <td>-0.10569</td>\n",
       "      <td>120.76479</td>\n",
       "      <td>-0.276164</td>\n",
       "      <td>0.0</td>\n",
       "      <td>33.78125</td>\n",
       "      <td>32.9375</td>\n",
       "      <td>32.6875</td>\n",
       "      <td>33.40625</td>\n",
       "      <td>0.018982</td>\n",
       "      <td>838.200</td>\n",
       "      <td>105.878182</td>\n",
       "      <td>2.168218</td>\n",
       "      <td>686200104130429.csv</td>\n",
       "    </tr>\n",
       "  </tbody>\n",
       "</table>\n",
       "</div>"
      ],
      "text/plain": [
       "        hbaro_m  hdot_1_mps  flap_te_pos  gs_dev_ddm     gs_mps  loc_dev_ddm  \\\n",
       "56812  999.1344    -8.37184          NaN         NaN  120.76479          NaN   \n",
       "56813       NaN         NaN          NaN         NaN        NaN          NaN   \n",
       "56814       NaN         NaN          NaN         NaN        NaN          NaN   \n",
       "56815       NaN         NaN          NaN         NaN        NaN          NaN   \n",
       "56816  996.6960    -9.42848         79.0    -0.10569  120.76479    -0.276164   \n",
       "\n",
       "       lg_squat_mr   n11_rpm  n12_rpm  n13_rpm   n14_rpm  theta_rad  hralt_m  \\\n",
       "56812          NaN  33.78125  32.9375  32.6875  33.40625   0.016490  838.200   \n",
       "56813          NaN       NaN      NaN      NaN       NaN        NaN      NaN   \n",
       "56814          NaN       NaN      NaN      NaN       NaN   0.017640  835.152   \n",
       "56815          NaN       NaN      NaN      NaN       NaN        NaN      NaN   \n",
       "56816          0.0  33.78125  32.9375  32.6875  33.40625   0.018982  838.200   \n",
       "\n",
       "          tas_mps   chi_rad                 file  \n",
       "56812  105.492352  2.156426  686200104130429.csv  \n",
       "56813         NaN       NaN  686200104130429.csv  \n",
       "56814         NaN       NaN  686200104130429.csv  \n",
       "56815         NaN       NaN  686200104130429.csv  \n",
       "56816  105.878182  2.168218  686200104130429.csv  "
      ]
     },
     "metadata": {},
     "output_type": "display_data"
    },
    {
     "name": "stdout",
     "output_type": "stream",
     "text": [
      "(800, 16)\n"
     ]
    }
   ],
   "source": [
    "all_fdm = pd.read_csv(all_fdm_file, index_col=0)\n",
    "display(all_fdm.head())\n",
    "print(all_fdm.shape)"
   ]
  },
  {
   "cell_type": "code",
   "execution_count": 9,
   "id": "3232c304",
   "metadata": {},
   "outputs": [
    {
     "data": {
      "text/html": [
       "<div>\n",
       "<style scoped>\n",
       "    .dataframe tbody tr th:only-of-type {\n",
       "        vertical-align: middle;\n",
       "    }\n",
       "\n",
       "    .dataframe tbody tr th {\n",
       "        vertical-align: top;\n",
       "    }\n",
       "\n",
       "    .dataframe thead th {\n",
       "        text-align: right;\n",
       "    }\n",
       "</style>\n",
       "<table border=\"1\" class=\"dataframe\">\n",
       "  <thead>\n",
       "    <tr style=\"text-align: right;\">\n",
       "      <th></th>\n",
       "      <th>flap_te_pos</th>\n",
       "      <th>flap_te_pos_flag</th>\n",
       "    </tr>\n",
       "  </thead>\n",
       "  <tbody>\n",
       "    <tr>\n",
       "      <th>56816</th>\n",
       "      <td>0.79</td>\n",
       "      <td>1</td>\n",
       "    </tr>\n",
       "    <tr>\n",
       "      <th>56832</th>\n",
       "      <td>0.78</td>\n",
       "      <td>1</td>\n",
       "    </tr>\n",
       "    <tr>\n",
       "      <th>56848</th>\n",
       "      <td>0.79</td>\n",
       "      <td>1</td>\n",
       "    </tr>\n",
       "    <tr>\n",
       "      <th>56864</th>\n",
       "      <td>0.79</td>\n",
       "      <td>1</td>\n",
       "    </tr>\n",
       "    <tr>\n",
       "      <th>56880</th>\n",
       "      <td>0.79</td>\n",
       "      <td>1</td>\n",
       "    </tr>\n",
       "  </tbody>\n",
       "</table>\n",
       "</div>"
      ],
      "text/plain": [
       "       flap_te_pos  flap_te_pos_flag\n",
       "56816         0.79                 1\n",
       "56832         0.78                 1\n",
       "56848         0.79                 1\n",
       "56864         0.79                 1\n",
       "56880         0.79                 1"
      ]
     },
     "execution_count": 9,
     "metadata": {},
     "output_type": "execute_result"
    }
   ],
   "source": [
    "test = all_fdm[['flap_te_pos']].dropna() / 100\n",
    "test['flap_te_pos_flag'] = test['flap_te_pos'].map(lambda x: 0 if x >= 30 else 1)\n",
    "test.head()"
   ]
  },
  {
   "cell_type": "markdown",
   "id": "fcee8bed",
   "metadata": {},
   "source": [
    "# Transform Data"
   ]
  },
  {
   "cell_type": "markdown",
   "id": "6750f55e",
   "metadata": {},
   "source": [
    "### Parameter Function\n",
    "Determine if a flight is unstable or stable. Steps:\n",
    "1. Convert `flap_te_pos` to degrees by dividing with 100\n",
    "2. Unstable condition: `flap_te_pos < 30` for 5s consecutive\n",
    "    - Search for value < 30, if the next 5 consecutive is still < 30 then unstable, else stable."
   ]
  },
  {
   "cell_type": "code",
   "execution_count": 10,
   "id": "be72e5b4",
   "metadata": {},
   "outputs": [
    {
     "data": {
      "text/plain": [
       "True"
      ]
     },
     "execution_count": 10,
     "metadata": {},
     "output_type": "execute_result"
    }
   ],
   "source": [
    "list_a = [0, 1, 1, 1, 0, 0, 1, 1, 1, 1, 1]\n",
    "\n",
    "def find_n_consecutive_flag(flag_list: list, n: int) -> bool:\n",
    "    if len(flag_list) < n:\n",
    "        return(False)\n",
    "    for i in range(len(flag_list) - (n - 1)):\n",
    "        if list_a[i] == 0:\n",
    "            continue\n",
    "        sum_flag = sum(flag_list[i:i+n])\n",
    "        if sum_flag == n:\n",
    "            return(True)\n",
    "    return(False)\n",
    "\n",
    "find_n_consecutive_flag(list_a, 5)"
   ]
  },
  {
   "cell_type": "code",
   "execution_count": 19,
   "id": "88964d75",
   "metadata": {},
   "outputs": [],
   "source": [
    "def detect_flap_unstable(df):\n",
    "    cleaned_flaps = df.flap_te_pos.dropna()\n",
    "    flap_deg = cleaned_flaps / 100\n",
    "    sns.lineplot(data=flap_deg.reset_index(drop=True), lw=0.25, color='#1f77b4')\n",
    "    flap_flag = list(flap_deg < 30)\n",
    "    is_unstable = find_n_consecutive_flag(flap_flag, n=5)\n",
    "    return int(is_unstable)"
   ]
  },
  {
   "cell_type": "markdown",
   "id": "0e8ed208",
   "metadata": {},
   "source": [
    "##### Test Function on DF "
   ]
  },
  {
   "cell_type": "code",
   "execution_count": 12,
   "id": "bf8c1663",
   "metadata": {},
   "outputs": [],
   "source": [
    "stable_file = '687200109140645.csv'\n",
    "unstable_file = '687200312291858.csv'"
   ]
  },
  {
   "cell_type": "markdown",
   "id": "51cd9458",
   "metadata": {},
   "source": [
    "1. Stable FDM"
   ]
  },
  {
   "cell_type": "code",
   "execution_count": 13,
   "id": "1670b8a1",
   "metadata": {
    "scrolled": true
   },
   "outputs": [
    {
     "data": {
      "text/plain": [
       "<AxesSubplot:>"
      ]
     },
     "execution_count": 13,
     "metadata": {},
     "output_type": "execute_result"
    },
    {
     "data": {
      "image/png": "[encoded data removed]",
      "text/plain": [
       "<Figure size 432x288 with 1 Axes>"
      ]
     },
     "metadata": {
      "needs_background": "light"
     },
     "output_type": "display_data"
    }
   ],
   "source": [
    "stable_fdm = all_fdm[all_fdm['file'] == stable_file]\n",
    "sns.lineplot(data=stable_fdm.flap_te_pos/100)"
   ]
  },
  {
   "cell_type": "code",
   "execution_count": 215,
   "id": "078b0312",
   "metadata": {},
   "outputs": [
    {
     "data": {
      "text/plain": [
       "False"
      ]
     },
     "execution_count": 215,
     "metadata": {},
     "output_type": "execute_result"
    },
    {
     "data": {
      "image/png": "[encoded data removed]",
      "text/plain": [
       "<Figure size 432x288 with 1 Axes>"
      ]
     },
     "metadata": {
      "needs_background": "light"
     },
     "output_type": "display_data"
    }
   ],
   "source": [
    "detect_flap_unstable(stable_fdm)"
   ]
  },
  {
   "cell_type": "markdown",
   "id": "2f8b2df4",
   "metadata": {},
   "source": [
    "5. Unstable FDM"
   ]
  },
  {
   "cell_type": "code",
   "execution_count": 198,
   "id": "d2f5fae6",
   "metadata": {
    "scrolled": true
   },
   "outputs": [
    {
     "data": {
      "text/plain": [
       "<AxesSubplot:ylabel='flap_te_pos'>"
      ]
     },
     "execution_count": 198,
     "metadata": {},
     "output_type": "execute_result"
    },
    {
     "data": {
      "image/png": "[encoded data removed]",
      "text/plain": [
       "<Figure size 432x288 with 1 Axes>"
      ]
     },
     "metadata": {
      "needs_background": "light"
     },
     "output_type": "display_data"
    }
   ],
   "source": [
    "unstable_fdm = all_fdm[all_fdm['file'] == unstable_file]\n",
    "sns.lineplot(data=unstable_fdm.flap_te_pos/100)"
   ]
  },
  {
   "cell_type": "code",
   "execution_count": 199,
   "id": "2ed7275c",
   "metadata": {},
   "outputs": [
    {
     "data": {
      "text/plain": [
       "True"
      ]
     },
     "execution_count": 199,
     "metadata": {},
     "output_type": "execute_result"
    }
   ],
   "source": [
    "detect_flap_unstable(unstable_fdm)"
   ]
  },
  {
   "cell_type": "markdown",
   "id": "1610a965",
   "metadata": {},
   "source": [
    "### Detect for All FDM"
   ]
  },
  {
   "cell_type": "code",
   "execution_count": 20,
   "id": "f2b9f460",
   "metadata": {},
   "outputs": [
    {
     "name": "stderr",
     "output_type": "stream",
     "text": [
      "100%|██████████| 5/5 [00:00<00:00, 47.97it/s]\n"
     ]
    },
    {
     "data": {
      "image/png": "[encoded data removed]",
      "text/plain": [
       "<Figure size 432x288 with 1 Axes>"
      ]
     },
     "metadata": {
      "needs_background": "light"
     },
     "output_type": "display_data"
    }
   ],
   "source": [
    "unstable_detection = all_fdm.groupby('file').progress_apply(detect_flap_unstable)"
   ]
  },
  {
   "cell_type": "code",
   "execution_count": 21,
   "id": "d3fdd0ef",
   "metadata": {},
   "outputs": [
    {
     "name": "stdout",
     "output_type": "stream",
     "text": [
      "5/5\n"
     ]
    }
   ],
   "source": [
    "print(f\"{sum(unstable_detection)}/{len(unstable_detection)}\")"
   ]
  },
  {
   "cell_type": "code",
   "execution_count": 22,
   "id": "b3784c83",
   "metadata": {},
   "outputs": [
    {
     "data": {
      "text/plain": [
       "file\n",
       "686200104121245.csv    1\n",
       "686200104121532.csv    1\n",
       "686200104121825.csv    1\n",
       "686200104130429.csv    1\n",
       "686200104130652.csv    1\n",
       "dtype: int64"
      ]
     },
     "execution_count": 22,
     "metadata": {},
     "output_type": "execute_result"
    }
   ],
   "source": [
    "unstable_detection"
   ]
  },
  {
   "cell_type": "code",
   "execution_count": 23,
   "id": "0e705ba5",
   "metadata": {},
   "outputs": [
    {
     "data": {
      "text/html": [
       "<div>\n",
       "<style scoped>\n",
       "    .dataframe tbody tr th:only-of-type {\n",
       "        vertical-align: middle;\n",
       "    }\n",
       "\n",
       "    .dataframe tbody tr th {\n",
       "        vertical-align: top;\n",
       "    }\n",
       "\n",
       "    .dataframe thead th {\n",
       "        text-align: right;\n",
       "    }\n",
       "</style>\n",
       "<table border=\"1\" class=\"dataframe\">\n",
       "  <thead>\n",
       "    <tr style=\"text-align: right;\">\n",
       "      <th></th>\n",
       "      <th>flap</th>\n",
       "    </tr>\n",
       "    <tr>\n",
       "      <th>file</th>\n",
       "      <th></th>\n",
       "    </tr>\n",
       "  </thead>\n",
       "  <tbody>\n",
       "    <tr>\n",
       "      <th>686200104121245.csv</th>\n",
       "      <td>1</td>\n",
       "    </tr>\n",
       "    <tr>\n",
       "      <th>686200104121532.csv</th>\n",
       "      <td>1</td>\n",
       "    </tr>\n",
       "    <tr>\n",
       "      <th>686200104121825.csv</th>\n",
       "      <td>1</td>\n",
       "    </tr>\n",
       "    <tr>\n",
       "      <th>686200104130429.csv</th>\n",
       "      <td>1</td>\n",
       "    </tr>\n",
       "    <tr>\n",
       "      <th>686200104130652.csv</th>\n",
       "      <td>1</td>\n",
       "    </tr>\n",
       "  </tbody>\n",
       "</table>\n",
       "</div>"
      ],
      "text/plain": [
       "                     flap\n",
       "file                     \n",
       "686200104121245.csv     1\n",
       "686200104121532.csv     1\n",
       "686200104121825.csv     1\n",
       "686200104130429.csv     1\n",
       "686200104130652.csv     1"
      ]
     },
     "execution_count": 23,
     "metadata": {},
     "output_type": "execute_result"
    }
   ],
   "source": [
    "unstable_detection_df = pd.DataFrame(unstable_detection, columns=['flap'])\n",
    "unstable_detection_df.head()"
   ]
  },
  {
   "cell_type": "code",
   "execution_count": 24,
   "id": "30d9d8e8",
   "metadata": {},
   "outputs": [],
   "source": [
    "unstable_detection_df.to_csv(output_flap_file)"
   ]
  }
 ],
 "metadata": {
  "kernelspec": {
   "display_name": "flight_env",
   "language": "python",
   "name": "flight_env"
  },
  "language_info": {
   "codemirror_mode": {
    "name": "ipython",
    "version": 3
   },
   "file_extension": ".py",
   "mimetype": "text/x-python",
   "name": "python",
   "nbconvert_exporter": "python",
   "pygments_lexer": "ipython3",
   "version": "3.9.5"
  }
 },
 "nbformat": 4,
 "nbformat_minor": 5
}
