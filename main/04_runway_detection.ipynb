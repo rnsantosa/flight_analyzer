{
 "cells": [
  {
   "cell_type": "markdown",
   "metadata": {},
   "source": [
    "# Runway Detection\n",
    "Detect departure and arrival runway from Flight Data Monitoring dataset. Using KNN model to match longitude and latitude of the runway."
   ]
  },
  {
   "cell_type": "markdown",
   "metadata": {},
   "source": [
    "## Import "
   ]
  },
  {
   "cell_type": "code",
   "execution_count": 3,
   "metadata": {},
   "outputs": [
    {
     "name": "stdout",
     "output_type": "stream",
     "text": [
      "The autoreload extension is already loaded. To reload it, use:\n",
      "  %reload_ext autoreload\n"
     ]
    }
   ],
   "source": [
    "%load_ext autoreload\n",
    "%autoreload 2"
   ]
  },
  {
   "cell_type": "code",
   "execution_count": 4,
   "metadata": {},
   "outputs": [],
   "source": [
    "import pandas as pd\n",
    "import math\n",
    "import numpy as np\n",
    "import seaborn as sns\n",
    "import matplotlib as plt\n",
    "import folium\n",
    "from sklearn.neighbors import KNeighborsClassifier"
   ]
  },
  {
   "cell_type": "markdown",
   "metadata": {},
   "source": [
    "### Constant"
   ]
  },
  {
   "cell_type": "code",
   "execution_count": 5,
   "metadata": {},
   "outputs": [],
   "source": [
    "base_path = '../dataset/database_local'\n",
    "# base_path = '../dataset/database'"
   ]
  },
  {
   "cell_type": "code",
   "execution_count": 6,
   "metadata": {},
   "outputs": [],
   "source": [
    "fdm_database_path = base_path + '/01_fdm_files.csv'\n",
    "fdm_locations_path = base_path + '/02_fdm_locations.csv'\n",
    "flights_path = base_path + '/03_flights_airport.csv'\n",
    "landing_output = base_path + '/04_landing_count_detail.csv'\n",
    "flights_runway_output = base_path + '/04_flights_with_runway.csv'"
   ]
  },
  {
   "cell_type": "markdown",
   "metadata": {},
   "source": [
    "## Extract Data"
   ]
  },
  {
   "cell_type": "markdown",
   "metadata": {},
   "source": [
    "#### 1. Read Flights Data "
   ]
  },
  {
   "cell_type": "code",
   "execution_count": 7,
   "metadata": {},
   "outputs": [
    {
     "data": {
      "text/html": [
       "<div>\n",
       "<style scoped>\n",
       "    .dataframe tbody tr th:only-of-type {\n",
       "        vertical-align: middle;\n",
       "    }\n",
       "\n",
       "    .dataframe tbody tr th {\n",
       "        vertical-align: top;\n",
       "    }\n",
       "\n",
       "    .dataframe thead th {\n",
       "        text-align: right;\n",
       "    }\n",
       "</style>\n",
       "<table border=\"1\" class=\"dataframe\">\n",
       "  <thead>\n",
       "    <tr style=\"text-align: right;\">\n",
       "      <th></th>\n",
       "      <th>fname</th>\n",
       "      <th>tail_id</th>\n",
       "      <th>dep_airport</th>\n",
       "      <th>arr_airport</th>\n",
       "      <th>fsize_mb</th>\n",
       "      <th>fullpath</th>\n",
       "    </tr>\n",
       "  </thead>\n",
       "  <tbody>\n",
       "    <tr>\n",
       "      <th>0</th>\n",
       "      <td>686200104121532.csv</td>\n",
       "      <td>tail_686_1</td>\n",
       "      <td>BHM</td>\n",
       "      <td>DTW</td>\n",
       "      <td>68.39</td>\n",
       "      <td>../dataset/fdm/tail_686_1/686200104121532.csv</td>\n",
       "    </tr>\n",
       "    <tr>\n",
       "      <th>1</th>\n",
       "      <td>686200104121245.csv</td>\n",
       "      <td>tail_686_1</td>\n",
       "      <td>DTW</td>\n",
       "      <td>BHM</td>\n",
       "      <td>61.52</td>\n",
       "      <td>../dataset/fdm/tail_686_1/686200104121245.csv</td>\n",
       "    </tr>\n",
       "    <tr>\n",
       "      <th>2</th>\n",
       "      <td>686200104121825.csv</td>\n",
       "      <td>tail_686_2</td>\n",
       "      <td>DTW</td>\n",
       "      <td>LEX</td>\n",
       "      <td>40.71</td>\n",
       "      <td>../dataset/fdm/tail_686_2/686200104121825.csv</td>\n",
       "    </tr>\n",
       "    <tr>\n",
       "      <th>3</th>\n",
       "      <td>686200104130429.csv</td>\n",
       "      <td>tail_686_2</td>\n",
       "      <td>LEX</td>\n",
       "      <td>DTW</td>\n",
       "      <td>42.63</td>\n",
       "      <td>../dataset/fdm/tail_686_2/686200104130429.csv</td>\n",
       "    </tr>\n",
       "    <tr>\n",
       "      <th>4</th>\n",
       "      <td>686200104130652.csv</td>\n",
       "      <td>tail_687_1</td>\n",
       "      <td>DTW</td>\n",
       "      <td>OKC</td>\n",
       "      <td>95.92</td>\n",
       "      <td>../dataset/fdm/tail_687_1/686200104130652.csv</td>\n",
       "    </tr>\n",
       "  </tbody>\n",
       "</table>\n",
       "</div>"
      ],
      "text/plain": [
       "                 fname     tail_id dep_airport arr_airport  fsize_mb  \\\n",
       "0  686200104121532.csv  tail_686_1         BHM         DTW     68.39   \n",
       "1  686200104121245.csv  tail_686_1         DTW         BHM     61.52   \n",
       "2  686200104121825.csv  tail_686_2         DTW         LEX     40.71   \n",
       "3  686200104130429.csv  tail_686_2         LEX         DTW     42.63   \n",
       "4  686200104130652.csv  tail_687_1         DTW         OKC     95.92   \n",
       "\n",
       "                                        fullpath  \n",
       "0  ../dataset/fdm/tail_686_1/686200104121532.csv  \n",
       "1  ../dataset/fdm/tail_686_1/686200104121245.csv  \n",
       "2  ../dataset/fdm/tail_686_2/686200104121825.csv  \n",
       "3  ../dataset/fdm/tail_686_2/686200104130429.csv  \n",
       "4  ../dataset/fdm/tail_687_1/686200104130652.csv  "
      ]
     },
     "metadata": {},
     "output_type": "display_data"
    },
    {
     "data": {
      "text/plain": [
       "(5, 6)"
      ]
     },
     "execution_count": 7,
     "metadata": {},
     "output_type": "execute_result"
    }
   ],
   "source": [
    "flights = pd.read_csv(flights_path)\n",
    "display(flights.head())\n",
    "flights.shape"
   ]
  },
  {
   "cell_type": "code",
   "execution_count": 8,
   "metadata": {},
   "outputs": [
    {
     "data": {
      "text/plain": [
       "(5, 6)"
      ]
     },
     "execution_count": 8,
     "metadata": {},
     "output_type": "execute_result"
    }
   ],
   "source": [
    "flights_clean = flights.dropna().copy()\n",
    "flights_clean.shape"
   ]
  },
  {
   "cell_type": "markdown",
   "metadata": {},
   "source": [
    "#### 2. Read Flight Location"
   ]
  },
  {
   "cell_type": "code",
   "execution_count": 9,
   "metadata": {},
   "outputs": [
    {
     "data": {
      "text/html": [
       "<div>\n",
       "<style scoped>\n",
       "    .dataframe tbody tr th:only-of-type {\n",
       "        vertical-align: middle;\n",
       "    }\n",
       "\n",
       "    .dataframe tbody tr th {\n",
       "        vertical-align: top;\n",
       "    }\n",
       "\n",
       "    .dataframe thead th {\n",
       "        text-align: right;\n",
       "    }\n",
       "</style>\n",
       "<table border=\"1\" class=\"dataframe\">\n",
       "  <thead>\n",
       "    <tr style=\"text-align: right;\">\n",
       "      <th></th>\n",
       "      <th>fname</th>\n",
       "      <th>dep_lat</th>\n",
       "      <th>dep_lon</th>\n",
       "      <th>arr_lat</th>\n",
       "      <th>arr_lon</th>\n",
       "    </tr>\n",
       "  </thead>\n",
       "  <tbody>\n",
       "    <tr>\n",
       "      <th>0</th>\n",
       "      <td>686200104121532.csv</td>\n",
       "      <td>0.585762</td>\n",
       "      <td>-1.514118</td>\n",
       "      <td>0.736623</td>\n",
       "      <td>-1.454892</td>\n",
       "    </tr>\n",
       "    <tr>\n",
       "      <th>1</th>\n",
       "      <td>686200104121245.csv</td>\n",
       "      <td>0.736719</td>\n",
       "      <td>-1.454814</td>\n",
       "      <td>0.585786</td>\n",
       "      <td>-1.514111</td>\n",
       "    </tr>\n",
       "    <tr>\n",
       "      <th>2</th>\n",
       "      <td>686200104121825.csv</td>\n",
       "      <td>0.736698</td>\n",
       "      <td>-1.454781</td>\n",
       "      <td>0.663881</td>\n",
       "      <td>-1.476550</td>\n",
       "    </tr>\n",
       "    <tr>\n",
       "      <th>3</th>\n",
       "      <td>686200104130429.csv</td>\n",
       "      <td>0.663908</td>\n",
       "      <td>-1.476544</td>\n",
       "      <td>0.736575</td>\n",
       "      <td>-1.454951</td>\n",
       "    </tr>\n",
       "    <tr>\n",
       "      <th>4</th>\n",
       "      <td>686200104130652.csv</td>\n",
       "      <td>0.736596</td>\n",
       "      <td>-1.454951</td>\n",
       "      <td>0.617748</td>\n",
       "      <td>-1.703400</td>\n",
       "    </tr>\n",
       "  </tbody>\n",
       "</table>\n",
       "</div>"
      ],
      "text/plain": [
       "                 fname   dep_lat   dep_lon   arr_lat   arr_lon\n",
       "0  686200104121532.csv  0.585762 -1.514118  0.736623 -1.454892\n",
       "1  686200104121245.csv  0.736719 -1.454814  0.585786 -1.514111\n",
       "2  686200104121825.csv  0.736698 -1.454781  0.663881 -1.476550\n",
       "3  686200104130429.csv  0.663908 -1.476544  0.736575 -1.454951\n",
       "4  686200104130652.csv  0.736596 -1.454951  0.617748 -1.703400"
      ]
     },
     "execution_count": 9,
     "metadata": {},
     "output_type": "execute_result"
    }
   ],
   "source": [
    "fdm_locations = pd.read_csv(fdm_locations_path)\n",
    "fdm_locations.head()"
   ]
  },
  {
   "cell_type": "code",
   "execution_count": 10,
   "metadata": {},
   "outputs": [
    {
     "data": {
      "text/plain": [
       "(5, 5)"
      ]
     },
     "execution_count": 10,
     "metadata": {},
     "output_type": "execute_result"
    }
   ],
   "source": [
    "fdm_locations_clean = fdm_locations.dropna().copy()\n",
    "fdm_locations_clean.shape"
   ]
  },
  {
   "cell_type": "markdown",
   "metadata": {},
   "source": [
    "#### 3. Read Runway Data"
   ]
  },
  {
   "cell_type": "code",
   "execution_count": 11,
   "metadata": {},
   "outputs": [
    {
     "data": {
      "text/html": [
       "<div>\n",
       "<style scoped>\n",
       "    .dataframe tbody tr th:only-of-type {\n",
       "        vertical-align: middle;\n",
       "    }\n",
       "\n",
       "    .dataframe tbody tr th {\n",
       "        vertical-align: top;\n",
       "    }\n",
       "\n",
       "    .dataframe thead th {\n",
       "        text-align: right;\n",
       "    }\n",
       "</style>\n",
       "<table border=\"1\" class=\"dataframe\">\n",
       "  <thead>\n",
       "    <tr style=\"text-align: right;\">\n",
       "      <th></th>\n",
       "      <th>icao_code</th>\n",
       "      <th>iata_code</th>\n",
       "      <th>name</th>\n",
       "      <th>length_ft</th>\n",
       "      <th>width_ft</th>\n",
       "      <th>surface</th>\n",
       "      <th>lighted</th>\n",
       "      <th>closed</th>\n",
       "      <th>le_ident</th>\n",
       "      <th>le_latitude_rad</th>\n",
       "      <th>le_longitude_rad</th>\n",
       "      <th>le_elevation_ft</th>\n",
       "      <th>le_heading_degT</th>\n",
       "      <th>le_displaced_threshold_ft</th>\n",
       "      <th>he_ident</th>\n",
       "      <th>he_latitude_rad</th>\n",
       "      <th>he_longitude_rad</th>\n",
       "      <th>he_elevation_ft</th>\n",
       "      <th>he_heading_degT</th>\n",
       "      <th>he_displaced_threshold_ft</th>\n",
       "    </tr>\n",
       "    <tr>\n",
       "      <th>no</th>\n",
       "      <th></th>\n",
       "      <th></th>\n",
       "      <th></th>\n",
       "      <th></th>\n",
       "      <th></th>\n",
       "      <th></th>\n",
       "      <th></th>\n",
       "      <th></th>\n",
       "      <th></th>\n",
       "      <th></th>\n",
       "      <th></th>\n",
       "      <th></th>\n",
       "      <th></th>\n",
       "      <th></th>\n",
       "      <th></th>\n",
       "      <th></th>\n",
       "      <th></th>\n",
       "      <th></th>\n",
       "      <th></th>\n",
       "      <th></th>\n",
       "    </tr>\n",
       "  </thead>\n",
       "  <tbody>\n",
       "    <tr>\n",
       "      <th>1</th>\n",
       "      <td>5A8</td>\n",
       "      <td>WKK</td>\n",
       "      <td>Aleknagik / New Airport</td>\n",
       "      <td>2040.0</td>\n",
       "      <td>80.0</td>\n",
       "      <td>GRVL-DIRT-F</td>\n",
       "      <td>0</td>\n",
       "      <td>0</td>\n",
       "      <td>15</td>\n",
       "      <td>NaN</td>\n",
       "      <td>NaN</td>\n",
       "      <td>NaN</td>\n",
       "      <td>NaN</td>\n",
       "      <td>NaN</td>\n",
       "      <td>33</td>\n",
       "      <td>NaN</td>\n",
       "      <td>NaN</td>\n",
       "      <td>NaN</td>\n",
       "      <td>NaN</td>\n",
       "      <td>NaN</td>\n",
       "    </tr>\n",
       "    <tr>\n",
       "      <th>2</th>\n",
       "      <td>AGGH</td>\n",
       "      <td>HIR</td>\n",
       "      <td>Honiara International Airport</td>\n",
       "      <td>7218.0</td>\n",
       "      <td>148.0</td>\n",
       "      <td>ASP</td>\n",
       "      <td>1</td>\n",
       "      <td>0</td>\n",
       "      <td>06</td>\n",
       "      <td>-0.164615</td>\n",
       "      <td>2.793312</td>\n",
       "      <td>28.0</td>\n",
       "      <td>68.0</td>\n",
       "      <td>NaN</td>\n",
       "      <td>24</td>\n",
       "      <td>-0.164484</td>\n",
       "      <td>2.793644</td>\n",
       "      <td>14.0</td>\n",
       "      <td>248.0</td>\n",
       "      <td>NaN</td>\n",
       "    </tr>\n",
       "    <tr>\n",
       "      <th>3</th>\n",
       "      <td>AGGM</td>\n",
       "      <td>MUA</td>\n",
       "      <td>Munda Airport</td>\n",
       "      <td>4593.0</td>\n",
       "      <td>98.0</td>\n",
       "      <td>ASP</td>\n",
       "      <td>0</td>\n",
       "      <td>0</td>\n",
       "      <td>07</td>\n",
       "      <td>-0.145372</td>\n",
       "      <td>2.744652</td>\n",
       "      <td>7.0</td>\n",
       "      <td>78.9</td>\n",
       "      <td>NaN</td>\n",
       "      <td>25</td>\n",
       "      <td>-0.145329</td>\n",
       "      <td>2.744862</td>\n",
       "      <td>9.0</td>\n",
       "      <td>258.9</td>\n",
       "      <td>NaN</td>\n",
       "    </tr>\n",
       "    <tr>\n",
       "      <th>4</th>\n",
       "      <td>AHJ</td>\n",
       "      <td>AHJ</td>\n",
       "      <td>Hongyuan Airport</td>\n",
       "      <td>11800.0</td>\n",
       "      <td>150.0</td>\n",
       "      <td>CON</td>\n",
       "      <td>1</td>\n",
       "      <td>0</td>\n",
       "      <td>16</td>\n",
       "      <td>0.568052</td>\n",
       "      <td>1.786292</td>\n",
       "      <td>11571.0</td>\n",
       "      <td>163.0</td>\n",
       "      <td>NaN</td>\n",
       "      <td>34</td>\n",
       "      <td>0.567513</td>\n",
       "      <td>1.786484</td>\n",
       "      <td>11587.0</td>\n",
       "      <td>343.0</td>\n",
       "      <td>NaN</td>\n",
       "    </tr>\n",
       "    <tr>\n",
       "      <th>5</th>\n",
       "      <td>ANYN</td>\n",
       "      <td>INU</td>\n",
       "      <td>Nauru International Airport</td>\n",
       "      <td>7054.0</td>\n",
       "      <td>148.0</td>\n",
       "      <td>ASP</td>\n",
       "      <td>1</td>\n",
       "      <td>0</td>\n",
       "      <td>12</td>\n",
       "      <td>-0.009445</td>\n",
       "      <td>2.913164</td>\n",
       "      <td>22.0</td>\n",
       "      <td>130.3</td>\n",
       "      <td>165.0</td>\n",
       "      <td>30</td>\n",
       "      <td>-0.009665</td>\n",
       "      <td>2.913408</td>\n",
       "      <td>20.0</td>\n",
       "      <td>310.3</td>\n",
       "      <td>380.0</td>\n",
       "    </tr>\n",
       "  </tbody>\n",
       "</table>\n",
       "</div>"
      ],
      "text/plain": [
       "   icao_code iata_code                           name  length_ft  width_ft  \\\n",
       "no                                                                           \n",
       "1        5A8       WKK        Aleknagik / New Airport     2040.0      80.0   \n",
       "2       AGGH       HIR  Honiara International Airport     7218.0     148.0   \n",
       "3       AGGM       MUA                  Munda Airport     4593.0      98.0   \n",
       "4        AHJ       AHJ               Hongyuan Airport    11800.0     150.0   \n",
       "5       ANYN       INU    Nauru International Airport     7054.0     148.0   \n",
       "\n",
       "        surface  lighted  closed le_ident  le_latitude_rad  le_longitude_rad  \\\n",
       "no                                                                             \n",
       "1   GRVL-DIRT-F        0       0       15              NaN               NaN   \n",
       "2           ASP        1       0       06        -0.164615          2.793312   \n",
       "3           ASP        0       0       07        -0.145372          2.744652   \n",
       "4           CON        1       0       16         0.568052          1.786292   \n",
       "5           ASP        1       0       12        -0.009445          2.913164   \n",
       "\n",
       "    le_elevation_ft  le_heading_degT  le_displaced_threshold_ft he_ident  \\\n",
       "no                                                                         \n",
       "1               NaN              NaN                        NaN       33   \n",
       "2              28.0             68.0                        NaN       24   \n",
       "3               7.0             78.9                        NaN       25   \n",
       "4           11571.0            163.0                        NaN       34   \n",
       "5              22.0            130.3                      165.0       30   \n",
       "\n",
       "    he_latitude_rad  he_longitude_rad  he_elevation_ft  he_heading_degT  \\\n",
       "no                                                                        \n",
       "1               NaN               NaN              NaN              NaN   \n",
       "2         -0.164484          2.793644             14.0            248.0   \n",
       "3         -0.145329          2.744862              9.0            258.9   \n",
       "4          0.567513          1.786484          11587.0            343.0   \n",
       "5         -0.009665          2.913408             20.0            310.3   \n",
       "\n",
       "    he_displaced_threshold_ft  \n",
       "no                             \n",
       "1                         NaN  \n",
       "2                         NaN  \n",
       "3                         NaN  \n",
       "4                         NaN  \n",
       "5                       380.0  "
      ]
     },
     "execution_count": 11,
     "metadata": {},
     "output_type": "execute_result"
    }
   ],
   "source": [
    "runways_path = '../dataset/database/runways (radians).xlsx' \n",
    "runways = pd.read_excel(runways_path, index_col=0)\n",
    "runways.head()"
   ]
  },
  {
   "cell_type": "markdown",
   "metadata": {},
   "source": [
    "#### 4. Read Airport Data"
   ]
  },
  {
   "cell_type": "code",
   "execution_count": 12,
   "metadata": {},
   "outputs": [
    {
     "data": {
      "text/html": [
       "<div>\n",
       "<style scoped>\n",
       "    .dataframe tbody tr th:only-of-type {\n",
       "        vertical-align: middle;\n",
       "    }\n",
       "\n",
       "    .dataframe tbody tr th {\n",
       "        vertical-align: top;\n",
       "    }\n",
       "\n",
       "    .dataframe thead th {\n",
       "        text-align: right;\n",
       "    }\n",
       "</style>\n",
       "<table border=\"1\" class=\"dataframe\">\n",
       "  <thead>\n",
       "    <tr style=\"text-align: right;\">\n",
       "      <th></th>\n",
       "      <th>icao_code</th>\n",
       "      <th>iata_code</th>\n",
       "      <th>type</th>\n",
       "      <th>name</th>\n",
       "      <th>latitude_rad</th>\n",
       "      <th>longitude_rad</th>\n",
       "      <th>elevation_ft</th>\n",
       "      <th>scheduled_service</th>\n",
       "    </tr>\n",
       "    <tr>\n",
       "      <th>no</th>\n",
       "      <th></th>\n",
       "      <th></th>\n",
       "      <th></th>\n",
       "      <th></th>\n",
       "      <th></th>\n",
       "      <th></th>\n",
       "      <th></th>\n",
       "      <th></th>\n",
       "    </tr>\n",
       "  </thead>\n",
       "  <tbody>\n",
       "    <tr>\n",
       "      <th>1</th>\n",
       "      <td>5A8</td>\n",
       "      <td>WKK</td>\n",
       "      <td>medium_airport</td>\n",
       "      <td>Aleknagik / New Airport</td>\n",
       "      <td>1.034677</td>\n",
       "      <td>-2.768406</td>\n",
       "      <td>66.0</td>\n",
       "      <td>yes</td>\n",
       "    </tr>\n",
       "    <tr>\n",
       "      <th>2</th>\n",
       "      <td>AF-0005</td>\n",
       "      <td>NaN</td>\n",
       "      <td>medium_airport</td>\n",
       "      <td>Khost International Airport (U.C.)</td>\n",
       "      <td>0.580926</td>\n",
       "      <td>1.218368</td>\n",
       "      <td>4204.0</td>\n",
       "      <td>no</td>\n",
       "    </tr>\n",
       "    <tr>\n",
       "      <th>3</th>\n",
       "      <td>AGGH</td>\n",
       "      <td>HIR</td>\n",
       "      <td>medium_airport</td>\n",
       "      <td>Honiara International Airport</td>\n",
       "      <td>-0.164550</td>\n",
       "      <td>2.793487</td>\n",
       "      <td>28.0</td>\n",
       "      <td>yes</td>\n",
       "    </tr>\n",
       "    <tr>\n",
       "      <th>4</th>\n",
       "      <td>AGGM</td>\n",
       "      <td>MUA</td>\n",
       "      <td>medium_airport</td>\n",
       "      <td>Munda Airport</td>\n",
       "      <td>-0.145350</td>\n",
       "      <td>2.744757</td>\n",
       "      <td>10.0</td>\n",
       "      <td>yes</td>\n",
       "    </tr>\n",
       "    <tr>\n",
       "      <th>5</th>\n",
       "      <td>AHJ</td>\n",
       "      <td>AHJ</td>\n",
       "      <td>medium_airport</td>\n",
       "      <td>Hongyuan Airport</td>\n",
       "      <td>0.567782</td>\n",
       "      <td>1.786384</td>\n",
       "      <td>11600.0</td>\n",
       "      <td>no</td>\n",
       "    </tr>\n",
       "  </tbody>\n",
       "</table>\n",
       "</div>"
      ],
      "text/plain": [
       "   icao_code iata_code            type                                name  \\\n",
       "no                                                                           \n",
       "1        5A8       WKK  medium_airport             Aleknagik / New Airport   \n",
       "2    AF-0005       NaN  medium_airport  Khost International Airport (U.C.)   \n",
       "3       AGGH       HIR  medium_airport       Honiara International Airport   \n",
       "4       AGGM       MUA  medium_airport                       Munda Airport   \n",
       "5        AHJ       AHJ  medium_airport                    Hongyuan Airport   \n",
       "\n",
       "    latitude_rad  longitude_rad  elevation_ft scheduled_service  \n",
       "no                                                               \n",
       "1       1.034677      -2.768406          66.0               yes  \n",
       "2       0.580926       1.218368        4204.0                no  \n",
       "3      -0.164550       2.793487          28.0               yes  \n",
       "4      -0.145350       2.744757          10.0               yes  \n",
       "5       0.567782       1.786384       11600.0                no  "
      ]
     },
     "execution_count": 12,
     "metadata": {},
     "output_type": "execute_result"
    }
   ],
   "source": [
    "airports_filepath = '../dataset/database/airports (radians).xlsx'\n",
    "airports = pd.read_excel(airports_filepath, index_col=0)\n",
    "airports.head()"
   ]
  },
  {
   "cell_type": "markdown",
   "metadata": {},
   "source": [
    "## Transform Data"
   ]
  },
  {
   "cell_type": "markdown",
   "metadata": {},
   "source": [
    "#### 1. Concat Runway Identifier"
   ]
  },
  {
   "cell_type": "code",
   "execution_count": 13,
   "metadata": {},
   "outputs": [],
   "source": [
    "runways_le_ident = runways[['iata_code', 'le_ident', 'le_latitude_rad', 'le_longitude_rad']].copy()\n",
    "runways_he_ident = runways[['iata_code', 'he_ident', 'he_latitude_rad', 'he_longitude_rad']].copy()"
   ]
  },
  {
   "cell_type": "code",
   "execution_count": 14,
   "metadata": {},
   "outputs": [],
   "source": [
    "# Rename column to be the same\n",
    "le_col_rename = {'le_ident': 'runway_ident', 'le_latitude_rad': 'lat_rad', 'le_longitude_rad': 'lon_rad'}\n",
    "he_col_rename = {'he_ident': 'runway_ident', 'he_latitude_rad': 'lat_rad', 'he_longitude_rad': 'lon_rad'}\n",
    "\n",
    "runways_le_ident = runways_le_ident.rename(columns=le_col_rename)\n",
    "runways_he_ident = runways_he_ident.rename(columns=he_col_rename)\n",
    "\n",
    "runways_le_ident['type'] = 'le'\n",
    "runways_he_ident['type'] = 'he'"
   ]
  },
  {
   "cell_type": "code",
   "execution_count": 15,
   "metadata": {},
   "outputs": [
    {
     "data": {
      "text/html": [
       "<div>\n",
       "<style scoped>\n",
       "    .dataframe tbody tr th:only-of-type {\n",
       "        vertical-align: middle;\n",
       "    }\n",
       "\n",
       "    .dataframe tbody tr th {\n",
       "        vertical-align: top;\n",
       "    }\n",
       "\n",
       "    .dataframe thead th {\n",
       "        text-align: right;\n",
       "    }\n",
       "</style>\n",
       "<table border=\"1\" class=\"dataframe\">\n",
       "  <thead>\n",
       "    <tr style=\"text-align: right;\">\n",
       "      <th></th>\n",
       "      <th>iata_code</th>\n",
       "      <th>runway_ident</th>\n",
       "      <th>lat_rad</th>\n",
       "      <th>lon_rad</th>\n",
       "      <th>type</th>\n",
       "    </tr>\n",
       "    <tr>\n",
       "      <th>no</th>\n",
       "      <th></th>\n",
       "      <th></th>\n",
       "      <th></th>\n",
       "      <th></th>\n",
       "      <th></th>\n",
       "    </tr>\n",
       "  </thead>\n",
       "  <tbody>\n",
       "    <tr>\n",
       "      <th>1</th>\n",
       "      <td>WKK</td>\n",
       "      <td>15</td>\n",
       "      <td>NaN</td>\n",
       "      <td>NaN</td>\n",
       "      <td>le</td>\n",
       "    </tr>\n",
       "    <tr>\n",
       "      <th>2</th>\n",
       "      <td>HIR</td>\n",
       "      <td>06</td>\n",
       "      <td>-0.164615</td>\n",
       "      <td>2.793312</td>\n",
       "      <td>le</td>\n",
       "    </tr>\n",
       "    <tr>\n",
       "      <th>3</th>\n",
       "      <td>MUA</td>\n",
       "      <td>07</td>\n",
       "      <td>-0.145372</td>\n",
       "      <td>2.744652</td>\n",
       "      <td>le</td>\n",
       "    </tr>\n",
       "    <tr>\n",
       "      <th>4</th>\n",
       "      <td>AHJ</td>\n",
       "      <td>16</td>\n",
       "      <td>0.568052</td>\n",
       "      <td>1.786292</td>\n",
       "      <td>le</td>\n",
       "    </tr>\n",
       "    <tr>\n",
       "      <th>5</th>\n",
       "      <td>INU</td>\n",
       "      <td>12</td>\n",
       "      <td>-0.009445</td>\n",
       "      <td>2.913164</td>\n",
       "      <td>le</td>\n",
       "    </tr>\n",
       "  </tbody>\n",
       "</table>\n",
       "</div>"
      ],
      "text/plain": [
       "   iata_code runway_ident   lat_rad   lon_rad type\n",
       "no                                                \n",
       "1        WKK           15       NaN       NaN   le\n",
       "2        HIR           06 -0.164615  2.793312   le\n",
       "3        MUA           07 -0.145372  2.744652   le\n",
       "4        AHJ           16  0.568052  1.786292   le\n",
       "5        INU           12 -0.009445  2.913164   le"
      ]
     },
     "metadata": {},
     "output_type": "display_data"
    },
    {
     "data": {
      "text/html": [
       "<div>\n",
       "<style scoped>\n",
       "    .dataframe tbody tr th:only-of-type {\n",
       "        vertical-align: middle;\n",
       "    }\n",
       "\n",
       "    .dataframe tbody tr th {\n",
       "        vertical-align: top;\n",
       "    }\n",
       "\n",
       "    .dataframe thead th {\n",
       "        text-align: right;\n",
       "    }\n",
       "</style>\n",
       "<table border=\"1\" class=\"dataframe\">\n",
       "  <thead>\n",
       "    <tr style=\"text-align: right;\">\n",
       "      <th></th>\n",
       "      <th>iata_code</th>\n",
       "      <th>runway_ident</th>\n",
       "      <th>lat_rad</th>\n",
       "      <th>lon_rad</th>\n",
       "      <th>type</th>\n",
       "    </tr>\n",
       "    <tr>\n",
       "      <th>no</th>\n",
       "      <th></th>\n",
       "      <th></th>\n",
       "      <th></th>\n",
       "      <th></th>\n",
       "      <th></th>\n",
       "    </tr>\n",
       "  </thead>\n",
       "  <tbody>\n",
       "    <tr>\n",
       "      <th>1</th>\n",
       "      <td>WKK</td>\n",
       "      <td>33</td>\n",
       "      <td>NaN</td>\n",
       "      <td>NaN</td>\n",
       "      <td>he</td>\n",
       "    </tr>\n",
       "    <tr>\n",
       "      <th>2</th>\n",
       "      <td>HIR</td>\n",
       "      <td>24</td>\n",
       "      <td>-0.164484</td>\n",
       "      <td>2.793644</td>\n",
       "      <td>he</td>\n",
       "    </tr>\n",
       "    <tr>\n",
       "      <th>3</th>\n",
       "      <td>MUA</td>\n",
       "      <td>25</td>\n",
       "      <td>-0.145329</td>\n",
       "      <td>2.744862</td>\n",
       "      <td>he</td>\n",
       "    </tr>\n",
       "    <tr>\n",
       "      <th>4</th>\n",
       "      <td>AHJ</td>\n",
       "      <td>34</td>\n",
       "      <td>0.567513</td>\n",
       "      <td>1.786484</td>\n",
       "      <td>he</td>\n",
       "    </tr>\n",
       "    <tr>\n",
       "      <th>5</th>\n",
       "      <td>INU</td>\n",
       "      <td>30</td>\n",
       "      <td>-0.009665</td>\n",
       "      <td>2.913408</td>\n",
       "      <td>he</td>\n",
       "    </tr>\n",
       "  </tbody>\n",
       "</table>\n",
       "</div>"
      ],
      "text/plain": [
       "   iata_code runway_ident   lat_rad   lon_rad type\n",
       "no                                                \n",
       "1        WKK           33       NaN       NaN   he\n",
       "2        HIR           24 -0.164484  2.793644   he\n",
       "3        MUA           25 -0.145329  2.744862   he\n",
       "4        AHJ           34  0.567513  1.786484   he\n",
       "5        INU           30 -0.009665  2.913408   he"
      ]
     },
     "metadata": {},
     "output_type": "display_data"
    }
   ],
   "source": [
    "display(runways_le_ident.head())\n",
    "display(runways_he_ident.head())"
   ]
  },
  {
   "cell_type": "code",
   "execution_count": 16,
   "metadata": {},
   "outputs": [
    {
     "data": {
      "text/html": [
       "<div>\n",
       "<style scoped>\n",
       "    .dataframe tbody tr th:only-of-type {\n",
       "        vertical-align: middle;\n",
       "    }\n",
       "\n",
       "    .dataframe tbody tr th {\n",
       "        vertical-align: top;\n",
       "    }\n",
       "\n",
       "    .dataframe thead th {\n",
       "        text-align: right;\n",
       "    }\n",
       "</style>\n",
       "<table border=\"1\" class=\"dataframe\">\n",
       "  <thead>\n",
       "    <tr style=\"text-align: right;\">\n",
       "      <th></th>\n",
       "      <th>rwy_no</th>\n",
       "      <th>iata_code</th>\n",
       "      <th>runway_ident</th>\n",
       "      <th>lat_rad</th>\n",
       "      <th>lon_rad</th>\n",
       "      <th>type</th>\n",
       "    </tr>\n",
       "  </thead>\n",
       "  <tbody>\n",
       "    <tr>\n",
       "      <th>0</th>\n",
       "      <td>1</td>\n",
       "      <td>WKK</td>\n",
       "      <td>15</td>\n",
       "      <td>NaN</td>\n",
       "      <td>NaN</td>\n",
       "      <td>le</td>\n",
       "    </tr>\n",
       "    <tr>\n",
       "      <th>1</th>\n",
       "      <td>1</td>\n",
       "      <td>WKK</td>\n",
       "      <td>33</td>\n",
       "      <td>NaN</td>\n",
       "      <td>NaN</td>\n",
       "      <td>he</td>\n",
       "    </tr>\n",
       "    <tr>\n",
       "      <th>2</th>\n",
       "      <td>2</td>\n",
       "      <td>HIR</td>\n",
       "      <td>06</td>\n",
       "      <td>-0.164615</td>\n",
       "      <td>2.793312</td>\n",
       "      <td>le</td>\n",
       "    </tr>\n",
       "    <tr>\n",
       "      <th>3</th>\n",
       "      <td>2</td>\n",
       "      <td>HIR</td>\n",
       "      <td>24</td>\n",
       "      <td>-0.164484</td>\n",
       "      <td>2.793644</td>\n",
       "      <td>he</td>\n",
       "    </tr>\n",
       "    <tr>\n",
       "      <th>4</th>\n",
       "      <td>3</td>\n",
       "      <td>MUA</td>\n",
       "      <td>07</td>\n",
       "      <td>-0.145372</td>\n",
       "      <td>2.744652</td>\n",
       "      <td>le</td>\n",
       "    </tr>\n",
       "  </tbody>\n",
       "</table>\n",
       "</div>"
      ],
      "text/plain": [
       "   rwy_no iata_code runway_ident   lat_rad   lon_rad type\n",
       "0       1       WKK           15       NaN       NaN   le\n",
       "1       1       WKK           33       NaN       NaN   he\n",
       "2       2       HIR           06 -0.164615  2.793312   le\n",
       "3       2       HIR           24 -0.164484  2.793644   he\n",
       "4       3       MUA           07 -0.145372  2.744652   le"
      ]
     },
     "execution_count": 16,
     "metadata": {},
     "output_type": "execute_result"
    }
   ],
   "source": [
    "# Concat\n",
    "runways_frames = [runways_le_ident, runways_he_ident]\n",
    "runways_ident = pd.concat(runways_frames, ignore_index=False)\n",
    "runways_ident = runways_ident.sort_index().reset_index().rename(columns={'no': 'rwy_no'})\n",
    "runways_ident.head()"
   ]
  },
  {
   "cell_type": "markdown",
   "metadata": {},
   "source": [
    "#### 2. Create New Runway ID with IATA Code"
   ]
  },
  {
   "cell_type": "code",
   "execution_count": 17,
   "metadata": {},
   "outputs": [],
   "source": [
    "rwy_aprt_id = runways_ident['iata_code'] + '.' + runways_ident['runway_ident']\n",
    "runways_ident['rwy_aprt_id'] = rwy_aprt_id"
   ]
  },
  {
   "cell_type": "code",
   "execution_count": 18,
   "metadata": {},
   "outputs": [
    {
     "data": {
      "text/html": [
       "<div>\n",
       "<style scoped>\n",
       "    .dataframe tbody tr th:only-of-type {\n",
       "        vertical-align: middle;\n",
       "    }\n",
       "\n",
       "    .dataframe tbody tr th {\n",
       "        vertical-align: top;\n",
       "    }\n",
       "\n",
       "    .dataframe thead th {\n",
       "        text-align: right;\n",
       "    }\n",
       "</style>\n",
       "<table border=\"1\" class=\"dataframe\">\n",
       "  <thead>\n",
       "    <tr style=\"text-align: right;\">\n",
       "      <th></th>\n",
       "      <th>rwy_no</th>\n",
       "      <th>iata_code</th>\n",
       "      <th>runway_ident</th>\n",
       "      <th>lat_rad</th>\n",
       "      <th>lon_rad</th>\n",
       "      <th>type</th>\n",
       "      <th>rwy_aprt_id</th>\n",
       "    </tr>\n",
       "  </thead>\n",
       "  <tbody>\n",
       "    <tr>\n",
       "      <th>0</th>\n",
       "      <td>1</td>\n",
       "      <td>WKK</td>\n",
       "      <td>15</td>\n",
       "      <td>NaN</td>\n",
       "      <td>NaN</td>\n",
       "      <td>le</td>\n",
       "      <td>WKK.15</td>\n",
       "    </tr>\n",
       "    <tr>\n",
       "      <th>1</th>\n",
       "      <td>1</td>\n",
       "      <td>WKK</td>\n",
       "      <td>33</td>\n",
       "      <td>NaN</td>\n",
       "      <td>NaN</td>\n",
       "      <td>he</td>\n",
       "      <td>WKK.33</td>\n",
       "    </tr>\n",
       "    <tr>\n",
       "      <th>2</th>\n",
       "      <td>2</td>\n",
       "      <td>HIR</td>\n",
       "      <td>06</td>\n",
       "      <td>-0.164615</td>\n",
       "      <td>2.793312</td>\n",
       "      <td>le</td>\n",
       "      <td>HIR.06</td>\n",
       "    </tr>\n",
       "    <tr>\n",
       "      <th>3</th>\n",
       "      <td>2</td>\n",
       "      <td>HIR</td>\n",
       "      <td>24</td>\n",
       "      <td>-0.164484</td>\n",
       "      <td>2.793644</td>\n",
       "      <td>he</td>\n",
       "      <td>HIR.24</td>\n",
       "    </tr>\n",
       "    <tr>\n",
       "      <th>4</th>\n",
       "      <td>3</td>\n",
       "      <td>MUA</td>\n",
       "      <td>07</td>\n",
       "      <td>-0.145372</td>\n",
       "      <td>2.744652</td>\n",
       "      <td>le</td>\n",
       "      <td>MUA.07</td>\n",
       "    </tr>\n",
       "  </tbody>\n",
       "</table>\n",
       "</div>"
      ],
      "text/plain": [
       "   rwy_no iata_code runway_ident   lat_rad   lon_rad type rwy_aprt_id\n",
       "0       1       WKK           15       NaN       NaN   le      WKK.15\n",
       "1       1       WKK           33       NaN       NaN   he      WKK.33\n",
       "2       2       HIR           06 -0.164615  2.793312   le      HIR.06\n",
       "3       2       HIR           24 -0.164484  2.793644   he      HIR.24\n",
       "4       3       MUA           07 -0.145372  2.744652   le      MUA.07"
      ]
     },
     "execution_count": 18,
     "metadata": {},
     "output_type": "execute_result"
    }
   ],
   "source": [
    "runways_ident.head(5)"
   ]
  },
  {
   "cell_type": "markdown",
   "metadata": {},
   "source": [
    "## Train Model"
   ]
  },
  {
   "cell_type": "code",
   "execution_count": 19,
   "metadata": {},
   "outputs": [],
   "source": [
    "cleaned_runways = runways_ident.dropna().copy()"
   ]
  },
  {
   "cell_type": "code",
   "execution_count": 20,
   "metadata": {},
   "outputs": [
    {
     "data": {
      "text/plain": [
       "KNeighborsClassifier(n_neighbors=1)"
      ]
     },
     "execution_count": 20,
     "metadata": {},
     "output_type": "execute_result"
    }
   ],
   "source": [
    "knn = KNeighborsClassifier(n_neighbors=1)\n",
    "\n",
    "X_train = cleaned_runways[['lat_rad', 'lon_rad']]\n",
    "y_train = cleaned_runways['rwy_aprt_id']\n",
    "\n",
    "knn.fit(X_train, y_train)"
   ]
  },
  {
   "cell_type": "markdown",
   "metadata": {},
   "source": [
    "## Predict Runway"
   ]
  },
  {
   "cell_type": "code",
   "execution_count": 21,
   "metadata": {},
   "outputs": [
    {
     "data": {
      "text/plain": [
       "array(['BHM.36', 'DTW.03L', 'DTW.03L', 'LEX.22', 'DTW.09R'], dtype=object)"
      ]
     },
     "execution_count": 21,
     "metadata": {},
     "output_type": "execute_result"
    }
   ],
   "source": [
    "departure_list = knn.predict(fdm_locations_clean[['dep_lat', 'dep_lon']])\n",
    "departure_list"
   ]
  },
  {
   "cell_type": "code",
   "execution_count": 22,
   "metadata": {},
   "outputs": [
    {
     "data": {
      "text/plain": [
       "array(['DTW.09R', 'BHM.24', 'LEX.22', 'DTW.09R', 'OKC.31'], dtype=object)"
      ]
     },
     "execution_count": 22,
     "metadata": {},
     "output_type": "execute_result"
    }
   ],
   "source": [
    "arrival_list = knn.predict(fdm_locations_clean[['arr_lat', 'arr_lon']])\n",
    "arrival_list"
   ]
  },
  {
   "cell_type": "markdown",
   "metadata": {},
   "source": [
    "#### Merge with FDM filename column"
   ]
  },
  {
   "cell_type": "code",
   "execution_count": 23,
   "metadata": {},
   "outputs": [],
   "source": [
    "flights_runway = fdm_locations_clean[['fname']].copy()\n",
    "flights_runway['dep_runway'] = departure_list\n",
    "flights_runway['arr_runway'] = arrival_list\n",
    "flights_runway[['dep_aprt', 'dep_rwy']] = flights_runway['dep_runway'].str.split('.',expand=True)\n",
    "flights_runway[['arr_aprt', 'arr_rwy']] = flights_runway['arr_runway'].str.split('.',expand=True)\n",
    "flights_runway.drop(columns=['dep_runway', 'arr_runway'], inplace=True)"
   ]
  },
  {
   "cell_type": "code",
   "execution_count": 24,
   "metadata": {},
   "outputs": [
    {
     "data": {
      "text/html": [
       "<div>\n",
       "<style scoped>\n",
       "    .dataframe tbody tr th:only-of-type {\n",
       "        vertical-align: middle;\n",
       "    }\n",
       "\n",
       "    .dataframe tbody tr th {\n",
       "        vertical-align: top;\n",
       "    }\n",
       "\n",
       "    .dataframe thead th {\n",
       "        text-align: right;\n",
       "    }\n",
       "</style>\n",
       "<table border=\"1\" class=\"dataframe\">\n",
       "  <thead>\n",
       "    <tr style=\"text-align: right;\">\n",
       "      <th></th>\n",
       "      <th>fname</th>\n",
       "      <th>dep_aprt</th>\n",
       "      <th>dep_rwy</th>\n",
       "      <th>arr_aprt</th>\n",
       "      <th>arr_rwy</th>\n",
       "    </tr>\n",
       "  </thead>\n",
       "  <tbody>\n",
       "    <tr>\n",
       "      <th>0</th>\n",
       "      <td>686200104121532.csv</td>\n",
       "      <td>BHM</td>\n",
       "      <td>36</td>\n",
       "      <td>DTW</td>\n",
       "      <td>09R</td>\n",
       "    </tr>\n",
       "    <tr>\n",
       "      <th>1</th>\n",
       "      <td>686200104121245.csv</td>\n",
       "      <td>DTW</td>\n",
       "      <td>03L</td>\n",
       "      <td>BHM</td>\n",
       "      <td>24</td>\n",
       "    </tr>\n",
       "    <tr>\n",
       "      <th>2</th>\n",
       "      <td>686200104121825.csv</td>\n",
       "      <td>DTW</td>\n",
       "      <td>03L</td>\n",
       "      <td>LEX</td>\n",
       "      <td>22</td>\n",
       "    </tr>\n",
       "    <tr>\n",
       "      <th>3</th>\n",
       "      <td>686200104130429.csv</td>\n",
       "      <td>LEX</td>\n",
       "      <td>22</td>\n",
       "      <td>DTW</td>\n",
       "      <td>09R</td>\n",
       "    </tr>\n",
       "    <tr>\n",
       "      <th>4</th>\n",
       "      <td>686200104130652.csv</td>\n",
       "      <td>DTW</td>\n",
       "      <td>09R</td>\n",
       "      <td>OKC</td>\n",
       "      <td>31</td>\n",
       "    </tr>\n",
       "  </tbody>\n",
       "</table>\n",
       "</div>"
      ],
      "text/plain": [
       "                 fname dep_aprt dep_rwy arr_aprt arr_rwy\n",
       "0  686200104121532.csv      BHM      36      DTW     09R\n",
       "1  686200104121245.csv      DTW     03L      BHM      24\n",
       "2  686200104121825.csv      DTW     03L      LEX      22\n",
       "3  686200104130429.csv      LEX      22      DTW     09R\n",
       "4  686200104130652.csv      DTW     09R      OKC      31"
      ]
     },
     "execution_count": 24,
     "metadata": {},
     "output_type": "execute_result"
    }
   ],
   "source": [
    "flights_runway.head()"
   ]
  },
  {
   "cell_type": "markdown",
   "metadata": {},
   "source": [
    "## Check Airport Result\n",
    "Check if airport result from module 03 is the same with the result"
   ]
  },
  {
   "cell_type": "code",
   "execution_count": 25,
   "metadata": {},
   "outputs": [
    {
     "data": {
      "text/html": [
       "<div>\n",
       "<style scoped>\n",
       "    .dataframe tbody tr th:only-of-type {\n",
       "        vertical-align: middle;\n",
       "    }\n",
       "\n",
       "    .dataframe tbody tr th {\n",
       "        vertical-align: top;\n",
       "    }\n",
       "\n",
       "    .dataframe thead th {\n",
       "        text-align: right;\n",
       "    }\n",
       "</style>\n",
       "<table border=\"1\" class=\"dataframe\">\n",
       "  <thead>\n",
       "    <tr style=\"text-align: right;\">\n",
       "      <th></th>\n",
       "      <th>fname</th>\n",
       "      <th>dep_airport</th>\n",
       "      <th>arr_airport</th>\n",
       "      <th>dep_aprt</th>\n",
       "      <th>dep_rwy</th>\n",
       "      <th>arr_aprt</th>\n",
       "      <th>arr_rwy</th>\n",
       "    </tr>\n",
       "  </thead>\n",
       "  <tbody>\n",
       "    <tr>\n",
       "      <th>0</th>\n",
       "      <td>686200104121532.csv</td>\n",
       "      <td>BHM</td>\n",
       "      <td>DTW</td>\n",
       "      <td>BHM</td>\n",
       "      <td>36</td>\n",
       "      <td>DTW</td>\n",
       "      <td>09R</td>\n",
       "    </tr>\n",
       "    <tr>\n",
       "      <th>1</th>\n",
       "      <td>686200104121245.csv</td>\n",
       "      <td>DTW</td>\n",
       "      <td>BHM</td>\n",
       "      <td>DTW</td>\n",
       "      <td>03L</td>\n",
       "      <td>BHM</td>\n",
       "      <td>24</td>\n",
       "    </tr>\n",
       "    <tr>\n",
       "      <th>2</th>\n",
       "      <td>686200104121825.csv</td>\n",
       "      <td>DTW</td>\n",
       "      <td>LEX</td>\n",
       "      <td>DTW</td>\n",
       "      <td>03L</td>\n",
       "      <td>LEX</td>\n",
       "      <td>22</td>\n",
       "    </tr>\n",
       "    <tr>\n",
       "      <th>3</th>\n",
       "      <td>686200104130429.csv</td>\n",
       "      <td>LEX</td>\n",
       "      <td>DTW</td>\n",
       "      <td>LEX</td>\n",
       "      <td>22</td>\n",
       "      <td>DTW</td>\n",
       "      <td>09R</td>\n",
       "    </tr>\n",
       "    <tr>\n",
       "      <th>4</th>\n",
       "      <td>686200104130652.csv</td>\n",
       "      <td>DTW</td>\n",
       "      <td>OKC</td>\n",
       "      <td>DTW</td>\n",
       "      <td>09R</td>\n",
       "      <td>OKC</td>\n",
       "      <td>31</td>\n",
       "    </tr>\n",
       "  </tbody>\n",
       "</table>\n",
       "</div>"
      ],
      "text/plain": [
       "                 fname dep_airport arr_airport dep_aprt dep_rwy arr_aprt  \\\n",
       "0  686200104121532.csv         BHM         DTW      BHM      36      DTW   \n",
       "1  686200104121245.csv         DTW         BHM      DTW     03L      BHM   \n",
       "2  686200104121825.csv         DTW         LEX      DTW     03L      LEX   \n",
       "3  686200104130429.csv         LEX         DTW      LEX      22      DTW   \n",
       "4  686200104130652.csv         DTW         OKC      DTW     09R      OKC   \n",
       "\n",
       "  arr_rwy  \n",
       "0     09R  \n",
       "1      24  \n",
       "2      22  \n",
       "3     09R  \n",
       "4      31  "
      ]
     },
     "execution_count": 25,
     "metadata": {},
     "output_type": "execute_result"
    }
   ],
   "source": [
    "flights_airport = flights_clean[['fname', 'dep_airport', 'arr_airport']]\n",
    "flights_joined = flights_airport.join(flights_runway.set_index('fname'), on='fname', how='outer')\n",
    "flights_joined.head()"
   ]
  },
  {
   "cell_type": "code",
   "execution_count": 26,
   "metadata": {},
   "outputs": [
    {
     "data": {
      "text/plain": [
       "0"
      ]
     },
     "execution_count": 26,
     "metadata": {},
     "output_type": "execute_result"
    }
   ],
   "source": [
    "len(flights_joined[flights_joined.any(1).isnull()])"
   ]
  },
  {
   "cell_type": "code",
   "execution_count": 27,
   "metadata": {
    "scrolled": true
   },
   "outputs": [
    {
     "data": {
      "text/plain": [
       "0"
      ]
     },
     "execution_count": 27,
     "metadata": {},
     "output_type": "execute_result"
    }
   ],
   "source": [
    "sum(flights_joined['dep_airport'] != flights_joined['dep_aprt'])"
   ]
  },
  {
   "cell_type": "code",
   "execution_count": 28,
   "metadata": {},
   "outputs": [
    {
     "data": {
      "text/html": [
       "<div>\n",
       "<style scoped>\n",
       "    .dataframe tbody tr th:only-of-type {\n",
       "        vertical-align: middle;\n",
       "    }\n",
       "\n",
       "    .dataframe tbody tr th {\n",
       "        vertical-align: top;\n",
       "    }\n",
       "\n",
       "    .dataframe thead th {\n",
       "        text-align: right;\n",
       "    }\n",
       "</style>\n",
       "<table border=\"1\" class=\"dataframe\">\n",
       "  <thead>\n",
       "    <tr style=\"text-align: right;\">\n",
       "      <th></th>\n",
       "      <th>fname</th>\n",
       "      <th>dep_airport</th>\n",
       "      <th>arr_airport</th>\n",
       "      <th>dep_aprt</th>\n",
       "      <th>dep_rwy</th>\n",
       "      <th>arr_aprt</th>\n",
       "      <th>arr_rwy</th>\n",
       "    </tr>\n",
       "  </thead>\n",
       "  <tbody>\n",
       "  </tbody>\n",
       "</table>\n",
       "</div>"
      ],
      "text/plain": [
       "Empty DataFrame\n",
       "Columns: [fname, dep_airport, arr_airport, dep_aprt, dep_rwy, arr_aprt, arr_rwy]\n",
       "Index: []"
      ]
     },
     "execution_count": 28,
     "metadata": {},
     "output_type": "execute_result"
    }
   ],
   "source": [
    "flights_joined[flights_joined['dep_airport'] != flights_joined['dep_aprt']]"
   ]
  },
  {
   "cell_type": "code",
   "execution_count": 29,
   "metadata": {},
   "outputs": [
    {
     "data": {
      "text/plain": [
       "0"
      ]
     },
     "execution_count": 29,
     "metadata": {},
     "output_type": "execute_result"
    }
   ],
   "source": [
    "sum(flights_joined['arr_airport'] != flights_joined['arr_aprt'])"
   ]
  },
  {
   "cell_type": "code",
   "execution_count": 30,
   "metadata": {
    "scrolled": true
   },
   "outputs": [
    {
     "data": {
      "text/html": [
       "<div>\n",
       "<style scoped>\n",
       "    .dataframe tbody tr th:only-of-type {\n",
       "        vertical-align: middle;\n",
       "    }\n",
       "\n",
       "    .dataframe tbody tr th {\n",
       "        vertical-align: top;\n",
       "    }\n",
       "\n",
       "    .dataframe thead th {\n",
       "        text-align: right;\n",
       "    }\n",
       "</style>\n",
       "<table border=\"1\" class=\"dataframe\">\n",
       "  <thead>\n",
       "    <tr style=\"text-align: right;\">\n",
       "      <th></th>\n",
       "      <th>fname</th>\n",
       "      <th>dep_airport</th>\n",
       "      <th>arr_airport</th>\n",
       "      <th>dep_aprt</th>\n",
       "      <th>dep_rwy</th>\n",
       "      <th>arr_aprt</th>\n",
       "      <th>arr_rwy</th>\n",
       "    </tr>\n",
       "  </thead>\n",
       "  <tbody>\n",
       "  </tbody>\n",
       "</table>\n",
       "</div>"
      ],
      "text/plain": [
       "Empty DataFrame\n",
       "Columns: [fname, dep_airport, arr_airport, dep_aprt, dep_rwy, arr_aprt, arr_rwy]\n",
       "Index: []"
      ]
     },
     "execution_count": 30,
     "metadata": {},
     "output_type": "execute_result"
    }
   ],
   "source": [
    "flights_joined[flights_joined['arr_airport'] != flights_joined['arr_aprt']]"
   ]
  },
  {
   "cell_type": "code",
   "execution_count": 31,
   "metadata": {},
   "outputs": [],
   "source": [
    "# Set runway to null if airport result is diffeent\n",
    "dep_rwy = flights_joined.apply(lambda df: df['dep_rwy'] if df['dep_airport'] == df['dep_aprt'] else None, axis=1)\n",
    "arr_rwy = flights_joined.apply(lambda df: df['arr_rwy'] if df['arr_airport'] == df['arr_aprt'] else None, axis=1)\n",
    "flights_joined['dep_rwy'] = dep_rwy\n",
    "flights_joined['arr_rwy'] = arr_rwy"
   ]
  },
  {
   "cell_type": "code",
   "execution_count": 32,
   "metadata": {},
   "outputs": [
    {
     "data": {
      "text/html": [
       "<div>\n",
       "<style scoped>\n",
       "    .dataframe tbody tr th:only-of-type {\n",
       "        vertical-align: middle;\n",
       "    }\n",
       "\n",
       "    .dataframe tbody tr th {\n",
       "        vertical-align: top;\n",
       "    }\n",
       "\n",
       "    .dataframe thead th {\n",
       "        text-align: right;\n",
       "    }\n",
       "</style>\n",
       "<table border=\"1\" class=\"dataframe\">\n",
       "  <thead>\n",
       "    <tr style=\"text-align: right;\">\n",
       "      <th></th>\n",
       "      <th>fname</th>\n",
       "      <th>dep_airport</th>\n",
       "      <th>arr_airport</th>\n",
       "      <th>dep_aprt</th>\n",
       "      <th>dep_rwy</th>\n",
       "      <th>arr_aprt</th>\n",
       "      <th>arr_rwy</th>\n",
       "    </tr>\n",
       "  </thead>\n",
       "  <tbody>\n",
       "  </tbody>\n",
       "</table>\n",
       "</div>"
      ],
      "text/plain": [
       "Empty DataFrame\n",
       "Columns: [fname, dep_airport, arr_airport, dep_aprt, dep_rwy, arr_aprt, arr_rwy]\n",
       "Index: []"
      ]
     },
     "execution_count": 32,
     "metadata": {},
     "output_type": "execute_result"
    }
   ],
   "source": [
    "flights_joined[flights_joined.isna().any(1)]"
   ]
  },
  {
   "cell_type": "code",
   "execution_count": 33,
   "metadata": {},
   "outputs": [],
   "source": [
    "flights_appended = flights.join(flights_joined[['fname', 'dep_rwy', 'arr_rwy']].set_index('fname'),\n",
    "                                on='fname',\n",
    "                                how='outer')\n",
    "col_order = ['fname', 'tail_id', 'dep_airport', 'dep_rwy', 'arr_airport', 'arr_rwy', 'fsize_mb', 'fullpath']\n",
    "flights_appended = flights_appended[col_order]"
   ]
  },
  {
   "cell_type": "markdown",
   "metadata": {},
   "source": [
    "## Load to CSV"
   ]
  },
  {
   "cell_type": "code",
   "execution_count": 34,
   "metadata": {},
   "outputs": [
    {
     "data": {
      "text/html": [
       "<div>\n",
       "<style scoped>\n",
       "    .dataframe tbody tr th:only-of-type {\n",
       "        vertical-align: middle;\n",
       "    }\n",
       "\n",
       "    .dataframe tbody tr th {\n",
       "        vertical-align: top;\n",
       "    }\n",
       "\n",
       "    .dataframe thead th {\n",
       "        text-align: right;\n",
       "    }\n",
       "</style>\n",
       "<table border=\"1\" class=\"dataframe\">\n",
       "  <thead>\n",
       "    <tr style=\"text-align: right;\">\n",
       "      <th></th>\n",
       "      <th>fname</th>\n",
       "      <th>tail_id</th>\n",
       "      <th>dep_airport</th>\n",
       "      <th>dep_rwy</th>\n",
       "      <th>arr_airport</th>\n",
       "      <th>arr_rwy</th>\n",
       "      <th>fsize_mb</th>\n",
       "      <th>fullpath</th>\n",
       "    </tr>\n",
       "  </thead>\n",
       "  <tbody>\n",
       "    <tr>\n",
       "      <th>0</th>\n",
       "      <td>686200104121532.csv</td>\n",
       "      <td>tail_686_1</td>\n",
       "      <td>BHM</td>\n",
       "      <td>36</td>\n",
       "      <td>DTW</td>\n",
       "      <td>09R</td>\n",
       "      <td>68.39</td>\n",
       "      <td>../dataset/fdm/tail_686_1/686200104121532.csv</td>\n",
       "    </tr>\n",
       "    <tr>\n",
       "      <th>1</th>\n",
       "      <td>686200104121245.csv</td>\n",
       "      <td>tail_686_1</td>\n",
       "      <td>DTW</td>\n",
       "      <td>03L</td>\n",
       "      <td>BHM</td>\n",
       "      <td>24</td>\n",
       "      <td>61.52</td>\n",
       "      <td>../dataset/fdm/tail_686_1/686200104121245.csv</td>\n",
       "    </tr>\n",
       "    <tr>\n",
       "      <th>2</th>\n",
       "      <td>686200104121825.csv</td>\n",
       "      <td>tail_686_2</td>\n",
       "      <td>DTW</td>\n",
       "      <td>03L</td>\n",
       "      <td>LEX</td>\n",
       "      <td>22</td>\n",
       "      <td>40.71</td>\n",
       "      <td>../dataset/fdm/tail_686_2/686200104121825.csv</td>\n",
       "    </tr>\n",
       "    <tr>\n",
       "      <th>3</th>\n",
       "      <td>686200104130429.csv</td>\n",
       "      <td>tail_686_2</td>\n",
       "      <td>LEX</td>\n",
       "      <td>22</td>\n",
       "      <td>DTW</td>\n",
       "      <td>09R</td>\n",
       "      <td>42.63</td>\n",
       "      <td>../dataset/fdm/tail_686_2/686200104130429.csv</td>\n",
       "    </tr>\n",
       "    <tr>\n",
       "      <th>4</th>\n",
       "      <td>686200104130652.csv</td>\n",
       "      <td>tail_687_1</td>\n",
       "      <td>DTW</td>\n",
       "      <td>09R</td>\n",
       "      <td>OKC</td>\n",
       "      <td>31</td>\n",
       "      <td>95.92</td>\n",
       "      <td>../dataset/fdm/tail_687_1/686200104130652.csv</td>\n",
       "    </tr>\n",
       "  </tbody>\n",
       "</table>\n",
       "</div>"
      ],
      "text/plain": [
       "                 fname     tail_id dep_airport dep_rwy arr_airport arr_rwy  \\\n",
       "0  686200104121532.csv  tail_686_1         BHM      36         DTW     09R   \n",
       "1  686200104121245.csv  tail_686_1         DTW     03L         BHM      24   \n",
       "2  686200104121825.csv  tail_686_2         DTW     03L         LEX      22   \n",
       "3  686200104130429.csv  tail_686_2         LEX      22         DTW     09R   \n",
       "4  686200104130652.csv  tail_687_1         DTW     09R         OKC      31   \n",
       "\n",
       "   fsize_mb                                       fullpath  \n",
       "0     68.39  ../dataset/fdm/tail_686_1/686200104121532.csv  \n",
       "1     61.52  ../dataset/fdm/tail_686_1/686200104121245.csv  \n",
       "2     40.71  ../dataset/fdm/tail_686_2/686200104121825.csv  \n",
       "3     42.63  ../dataset/fdm/tail_686_2/686200104130429.csv  \n",
       "4     95.92  ../dataset/fdm/tail_687_1/686200104130652.csv  "
      ]
     },
     "execution_count": 34,
     "metadata": {},
     "output_type": "execute_result"
    }
   ],
   "source": [
    "flights_appended.head()"
   ]
  },
  {
   "cell_type": "code",
   "execution_count": 35,
   "metadata": {},
   "outputs": [],
   "source": [
    "flights_appended.to_csv(flights_runway_output, index=False)"
   ]
  },
  {
   "cell_type": "markdown",
   "metadata": {},
   "source": [
    "## Find Most Runway Occurance"
   ]
  },
  {
   "cell_type": "code",
   "execution_count": 36,
   "metadata": {},
   "outputs": [
    {
     "data": {
      "text/plain": [
       "DTW.09R    2\n",
       "LEX.22     1\n",
       "BHM.24     1\n",
       "OKC.31     1\n",
       "dtype: int64"
      ]
     },
     "execution_count": 36,
     "metadata": {},
     "output_type": "execute_result"
    }
   ],
   "source": [
    "runways_merged = flights_appended.arr_airport + '.' + flights_appended.arr_rwy\n",
    "runways_merged.value_counts()"
   ]
  },
  {
   "cell_type": "code",
   "execution_count": 37,
   "metadata": {},
   "outputs": [],
   "source": [
    "most_landing = runways_merged.value_counts().index[0]\n",
    "most_landing_aprt, most_landing_rwy = most_landing.split('.')"
   ]
  },
  {
   "cell_type": "code",
   "execution_count": 38,
   "metadata": {},
   "outputs": [
    {
     "data": {
      "text/plain": [
       "('DTW', '09R')"
      ]
     },
     "execution_count": 38,
     "metadata": {},
     "output_type": "execute_result"
    }
   ],
   "source": [
    "most_landing_aprt, most_landing_rwy"
   ]
  },
  {
   "cell_type": "markdown",
   "metadata": {},
   "source": [
    "### Create DataFrame"
   ]
  },
  {
   "cell_type": "code",
   "execution_count": 39,
   "metadata": {
    "scrolled": true
   },
   "outputs": [
    {
     "data": {
      "text/html": [
       "<div>\n",
       "<style scoped>\n",
       "    .dataframe tbody tr th:only-of-type {\n",
       "        vertical-align: middle;\n",
       "    }\n",
       "\n",
       "    .dataframe tbody tr th {\n",
       "        vertical-align: top;\n",
       "    }\n",
       "\n",
       "    .dataframe thead th {\n",
       "        text-align: right;\n",
       "    }\n",
       "</style>\n",
       "<table border=\"1\" class=\"dataframe\">\n",
       "  <thead>\n",
       "    <tr style=\"text-align: right;\">\n",
       "      <th></th>\n",
       "      <th>airport_runway</th>\n",
       "      <th>flight_count</th>\n",
       "    </tr>\n",
       "  </thead>\n",
       "  <tbody>\n",
       "    <tr>\n",
       "      <th>0</th>\n",
       "      <td>DTW.09R</td>\n",
       "      <td>2</td>\n",
       "    </tr>\n",
       "    <tr>\n",
       "      <th>1</th>\n",
       "      <td>LEX.22</td>\n",
       "      <td>1</td>\n",
       "    </tr>\n",
       "    <tr>\n",
       "      <th>2</th>\n",
       "      <td>BHM.24</td>\n",
       "      <td>1</td>\n",
       "    </tr>\n",
       "    <tr>\n",
       "      <th>3</th>\n",
       "      <td>OKC.31</td>\n",
       "      <td>1</td>\n",
       "    </tr>\n",
       "  </tbody>\n",
       "</table>\n",
       "</div>"
      ],
      "text/plain": [
       "  airport_runway  flight_count\n",
       "0        DTW.09R             2\n",
       "1         LEX.22             1\n",
       "2         BHM.24             1\n",
       "3         OKC.31             1"
      ]
     },
     "execution_count": 39,
     "metadata": {},
     "output_type": "execute_result"
    }
   ],
   "source": [
    "# Create DataFrame\n",
    "landing_count = pd.DataFrame(runways_merged.value_counts().reset_index())\n",
    "landing_count.columns = ['airport_runway', 'flight_count']\n",
    "landing_count.head()"
   ]
  },
  {
   "cell_type": "code",
   "execution_count": 40,
   "metadata": {},
   "outputs": [],
   "source": [
    "airport_runway = landing_count[\"airport_runway\"].str.split(\".\", n = 1, expand = True)\n",
    "landing_count[\"iata_code\"] = airport_runway[0]\n",
    "landing_count[\"runway_ident\"] = landing_count[\"airport_runway\"]"
   ]
  },
  {
   "cell_type": "code",
   "execution_count": 41,
   "metadata": {},
   "outputs": [
    {
     "data": {
      "text/plain": [
       "Index(['airport_runway', 'flight_count', 'iata_code', 'runway_ident'], dtype='object')"
      ]
     },
     "execution_count": 41,
     "metadata": {},
     "output_type": "execute_result"
    }
   ],
   "source": [
    "landing_count.columns"
   ]
  },
  {
   "cell_type": "code",
   "execution_count": 42,
   "metadata": {},
   "outputs": [],
   "source": [
    "col_order = ['iata_code', 'runway_ident', 'flight_count']\n",
    "landing_count = landing_count[col_order]"
   ]
  },
  {
   "cell_type": "code",
   "execution_count": 43,
   "metadata": {},
   "outputs": [
    {
     "data": {
      "text/html": [
       "<div>\n",
       "<style scoped>\n",
       "    .dataframe tbody tr th:only-of-type {\n",
       "        vertical-align: middle;\n",
       "    }\n",
       "\n",
       "    .dataframe tbody tr th {\n",
       "        vertical-align: top;\n",
       "    }\n",
       "\n",
       "    .dataframe thead th {\n",
       "        text-align: right;\n",
       "    }\n",
       "</style>\n",
       "<table border=\"1\" class=\"dataframe\">\n",
       "  <thead>\n",
       "    <tr style=\"text-align: right;\">\n",
       "      <th></th>\n",
       "      <th>iata_code</th>\n",
       "      <th>runway_ident</th>\n",
       "      <th>flight_count</th>\n",
       "    </tr>\n",
       "  </thead>\n",
       "  <tbody>\n",
       "    <tr>\n",
       "      <th>0</th>\n",
       "      <td>DTW</td>\n",
       "      <td>DTW.09R</td>\n",
       "      <td>2</td>\n",
       "    </tr>\n",
       "    <tr>\n",
       "      <th>1</th>\n",
       "      <td>LEX</td>\n",
       "      <td>LEX.22</td>\n",
       "      <td>1</td>\n",
       "    </tr>\n",
       "    <tr>\n",
       "      <th>2</th>\n",
       "      <td>BHM</td>\n",
       "      <td>BHM.24</td>\n",
       "      <td>1</td>\n",
       "    </tr>\n",
       "    <tr>\n",
       "      <th>3</th>\n",
       "      <td>OKC</td>\n",
       "      <td>OKC.31</td>\n",
       "      <td>1</td>\n",
       "    </tr>\n",
       "  </tbody>\n",
       "</table>\n",
       "</div>"
      ],
      "text/plain": [
       "  iata_code runway_ident  flight_count\n",
       "0       DTW      DTW.09R             2\n",
       "1       LEX       LEX.22             1\n",
       "2       BHM       BHM.24             1\n",
       "3       OKC       OKC.31             1"
      ]
     },
     "execution_count": 43,
     "metadata": {},
     "output_type": "execute_result"
    }
   ],
   "source": [
    "landing_count.head()"
   ]
  },
  {
   "cell_type": "markdown",
   "metadata": {},
   "source": [
    "### Merge with Airport Data "
   ]
  },
  {
   "cell_type": "code",
   "execution_count": 44,
   "metadata": {},
   "outputs": [],
   "source": [
    "landing_count_detail = landing_count.join(airports.set_index('iata_code'),\n",
    "                                          on='iata_code',\n",
    "                                          how='left')"
   ]
  },
  {
   "cell_type": "code",
   "execution_count": 45,
   "metadata": {},
   "outputs": [
    {
     "data": {
      "text/html": [
       "<div>\n",
       "<style scoped>\n",
       "    .dataframe tbody tr th:only-of-type {\n",
       "        vertical-align: middle;\n",
       "    }\n",
       "\n",
       "    .dataframe tbody tr th {\n",
       "        vertical-align: top;\n",
       "    }\n",
       "\n",
       "    .dataframe thead th {\n",
       "        text-align: right;\n",
       "    }\n",
       "</style>\n",
       "<table border=\"1\" class=\"dataframe\">\n",
       "  <thead>\n",
       "    <tr style=\"text-align: right;\">\n",
       "      <th></th>\n",
       "      <th>iata_code</th>\n",
       "      <th>runway_ident</th>\n",
       "      <th>flight_count</th>\n",
       "      <th>icao_code</th>\n",
       "      <th>type</th>\n",
       "      <th>name</th>\n",
       "      <th>latitude_rad</th>\n",
       "      <th>longitude_rad</th>\n",
       "      <th>elevation_ft</th>\n",
       "      <th>scheduled_service</th>\n",
       "    </tr>\n",
       "  </thead>\n",
       "  <tbody>\n",
       "    <tr>\n",
       "      <th>0</th>\n",
       "      <td>DTW</td>\n",
       "      <td>DTW.09R</td>\n",
       "      <td>2</td>\n",
       "      <td>KDTW</td>\n",
       "      <td>large_airport</td>\n",
       "      <td>Detroit Metropolitan Wayne County Airport</td>\n",
       "      <td>0.736745</td>\n",
       "      <td>-1.454791</td>\n",
       "      <td>645.0</td>\n",
       "      <td>yes</td>\n",
       "    </tr>\n",
       "    <tr>\n",
       "      <th>1</th>\n",
       "      <td>LEX</td>\n",
       "      <td>LEX.22</td>\n",
       "      <td>1</td>\n",
       "      <td>KLEX</td>\n",
       "      <td>large_airport</td>\n",
       "      <td>Blue Grass Airport</td>\n",
       "      <td>0.663862</td>\n",
       "      <td>-1.476652</td>\n",
       "      <td>979.0</td>\n",
       "      <td>yes</td>\n",
       "    </tr>\n",
       "    <tr>\n",
       "      <th>2</th>\n",
       "      <td>BHM</td>\n",
       "      <td>BHM.24</td>\n",
       "      <td>1</td>\n",
       "      <td>KBHM</td>\n",
       "      <td>large_airport</td>\n",
       "      <td>Birmingham-Shuttlesworth International Airport</td>\n",
       "      <td>0.585783</td>\n",
       "      <td>-1.514134</td>\n",
       "      <td>650.0</td>\n",
       "      <td>yes</td>\n",
       "    </tr>\n",
       "    <tr>\n",
       "      <th>3</th>\n",
       "      <td>OKC</td>\n",
       "      <td>OKC.31</td>\n",
       "      <td>1</td>\n",
       "      <td>KOKC</td>\n",
       "      <td>large_airport</td>\n",
       "      <td>Will Rogers World Airport</td>\n",
       "      <td>0.617726</td>\n",
       "      <td>-1.703454</td>\n",
       "      <td>1295.0</td>\n",
       "      <td>yes</td>\n",
       "    </tr>\n",
       "  </tbody>\n",
       "</table>\n",
       "</div>"
      ],
      "text/plain": [
       "  iata_code runway_ident  flight_count icao_code           type  \\\n",
       "0       DTW      DTW.09R             2      KDTW  large_airport   \n",
       "1       LEX       LEX.22             1      KLEX  large_airport   \n",
       "2       BHM       BHM.24             1      KBHM  large_airport   \n",
       "3       OKC       OKC.31             1      KOKC  large_airport   \n",
       "\n",
       "                                             name  latitude_rad  \\\n",
       "0       Detroit Metropolitan Wayne County Airport      0.736745   \n",
       "1                              Blue Grass Airport      0.663862   \n",
       "2  Birmingham-Shuttlesworth International Airport      0.585783   \n",
       "3                       Will Rogers World Airport      0.617726   \n",
       "\n",
       "   longitude_rad  elevation_ft scheduled_service  \n",
       "0      -1.454791         645.0               yes  \n",
       "1      -1.476652         979.0               yes  \n",
       "2      -1.514134         650.0               yes  \n",
       "3      -1.703454        1295.0               yes  "
      ]
     },
     "execution_count": 45,
     "metadata": {},
     "output_type": "execute_result"
    }
   ],
   "source": [
    "landing_count_detail.head()"
   ]
  },
  {
   "cell_type": "code",
   "execution_count": 46,
   "metadata": {},
   "outputs": [],
   "source": [
    "landing_count_detail.to_csv(landing_output, index=False)"
   ]
  },
  {
   "cell_type": "markdown",
   "metadata": {},
   "source": [
    "## Visualize Runway"
   ]
  },
  {
   "cell_type": "code",
   "execution_count": 47,
   "metadata": {},
   "outputs": [],
   "source": [
    "flight_msp_30r =flights_appended[(flights_appended['arr_airport'] == 'MSP') & \n",
    "                                 (flights_appended['arr_rwy'] == '30R')]"
   ]
  },
  {
   "cell_type": "markdown",
   "metadata": {},
   "source": [
    "#### Get 5 Most Departure Airport to MSP.30R "
   ]
  },
  {
   "cell_type": "code",
   "execution_count": 48,
   "metadata": {},
   "outputs": [
    {
     "name": "stdout",
     "output_type": "stream",
     "text": [
      "[]\n"
     ]
    }
   ],
   "source": [
    "top_5_airport = flight_msp_30r['dep_airport'].value_counts()[:5].index\n",
    "top_5_airport = list(top_5_airport)\n",
    "print(top_5_airport)"
   ]
  },
  {
   "cell_type": "markdown",
   "metadata": {},
   "source": [
    "#### Get Coordinate for each Airport "
   ]
  },
  {
   "cell_type": "code",
   "execution_count": 49,
   "metadata": {},
   "outputs": [
    {
     "data": {
      "text/html": [
       "<div>\n",
       "<style scoped>\n",
       "    .dataframe tbody tr th:only-of-type {\n",
       "        vertical-align: middle;\n",
       "    }\n",
       "\n",
       "    .dataframe tbody tr th {\n",
       "        vertical-align: top;\n",
       "    }\n",
       "\n",
       "    .dataframe thead th {\n",
       "        text-align: right;\n",
       "    }\n",
       "</style>\n",
       "<table border=\"1\" class=\"dataframe\">\n",
       "  <thead>\n",
       "    <tr style=\"text-align: right;\">\n",
       "      <th></th>\n",
       "      <th>dep_lat</th>\n",
       "      <th>dep_lon</th>\n",
       "      <th>arr_lat</th>\n",
       "      <th>arr_lon</th>\n",
       "    </tr>\n",
       "    <tr>\n",
       "      <th>iata_code</th>\n",
       "      <th></th>\n",
       "      <th></th>\n",
       "      <th></th>\n",
       "      <th></th>\n",
       "    </tr>\n",
       "  </thead>\n",
       "  <tbody>\n",
       "  </tbody>\n",
       "</table>\n",
       "</div>"
      ],
      "text/plain": [
       "Empty DataFrame\n",
       "Columns: [dep_lat, dep_lon, arr_lat, arr_lon]\n",
       "Index: []"
      ]
     },
     "execution_count": 49,
     "metadata": {},
     "output_type": "execute_result"
    }
   ],
   "source": [
    "coordinate_cols = ['iata_code', 'latitude_rad', 'longitude_rad']\n",
    "top_5_coordinate = airports[airports['iata_code'].isin(top_5_airport)][coordinate_cols]\n",
    "\n",
    "arrival_coordinate = runways[(runways.iata_code == 'MSP') & (runways.he_ident == '30R')]\n",
    "arr_lat, arr_lon = arrival_coordinate[['he_latitude_rad', 'he_longitude_rad']].iloc[0].values\n",
    "\n",
    "top_5_coordinate[['arr_lat', 'arr_lon']] = arr_lat, arr_lon\n",
    "top_5_coordinate = top_5_coordinate.rename(columns={'latitude_rad': 'dep_lat', 'longitude_rad': 'dep_lon'})\n",
    "top_5_coordinate = top_5_coordinate.set_index('iata_code', drop=True)\n",
    "top_5_coordinate"
   ]
  },
  {
   "cell_type": "code",
   "execution_count": 50,
   "metadata": {},
   "outputs": [
    {
     "data": {
      "text/plain": [
       "rec.array([],\n",
       "          dtype=[('iata_code', 'O'), ('dep_lat', '<f8'), ('dep_lon', '<f8'), ('arr_lat', '<f8'), ('arr_lon', '<f8')])"
      ]
     },
     "execution_count": 50,
     "metadata": {},
     "output_type": "execute_result"
    }
   ],
   "source": [
    "top_5_records = top_5_coordinate.to_records()\n",
    "top_5_records"
   ]
  },
  {
   "cell_type": "markdown",
   "metadata": {},
   "source": [
    "#### Visualize Using Map"
   ]
  },
  {
   "cell_type": "code",
   "execution_count": 51,
   "metadata": {},
   "outputs": [
    {
     "data": {
      "text/html": [
       "<div>\n",
       "<style scoped>\n",
       "    .dataframe tbody tr th:only-of-type {\n",
       "        vertical-align: middle;\n",
       "    }\n",
       "\n",
       "    .dataframe tbody tr th {\n",
       "        vertical-align: top;\n",
       "    }\n",
       "\n",
       "    .dataframe thead th {\n",
       "        text-align: right;\n",
       "    }\n",
       "</style>\n",
       "<table border=\"1\" class=\"dataframe\">\n",
       "  <thead>\n",
       "    <tr style=\"text-align: right;\">\n",
       "      <th></th>\n",
       "      <th>dep_lat</th>\n",
       "      <th>dep_lon</th>\n",
       "      <th>arr_lat</th>\n",
       "      <th>arr_lon</th>\n",
       "    </tr>\n",
       "    <tr>\n",
       "      <th>fname</th>\n",
       "      <th></th>\n",
       "      <th></th>\n",
       "      <th></th>\n",
       "      <th></th>\n",
       "    </tr>\n",
       "  </thead>\n",
       "  <tbody>\n",
       "  </tbody>\n",
       "</table>\n",
       "</div>"
      ],
      "text/plain": [
       "Empty DataFrame\n",
       "Columns: [dep_lat, dep_lon, arr_lat, arr_lon]\n",
       "Index: []"
      ]
     },
     "execution_count": 51,
     "metadata": {},
     "output_type": "execute_result"
    }
   ],
   "source": [
    "flight_msp_30r_loc = fdm_locations[fdm_locations.fname.isin(flight_msp_30r.fname)]\n",
    "flight_msp_30r_loc = flight_msp_30r_loc.set_index('fname')\n",
    "flight_msp_30r_loc[:5]"
   ]
  },
  {
   "cell_type": "code",
   "execution_count": 52,
   "metadata": {},
   "outputs": [
    {
     "name": "stdout",
     "output_type": "stream",
     "text": [
      "[44.882, -93.221802]\n"
     ]
    }
   ],
   "source": [
    "msp_coordinate = airports[airports['iata_code'] == 'MSP'][['latitude_rad', 'longitude_rad']].iloc[0].values\n",
    "msp_coordinate = [math.degrees(coor) for coor in msp_coordinate]\n",
    "print(msp_coordinate)"
   ]
  },
  {
   "cell_type": "code",
   "execution_count": 53,
   "metadata": {},
   "outputs": [
    {
     "data": {
      "text/html": [
       "<div>\n",
       "<style scoped>\n",
       "    .dataframe tbody tr th:only-of-type {\n",
       "        vertical-align: middle;\n",
       "    }\n",
       "\n",
       "    .dataframe tbody tr th {\n",
       "        vertical-align: top;\n",
       "    }\n",
       "\n",
       "    .dataframe thead th {\n",
       "        text-align: right;\n",
       "    }\n",
       "</style>\n",
       "<table border=\"1\" class=\"dataframe\">\n",
       "  <thead>\n",
       "    <tr style=\"text-align: right;\">\n",
       "      <th></th>\n",
       "      <th>rwy_no</th>\n",
       "      <th>iata_code</th>\n",
       "      <th>runway_ident</th>\n",
       "      <th>lat_rad</th>\n",
       "      <th>lon_rad</th>\n",
       "      <th>type</th>\n",
       "      <th>rwy_aprt_id</th>\n",
       "    </tr>\n",
       "  </thead>\n",
       "  <tbody>\n",
       "    <tr>\n",
       "      <th>5628</th>\n",
       "      <td>2815</td>\n",
       "      <td>MSP</td>\n",
       "      <td>22</td>\n",
       "      <td>0.783541</td>\n",
       "      <td>-1.626792</td>\n",
       "      <td>he</td>\n",
       "      <td>MSP.22</td>\n",
       "    </tr>\n",
       "    <tr>\n",
       "      <th>5629</th>\n",
       "      <td>2815</td>\n",
       "      <td>MSP</td>\n",
       "      <td>04</td>\n",
       "      <td>0.783169</td>\n",
       "      <td>-1.627315</td>\n",
       "      <td>le</td>\n",
       "      <td>MSP.04</td>\n",
       "    </tr>\n",
       "    <tr>\n",
       "      <th>5630</th>\n",
       "      <td>2816</td>\n",
       "      <td>MSP</td>\n",
       "      <td>12L</td>\n",
       "      <td>0.783529</td>\n",
       "      <td>-1.627013</td>\n",
       "      <td>le</td>\n",
       "      <td>MSP.12L</td>\n",
       "    </tr>\n",
       "    <tr>\n",
       "      <th>5631</th>\n",
       "      <td>2816</td>\n",
       "      <td>MSP</td>\n",
       "      <td>30R</td>\n",
       "      <td>0.783326</td>\n",
       "      <td>-1.626542</td>\n",
       "      <td>he</td>\n",
       "      <td>MSP.30R</td>\n",
       "    </tr>\n",
       "    <tr>\n",
       "      <th>5632</th>\n",
       "      <td>2817</td>\n",
       "      <td>MSP</td>\n",
       "      <td>12R</td>\n",
       "      <td>0.783440</td>\n",
       "      <td>-1.627242</td>\n",
       "      <td>le</td>\n",
       "      <td>MSP.12R</td>\n",
       "    </tr>\n",
       "    <tr>\n",
       "      <th>5633</th>\n",
       "      <td>2817</td>\n",
       "      <td>MSP</td>\n",
       "      <td>30L</td>\n",
       "      <td>0.783190</td>\n",
       "      <td>-1.626668</td>\n",
       "      <td>he</td>\n",
       "      <td>MSP.30L</td>\n",
       "    </tr>\n",
       "    <tr>\n",
       "      <th>5634</th>\n",
       "      <td>2818</td>\n",
       "      <td>MSP</td>\n",
       "      <td>17</td>\n",
       "      <td>0.783440</td>\n",
       "      <td>-1.627383</td>\n",
       "      <td>le</td>\n",
       "      <td>MSP.17</td>\n",
       "    </tr>\n",
       "    <tr>\n",
       "      <th>5635</th>\n",
       "      <td>2818</td>\n",
       "      <td>MSP</td>\n",
       "      <td>35</td>\n",
       "      <td>0.783063</td>\n",
       "      <td>-1.627286</td>\n",
       "      <td>he</td>\n",
       "      <td>MSP.35</td>\n",
       "    </tr>\n",
       "  </tbody>\n",
       "</table>\n",
       "</div>"
      ],
      "text/plain": [
       "      rwy_no iata_code runway_ident   lat_rad   lon_rad type rwy_aprt_id\n",
       "5628    2815       MSP           22  0.783541 -1.626792   he      MSP.22\n",
       "5629    2815       MSP           04  0.783169 -1.627315   le      MSP.04\n",
       "5630    2816       MSP          12L  0.783529 -1.627013   le     MSP.12L\n",
       "5631    2816       MSP          30R  0.783326 -1.626542   he     MSP.30R\n",
       "5632    2817       MSP          12R  0.783440 -1.627242   le     MSP.12R\n",
       "5633    2817       MSP          30L  0.783190 -1.626668   he     MSP.30L\n",
       "5634    2818       MSP           17  0.783440 -1.627383   le      MSP.17\n",
       "5635    2818       MSP           35  0.783063 -1.627286   he      MSP.35"
      ]
     },
     "execution_count": 53,
     "metadata": {},
     "output_type": "execute_result"
    }
   ],
   "source": [
    "msp_runways_coordinate = runways_ident[runways_ident['iata_code'] == 'MSP']\n",
    "msp_runways_coordinate"
   ]
  },
  {
   "cell_type": "code",
   "execution_count": 54,
   "metadata": {},
   "outputs": [
    {
     "data": {
      "text/plain": [
       "[]"
      ]
     },
     "execution_count": 54,
     "metadata": {},
     "output_type": "execute_result"
    }
   ],
   "source": [
    "arr_coordinate = flight_msp_30r_loc[['arr_lat', 'arr_lon']].values\n",
    "arr_coordinate = [(math.degrees(coor[0]), math.degrees(coor[1])) for coor in arr_coordinate]\n",
    "arr_coordinate[:5]"
   ]
  },
  {
   "cell_type": "code",
   "execution_count": 55,
   "metadata": {},
   "outputs": [
    {
     "data": {
      "text/html": [
       "<div style=\"width:100%;\"><div style=\"position:relative;width:100%;height:0;padding-bottom:60%;\"><span style=\"color:#565656\">Make this Notebook Trusted to load map: File -> Trust Notebook</span><iframe src=\"about:blank\" style=\"position:absolute;width:100%;height:100%;left:0;top:0;border:none !important;\" data-html=%3C%21DOCTYPE%20html%3E%0A%3Chead%3E%20%20%20%20%0A%20%20%20%20%3Cmeta%20http-equiv%3D%22content-type%22%20content%3D%22text/html%3B%20charset%3DUTF-8%22%20/%3E%0A%20%20%20%20%0A%20%20%20%20%20%20%20%20%3Cscript%3E%0A%20%20%20%20%20%20%20%20%20%20%20%20L_NO_TOUCH%20%3D%20false%3B%0A%20%20%20%20%20%20%20%20%20%20%20%20L_DISABLE_3D%20%3D%20false%3B%0A%20%20%20%20%20%20%20%20%3C/script%3E%0A%20%20%20%20%0A%20%20%20%20%3Cstyle%3Ehtml%2C%20body%20%7Bwidth%3A%20100%25%3Bheight%3A%20100%25%3Bmargin%3A%200%3Bpadding%3A%200%3B%7D%3C/style%3E%0A%20%20%20%20%3Cstyle%3E%23map%20%7Bposition%3Aabsolute%3Btop%3A0%3Bbottom%3A0%3Bright%3A0%3Bleft%3A0%3B%7D%3C/style%3E%0A%20%20%20%20%3Cscript%20src%3D%22https%3A//cdn.jsdelivr.net/npm/leaflet%401.6.0/dist/leaflet.js%22%3E%3C/script%3E%0A%20%20%20%20%3Cscript%20src%3D%22https%3A//code.jquery.com/jquery-1.12.4.min.js%22%3E%3C/script%3E%0A%20%20%20%20%3Cscript%20src%3D%22https%3A//maxcdn.bootstrapcdn.com/bootstrap/3.2.0/js/bootstrap.min.js%22%3E%3C/script%3E%0A%20%20%20%20%3Cscript%20src%3D%22https%3A//cdnjs.cloudflare.com/ajax/libs/Leaflet.awesome-markers/2.0.2/leaflet.awesome-markers.js%22%3E%3C/script%3E%0A%20%20%20%20%3Clink%20rel%3D%22stylesheet%22%20href%3D%22https%3A//cdn.jsdelivr.net/npm/leaflet%401.6.0/dist/leaflet.css%22/%3E%0A%20%20%20%20%3Clink%20rel%3D%22stylesheet%22%20href%3D%22https%3A//maxcdn.bootstrapcdn.com/bootstrap/3.2.0/css/bootstrap.min.css%22/%3E%0A%20%20%20%20%3Clink%20rel%3D%22stylesheet%22%20href%3D%22https%3A//maxcdn.bootstrapcdn.com/bootstrap/3.2.0/css/bootstrap-theme.min.css%22/%3E%0A%20%20%20%20%3Clink%20rel%3D%22stylesheet%22%20href%3D%22https%3A//maxcdn.bootstrapcdn.com/font-awesome/4.6.3/css/font-awesome.min.css%22/%3E%0A%20%20%20%20%3Clink%20rel%3D%22stylesheet%22%20href%3D%22https%3A//cdnjs.cloudflare.com/ajax/libs/Leaflet.awesome-markers/2.0.2/leaflet.awesome-markers.css%22/%3E%0A%20%20%20%20%3Clink%20rel%3D%22stylesheet%22%20href%3D%22https%3A//cdn.jsdelivr.net/gh/python-visualization/folium/folium/templates/leaflet.awesome.rotate.min.css%22/%3E%0A%20%20%20%20%0A%20%20%20%20%20%20%20%20%20%20%20%20%3Cmeta%20name%3D%22viewport%22%20content%3D%22width%3Ddevice-width%2C%0A%20%20%20%20%20%20%20%20%20%20%20%20%20%20%20%20initial-scale%3D1.0%2C%20maximum-scale%3D1.0%2C%20user-scalable%3Dno%22%20/%3E%0A%20%20%20%20%20%20%20%20%20%20%20%20%3Cstyle%3E%0A%20%20%20%20%20%20%20%20%20%20%20%20%20%20%20%20%23map_21194db098984fdaa7eacd88a6844f67%20%7B%0A%20%20%20%20%20%20%20%20%20%20%20%20%20%20%20%20%20%20%20%20position%3A%20relative%3B%0A%20%20%20%20%20%20%20%20%20%20%20%20%20%20%20%20%20%20%20%20width%3A%20100.0%25%3B%0A%20%20%20%20%20%20%20%20%20%20%20%20%20%20%20%20%20%20%20%20height%3A%20100.0%25%3B%0A%20%20%20%20%20%20%20%20%20%20%20%20%20%20%20%20%20%20%20%20left%3A%200.0%25%3B%0A%20%20%20%20%20%20%20%20%20%20%20%20%20%20%20%20%20%20%20%20top%3A%200.0%25%3B%0A%20%20%20%20%20%20%20%20%20%20%20%20%20%20%20%20%7D%0A%20%20%20%20%20%20%20%20%20%20%20%20%3C/style%3E%0A%20%20%20%20%20%20%20%20%0A%3C/head%3E%0A%3Cbody%3E%20%20%20%20%0A%20%20%20%20%0A%20%20%20%20%20%20%20%20%20%20%20%20%3Cdiv%20class%3D%22folium-map%22%20id%3D%22map_21194db098984fdaa7eacd88a6844f67%22%20%3E%3C/div%3E%0A%20%20%20%20%20%20%20%20%0A%3C/body%3E%0A%3Cscript%3E%20%20%20%20%0A%20%20%20%20%0A%20%20%20%20%20%20%20%20%20%20%20%20var%20map_21194db098984fdaa7eacd88a6844f67%20%3D%20L.map%28%0A%20%20%20%20%20%20%20%20%20%20%20%20%20%20%20%20%22map_21194db098984fdaa7eacd88a6844f67%22%2C%0A%20%20%20%20%20%20%20%20%20%20%20%20%20%20%20%20%7B%0A%20%20%20%20%20%20%20%20%20%20%20%20%20%20%20%20%20%20%20%20center%3A%20%5B44.882%2C%20-93.221802%5D%2C%0A%20%20%20%20%20%20%20%20%20%20%20%20%20%20%20%20%20%20%20%20crs%3A%20L.CRS.EPSG3857%2C%0A%20%20%20%20%20%20%20%20%20%20%20%20%20%20%20%20%20%20%20%20zoom%3A%2014%2C%0A%20%20%20%20%20%20%20%20%20%20%20%20%20%20%20%20%20%20%20%20zoomControl%3A%20true%2C%0A%20%20%20%20%20%20%20%20%20%20%20%20%20%20%20%20%20%20%20%20preferCanvas%3A%20false%2C%0A%20%20%20%20%20%20%20%20%20%20%20%20%20%20%20%20%7D%0A%20%20%20%20%20%20%20%20%20%20%20%20%29%3B%0A%0A%20%20%20%20%20%20%20%20%20%20%20%20%0A%0A%20%20%20%20%20%20%20%20%0A%20%20%20%20%0A%20%20%20%20%20%20%20%20%20%20%20%20var%20tile_layer_0a3f8fe297b1449eb069a112f6892b66%20%3D%20L.tileLayer%28%0A%20%20%20%20%20%20%20%20%20%20%20%20%20%20%20%20%22https%3A//stamen-tiles-%7Bs%7D.a.ssl.fastly.net/terrain/%7Bz%7D/%7Bx%7D/%7By%7D.jpg%22%2C%0A%20%20%20%20%20%20%20%20%20%20%20%20%20%20%20%20%7B%22attribution%22%3A%20%22Map%20tiles%20by%20%5Cu003ca%20href%3D%5C%22http%3A//stamen.com%5C%22%5Cu003eStamen%20Design%5Cu003c/a%5Cu003e%2C%20under%20%5Cu003ca%20href%3D%5C%22http%3A//creativecommons.org/licenses/by/3.0%5C%22%5Cu003eCC%20BY%203.0%5Cu003c/a%5Cu003e.%20Data%20by%20%5Cu0026copy%3B%20%5Cu003ca%20href%3D%5C%22http%3A//openstreetmap.org%5C%22%5Cu003eOpenStreetMap%5Cu003c/a%5Cu003e%2C%20under%20%5Cu003ca%20href%3D%5C%22http%3A//creativecommons.org/licenses/by-sa/3.0%5C%22%5Cu003eCC%20BY%20SA%5Cu003c/a%5Cu003e.%22%2C%20%22detectRetina%22%3A%20false%2C%20%22maxNativeZoom%22%3A%2018%2C%20%22maxZoom%22%3A%2018%2C%20%22minZoom%22%3A%200%2C%20%22noWrap%22%3A%20false%2C%20%22opacity%22%3A%201%2C%20%22subdomains%22%3A%20%22abc%22%2C%20%22tms%22%3A%20false%7D%0A%20%20%20%20%20%20%20%20%20%20%20%20%29.addTo%28map_21194db098984fdaa7eacd88a6844f67%29%3B%0A%20%20%20%20%20%20%20%20%0A%20%20%20%20%0A%20%20%20%20%20%20%20%20%20%20%20%20var%20marker_96918ca8d859480ea90936eca6d38655%20%3D%20L.marker%28%0A%20%20%20%20%20%20%20%20%20%20%20%20%20%20%20%20%5B44.8936%2C%20-93.20830000000002%5D%2C%0A%20%20%20%20%20%20%20%20%20%20%20%20%20%20%20%20%7B%7D%0A%20%20%20%20%20%20%20%20%20%20%20%20%29.addTo%28map_21194db098984fdaa7eacd88a6844f67%29%3B%0A%20%20%20%20%20%20%20%20%0A%20%20%20%20%0A%20%20%20%20%20%20%20%20%20%20%20%20var%20icon_97f8998d24b141849b2d0101a7096faf%20%3D%20L.AwesomeMarkers.icon%28%0A%20%20%20%20%20%20%20%20%20%20%20%20%20%20%20%20%7B%22extraClasses%22%3A%20%22fa-rotate-0%22%2C%20%22icon%22%3A%20%22info-sign%22%2C%20%22iconColor%22%3A%20%22white%22%2C%20%22markerColor%22%3A%20%22green%22%2C%20%22prefix%22%3A%20%22glyphicon%22%7D%0A%20%20%20%20%20%20%20%20%20%20%20%20%29%3B%0A%20%20%20%20%20%20%20%20%20%20%20%20marker_96918ca8d859480ea90936eca6d38655.setIcon%28icon_97f8998d24b141849b2d0101a7096faf%29%3B%0A%20%20%20%20%20%20%20%20%0A%20%20%20%20%0A%20%20%20%20%20%20%20%20var%20popup_99c1a2d4863f4c268281660558d7dfb3%20%3D%20L.popup%28%7B%22maxWidth%22%3A%20%22100%25%22%7D%29%3B%0A%0A%20%20%20%20%20%20%20%20%0A%20%20%20%20%20%20%20%20%20%20%20%20var%20html_d03c44ad03194f7f86ba2c16a9e584c9%20%3D%20%24%28%60%3Cdiv%20id%3D%22html_d03c44ad03194f7f86ba2c16a9e584c9%22%20style%3D%22width%3A%20100.0%25%3B%20height%3A%20100.0%25%3B%22%3ERunway%20MSP.22%20%28he%29%3C/div%3E%60%29%5B0%5D%3B%0A%20%20%20%20%20%20%20%20%20%20%20%20popup_99c1a2d4863f4c268281660558d7dfb3.setContent%28html_d03c44ad03194f7f86ba2c16a9e584c9%29%3B%0A%20%20%20%20%20%20%20%20%0A%0A%20%20%20%20%20%20%20%20marker_96918ca8d859480ea90936eca6d38655.bindPopup%28popup_99c1a2d4863f4c268281660558d7dfb3%29%0A%20%20%20%20%20%20%20%20%3B%0A%0A%20%20%20%20%20%20%20%20%0A%20%20%20%20%0A%20%20%20%20%0A%20%20%20%20%20%20%20%20%20%20%20%20marker_96918ca8d859480ea90936eca6d38655.bindTooltip%28%0A%20%20%20%20%20%20%20%20%20%20%20%20%20%20%20%20%60%3Cdiv%3E%0A%20%20%20%20%20%20%20%20%20%20%20%20%20%20%20%20%20%20%20%20%20Runway%20MSP.22%20%28he%29%0A%20%20%20%20%20%20%20%20%20%20%20%20%20%20%20%20%20%3C/div%3E%60%2C%0A%20%20%20%20%20%20%20%20%20%20%20%20%20%20%20%20%7B%22sticky%22%3A%20true%7D%0A%20%20%20%20%20%20%20%20%20%20%20%20%29%3B%0A%20%20%20%20%20%20%20%20%0A%20%20%20%20%0A%20%20%20%20%20%20%20%20%20%20%20%20var%20marker_7fc3dccb819e42ea9b52050a04d4ce6a%20%3D%20L.marker%28%0A%20%20%20%20%20%20%20%20%20%20%20%20%20%20%20%20%5B44.8723%2C%20-93.23830000000001%5D%2C%0A%20%20%20%20%20%20%20%20%20%20%20%20%20%20%20%20%7B%7D%0A%20%20%20%20%20%20%20%20%20%20%20%20%29.addTo%28map_21194db098984fdaa7eacd88a6844f67%29%3B%0A%20%20%20%20%20%20%20%20%0A%20%20%20%20%0A%20%20%20%20%20%20%20%20%20%20%20%20var%20icon_b2bdff9910054301b78a57f6cd5a6f7a%20%3D%20L.AwesomeMarkers.icon%28%0A%20%20%20%20%20%20%20%20%20%20%20%20%20%20%20%20%7B%22extraClasses%22%3A%20%22fa-rotate-0%22%2C%20%22icon%22%3A%20%22info-sign%22%2C%20%22iconColor%22%3A%20%22white%22%2C%20%22markerColor%22%3A%20%22green%22%2C%20%22prefix%22%3A%20%22glyphicon%22%7D%0A%20%20%20%20%20%20%20%20%20%20%20%20%29%3B%0A%20%20%20%20%20%20%20%20%20%20%20%20marker_7fc3dccb819e42ea9b52050a04d4ce6a.setIcon%28icon_b2bdff9910054301b78a57f6cd5a6f7a%29%3B%0A%20%20%20%20%20%20%20%20%0A%20%20%20%20%0A%20%20%20%20%20%20%20%20var%20popup_3da4288cb8784ec098fd2bc0cee47c0f%20%3D%20L.popup%28%7B%22maxWidth%22%3A%20%22100%25%22%7D%29%3B%0A%0A%20%20%20%20%20%20%20%20%0A%20%20%20%20%20%20%20%20%20%20%20%20var%20html_c485564554c940de918e32e0f9747ff3%20%3D%20%24%28%60%3Cdiv%20id%3D%22html_c485564554c940de918e32e0f9747ff3%22%20style%3D%22width%3A%20100.0%25%3B%20height%3A%20100.0%25%3B%22%3ERunway%20MSP.04%20%28le%29%3C/div%3E%60%29%5B0%5D%3B%0A%20%20%20%20%20%20%20%20%20%20%20%20popup_3da4288cb8784ec098fd2bc0cee47c0f.setContent%28html_c485564554c940de918e32e0f9747ff3%29%3B%0A%20%20%20%20%20%20%20%20%0A%0A%20%20%20%20%20%20%20%20marker_7fc3dccb819e42ea9b52050a04d4ce6a.bindPopup%28popup_3da4288cb8784ec098fd2bc0cee47c0f%29%0A%20%20%20%20%20%20%20%20%3B%0A%0A%20%20%20%20%20%20%20%20%0A%20%20%20%20%0A%20%20%20%20%0A%20%20%20%20%20%20%20%20%20%20%20%20marker_7fc3dccb819e42ea9b52050a04d4ce6a.bindTooltip%28%0A%20%20%20%20%20%20%20%20%20%20%20%20%20%20%20%20%60%3Cdiv%3E%0A%20%20%20%20%20%20%20%20%20%20%20%20%20%20%20%20%20%20%20%20%20Runway%20MSP.04%20%28le%29%0A%20%20%20%20%20%20%20%20%20%20%20%20%20%20%20%20%20%3C/div%3E%60%2C%0A%20%20%20%20%20%20%20%20%20%20%20%20%20%20%20%20%7B%22sticky%22%3A%20true%7D%0A%20%20%20%20%20%20%20%20%20%20%20%20%29%3B%0A%20%20%20%20%20%20%20%20%0A%20%20%20%20%0A%20%20%20%20%20%20%20%20%20%20%20%20var%20marker_ecadfd76459e4ad7a00d9d0deb4fb239%20%3D%20L.marker%28%0A%20%20%20%20%20%20%20%20%20%20%20%20%20%20%20%20%5B44.8929%2C%20-93.221%5D%2C%0A%20%20%20%20%20%20%20%20%20%20%20%20%20%20%20%20%7B%7D%0A%20%20%20%20%20%20%20%20%20%20%20%20%29.addTo%28map_21194db098984fdaa7eacd88a6844f67%29%3B%0A%20%20%20%20%20%20%20%20%0A%20%20%20%20%0A%20%20%20%20%20%20%20%20%20%20%20%20var%20icon_8d3a4d6717b04f42a9d0af6aa3d3df9e%20%3D%20L.AwesomeMarkers.icon%28%0A%20%20%20%20%20%20%20%20%20%20%20%20%20%20%20%20%7B%22extraClasses%22%3A%20%22fa-rotate-0%22%2C%20%22icon%22%3A%20%22info-sign%22%2C%20%22iconColor%22%3A%20%22white%22%2C%20%22markerColor%22%3A%20%22green%22%2C%20%22prefix%22%3A%20%22glyphicon%22%7D%0A%20%20%20%20%20%20%20%20%20%20%20%20%29%3B%0A%20%20%20%20%20%20%20%20%20%20%20%20marker_ecadfd76459e4ad7a00d9d0deb4fb239.setIcon%28icon_8d3a4d6717b04f42a9d0af6aa3d3df9e%29%3B%0A%20%20%20%20%20%20%20%20%0A%20%20%20%20%0A%20%20%20%20%20%20%20%20var%20popup_0645e8a419ff4ea9bc76112d731a27f0%20%3D%20L.popup%28%7B%22maxWidth%22%3A%20%22100%25%22%7D%29%3B%0A%0A%20%20%20%20%20%20%20%20%0A%20%20%20%20%20%20%20%20%20%20%20%20var%20html_c0699a54053a43d395d9fbe982731232%20%3D%20%24%28%60%3Cdiv%20id%3D%22html_c0699a54053a43d395d9fbe982731232%22%20style%3D%22width%3A%20100.0%25%3B%20height%3A%20100.0%25%3B%22%3ERunway%20MSP.12L%20%28le%29%3C/div%3E%60%29%5B0%5D%3B%0A%20%20%20%20%20%20%20%20%20%20%20%20popup_0645e8a419ff4ea9bc76112d731a27f0.setContent%28html_c0699a54053a43d395d9fbe982731232%29%3B%0A%20%20%20%20%20%20%20%20%0A%0A%20%20%20%20%20%20%20%20marker_ecadfd76459e4ad7a00d9d0deb4fb239.bindPopup%28popup_0645e8a419ff4ea9bc76112d731a27f0%29%0A%20%20%20%20%20%20%20%20%3B%0A%0A%20%20%20%20%20%20%20%20%0A%20%20%20%20%0A%20%20%20%20%0A%20%20%20%20%20%20%20%20%20%20%20%20marker_ecadfd76459e4ad7a00d9d0deb4fb239.bindTooltip%28%0A%20%20%20%20%20%20%20%20%20%20%20%20%20%20%20%20%60%3Cdiv%3E%0A%20%20%20%20%20%20%20%20%20%20%20%20%20%20%20%20%20%20%20%20%20Runway%20MSP.12L%20%28le%29%0A%20%20%20%20%20%20%20%20%20%20%20%20%20%20%20%20%20%3C/div%3E%60%2C%0A%20%20%20%20%20%20%20%20%20%20%20%20%20%20%20%20%7B%22sticky%22%3A%20true%7D%0A%20%20%20%20%20%20%20%20%20%20%20%20%29%3B%0A%20%20%20%20%20%20%20%20%0A%20%20%20%20%0A%20%20%20%20%20%20%20%20%20%20%20%20var%20marker_54a6d42ae4e149a18f4b11ce5a79fd18%20%3D%20L.marker%28%0A%20%20%20%20%20%20%20%20%20%20%20%20%20%20%20%20%5B44.8813%2C%20-93.19400000000003%5D%2C%0A%20%20%20%20%20%20%20%20%20%20%20%20%20%20%20%20%7B%7D%0A%20%20%20%20%20%20%20%20%20%20%20%20%29.addTo%28map_21194db098984fdaa7eacd88a6844f67%29%3B%0A%20%20%20%20%20%20%20%20%0A%20%20%20%20%0A%20%20%20%20%20%20%20%20%20%20%20%20var%20icon_f25312950f48418392933316e5431c4f%20%3D%20L.AwesomeMarkers.icon%28%0A%20%20%20%20%20%20%20%20%20%20%20%20%20%20%20%20%7B%22extraClasses%22%3A%20%22fa-rotate-0%22%2C%20%22icon%22%3A%20%22info-sign%22%2C%20%22iconColor%22%3A%20%22white%22%2C%20%22markerColor%22%3A%20%22green%22%2C%20%22prefix%22%3A%20%22glyphicon%22%7D%0A%20%20%20%20%20%20%20%20%20%20%20%20%29%3B%0A%20%20%20%20%20%20%20%20%20%20%20%20marker_54a6d42ae4e149a18f4b11ce5a79fd18.setIcon%28icon_f25312950f48418392933316e5431c4f%29%3B%0A%20%20%20%20%20%20%20%20%0A%20%20%20%20%0A%20%20%20%20%20%20%20%20var%20popup_afbb2187ecdd4a78b02560a7491b8971%20%3D%20L.popup%28%7B%22maxWidth%22%3A%20%22100%25%22%7D%29%3B%0A%0A%20%20%20%20%20%20%20%20%0A%20%20%20%20%20%20%20%20%20%20%20%20var%20html_1ebe327412b743898b7c027b81a420d9%20%3D%20%24%28%60%3Cdiv%20id%3D%22html_1ebe327412b743898b7c027b81a420d9%22%20style%3D%22width%3A%20100.0%25%3B%20height%3A%20100.0%25%3B%22%3ERunway%20MSP.30R%20%28he%29%3C/div%3E%60%29%5B0%5D%3B%0A%20%20%20%20%20%20%20%20%20%20%20%20popup_afbb2187ecdd4a78b02560a7491b8971.setContent%28html_1ebe327412b743898b7c027b81a420d9%29%3B%0A%20%20%20%20%20%20%20%20%0A%0A%20%20%20%20%20%20%20%20marker_54a6d42ae4e149a18f4b11ce5a79fd18.bindPopup%28popup_afbb2187ecdd4a78b02560a7491b8971%29%0A%20%20%20%20%20%20%20%20%3B%0A%0A%20%20%20%20%20%20%20%20%0A%20%20%20%20%0A%20%20%20%20%0A%20%20%20%20%20%20%20%20%20%20%20%20marker_54a6d42ae4e149a18f4b11ce5a79fd18.bindTooltip%28%0A%20%20%20%20%20%20%20%20%20%20%20%20%20%20%20%20%60%3Cdiv%3E%0A%20%20%20%20%20%20%20%20%20%20%20%20%20%20%20%20%20%20%20%20%20Runway%20MSP.30R%20%28he%29%0A%20%20%20%20%20%20%20%20%20%20%20%20%20%20%20%20%20%3C/div%3E%60%2C%0A%20%20%20%20%20%20%20%20%20%20%20%20%20%20%20%20%7B%22sticky%22%3A%20true%7D%0A%20%20%20%20%20%20%20%20%20%20%20%20%29%3B%0A%20%20%20%20%20%20%20%20%0A%20%20%20%20%0A%20%20%20%20%20%20%20%20%20%20%20%20var%20marker_55223a869c4e49babf91ebd7fb719e84%20%3D%20L.marker%28%0A%20%20%20%20%20%20%20%20%20%20%20%20%20%20%20%20%5B44.8878%2C%20-93.2341%5D%2C%0A%20%20%20%20%20%20%20%20%20%20%20%20%20%20%20%20%7B%7D%0A%20%20%20%20%20%20%20%20%20%20%20%20%29.addTo%28map_21194db098984fdaa7eacd88a6844f67%29%3B%0A%20%20%20%20%20%20%20%20%0A%20%20%20%20%0A%20%20%20%20%20%20%20%20%20%20%20%20var%20icon_6deaadb549804d43a86f07e65dcd8145%20%3D%20L.AwesomeMarkers.icon%28%0A%20%20%20%20%20%20%20%20%20%20%20%20%20%20%20%20%7B%22extraClasses%22%3A%20%22fa-rotate-0%22%2C%20%22icon%22%3A%20%22info-sign%22%2C%20%22iconColor%22%3A%20%22white%22%2C%20%22markerColor%22%3A%20%22green%22%2C%20%22prefix%22%3A%20%22glyphicon%22%7D%0A%20%20%20%20%20%20%20%20%20%20%20%20%29%3B%0A%20%20%20%20%20%20%20%20%20%20%20%20marker_55223a869c4e49babf91ebd7fb719e84.setIcon%28icon_6deaadb549804d43a86f07e65dcd8145%29%3B%0A%20%20%20%20%20%20%20%20%0A%20%20%20%20%0A%20%20%20%20%20%20%20%20var%20popup_d3991d4fa11f4580b71bbdea95074983%20%3D%20L.popup%28%7B%22maxWidth%22%3A%20%22100%25%22%7D%29%3B%0A%0A%20%20%20%20%20%20%20%20%0A%20%20%20%20%20%20%20%20%20%20%20%20var%20html_1ce1d6e8c89e493580d63e7c44c5e93b%20%3D%20%24%28%60%3Cdiv%20id%3D%22html_1ce1d6e8c89e493580d63e7c44c5e93b%22%20style%3D%22width%3A%20100.0%25%3B%20height%3A%20100.0%25%3B%22%3ERunway%20MSP.12R%20%28le%29%3C/div%3E%60%29%5B0%5D%3B%0A%20%20%20%20%20%20%20%20%20%20%20%20popup_d3991d4fa11f4580b71bbdea95074983.setContent%28html_1ce1d6e8c89e493580d63e7c44c5e93b%29%3B%0A%20%20%20%20%20%20%20%20%0A%0A%20%20%20%20%20%20%20%20marker_55223a869c4e49babf91ebd7fb719e84.bindPopup%28popup_d3991d4fa11f4580b71bbdea95074983%29%0A%20%20%20%20%20%20%20%20%3B%0A%0A%20%20%20%20%20%20%20%20%0A%20%20%20%20%0A%20%20%20%20%0A%20%20%20%20%20%20%20%20%20%20%20%20marker_55223a869c4e49babf91ebd7fb719e84.bindTooltip%28%0A%20%20%20%20%20%20%20%20%20%20%20%20%20%20%20%20%60%3Cdiv%3E%0A%20%20%20%20%20%20%20%20%20%20%20%20%20%20%20%20%20%20%20%20%20Runway%20MSP.12R%20%28le%29%0A%20%20%20%20%20%20%20%20%20%20%20%20%20%20%20%20%20%3C/div%3E%60%2C%0A%20%20%20%20%20%20%20%20%20%20%20%20%20%20%20%20%7B%22sticky%22%3A%20true%7D%0A%20%20%20%20%20%20%20%20%20%20%20%20%29%3B%0A%20%20%20%20%20%20%20%20%0A%20%20%20%20%0A%20%20%20%20%20%20%20%20%20%20%20%20var%20marker_4e6581f7b9fc411ca6872e8cb6cce514%20%3D%20L.marker%28%0A%20%20%20%20%20%20%20%20%20%20%20%20%20%20%20%20%5B44.8735%2C%20-93.2012%5D%2C%0A%20%20%20%20%20%20%20%20%20%20%20%20%20%20%20%20%7B%7D%0A%20%20%20%20%20%20%20%20%20%20%20%20%29.addTo%28map_21194db098984fdaa7eacd88a6844f67%29%3B%0A%20%20%20%20%20%20%20%20%0A%20%20%20%20%0A%20%20%20%20%20%20%20%20%20%20%20%20var%20icon_ca856c4b7430496188556fa9fe8e9d43%20%3D%20L.AwesomeMarkers.icon%28%0A%20%20%20%20%20%20%20%20%20%20%20%20%20%20%20%20%7B%22extraClasses%22%3A%20%22fa-rotate-0%22%2C%20%22icon%22%3A%20%22info-sign%22%2C%20%22iconColor%22%3A%20%22white%22%2C%20%22markerColor%22%3A%20%22green%22%2C%20%22prefix%22%3A%20%22glyphicon%22%7D%0A%20%20%20%20%20%20%20%20%20%20%20%20%29%3B%0A%20%20%20%20%20%20%20%20%20%20%20%20marker_4e6581f7b9fc411ca6872e8cb6cce514.setIcon%28icon_ca856c4b7430496188556fa9fe8e9d43%29%3B%0A%20%20%20%20%20%20%20%20%0A%20%20%20%20%0A%20%20%20%20%20%20%20%20var%20popup_df25fc8426234dd6b607a1911d9bdf86%20%3D%20L.popup%28%7B%22maxWidth%22%3A%20%22100%25%22%7D%29%3B%0A%0A%20%20%20%20%20%20%20%20%0A%20%20%20%20%20%20%20%20%20%20%20%20var%20html_dddec3a1fcc6425f9629a6fecdff1894%20%3D%20%24%28%60%3Cdiv%20id%3D%22html_dddec3a1fcc6425f9629a6fecdff1894%22%20style%3D%22width%3A%20100.0%25%3B%20height%3A%20100.0%25%3B%22%3ERunway%20MSP.30L%20%28he%29%3C/div%3E%60%29%5B0%5D%3B%0A%20%20%20%20%20%20%20%20%20%20%20%20popup_df25fc8426234dd6b607a1911d9bdf86.setContent%28html_dddec3a1fcc6425f9629a6fecdff1894%29%3B%0A%20%20%20%20%20%20%20%20%0A%0A%20%20%20%20%20%20%20%20marker_4e6581f7b9fc411ca6872e8cb6cce514.bindPopup%28popup_df25fc8426234dd6b607a1911d9bdf86%29%0A%20%20%20%20%20%20%20%20%3B%0A%0A%20%20%20%20%20%20%20%20%0A%20%20%20%20%0A%20%20%20%20%0A%20%20%20%20%20%20%20%20%20%20%20%20marker_4e6581f7b9fc411ca6872e8cb6cce514.bindTooltip%28%0A%20%20%20%20%20%20%20%20%20%20%20%20%20%20%20%20%60%3Cdiv%3E%0A%20%20%20%20%20%20%20%20%20%20%20%20%20%20%20%20%20%20%20%20%20Runway%20MSP.30L%20%28he%29%0A%20%20%20%20%20%20%20%20%20%20%20%20%20%20%20%20%20%3C/div%3E%60%2C%0A%20%20%20%20%20%20%20%20%20%20%20%20%20%20%20%20%7B%22sticky%22%3A%20true%7D%0A%20%20%20%20%20%20%20%20%20%20%20%20%29%3B%0A%20%20%20%20%20%20%20%20%0A%20%20%20%20%0A%20%20%20%20%20%20%20%20%20%20%20%20var%20marker_27694c573a9c4bc881c223e4dccc682a%20%3D%20L.marker%28%0A%20%20%20%20%20%20%20%20%20%20%20%20%20%20%20%20%5B44.8878%2C%20-93.24220000000001%5D%2C%0A%20%20%20%20%20%20%20%20%20%20%20%20%20%20%20%20%7B%7D%0A%20%20%20%20%20%20%20%20%20%20%20%20%29.addTo%28map_21194db098984fdaa7eacd88a6844f67%29%3B%0A%20%20%20%20%20%20%20%20%0A%20%20%20%20%0A%20%20%20%20%20%20%20%20%20%20%20%20var%20icon_5d8f78708fc443449d25ef3faff169dc%20%3D%20L.AwesomeMarkers.icon%28%0A%20%20%20%20%20%20%20%20%20%20%20%20%20%20%20%20%7B%22extraClasses%22%3A%20%22fa-rotate-0%22%2C%20%22icon%22%3A%20%22info-sign%22%2C%20%22iconColor%22%3A%20%22white%22%2C%20%22markerColor%22%3A%20%22green%22%2C%20%22prefix%22%3A%20%22glyphicon%22%7D%0A%20%20%20%20%20%20%20%20%20%20%20%20%29%3B%0A%20%20%20%20%20%20%20%20%20%20%20%20marker_27694c573a9c4bc881c223e4dccc682a.setIcon%28icon_5d8f78708fc443449d25ef3faff169dc%29%3B%0A%20%20%20%20%20%20%20%20%0A%20%20%20%20%0A%20%20%20%20%20%20%20%20var%20popup_cc1b955f5dd249acb777f94769ddbf87%20%3D%20L.popup%28%7B%22maxWidth%22%3A%20%22100%25%22%7D%29%3B%0A%0A%20%20%20%20%20%20%20%20%0A%20%20%20%20%20%20%20%20%20%20%20%20var%20html_1eacd834c0464b07a605d798be296596%20%3D%20%24%28%60%3Cdiv%20id%3D%22html_1eacd834c0464b07a605d798be296596%22%20style%3D%22width%3A%20100.0%25%3B%20height%3A%20100.0%25%3B%22%3ERunway%20MSP.17%20%28le%29%3C/div%3E%60%29%5B0%5D%3B%0A%20%20%20%20%20%20%20%20%20%20%20%20popup_cc1b955f5dd249acb777f94769ddbf87.setContent%28html_1eacd834c0464b07a605d798be296596%29%3B%0A%20%20%20%20%20%20%20%20%0A%0A%20%20%20%20%20%20%20%20marker_27694c573a9c4bc881c223e4dccc682a.bindPopup%28popup_cc1b955f5dd249acb777f94769ddbf87%29%0A%20%20%20%20%20%20%20%20%3B%0A%0A%20%20%20%20%20%20%20%20%0A%20%20%20%20%0A%20%20%20%20%0A%20%20%20%20%20%20%20%20%20%20%20%20marker_27694c573a9c4bc881c223e4dccc682a.bindTooltip%28%0A%20%20%20%20%20%20%20%20%20%20%20%20%20%20%20%20%60%3Cdiv%3E%0A%20%20%20%20%20%20%20%20%20%20%20%20%20%20%20%20%20%20%20%20%20Runway%20MSP.17%20%28le%29%0A%20%20%20%20%20%20%20%20%20%20%20%20%20%20%20%20%20%3C/div%3E%60%2C%0A%20%20%20%20%20%20%20%20%20%20%20%20%20%20%20%20%7B%22sticky%22%3A%20true%7D%0A%20%20%20%20%20%20%20%20%20%20%20%20%29%3B%0A%20%20%20%20%20%20%20%20%0A%20%20%20%20%0A%20%20%20%20%20%20%20%20%20%20%20%20var%20marker_045b6543ab8c4f00886147498e3442ce%20%3D%20L.marker%28%0A%20%20%20%20%20%20%20%20%20%20%20%20%20%20%20%20%5B44.8662%2C%20-93.2366%5D%2C%0A%20%20%20%20%20%20%20%20%20%20%20%20%20%20%20%20%7B%7D%0A%20%20%20%20%20%20%20%20%20%20%20%20%29.addTo%28map_21194db098984fdaa7eacd88a6844f67%29%3B%0A%20%20%20%20%20%20%20%20%0A%20%20%20%20%0A%20%20%20%20%20%20%20%20%20%20%20%20var%20icon_6eb6f8e63b9847dfaa95cc8d94418e2d%20%3D%20L.AwesomeMarkers.icon%28%0A%20%20%20%20%20%20%20%20%20%20%20%20%20%20%20%20%7B%22extraClasses%22%3A%20%22fa-rotate-0%22%2C%20%22icon%22%3A%20%22info-sign%22%2C%20%22iconColor%22%3A%20%22white%22%2C%20%22markerColor%22%3A%20%22green%22%2C%20%22prefix%22%3A%20%22glyphicon%22%7D%0A%20%20%20%20%20%20%20%20%20%20%20%20%29%3B%0A%20%20%20%20%20%20%20%20%20%20%20%20marker_045b6543ab8c4f00886147498e3442ce.setIcon%28icon_6eb6f8e63b9847dfaa95cc8d94418e2d%29%3B%0A%20%20%20%20%20%20%20%20%0A%20%20%20%20%0A%20%20%20%20%20%20%20%20var%20popup_4adb0756cc7944ee89a64176d1ae9883%20%3D%20L.popup%28%7B%22maxWidth%22%3A%20%22100%25%22%7D%29%3B%0A%0A%20%20%20%20%20%20%20%20%0A%20%20%20%20%20%20%20%20%20%20%20%20var%20html_afca844c576747fcb37de6631beab8e9%20%3D%20%24%28%60%3Cdiv%20id%3D%22html_afca844c576747fcb37de6631beab8e9%22%20style%3D%22width%3A%20100.0%25%3B%20height%3A%20100.0%25%3B%22%3ERunway%20MSP.35%20%28he%29%3C/div%3E%60%29%5B0%5D%3B%0A%20%20%20%20%20%20%20%20%20%20%20%20popup_4adb0756cc7944ee89a64176d1ae9883.setContent%28html_afca844c576747fcb37de6631beab8e9%29%3B%0A%20%20%20%20%20%20%20%20%0A%0A%20%20%20%20%20%20%20%20marker_045b6543ab8c4f00886147498e3442ce.bindPopup%28popup_4adb0756cc7944ee89a64176d1ae9883%29%0A%20%20%20%20%20%20%20%20%3B%0A%0A%20%20%20%20%20%20%20%20%0A%20%20%20%20%0A%20%20%20%20%0A%20%20%20%20%20%20%20%20%20%20%20%20marker_045b6543ab8c4f00886147498e3442ce.bindTooltip%28%0A%20%20%20%20%20%20%20%20%20%20%20%20%20%20%20%20%60%3Cdiv%3E%0A%20%20%20%20%20%20%20%20%20%20%20%20%20%20%20%20%20%20%20%20%20Runway%20MSP.35%20%28he%29%0A%20%20%20%20%20%20%20%20%20%20%20%20%20%20%20%20%20%3C/div%3E%60%2C%0A%20%20%20%20%20%20%20%20%20%20%20%20%20%20%20%20%7B%22sticky%22%3A%20true%7D%0A%20%20%20%20%20%20%20%20%20%20%20%20%29%3B%0A%20%20%20%20%20%20%20%20%0A%3C/script%3E onload=\"this.contentDocument.open();this.contentDocument.write(    decodeURIComponent(this.getAttribute('data-html')));this.contentDocument.close();\" allowfullscreen webkitallowfullscreen mozallowfullscreen></iframe></div></div>"
      ],
      "text/plain": [
       "<folium.folium.Map at 0x1272f43d0>"
      ]
     },
     "execution_count": 55,
     "metadata": {},
     "output_type": "execute_result"
    }
   ],
   "source": [
    "m = folium.Map(location=msp_coordinate, zoom_start=14, tiles=\"Stamen Terrain\")\n",
    "\n",
    "for coor in arr_coordinate:\n",
    "    folium.Circle(\n",
    "        radius=1,\n",
    "        location=coor,\n",
    "        color=\"blue\",\n",
    "        fill=False,\n",
    "    ).add_to(m)\n",
    "\n",
    "for row in msp_runways_coordinate.itertuples():    \n",
    "    folium.Marker(\n",
    "        location=(math.degrees(row.lat_rad), math.degrees(row.lon_rad)),\n",
    "        tooltip=f\"Runway {row.rwy_aprt_id} ({row.type})\",\n",
    "        popup=f\"Runway {row.rwy_aprt_id} ({row.type})\",\n",
    "        icon=folium.Icon(color=\"green\"),\n",
    "    ).add_to(m)\n",
    "\n",
    "m"
   ]
  },
  {
   "cell_type": "code",
   "execution_count": null,
   "metadata": {},
   "outputs": [],
   "source": []
  }
 ],
 "metadata": {
  "kernelspec": {
   "display_name": "flight_env",
   "language": "python",
   "name": "flight_env"
  },
  "language_info": {
   "codemirror_mode": {
    "name": "ipython",
    "version": 3
   },
   "file_extension": ".py",
   "mimetype": "text/x-python",
   "name": "python",
   "nbconvert_exporter": "python",
   "pygments_lexer": "ipython3",
   "version": "3.9.5"
  }
 },
 "nbformat": 4,
 "nbformat_minor": 4
}
