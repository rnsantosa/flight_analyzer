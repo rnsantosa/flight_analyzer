{
 "cells": [
  {
   "cell_type": "code",
   "execution_count": 1,
   "metadata": {},
   "outputs": [],
   "source": [
    "import os, sys\n",
    "import math\n",
    "import numpy as np\n",
    "import matplotlib.pyplot as plt\n",
    "import pandas as pd\n",
    "import utilibs as ul"
   ]
  },
  {
   "cell_type": "code",
   "execution_count": 2,
   "metadata": {},
   "outputs": [],
   "source": [
    "timepoints = pd.read_csv(r\"D:\\PPMI_UA_2021\\Database\\timepoints.csv\")\n",
    "source = r\"D:\\PPMI_UA_2021\\Flight Data\""
   ]
  },
  {
   "cell_type": "code",
   "execution_count": 3,
   "metadata": {},
   "outputs": [
    {
     "name": "stdout",
     "output_type": "stream",
     "text": [
      "   0  ... flight_10054 ...\n",
      " 250  ... flight_13822 ...\n",
      " 500  ... flight_17667 ...\n",
      " 750  ... flight_20737 ...\n",
      "1000  ... flight_24048 ...\n",
      "1250  ... flight_29115 ...\n",
      "1500  ... flight_32197 ...\n",
      "1750  ... flight_35271 ...\n",
      "2000  ... flight_39205 ...\n",
      "2250  ... flight_42954 ...\n",
      "2500  ... flight_46924 ...\n",
      "2750  ... flight_50266 ...\n",
      "3000  ... flight_54148 ...\n",
      "3250  ... flight_57404 ...\n",
      "3500  ... flight_61816 ...\n"
     ]
    }
   ],
   "source": [
    "storage_mr = {}\n",
    "disp = [i*250 for i in range(15)]\n",
    "for ifile, file in enumerate(timepoints.fname.tolist()):\n",
    "    if ifile in disp:\n",
    "        print(f\"{ifile:4.0f}  ... {file} ...\")\n",
    "    idx1 = int(timepoints.tp114.iloc[ifile])\n",
    "    idx2 = int(timepoints.tp115.iloc[ifile])\n",
    "    df = pd.read_csv(source + os.path.sep + file +str(\".zip\"),compression='zip')\n",
    "    lg_squat_mr = ul.interpnan(df[\"lg_squat_mr\"][idx1-20:idx2+20])\n",
    "    lg_squat_mr = lg_squat_mr.loc[idx1:idx2].to_numpy()    \n",
    "    storage_mr[file] = lg_squat_mr\n",
    "storage_mr = pd.DataFrame(storage_mr)\n",
    "storage_mr.to_csv(r\"D:\\PPMI_UA_2021\\Database\\lg_squat.csv\", index=False)"
   ]
  },
  {
   "cell_type": "code",
   "execution_count": 5,
   "metadata": {},
   "outputs": [
    {
     "data": {
      "image/png": "[encoded data removed]",
      "text/plain": [
       "<Figure size 720x360 with 1 Axes>"
      ]
     },
     "metadata": {
      "needs_background": "light"
     },
     "output_type": "display_data"
    }
   ],
   "source": [
    "df = pd.read_csv(r\"D:\\PPMI_UA_2021\\Database\\lg_squat.csv\")\n",
    "fig, ax = plt.subplots(figsize=(10, 5))\n",
    "for file in df.columns.tolist():\n",
    "    ax.plot(df[file].to_numpy(), 'o', markersize=0.5, color='#1f77b4')\n",
    "ax.set_xlim([0, 400])\n",
    "ax.set_ylabel(\"Landing gear-main right\", fontsize=14)\n",
    "ax.set_xlabel(\"Data points\", fontsize=14)\n",
    "ax.tick_params(axis='both', which='major', labelsize=14)\n",
    "                 \n",
    "plt.savefig(r\"D:\\PPMI_UA_2021\\lg_squat.png\")"
   ]
  },
  {
   "cell_type": "code",
   "execution_count": 3,
   "metadata": {},
   "outputs": [
    {
     "name": "stdout",
     "output_type": "stream",
     "text": [
      " 153 ... flight_12061 ... Unstable\n",
      " 772 ... flight_21170 ... Unstable\n",
      " 949 ... flight_23612 ... Unstable\n",
      "1147 ... flight_27534 ... Unstable\n",
      "1561 ... flight_33197 ... Unstable\n",
      "1848 ... flight_37075 ... Unstable\n",
      "1901 ... flight_37683 ... Unstable\n",
      "1946 ... flight_38297 ... Unstable\n",
      "1959 ... flight_38410 ... Unstable\n",
      "2067 ... flight_40099 ... Unstable\n",
      "2237 ... flight_42842 ... Unstable\n",
      "2323 ... flight_44206 ... Unstable\n",
      "2710 ... flight_49809 ... Unstable\n",
      "3114 ... flight_55525 ... Unstable\n",
      "3507 ... flight_61936 ... Unstable\n",
      "3542 ... flight_62428 ... Unstable\n",
      "3569 ... flight_63018 ... Unstable\n",
      "3598 ... flight_63532 ... Unstable\n"
     ]
    }
   ],
   "source": [
    "df = pd.read_csv(r\"D:\\PPMI_UA_2021\\Database\\lg_squat.csv\")\n",
    "counter, sampling, duration = 0, 16, 5\n",
    "max_hdot_mps = 0.8\n",
    "lg_squat_flag = []\n",
    "for ifile, file in enumerate(df.columns.tolist()):\n",
    "    lg_squat = df[file].to_numpy()\n",
    "    for irow, _ in enumerate(lg_squat):\n",
    "        if irow >= lg_squat.shape[0] - sampling * duration:\n",
    "            lg_squat_flag.append(0)\n",
    "            break\n",
    "        else:\n",
    "            flag = lg_squat[irow:irow + sampling * duration] < 0.8\n",
    "            if sum(flag) >= sampling * duration:\n",
    "                lg_squat_flag.append(1)\n",
    "                print(f\"{ifile:4.0f} ... {file} ... Unstable\")\n",
    "                counter += 1\n",
    "                break\n",
    "sop_criteria = pd.read_csv(r\"D:\\PPMI_UA_2021\\Database\\sop_criteria.csv\")\n",
    "sop_criteria[\"lg_squat\"] = lg_squat_flag\n",
    "sop_criteria.to_csv(r\"D:\\PPMI_UA_2021\\Database\\sop_criteria.csv\", index=False)"
   ]
  },
  {
   "cell_type": "code",
   "execution_count": 4,
   "metadata": {},
   "outputs": [
    {
     "data": {
      "text/plain": [
       "18"
      ]
     },
     "execution_count": 4,
     "metadata": {},
     "output_type": "execute_result"
    }
   ],
   "source": [
    "counter"
   ]
  },
  {
   "cell_type": "code",
   "execution_count": null,
   "metadata": {},
   "outputs": [],
   "source": []
  }
 ],
 "metadata": {
  "kernelspec": {
   "display_name": "Python 3",
   "language": "python",
   "name": "python3"
  },
  "language_info": {
   "codemirror_mode": {
    "name": "ipython",
    "version": 3
   },
   "file_extension": ".py",
   "mimetype": "text/x-python",
   "name": "python",
   "nbconvert_exporter": "python",
   "pygments_lexer": "ipython3",
   "version": "3.9.5"
  }
 },
 "nbformat": 4,
 "nbformat_minor": 4
}
